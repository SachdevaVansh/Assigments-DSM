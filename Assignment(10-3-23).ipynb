{
 "cells": [
  {
   "cell_type": "markdown",
   "id": "7e3f64f8-a7b5-4978-a2ae-8f01b3772fc9",
   "metadata": {},
   "source": [
    "#### Question 1-"
   ]
  },
  {
   "cell_type": "markdown",
   "id": "0f108747-a30e-4dc6-967f-28109cdc270a",
   "metadata": {},
   "source": [
    "Estimation statistics is used to calculate an obsserved numerical value to estimate an unknown population parameter like mean, median, standard deviation etc.\n",
    "\n",
    "1. Point Estimate--> Single numerical value used to estimate the unown population parameter.Ex- sample mean is a point estimate of  a population mean.\n",
    "\n",
    "2. Interval Estimate-->Range of values used to estimate the unknown population parameters.These are called confidence intervals."
   ]
  },
  {
   "cell_type": "markdown",
   "id": "9c9e4120-a2c4-40cf-a7c9-7320ab541cdb",
   "metadata": {},
   "source": [
    "#### Question 3-"
   ]
  },
  {
   "cell_type": "markdown",
   "id": "a986e40b-129d-4b9b-9e4f-3dece4eacde9",
   "metadata": {},
   "source": [
    "Hypothesis Testing is a type of statistical analysis in which we put our assumptions about a population parameter to the test. It is used to estimate the relationship between 2 statistical variables.\n",
    "\n",
    "Hypothesis testing allows the researcher to determine whether the data from the sample is statistically significant. Hypothesis testing is one of the most important processes for measuring the validity and reliability of outcomes in any systematic investigation.\n",
    "\n",
    "The purpose of hypothesis testing is to make an inference about the population of interest on the basis of a random sample taken from that population.\n",
    "\n",
    "Importance-\n",
    "It helps to assume the probability of research failure and progress. It helps to provide link to the underlying theory and specific research question. It helps in data analysis and measure the validity and reliability of the research"
   ]
  },
  {
   "cell_type": "markdown",
   "id": "0dbc4d56-ee42-4b8f-96fd-360093996400",
   "metadata": {},
   "source": [
    "#### Question 4-"
   ]
  },
  {
   "cell_type": "markdown",
   "id": "896d8c2c-8e74-46ed-8349-70d7ea46c7c5",
   "metadata": {},
   "source": [
    "Null Hypothesis (Ho) - Average weight of male students is greater than weight of female students.\n",
    "\n",
    "Alternate Hypothesis (H1)- Average weight of male students is not greater than weight of female students. \n"
   ]
  },
  {
   "cell_type": "markdown",
   "id": "34cb2d72-7990-4ba5-ae74-0179ba62c112",
   "metadata": {},
   "source": [
    "#### Question 6-"
   ]
  },
  {
   "cell_type": "markdown",
   "id": "839168fc-38d5-412a-a508-3a05f45b4d3b",
   "metadata": {},
   "source": [
    "Null Hypothesis (Ho) - \n",
    "\n",
    "A null hypothesis is a statement in which there is no relation between the two variables.Generally, researchers try to reject or disprove it.Null hypothesis is rejected if the p-value is less than the alpha-value; otherwise, it is accepted.\n",
    "\n",
    "Alternate Hypothesis (H1) -\n",
    "\n",
    "A statistical hypothesis that states that there is a significant realation between two variable (or set of variables) is called an Alternative Hypothesis.\n",
    "The alternative hypothesis states that a population parameter is smaller, greater, or different from the assumed value.\n",
    "\n",
    "In simple terms, alternative hypotheses claim that there’s an effect on the population.\n",
    "\n",
    "It is what the researcher believes to be true or tries to prove it."
   ]
  },
  {
   "cell_type": "markdown",
   "id": "7e8b12cf-13df-46c2-a9a4-dead4f74dc15",
   "metadata": {},
   "source": [
    "Example 1-\n",
    "\n",
    "Does eating an apple daily ensure weight loss? \n",
    "\n",
    "Null Hypothesis (H0): Eating apples daily does not affect weight loss.\n",
    "\n",
    "Alternative Hypothesis (H1): Eating apples affects weight loss.\n",
    "\n",
    "Example 2-\n",
    "\n",
    "A researcher wants to know if the height of students at school differs from the national average of 5.5 feet. \n",
    "\n",
    "H0: average = 5.5 feet\n",
    "\n",
    "H1: average != 5.5. feet"
   ]
  },
  {
   "cell_type": "markdown",
   "id": "a2f829b3-1cab-442e-b00f-694b14616382",
   "metadata": {},
   "source": [
    "#### Question 7-"
   ]
  },
  {
   "cell_type": "markdown",
   "id": "c8652ece-af47-4531-a785-965f64a5a103",
   "metadata": {},
   "source": [
    "Step 1: Specify the Null and Alternate Hypotheses\n",
    "\n",
    "Step 2: Gather Data\n",
    "\n",
    "Step 3: Conduct a Statistical Test\n",
    "\n",
    "Step 4: Determine Rejection of the Null Hypothesis\n",
    "\n",
    "Step 5: Present the Results "
   ]
  },
  {
   "cell_type": "markdown",
   "id": "dbebd4d1-61f3-464d-9af2-f112f30a083b",
   "metadata": {},
   "source": [
    "#### Question 8-"
   ]
  },
  {
   "cell_type": "markdown",
   "id": "980e0c4c-7eb8-4fd7-b2f0-b7a384d16cab",
   "metadata": {},
   "source": [
    "The p value is a number, calculated from a statistical test, that describes how likely we are to have found a particular set of observations if the null hypothesis were true. P values are used in hypothesis testing to help decide whether to reject the null hypothesis.\n",
    "\n",
    "Significance-\n",
    "The level of statistical significance is usually represented as a P-value between 0 and 1. The smaller the p-value, the more likely it is that we would reject the null hypothesis. \n",
    "\n",
    "If alpha(significance value)=5%(0.05)\n",
    "\n",
    "* A P-Value < or = 0.05 is considered statistically significant. It denotes strong evidence against the null hypothesis.\n",
    "\n",
    "* But if P-Value is lower than your threshold of significance, though the null hypothesis can be rejected, it does not mean that there is 95% probability of the alternative hypothesis being true. \n",
    "\n",
    "* A P-Value >0.05 is not statistically significant. It denotes strong evidence for the null hypothesis being true. Thus, we retain the null hypothesis and reject the alternative hypothesis."
   ]
  },
  {
   "cell_type": "markdown",
   "id": "772d49e9-96dd-481b-af52-f830e754d8f3",
   "metadata": {},
   "source": [
    "#### Question 9-"
   ]
  },
  {
   "cell_type": "code",
   "execution_count": 1,
   "id": "64f29d2d-3864-43c7-b588-5f4ffafde5cf",
   "metadata": {},
   "outputs": [
    {
     "data": {
      "text/plain": [
       "[<matplotlib.lines.Line2D at 0x7fc63a2321a0>]"
      ]
     },
     "execution_count": 1,
     "metadata": {},
     "output_type": "execute_result"
    },
    {
     "data": {
      "image/png": "[encoded data removed]",
      "text/plain": [
       "<Figure size 640x480 with 1 Axes>"
      ]
     },
     "metadata": {},
     "output_type": "display_data"
    }
   ],
   "source": [
    "import numpy as np\n",
    "from scipy.stats import t\n",
    "from matplotlib import pyplot\n",
    "\n",
    "X=np.linspace(-4,4,200)\n",
    "\n",
    "Y=t.pdf(X,df=10)\n",
    "\n",
    "pyplot.plot(X,Y)"
   ]
  },
  {
   "cell_type": "markdown",
   "id": "33c02b7f-877c-4e8c-a546-0741dc73a778",
   "metadata": {},
   "source": [
    "#### Question 10-"
   ]
  },
  {
   "cell_type": "markdown",
   "id": "aa3379d3-55ec-4b8c-93f0-6e27c2dde151",
   "metadata": {},
   "source": [
    "Sample 1-"
   ]
  },
  {
   "cell_type": "code",
   "execution_count": 9,
   "id": "ad87f1d3-f7e8-4eec-a16f-a64f550369a4",
   "metadata": {},
   "outputs": [],
   "source": [
    "import math\n",
    "n=20\n",
    "x_bar=12\n",
    "sample_std= 5\n",
    "meu=10\n",
    "t=((x_bar-meu)*math.sqrt(n))/sample_std"
   ]
  },
  {
   "cell_type": "code",
   "execution_count": 10,
   "id": "f3d22c95-fba3-47dc-9911-4e9f2bcd0866",
   "metadata": {},
   "outputs": [
    {
     "data": {
      "text/plain": [
       "1.788854381999832"
      ]
     },
     "execution_count": 10,
     "metadata": {},
     "output_type": "execute_result"
    }
   ],
   "source": [
    "t"
   ]
  },
  {
   "cell_type": "markdown",
   "id": "66a27308-e257-4a9b-bda8-16794104bbab",
   "metadata": {},
   "source": [
    "From the t-table \n",
    "It is given that population mean are equal, so let us consider a one -tail test, with significance value as 0.025 and dof=20-1=19\n",
    "\n",
    "The t-value is 2.093\n",
    "\n",
    "Now as the t-value calculated from the calculation is less than t-value from graph, we reject the Null hypothesis"
   ]
  },
  {
   "cell_type": "markdown",
   "id": "73be1515-95c3-4be6-95aa-01e8c4a352af",
   "metadata": {},
   "source": [
    "Sample 2-"
   ]
  },
  {
   "cell_type": "code",
   "execution_count": 11,
   "id": "53b89d0f-1cf7-49e5-a598-13f20297012b",
   "metadata": {},
   "outputs": [],
   "source": [
    "import math\n",
    "n=20\n",
    "x_bar=12\n",
    "sample_std= 5\n",
    "meu=10\n",
    "t=((x_bar-meu)*math.sqrt(n))/sample_std"
   ]
  },
  {
   "cell_type": "code",
   "execution_count": 12,
   "id": "b815a576-af0f-4128-aa50-8e9dd57f413e",
   "metadata": {},
   "outputs": [
    {
     "data": {
      "text/plain": [
       "1.788854381999832"
      ]
     },
     "execution_count": 12,
     "metadata": {},
     "output_type": "execute_result"
    }
   ],
   "source": [
    "t"
   ]
  },
  {
   "cell_type": "markdown",
   "id": "aedeb3c0-7126-46dc-8a82-198181a49cef",
   "metadata": {},
   "source": [
    "From the t-table \n",
    "It is given that population mean are equal, so let us consider a one -tail test, with significance value as 0.05 and dof=20-1=19\n",
    "\n",
    "The t-value is  1.729\n",
    "\n",
    "Now as the t-value calculated from the calculation is greater than t-value from graph, we accept the Null hypothesis."
   ]
  },
  {
   "cell_type": "markdown",
   "id": "330a25ca-c589-4c75-b97c-fc351a7af9ce",
   "metadata": {},
   "source": [
    "#### Question 11-"
   ]
  },
  {
   "cell_type": "markdown",
   "id": "3d03a6ec-ca52-4694-b550-1be2a21ac04c",
   "metadata": {},
   "source": [
    "The t-distribution is a hypothetical probability distribution. It is also known as the student's t-distribution and used to make presumptions about a mean when the standard deviation is not known to us. It is symmetrical, bell-shaped distribution, similar to the standard normal curve.\n",
    "\n",
    "* The t-distribution is used when data are approximately normally distributed, which means the data follow a bell shape but the population variance is unknown. The variance in a t-distribution is estimated based on the degrees of freedom of the data set (total number of observations minus 1)."
   ]
  },
  {
   "cell_type": "markdown",
   "id": "10f20504-1410-4170-8ef4-22940a440cff",
   "metadata": {},
   "source": [
    "#### Question 12-"
   ]
  },
  {
   "cell_type": "markdown",
   "id": "3f8c5f9a-ddd8-43e7-9bbb-f1b08b2ebe31",
   "metadata": {},
   "source": [
    "The T Statistic is used in a T test when we are deciding if we should support or reject the null hypothesis. It’s very similar to a Z-score and we use it in the same way: find a cut off point, find the t score, and compare the two.\n",
    "We use the t statistic when we have a small sample size, or if we don’t know the population standard deviation."
   ]
  },
  {
   "cell_type": "markdown",
   "id": "5b943150-0458-45bd-a3dd-01386b08c0bd",
   "metadata": {},
   "source": [
    "For the one sample test, Formula :\n",
    "    \n",
    "    t= (sample mean) - (population mean) / (sample standard deviation/ root(size of popoluation))\n",
    "    "
   ]
  },
  {
   "cell_type": "markdown",
   "id": "7174e418-00e4-4ddc-a0c0-da2907c136d7",
   "metadata": {},
   "source": [
    "#### Question 13-"
   ]
  },
  {
   "cell_type": "markdown",
   "id": "5f314ff8-9ced-4e80-a09b-9164846be0e9",
   "metadata": {},
   "source": [
    "Given-\n",
    "\n",
    "Sample mean(x_bar)=500\n",
    "Standard deviaation(sigma)=50\n",
    "sample size=50\n",
    "confidence level=95%\n",
    "Significance value=0.05\n",
    "\n",
    "As the population mean value can be greater or less than sample mean value, we can consider a two-tail test:\n",
    "\n",
    "So, the z-score based on area under curve as 1-0.025=0.975 is 1.96\n",
    "\n",
    "Now if we condider than Null hypothesis holds true, then :\n"
   ]
  },
  {
   "cell_type": "code",
   "execution_count": 13,
   "id": "4e00797f-13c6-4c47-aa2c-6ea02c8ea2dd",
   "metadata": {},
   "outputs": [],
   "source": [
    "x_bar=500\n",
    "sigma=50\n",
    "n=50\n",
    "alpha=0.05\n",
    "\n",
    "q=sigma/math.sqrt(n)*1.96"
   ]
  },
  {
   "cell_type": "code",
   "execution_count": 14,
   "id": "725f3025-5400-466a-9692-67a9d713ed29",
   "metadata": {},
   "outputs": [
    {
     "data": {
      "text/plain": [
       "13.85929291125633"
      ]
     },
     "execution_count": 14,
     "metadata": {},
     "output_type": "execute_result"
    }
   ],
   "source": [
    "q"
   ]
  },
  {
   "cell_type": "markdown",
   "id": "3f31477b-c4ee-4b01-9192-732f5ce60ea0",
   "metadata": {},
   "source": [
    "From the formula of z-score:\n",
    "    population mean(p) < x_bar-q\n",
    "    p < 500 - 13.85\n",
    "    p< 486.15"
   ]
  },
  {
   "cell_type": "markdown",
   "id": "399a2692-dff0-4adb-bb03-8b9c0f83b29a",
   "metadata": {},
   "source": [
    "#### Question 14-"
   ]
  },
  {
   "cell_type": "markdown",
   "id": "9d46ce60-ad92-48f4-8a12-cdc14ad4de4e",
   "metadata": {},
   "source": [
    "Ho- The new drug will decrease average blood pressure by 10 mmHg\n",
    "\n",
    "H1- The drug decreases average blood pressure by 8 mmHg\n",
    "\n",
    "n = 100\n",
    "\n",
    "std deviation(sigma) = 3 mmHg\n",
    "\n",
    "Significance value= 0.05\n",
    "\n",
    "Area under the curve = 0.05 \n",
    "\n",
    "which gives the z-score as -1.6\n",
    "\n",
    "calculation of z-score for population sample-\n",
    "\n",
    "z-score= {(x_bar-meu)*root(n)}/sigma"
   ]
  },
  {
   "cell_type": "code",
   "execution_count": 4,
   "id": "bf638c98-928e-4e3d-b35d-e069f45e6753",
   "metadata": {},
   "outputs": [],
   "source": [
    "import math\n",
    "z_score=(8-10)*math.sqrt(100)/3"
   ]
  },
  {
   "cell_type": "code",
   "execution_count": 5,
   "id": "2d7a1f06-5b97-4bab-8d84-d80ed7a0bd37",
   "metadata": {},
   "outputs": [
    {
     "data": {
      "text/plain": [
       "-6.666666666666667"
      ]
     },
     "execution_count": 5,
     "metadata": {},
     "output_type": "execute_result"
    }
   ],
   "source": [
    "z_score"
   ]
  },
  {
   "cell_type": "markdown",
   "id": "7849cc13-2b55-4bb1-9689-e0580ba14271",
   "metadata": {},
   "source": [
    "As this z-score is less than the sample z-score calculated above, we reject the null hypothesis.\n",
    "This means that The new drug will not decrease average blood pressure by 10 mmHg"
   ]
  },
  {
   "cell_type": "markdown",
   "id": "7975a06c-8b41-494b-a5db-c83187b2586d",
   "metadata": {},
   "source": [
    "#### Question 15-"
   ]
  },
  {
   "cell_type": "markdown",
   "id": "8c8f1ed3-42da-45ff-8053-326ee6cf4b3f",
   "metadata": {},
   "source": [
    "Ho- mean weight is 5 pounds\n",
    "\n",
    "H1- mean weight is 4.8 pounds \n",
    "\n",
    "(One-tail test)\n",
    "\n",
    "Standard deviation (sigma) = 0.5\n",
    "\n",
    "n=25\n",
    "\n",
    "significance value(aplha)=0.01\n"
   ]
  },
  {
   "cell_type": "markdown",
   "id": "630c56a3-1a37-496d-818f-776c8ac8e8ab",
   "metadata": {},
   "source": [
    "We will use t-test here as n is small"
   ]
  },
  {
   "cell_type": "markdown",
   "id": "0560cfab-8649-4acd-96f6-5331001c7bb3",
   "metadata": {},
   "source": [
    "dof= 25-1=24"
   ]
  },
  {
   "cell_type": "markdown",
   "id": "f8bc5348-5eb6-4930-9a3e-4d9bde83c1a9",
   "metadata": {},
   "source": [
    "From the t-table- \n",
    "\n",
    "t-value comes out ot be ---> -2.492"
   ]
  },
  {
   "cell_type": "markdown",
   "id": "672e9a57-a453-4ffb-a658-9c77da90a6e0",
   "metadata": {},
   "source": [
    "Also, based on calculation of sample data-"
   ]
  },
  {
   "cell_type": "code",
   "execution_count": 10,
   "id": "5d9960bd-2317-409c-8020-a6ee553dfbce",
   "metadata": {},
   "outputs": [],
   "source": [
    "t_value=(4.8-5)*math.sqrt(25)/0.5"
   ]
  },
  {
   "cell_type": "code",
   "execution_count": 11,
   "id": "738e53bc-7205-4faf-a8d3-f6556d78096f",
   "metadata": {},
   "outputs": [
    {
     "data": {
      "text/plain": [
       "-2.0000000000000018"
      ]
     },
     "execution_count": 11,
     "metadata": {},
     "output_type": "execute_result"
    }
   ],
   "source": [
    "t_value"
   ]
  },
  {
   "cell_type": "markdown",
   "id": "22a51e65-5a91-44d3-a5fe-d8a2911966d0",
   "metadata": {},
   "source": [
    "As this t-value lies between the interval of -2.492 to 2.492, so the Null hypothesis holds true.\n",
    "\n"
   ]
  },
  {
   "cell_type": "markdown",
   "id": "689007c6-a857-4426-842e-047b1c5b2b34",
   "metadata": {},
   "source": [
    "#### Question 16-"
   ]
  },
  {
   "cell_type": "code",
   "execution_count": 13,
   "id": "16aa4d00-b62c-44b6-aafc-06b2042c1f70",
   "metadata": {},
   "outputs": [],
   "source": [
    "n1= 30\n",
    "x1_bar=80\n",
    "sigma1=10\n",
    "n2=40\n",
    "x2_bar=75\n",
    "sigma2=8\n",
    "alpha=0.01"
   ]
  },
  {
   "cell_type": "markdown",
   "id": "fd875fa9-0973-4ba7-a4f7-808cb8a16499",
   "metadata": {},
   "source": [
    "Based on two tail test:\n",
    "    Area under the curve= 1 - 0.005 = 0.995\n",
    "    \n",
    "And based on this area, the z-score from the z-atble comes out to be= 2.58"
   ]
  },
  {
   "cell_type": "markdown",
   "id": "900db17b-f0df-4bf9-b1af-acbd5902f8fa",
   "metadata": {},
   "source": [
    "Calculation based z-score-"
   ]
  },
  {
   "cell_type": "markdown",
   "id": "797cf9b7-13b0-4b57-b8c3-7cb919a22e06",
   "metadata": {},
   "source": [
    "Sample 1-"
   ]
  },
  {
   "cell_type": "code",
   "execution_count": 16,
   "id": "7762de38-df17-44e6-9e59-e2430d679975",
   "metadata": {},
   "outputs": [
    {
     "data": {
      "text/plain": [
       "75.28958600545558"
      ]
     },
     "execution_count": 16,
     "metadata": {},
     "output_type": "execute_result"
    }
   ],
   "source": [
    "meu1=x1_bar - (2.58*sigma1/math.sqrt(n1))\n",
    "meu1"
   ]
  },
  {
   "cell_type": "markdown",
   "id": "9a6df2a6-3240-45db-afb1-564d7fb96bf9",
   "metadata": {},
   "source": [
    "Sample 2 - "
   ]
  },
  {
   "cell_type": "code",
   "execution_count": 17,
   "id": "fc2f2b9d-a2cc-4100-bf5d-cb7f614d5ffd",
   "metadata": {},
   "outputs": [
    {
     "data": {
      "text/plain": [
       "76.73652945470623"
      ]
     },
     "execution_count": 17,
     "metadata": {},
     "output_type": "execute_result"
    }
   ],
   "source": [
    "meu2=x1_bar - (2.58*sigma2/math.sqrt(n2))\n",
    "meu2"
   ]
  },
  {
   "cell_type": "markdown",
   "id": "11c35e7e-6843-4744-8ab0-b6cf64874577",
   "metadata": {},
   "source": [
    "The Hypothesis fails as the population means do not come out to be equal."
   ]
  },
  {
   "cell_type": "markdown",
   "id": "e5b98778-b96a-4351-aa3f-7bc173767928",
   "metadata": {},
   "source": [
    "#### Question 17-"
   ]
  },
  {
   "cell_type": "code",
   "execution_count": 18,
   "id": "985c7913-e33f-4982-be5f-e01f6d302a49",
   "metadata": {},
   "outputs": [],
   "source": [
    "n=50\n",
    "x_bar=4\n",
    "sigma=1.5\n",
    "CI=0.99\n",
    "alpha=1-0.99"
   ]
  },
  {
   "cell_type": "markdown",
   "id": "560a6fea-27d4-4012-9361-8c5faeb9552e",
   "metadata": {},
   "source": [
    "Considering two-tail test :\n",
    "\n",
    "Area under the curve corresponding to 0.01/2 is 0.995\n",
    "\n",
    "Corresponding z-score using the z-table: -2.58 and +2.58\n"
   ]
  },
  {
   "cell_type": "code",
   "execution_count": 20,
   "id": "f3abc962-1761-4fd1-a2d0-2a2dd148bead",
   "metadata": {},
   "outputs": [],
   "source": [
    "meu= x_bar-(2.58*sigma/math.sqrt(n))"
   ]
  },
  {
   "cell_type": "code",
   "execution_count": 21,
   "id": "873b7efb-6374-4765-8a3b-d52468922d30",
   "metadata": {},
   "outputs": [
    {
     "data": {
      "text/plain": [
       "3.452699351361612"
      ]
     },
     "execution_count": 21,
     "metadata": {},
     "output_type": "execute_result"
    }
   ],
   "source": [
    "meu"
   ]
  },
  {
   "cell_type": "markdown",
   "id": "bf791824-703a-487d-8920-86b8293fb679",
   "metadata": {},
   "source": [
    "So, the population mean is 3.452699, which tells the average number of ads watched."
   ]
  },
  {
   "cell_type": "code",
   "execution_count": null,
   "id": "7560f69b-0001-4035-993a-436df8cd9466",
   "metadata": {},
   "outputs": [],
   "source": []
  }
 ],
 "metadata": {
  "kernelspec": {
   "display_name": "Python 3 (ipykernel)",
   "language": "python",
   "name": "python3"
  },
  "language_info": {
   "codemirror_mode": {
    "name": "ipython",
    "version": 3
   },
   "file_extension": ".py",
   "mimetype": "text/x-python",
   "name": "python",
   "nbconvert_exporter": "python",
   "pygments_lexer": "ipython3",
   "version": "3.10.8"
  }
 },
 "nbformat": 4,
 "nbformat_minor": 5
}
