{
 "cells": [
  {
   "cell_type": "code",
   "execution_count": 4,
   "id": "79c016f1-e648-4a1b-b99e-b4f811d2657b",
   "metadata": {},
   "outputs": [],
   "source": [
    "import pandas as pd"
   ]
  },
  {
   "cell_type": "code",
   "execution_count": 5,
   "id": "a6c3002b-8ae5-4d75-9be3-054424233f05",
   "metadata": {},
   "outputs": [
    {
     "name": "stdout",
     "output_type": "stream",
     "text": [
      "Requirement already satisfied: pandas in /opt/conda/lib/python3.10/site-packages (1.5.2)\n",
      "Requirement already satisfied: python-dateutil>=2.8.1 in /opt/conda/lib/python3.10/site-packages (from pandas) (2.8.2)\n",
      "Requirement already satisfied: pytz>=2020.1 in /opt/conda/lib/python3.10/site-packages (from pandas) (2022.6)\n",
      "Requirement already satisfied: numpy>=1.21.0 in /opt/conda/lib/python3.10/site-packages (from pandas) (1.23.5)\n",
      "Requirement already satisfied: six>=1.5 in /opt/conda/lib/python3.10/site-packages (from python-dateutil>=2.8.1->pandas) (1.16.0)\n",
      "Note: you may need to restart the kernel to use updated packages.\n"
     ]
    }
   ],
   "source": [
    "pip install pandas"
   ]
  },
  {
   "cell_type": "markdown",
   "id": "30e9172c-834b-4a2f-8fe6-adc55536133a",
   "metadata": {},
   "source": [
    "#### Question 1-"
   ]
  },
  {
   "cell_type": "code",
   "execution_count": 6,
   "id": "5e64be75-9e8e-47ec-890b-05060aa50d8d",
   "metadata": {},
   "outputs": [],
   "source": [
    "l=[4, 8, 15, 16, 23, 42]"
   ]
  },
  {
   "cell_type": "code",
   "execution_count": 7,
   "id": "9cb84d78-fca9-4de8-ba5b-44798de4b8ac",
   "metadata": {},
   "outputs": [
    {
     "data": {
      "text/plain": [
       "0     4\n",
       "1     8\n",
       "2    15\n",
       "3    16\n",
       "4    23\n",
       "5    42\n",
       "dtype: int64"
      ]
     },
     "execution_count": 7,
     "metadata": {},
     "output_type": "execute_result"
    }
   ],
   "source": [
    "pd.Series(l)"
   ]
  },
  {
   "cell_type": "markdown",
   "id": "add4a544-ce2e-4743-99db-2ad105ee63e9",
   "metadata": {},
   "source": [
    "#### Question 2-"
   ]
  },
  {
   "cell_type": "code",
   "execution_count": 8,
   "id": "92284365-6257-440e-bd84-976bda0d3a5e",
   "metadata": {},
   "outputs": [],
   "source": [
    "v=[1,'pwskills',True,2,3,{1,2,3,4},[4,5,6],'hello',34.56,{\"key\":\"value\"}]"
   ]
  },
  {
   "cell_type": "code",
   "execution_count": 9,
   "id": "9498015f-7728-4a95-b804-75d3f03d6cdf",
   "metadata": {},
   "outputs": [
    {
     "data": {
      "text/plain": [
       "0                   1\n",
       "1            pwskills\n",
       "2                True\n",
       "3                   2\n",
       "4                   3\n",
       "5        {1, 2, 3, 4}\n",
       "6           [4, 5, 6]\n",
       "7               hello\n",
       "8               34.56\n",
       "9    {'key': 'value'}\n",
       "dtype: object"
      ]
     },
     "execution_count": 9,
     "metadata": {},
     "output_type": "execute_result"
    }
   ],
   "source": [
    "pd.Series(v)"
   ]
  },
  {
   "cell_type": "markdown",
   "id": "10fc4788-544a-498d-8834-2bd478d31995",
   "metadata": {},
   "source": [
    "#### Question 3-"
   ]
  },
  {
   "cell_type": "code",
   "execution_count": 10,
   "id": "50be84c0-d70b-4420-8f93-b85a935503ee",
   "metadata": {},
   "outputs": [],
   "source": [
    "data={'Name':['Alice','Bob','Claire'],'Age':[25,30,27],'Gender':['Female','Male','Female']}\n",
    "\n"
   ]
  },
  {
   "cell_type": "code",
   "execution_count": 11,
   "id": "11665781-a69b-45df-a42c-99db5929b0d8",
   "metadata": {},
   "outputs": [],
   "source": [
    "df=pd.DataFrame(data,index=None)"
   ]
  },
  {
   "cell_type": "code",
   "execution_count": 12,
   "id": "ca5d673e-0853-49d7-b8f9-7d7eeb82e484",
   "metadata": {},
   "outputs": [
    {
     "data": {
      "text/html": [
       "<div>\n",
       "<style scoped>\n",
       "    .dataframe tbody tr th:only-of-type {\n",
       "        vertical-align: middle;\n",
       "    }\n",
       "\n",
       "    .dataframe tbody tr th {\n",
       "        vertical-align: top;\n",
       "    }\n",
       "\n",
       "    .dataframe thead th {\n",
       "        text-align: right;\n",
       "    }\n",
       "</style>\n",
       "<table border=\"1\" class=\"dataframe\">\n",
       "  <thead>\n",
       "    <tr style=\"text-align: right;\">\n",
       "      <th></th>\n",
       "      <th>Name</th>\n",
       "      <th>Age</th>\n",
       "      <th>Gender</th>\n",
       "    </tr>\n",
       "  </thead>\n",
       "  <tbody>\n",
       "    <tr>\n",
       "      <th>0</th>\n",
       "      <td>Alice</td>\n",
       "      <td>25</td>\n",
       "      <td>Female</td>\n",
       "    </tr>\n",
       "    <tr>\n",
       "      <th>1</th>\n",
       "      <td>Bob</td>\n",
       "      <td>30</td>\n",
       "      <td>Male</td>\n",
       "    </tr>\n",
       "    <tr>\n",
       "      <th>2</th>\n",
       "      <td>Claire</td>\n",
       "      <td>27</td>\n",
       "      <td>Female</td>\n",
       "    </tr>\n",
       "  </tbody>\n",
       "</table>\n",
       "</div>"
      ],
      "text/plain": [
       "     Name  Age  Gender\n",
       "0   Alice   25  Female\n",
       "1     Bob   30    Male\n",
       "2  Claire   27  Female"
      ]
     },
     "execution_count": 12,
     "metadata": {},
     "output_type": "execute_result"
    }
   ],
   "source": [
    "df"
   ]
  },
  {
   "cell_type": "markdown",
   "id": "2104aaaa-0b71-49c9-8a42-3a597e04a8f3",
   "metadata": {},
   "source": [
    "#### Question 4-"
   ]
  },
  {
   "cell_type": "markdown",
   "id": "b2bd1ad1-f739-44bd-bd58-e3cd926fdded",
   "metadata": {},
   "source": [
    "DataFrame-A dataframe in pandas is a 2-dimensional data structure consisting of rows and columns which may be of different types.\n",
    "Unlike in an array, we can store only similar kind of data either int,float,string etc but by using dataframe we can store different kinds of data."
   ]
  },
  {
   "cell_type": "markdown",
   "id": "10a8423c-d165-4809-8a03-26e47b871dc6",
   "metadata": {},
   "source": [
    "Pandas Series is a 1-Dimensional data structure, which can only store same type of data. It's size is immutable i.e once created, the size of Series object cannot be changed. "
   ]
  },
  {
   "cell_type": "markdown",
   "id": "34481d8d-6f6e-4240-8d72-f2b8c15f6f2b",
   "metadata": {},
   "source": [
    "However, Pandas DataFrame is a 2-dimensional data structure which can store data of different data types. It is also size mutable i.e elements can be dropped or added in an existing DataFrame. "
   ]
  },
  {
   "cell_type": "markdown",
   "id": "8b17f7df-4bf7-42ea-b26f-e4fcb20ac425",
   "metadata": {},
   "source": [
    "#### Question 5-"
   ]
  },
  {
   "cell_type": "markdown",
   "id": "08e3ffc1-088a-4e1a-8324-e36d6f72e5e0",
   "metadata": {},
   "source": [
    "The Pandas apply() function can be used to apply a function on every value in a column or row of a DataFrame, and transform that column or row to the resulting values.Ex-"
   ]
  },
  {
   "cell_type": "code",
   "execution_count": 13,
   "id": "153c8c65-1b96-477c-92f6-86001fbd11e6",
   "metadata": {},
   "outputs": [
    {
     "data": {
      "text/html": [
       "<div>\n",
       "<style scoped>\n",
       "    .dataframe tbody tr th:only-of-type {\n",
       "        vertical-align: middle;\n",
       "    }\n",
       "\n",
       "    .dataframe tbody tr th {\n",
       "        vertical-align: top;\n",
       "    }\n",
       "\n",
       "    .dataframe thead th {\n",
       "        text-align: right;\n",
       "    }\n",
       "</style>\n",
       "<table border=\"1\" class=\"dataframe\">\n",
       "  <thead>\n",
       "    <tr style=\"text-align: right;\">\n",
       "      <th></th>\n",
       "      <th>Name</th>\n",
       "      <th>Age</th>\n",
       "      <th>Gender</th>\n",
       "    </tr>\n",
       "  </thead>\n",
       "  <tbody>\n",
       "    <tr>\n",
       "      <th>0</th>\n",
       "      <td>Alice</td>\n",
       "      <td>25</td>\n",
       "      <td>Female</td>\n",
       "    </tr>\n",
       "    <tr>\n",
       "      <th>1</th>\n",
       "      <td>Bob</td>\n",
       "      <td>30</td>\n",
       "      <td>Male</td>\n",
       "    </tr>\n",
       "    <tr>\n",
       "      <th>2</th>\n",
       "      <td>Claire</td>\n",
       "      <td>27</td>\n",
       "      <td>Female</td>\n",
       "    </tr>\n",
       "  </tbody>\n",
       "</table>\n",
       "</div>"
      ],
      "text/plain": [
       "     Name  Age  Gender\n",
       "0   Alice   25  Female\n",
       "1     Bob   30    Male\n",
       "2  Claire   27  Female"
      ]
     },
     "execution_count": 13,
     "metadata": {},
     "output_type": "execute_result"
    }
   ],
   "source": [
    "df"
   ]
  },
  {
   "cell_type": "code",
   "execution_count": 14,
   "id": "3ecdc16c-7b68-4d33-afa0-3c69c042589c",
   "metadata": {},
   "outputs": [],
   "source": [
    "def double(x):\n",
    "    return 2*x\n",
    "df.Age=df.Age.apply(double)"
   ]
  },
  {
   "cell_type": "code",
   "execution_count": 15,
   "id": "3f5b76f3-3423-4876-b23a-fa7d9c9b4e7a",
   "metadata": {},
   "outputs": [
    {
     "data": {
      "text/plain": [
       "0    50\n",
       "1    60\n",
       "2    54\n",
       "Name: Age, dtype: int64"
      ]
     },
     "execution_count": 15,
     "metadata": {},
     "output_type": "execute_result"
    }
   ],
   "source": [
    "df.Age"
   ]
  },
  {
   "cell_type": "code",
   "execution_count": 16,
   "id": "51ff33cf-450f-4946-be02-9e9ba30370e7",
   "metadata": {},
   "outputs": [],
   "source": [
    "df.Age=df.Age.apply(lambda x:3*x)"
   ]
  },
  {
   "cell_type": "code",
   "execution_count": 17,
   "id": "ac941ddd-39b8-46c3-8694-84b7ea662ee2",
   "metadata": {},
   "outputs": [
    {
     "data": {
      "text/plain": [
       "0    150\n",
       "1    180\n",
       "2    162\n",
       "Name: Age, dtype: int64"
      ]
     },
     "execution_count": 17,
     "metadata": {},
     "output_type": "execute_result"
    }
   ],
   "source": [
    "df.Age"
   ]
  },
  {
   "cell_type": "markdown",
   "id": "677b83df-3762-4120-99b8-9cd80ab2e944",
   "metadata": {},
   "source": []
  },
  {
   "cell_type": "markdown",
   "id": "88f76880-b8d3-44fc-a359-a2bc16011e19",
   "metadata": {},
   "source": [
    "We can also add similar type of data to a column in a dataframe using :"
   ]
  },
  {
   "cell_type": "code",
   "execution_count": 18,
   "id": "702d5f85-8180-4953-abc2-e20439dea105",
   "metadata": {},
   "outputs": [],
   "source": [
    "df['newcolumn']=df['Age']+50"
   ]
  },
  {
   "cell_type": "code",
   "execution_count": 19,
   "id": "00df4c29-9f39-4725-bb7e-250fb94b8875",
   "metadata": {},
   "outputs": [
    {
     "data": {
      "text/html": [
       "<div>\n",
       "<style scoped>\n",
       "    .dataframe tbody tr th:only-of-type {\n",
       "        vertical-align: middle;\n",
       "    }\n",
       "\n",
       "    .dataframe tbody tr th {\n",
       "        vertical-align: top;\n",
       "    }\n",
       "\n",
       "    .dataframe thead th {\n",
       "        text-align: right;\n",
       "    }\n",
       "</style>\n",
       "<table border=\"1\" class=\"dataframe\">\n",
       "  <thead>\n",
       "    <tr style=\"text-align: right;\">\n",
       "      <th></th>\n",
       "      <th>Name</th>\n",
       "      <th>Age</th>\n",
       "      <th>Gender</th>\n",
       "      <th>newcolumn</th>\n",
       "    </tr>\n",
       "  </thead>\n",
       "  <tbody>\n",
       "    <tr>\n",
       "      <th>0</th>\n",
       "      <td>Alice</td>\n",
       "      <td>150</td>\n",
       "      <td>Female</td>\n",
       "      <td>200</td>\n",
       "    </tr>\n",
       "    <tr>\n",
       "      <th>1</th>\n",
       "      <td>Bob</td>\n",
       "      <td>180</td>\n",
       "      <td>Male</td>\n",
       "      <td>230</td>\n",
       "    </tr>\n",
       "    <tr>\n",
       "      <th>2</th>\n",
       "      <td>Claire</td>\n",
       "      <td>162</td>\n",
       "      <td>Female</td>\n",
       "      <td>212</td>\n",
       "    </tr>\n",
       "  </tbody>\n",
       "</table>\n",
       "</div>"
      ],
      "text/plain": [
       "     Name  Age  Gender  newcolumn\n",
       "0   Alice  150  Female        200\n",
       "1     Bob  180    Male        230\n",
       "2  Claire  162  Female        212"
      ]
     },
     "execution_count": 19,
     "metadata": {},
     "output_type": "execute_result"
    }
   ],
   "source": [
    "df"
   ]
  },
  {
   "cell_type": "markdown",
   "id": "f7d0e185-b5f5-4226-997a-1ceaf321a297",
   "metadata": {},
   "source": [
    "#### Question 6-"
   ]
  },
  {
   "cell_type": "markdown",
   "id": "6e725c69-ee82-4953-a8d4-62767634aec4",
   "metadata": {},
   "source": [
    "DataFrame and Panel are mutable, Series is immutable ."
   ]
  },
  {
   "cell_type": "markdown",
   "id": "ac53de48-36cc-4acd-9e45-bebe009a345e",
   "metadata": {},
   "source": [
    "#### Question 7-"
   ]
  },
  {
   "cell_type": "code",
   "execution_count": 20,
   "id": "6bb1539c-519f-4c54-8133-43c7d63a3561",
   "metadata": {},
   "outputs": [],
   "source": [
    "l1=[1,2,3,4]\n",
    "l2=[5,6,7,8]\n",
    "l3=[9,10,11,12]"
   ]
  },
  {
   "cell_type": "code",
   "execution_count": 21,
   "id": "16f1a453-fab8-401f-acb2-9795d705f39d",
   "metadata": {},
   "outputs": [],
   "source": [
    "a=pd.Series(l1)\n",
    "b=pd.Series(l2)\n",
    "c=pd.Series(l3)"
   ]
  },
  {
   "cell_type": "code",
   "execution_count": 98,
   "id": "53efa2a4-e5db-4c76-9c89-f3eaa333113f",
   "metadata": {},
   "outputs": [],
   "source": [
    "df1=pd.concat([a,b,c],axis=1)"
   ]
  },
  {
   "cell_type": "code",
   "execution_count": 99,
   "id": "0ce9e74e-22f3-4323-9093-ab520eddd0ef",
   "metadata": {},
   "outputs": [
    {
     "data": {
      "text/html": [
       "<div>\n",
       "<style scoped>\n",
       "    .dataframe tbody tr th:only-of-type {\n",
       "        vertical-align: middle;\n",
       "    }\n",
       "\n",
       "    .dataframe tbody tr th {\n",
       "        vertical-align: top;\n",
       "    }\n",
       "\n",
       "    .dataframe thead th {\n",
       "        text-align: right;\n",
       "    }\n",
       "</style>\n",
       "<table border=\"1\" class=\"dataframe\">\n",
       "  <thead>\n",
       "    <tr style=\"text-align: right;\">\n",
       "      <th></th>\n",
       "      <th>0</th>\n",
       "      <th>1</th>\n",
       "      <th>2</th>\n",
       "    </tr>\n",
       "  </thead>\n",
       "  <tbody>\n",
       "    <tr>\n",
       "      <th>0</th>\n",
       "      <td>1</td>\n",
       "      <td>5</td>\n",
       "      <td>9</td>\n",
       "    </tr>\n",
       "    <tr>\n",
       "      <th>1</th>\n",
       "      <td>2</td>\n",
       "      <td>6</td>\n",
       "      <td>10</td>\n",
       "    </tr>\n",
       "    <tr>\n",
       "      <th>2</th>\n",
       "      <td>3</td>\n",
       "      <td>7</td>\n",
       "      <td>11</td>\n",
       "    </tr>\n",
       "    <tr>\n",
       "      <th>3</th>\n",
       "      <td>4</td>\n",
       "      <td>8</td>\n",
       "      <td>12</td>\n",
       "    </tr>\n",
       "  </tbody>\n",
       "</table>\n",
       "</div>"
      ],
      "text/plain": [
       "   0  1   2\n",
       "0  1  5   9\n",
       "1  2  6  10\n",
       "2  3  7  11\n",
       "3  4  8  12"
      ]
     },
     "execution_count": 99,
     "metadata": {},
     "output_type": "execute_result"
    }
   ],
   "source": [
    "df1"
   ]
  },
  {
   "cell_type": "code",
   "execution_count": 93,
   "id": "9a4f9085-ada3-49ca-ac8a-72fd630b8a5f",
   "metadata": {},
   "outputs": [],
   "source": [
    "data1=['Sudhanshu',1,'Delhi']\n",
    "data2=[\"Sahil\",2,'Banglore']\n",
    "data3=['Habibi',3,'Kolkata']"
   ]
  },
  {
   "cell_type": "code",
   "execution_count": 94,
   "id": "b93e2915-437a-4e68-990a-289d23dca712",
   "metadata": {},
   "outputs": [],
   "source": [
    "l1=pd.Series(data1,index=('Name','id','City'))\n",
    "l2=pd.Series(data2,index=('Name','id','City'))\n",
    "l3=pd.Series(data3,index=('Name','id','City'))"
   ]
  },
  {
   "cell_type": "code",
   "execution_count": 95,
   "id": "e49144a2-fd69-4288-95bf-6755048f640a",
   "metadata": {},
   "outputs": [],
   "source": [
    "data=[l1,l2,l3]"
   ]
  },
  {
   "cell_type": "code",
   "execution_count": 96,
   "id": "1fa61438-6e14-42b4-b2ea-b1b7fd19fcbb",
   "metadata": {},
   "outputs": [],
   "source": [
    "df2=pd.concat(data,axis=1)"
   ]
  },
  {
   "cell_type": "code",
   "execution_count": 97,
   "id": "960ef59d-1589-4742-99a0-38bda2fd16bc",
   "metadata": {},
   "outputs": [
    {
     "data": {
      "text/html": [
       "<div>\n",
       "<style scoped>\n",
       "    .dataframe tbody tr th:only-of-type {\n",
       "        vertical-align: middle;\n",
       "    }\n",
       "\n",
       "    .dataframe tbody tr th {\n",
       "        vertical-align: top;\n",
       "    }\n",
       "\n",
       "    .dataframe thead th {\n",
       "        text-align: right;\n",
       "    }\n",
       "</style>\n",
       "<table border=\"1\" class=\"dataframe\">\n",
       "  <thead>\n",
       "    <tr style=\"text-align: right;\">\n",
       "      <th></th>\n",
       "      <th>0</th>\n",
       "      <th>1</th>\n",
       "      <th>2</th>\n",
       "    </tr>\n",
       "  </thead>\n",
       "  <tbody>\n",
       "    <tr>\n",
       "      <th>Name</th>\n",
       "      <td>Sudhanshu</td>\n",
       "      <td>Sahil</td>\n",
       "      <td>Habibi</td>\n",
       "    </tr>\n",
       "    <tr>\n",
       "      <th>id</th>\n",
       "      <td>1</td>\n",
       "      <td>2</td>\n",
       "      <td>3</td>\n",
       "    </tr>\n",
       "    <tr>\n",
       "      <th>City</th>\n",
       "      <td>Delhi</td>\n",
       "      <td>Banglore</td>\n",
       "      <td>Kolkata</td>\n",
       "    </tr>\n",
       "  </tbody>\n",
       "</table>\n",
       "</div>"
      ],
      "text/plain": [
       "              0         1        2\n",
       "Name  Sudhanshu     Sahil   Habibi\n",
       "id            1         2        3\n",
       "City      Delhi  Banglore  Kolkata"
      ]
     },
     "execution_count": 97,
     "metadata": {},
     "output_type": "execute_result"
    }
   ],
   "source": [
    "df2"
   ]
  },
  {
   "cell_type": "markdown",
   "id": "bcb83ce7-2b8f-4a11-8d78-55b05d0af3ab",
   "metadata": {},
   "source": [
    "In order to merge multiple series together into a DataFrame , we can use concat().Ex-"
   ]
  },
  {
   "cell_type": "code",
   "execution_count": 73,
   "id": "8d85695e-118a-456a-80ff-6283a3622c47",
   "metadata": {},
   "outputs": [],
   "source": [
    "courses=pd.Series(['DSM','Web Dev','C++'])\n",
    "fees=pd.Series([3500,3200,3000])\n",
    "discount=pd.Series([500,200,0])"
   ]
  },
  {
   "cell_type": "code",
   "execution_count": 77,
   "id": "3cb98744-f895-4869-98dc-64b836ece7c9",
   "metadata": {},
   "outputs": [
    {
     "name": "stdout",
     "output_type": "stream",
     "text": [
      "         0     1    2\n",
      "0      DSM  3500  500\n",
      "1  Web Dev  3200  200\n",
      "2      C++  3000    0\n"
     ]
    }
   ],
   "source": [
    "df=pd.concat([courses,fees,discount],axis=1)\n",
    "print(df)"
   ]
  },
  {
   "cell_type": "code",
   "execution_count": null,
   "id": "a5d43a4b-4bcb-442d-b728-9bfdbe02446c",
   "metadata": {},
   "outputs": [],
   "source": []
  }
 ],
 "metadata": {
  "kernelspec": {
   "display_name": "Python 3 (ipykernel)",
   "language": "python",
   "name": "python3"
  },
  "language_info": {
   "codemirror_mode": {
    "name": "ipython",
    "version": 3
   },
   "file_extension": ".py",
   "mimetype": "text/x-python",
   "name": "python",
   "nbconvert_exporter": "python",
   "pygments_lexer": "ipython3",
   "version": "3.10.8"
  }
 },
 "nbformat": 4,
 "nbformat_minor": 5
}
