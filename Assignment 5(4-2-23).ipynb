{
 "cells": [
  {
   "cell_type": "markdown",
   "id": "71802947-5db8-414f-ad06-96631a89acaf",
   "metadata": {},
   "source": [
    "#### Question number 1-"
   ]
  },
  {
   "cell_type": "code",
   "execution_count": 2,
   "id": "73b8767e-ab98-4d83-ab11-11ade27925a8",
   "metadata": {},
   "outputs": [],
   "source": [
    "l=[('Sachin Tendulkar',34357),('Ricky Ponting',27483),('Jack Kallis',25534),('Virat Kohli',24936)]\n"
   ]
  },
  {
   "cell_type": "code",
   "execution_count": null,
   "id": "70bff7ff-2d52-4528-9b01-7e5883e70075",
   "metadata": {},
   "outputs": [],
   "source": [
    "l1=[]\n",
    "for i in range(0,len(l)):\n",
    "    l1.append(l[i][1])"
   ]
  },
  {
   "cell_type": "code",
   "execution_count": 17,
   "id": "69b35e6d-57ca-4992-8cfd-a2acf2a1e28b",
   "metadata": {},
   "outputs": [
    {
     "data": {
      "text/plain": [
       "[34357, 27483, 25534, 24936]"
      ]
     },
     "execution_count": 17,
     "metadata": {},
     "output_type": "execute_result"
    }
   ],
   "source": [
    "l1"
   ]
  },
  {
   "cell_type": "code",
   "execution_count": 35,
   "id": "7e5e3b0e-beca-4ff1-9705-6013e4e0a5dc",
   "metadata": {},
   "outputs": [],
   "source": [
    "l2=list(filter(lambda x:x if x>x+1 else x+1,l1))"
   ]
  },
  {
   "cell_type": "code",
   "execution_count": 41,
   "id": "8626e4c4-bb77-4c2c-b09f-8c52180731ec",
   "metadata": {},
   "outputs": [
    {
     "data": {
      "text/plain": [
       "[34357, 27483, 25534, 24936]"
      ]
     },
     "execution_count": 41,
     "metadata": {},
     "output_type": "execute_result"
    }
   ],
   "source": [
    "l2"
   ]
  },
  {
   "cell_type": "code",
   "execution_count": 44,
   "id": "6d37c244-169a-47fc-8be0-5f80836c0b12",
   "metadata": {},
   "outputs": [],
   "source": [
    "l3=[]\n",
    "for j in range(0,len(l2)):\n",
    "    for i in range(0,len(l)):\n",
    "        if l2[j]==l[i][1]:\n",
    "            l3.append(l[i])\n",
    "        "
   ]
  },
  {
   "cell_type": "code",
   "execution_count": 45,
   "id": "7dd0fcdb-b854-4e13-9744-08f240e47ef0",
   "metadata": {},
   "outputs": [
    {
     "data": {
      "text/plain": [
       "[('Sachin Tendulkar', 34357),\n",
       " ('Ricky Ponting', 27483),\n",
       " ('Jack Kallis', 25534),\n",
       " ('Virat Kohli', 24936)]"
      ]
     },
     "execution_count": 45,
     "metadata": {},
     "output_type": "execute_result"
    }
   ],
   "source": [
    "l3"
   ]
  },
  {
   "cell_type": "markdown",
   "id": "afb44f06-bf92-494f-86f1-d6677a97c0e3",
   "metadata": {},
   "source": [
    "#### Question number 2-"
   ]
  },
  {
   "cell_type": "code",
   "execution_count": 46,
   "id": "8f306b22-a6ae-4e20-b199-38e46d9b185f",
   "metadata": {},
   "outputs": [],
   "source": [
    "l=[1,2,3,4,5,6,7,8,9,10]"
   ]
  },
  {
   "cell_type": "code",
   "execution_count": 47,
   "id": "b6b46307-225d-4ad0-bf47-fa054d05f515",
   "metadata": {},
   "outputs": [],
   "source": [
    "sq=lambda x:x**2"
   ]
  },
  {
   "cell_type": "code",
   "execution_count": 48,
   "id": "54ac585e-b95d-4367-893e-5b14f484d267",
   "metadata": {},
   "outputs": [
    {
     "data": {
      "text/plain": [
       "[1, 4, 9, 16, 25, 36, 49, 64, 81, 100]"
      ]
     },
     "execution_count": 48,
     "metadata": {},
     "output_type": "execute_result"
    }
   ],
   "source": [
    "list(map(sq,l))"
   ]
  },
  {
   "cell_type": "markdown",
   "id": "068bd028-0332-476c-900a-76aa79dbfa49",
   "metadata": {},
   "source": [
    "#### Question number-3"
   ]
  },
  {
   "cell_type": "code",
   "execution_count": 49,
   "id": "8219d7d2-7f42-4abf-ac88-9957a96e31eb",
   "metadata": {},
   "outputs": [],
   "source": [
    "l=[1,2,3,4,5,6,7,8,9,10]"
   ]
  },
  {
   "cell_type": "code",
   "execution_count": 50,
   "id": "1b85270c-8115-45d8-82c5-ca6babe1f44e",
   "metadata": {},
   "outputs": [],
   "source": [
    "con=lambda x:str(x)"
   ]
  },
  {
   "cell_type": "code",
   "execution_count": 70,
   "id": "1577b905-356c-4271-8830-acc589054205",
   "metadata": {},
   "outputs": [],
   "source": [
    "a=list(map(con,l))"
   ]
  },
  {
   "cell_type": "code",
   "execution_count": 71,
   "id": "1c3ebd1a-a6d7-4856-a631-d8c173a9c53b",
   "metadata": {},
   "outputs": [
    {
     "data": {
      "text/plain": [
       "('1', '2', '3', '4', '5', '6', '7', '8', '9', '10')"
      ]
     },
     "execution_count": 71,
     "metadata": {},
     "output_type": "execute_result"
    }
   ],
   "source": [
    "tuple(a)"
   ]
  },
  {
   "cell_type": "markdown",
   "id": "70d75c1a-44c4-471a-ae59-4c9c4dfbf95c",
   "metadata": {},
   "source": [
    "#### Question number 4-"
   ]
  },
  {
   "cell_type": "code",
   "execution_count": 72,
   "id": "5e004465-6fa8-467d-9001-b65849a38eec",
   "metadata": {},
   "outputs": [],
   "source": [
    "l=[]\n",
    "for i in range(1,26):\n",
    "    l.append(i)"
   ]
  },
  {
   "cell_type": "code",
   "execution_count": 76,
   "id": "c5a79eef-b6d9-4c03-b626-c0bd583e55bf",
   "metadata": {},
   "outputs": [
    {
     "data": {
      "text/plain": [
       "15511210043330985984000000"
      ]
     },
     "execution_count": 76,
     "metadata": {},
     "output_type": "execute_result"
    }
   ],
   "source": [
    "from functools import reduce\n",
    "reduce(lambda x,y:x*y,l)"
   ]
  },
  {
   "cell_type": "markdown",
   "id": "ab448504-ea68-4340-8714-a98e629fc1a1",
   "metadata": {},
   "source": [
    "#### Question number 5-"
   ]
  },
  {
   "cell_type": "code",
   "execution_count": 77,
   "id": "b7c6e3d7-c878-4099-ac1d-79e072ba179e",
   "metadata": {},
   "outputs": [],
   "source": [
    "l=[2,3,6,9,27,60,90,120,55,46]"
   ]
  },
  {
   "cell_type": "code",
   "execution_count": 80,
   "id": "cad0b531-7568-4754-8a10-99fb31dbdb38",
   "metadata": {},
   "outputs": [
    {
     "data": {
      "text/plain": [
       "[6, 60, 90, 120]"
      ]
     },
     "execution_count": 80,
     "metadata": {},
     "output_type": "execute_result"
    }
   ],
   "source": [
    "list(filter(lambda x:x%2==0 and x%3==0,l))"
   ]
  },
  {
   "cell_type": "markdown",
   "id": "197e5294-8ea9-467e-9ea5-42b9af924a12",
   "metadata": {},
   "source": [
    "#### Question number 6-"
   ]
  },
  {
   "cell_type": "code",
   "execution_count": 82,
   "id": "2ec5c66c-ac17-4143-a884-50d64d4eeed0",
   "metadata": {},
   "outputs": [],
   "source": [
    "l=['python', 'php', 'aba', 'radar', 'level']"
   ]
  },
  {
   "cell_type": "code",
   "execution_count": 89,
   "id": "dbf68ec8-0a08-42b4-80f0-95ed1ba15dda",
   "metadata": {},
   "outputs": [],
   "source": [
    "a=[]\n",
    "for i in l:\n",
    "    a.append(i)"
   ]
  },
  {
   "cell_type": "code",
   "execution_count": 90,
   "id": "99b5d460-3fa9-4fe8-8a77-8461d3de9930",
   "metadata": {},
   "outputs": [
    {
     "data": {
      "text/plain": [
       "['python', 'php', 'aba', 'radar', 'level']"
      ]
     },
     "execution_count": 90,
     "metadata": {},
     "output_type": "execute_result"
    }
   ],
   "source": [
    "a"
   ]
  },
  {
   "cell_type": "code",
   "execution_count": 92,
   "id": "9c2b6a49-ee91-463f-a58c-2970e8863890",
   "metadata": {},
   "outputs": [
    {
     "data": {
      "text/plain": [
       "['php', 'aba', 'radar', 'level']"
      ]
     },
     "execution_count": 92,
     "metadata": {},
     "output_type": "execute_result"
    }
   ],
   "source": [
    "list(filter(lambda x:x if x[::-1]==x else False ,l))"
   ]
  },
  {
   "cell_type": "code",
   "execution_count": null,
   "id": "2c220e34-f3fb-4702-aa9c-07ae5e4c433a",
   "metadata": {},
   "outputs": [],
   "source": []
  }
 ],
 "metadata": {
  "kernelspec": {
   "display_name": "Python 3 (ipykernel)",
   "language": "python",
   "name": "python3"
  },
  "language_info": {
   "codemirror_mode": {
    "name": "ipython",
    "version": 3
   },
   "file_extension": ".py",
   "mimetype": "text/x-python",
   "name": "python",
   "nbconvert_exporter": "python",
   "pygments_lexer": "ipython3",
   "version": "3.10.8"
  }
 },
 "nbformat": 4,
 "nbformat_minor": 5
}
