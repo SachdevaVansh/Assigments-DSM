{
 "cells": [
  {
   "cell_type": "markdown",
   "id": "e879def6-3adb-4af4-a6b9-a2c399c0d713",
   "metadata": {},
   "source": [
    "#### Question 1-"
   ]
  },
  {
   "cell_type": "code",
   "execution_count": 3,
   "id": "28b0fe51-4bbd-420f-849c-488ffc2bd738",
   "metadata": {},
   "outputs": [],
   "source": [
    "import math\n",
    "mean=50\n",
    "std=5\n",
    "ci=0.95\n",
    "alpha=0.05\n",
    "n=50"
   ]
  },
  {
   "cell_type": "code",
   "execution_count": 4,
   "id": "be6db47b-5b44-44fb-819c-61274e3f4f61",
   "metadata": {},
   "outputs": [],
   "source": [
    "upper_bound=mean+(1.96*std/math.sqrt(n))"
   ]
  },
  {
   "cell_type": "code",
   "execution_count": 5,
   "id": "466f0b61-d1b9-4be6-aee3-be20b034345b",
   "metadata": {},
   "outputs": [],
   "source": [
    "lower_bound=mean-(1.96*std/math.sqrt(n))"
   ]
  },
  {
   "cell_type": "code",
   "execution_count": 6,
   "id": "edefc194-cea2-4bae-bd60-2c43370df6be",
   "metadata": {},
   "outputs": [
    {
     "data": {
      "text/plain": [
       "51.385929291125635"
      ]
     },
     "execution_count": 6,
     "metadata": {},
     "output_type": "execute_result"
    }
   ],
   "source": [
    "upper_bound"
   ]
  },
  {
   "cell_type": "code",
   "execution_count": 7,
   "id": "4466f0b8-2ad2-46e3-bf96-916267a929a2",
   "metadata": {},
   "outputs": [
    {
     "data": {
      "text/plain": [
       "48.614070708874365"
      ]
     },
     "execution_count": 7,
     "metadata": {},
     "output_type": "execute_result"
    }
   ],
   "source": [
    "lower_bound"
   ]
  },
  {
   "cell_type": "markdown",
   "id": "ccc4b3b9-6e92-4da9-89d9-58270ea9ad41",
   "metadata": {},
   "source": [
    "So, the 95% confidence interval about the mean is 48.614 to 51.385 "
   ]
  },
  {
   "cell_type": "markdown",
   "id": "f039ec2d-ae4b-4cec-99a6-494820abeea6",
   "metadata": {},
   "source": [
    "#### Question 2-"
   ]
  },
  {
   "cell_type": "code",
   "execution_count": 8,
   "id": "3f9351a1-dda3-452f-b0fd-300545a19cd6",
   "metadata": {},
   "outputs": [],
   "source": [
    "## blue,orange,green,yellow,red and brown are the categories"
   ]
  },
  {
   "cell_type": "code",
   "execution_count": 9,
   "id": "a76de787-2f15-4f01-9de4-c04d98e382eb",
   "metadata": {},
   "outputs": [],
   "source": [
    "expected_value=[0.23,0.23,0.15,0.15,0.12,0.12]\n",
    "observed_value=[0.20,0.20,0.20,0.10,0.10,0.20]"
   ]
  },
  {
   "cell_type": "code",
   "execution_count": 10,
   "id": "7548a740-228a-4bc5-9ee9-8dc17728ea15",
   "metadata": {},
   "outputs": [],
   "source": [
    "import scipy.stats as stat\n",
    "import numpy as np\n",
    "chisquare_test_stats,p_value=stat.chisquare(observed_value,expected_value)\n",
    "dof=len(expected_value)-1\n",
    "critical_value=stat.chi2.ppf(1-0.05,dof)"
   ]
  },
  {
   "cell_type": "code",
   "execution_count": 11,
   "id": "aabee705-1b84-4e0f-a36a-df0b9e9fc380",
   "metadata": {},
   "outputs": [
    {
     "data": {
      "text/plain": [
       "0.09782608695652176"
      ]
     },
     "execution_count": 11,
     "metadata": {},
     "output_type": "execute_result"
    }
   ],
   "source": [
    "chisquare_test_stats"
   ]
  },
  {
   "cell_type": "code",
   "execution_count": 12,
   "id": "98c5a1a6-f847-4a70-bf2f-d7f4fa45c849",
   "metadata": {
    "tags": []
   },
   "outputs": [
    {
     "data": {
      "text/plain": [
       "11.070497693516351"
      ]
     },
     "execution_count": 12,
     "metadata": {},
     "output_type": "execute_result"
    }
   ],
   "source": [
    "critical_value"
   ]
  },
  {
   "cell_type": "markdown",
   "id": "c324eca0-bca3-4eb1-8f04-b37f4c3b37ea",
   "metadata": {},
   "source": [
    "As, the chisqaure value is less than critical value, The Null hypothesis holds true in this case."
   ]
  },
  {
   "cell_type": "markdown",
   "id": "c0922296-042f-44ae-8b47-b19ed3c49bcd",
   "metadata": {},
   "source": [
    "#### Question 3-"
   ]
  },
  {
   "cell_type": "code",
   "execution_count": 13,
   "id": "ec2cb058-94eb-4822-8a4c-c86748bc58e1",
   "metadata": {},
   "outputs": [],
   "source": [
    "Outcome1=[20,15]\n",
    "Outcome2=[10,25]\n",
    "Outcome3=[15,20]\n",
    "chisquare_test_stats,p_value=stat.chisquare(Outcome1,Outcome2,Outcome3)"
   ]
  },
  {
   "cell_type": "code",
   "execution_count": 14,
   "id": "27d97dff-dd53-43b6-8a73-392a02f09267",
   "metadata": {},
   "outputs": [
    {
     "data": {
      "text/plain": [
       "14.0"
      ]
     },
     "execution_count": 14,
     "metadata": {},
     "output_type": "execute_result"
    }
   ],
   "source": [
    "chisquare_test_stats"
   ]
  },
  {
   "cell_type": "markdown",
   "id": "a0f5f690-7a3f-492c-9c7e-1ed090cd7254",
   "metadata": {},
   "source": [
    "#### Question 4-"
   ]
  },
  {
   "cell_type": "code",
   "execution_count": 15,
   "id": "3adc6670-8e72-4e5e-b651-7b52d984ae56",
   "metadata": {},
   "outputs": [],
   "source": [
    "critical_value=stat.chi2.ppf(0.95,1)"
   ]
  },
  {
   "cell_type": "code",
   "execution_count": 16,
   "id": "eb0cd626-165d-43ee-91a6-1838226ae108",
   "metadata": {},
   "outputs": [
    {
     "data": {
      "text/plain": [
       "3.841458820694124"
      ]
     },
     "execution_count": 16,
     "metadata": {},
     "output_type": "execute_result"
    }
   ],
   "source": [
    "critical_value"
   ]
  },
  {
   "cell_type": "markdown",
   "id": "57055e32-e0c3-496a-acef-f2f406b4382e",
   "metadata": {},
   "source": [
    "From the chisquare table, with dof=1 and significance value as 3.84, we can conclude the Nulll hypothesis holds true as chisqaure value is less than critical value. "
   ]
  },
  {
   "cell_type": "markdown",
   "id": "4560dee0-f663-4406-8cc7-b393a7ef31cd",
   "metadata": {},
   "source": [
    "#### Question 5-"
   ]
  },
  {
   "cell_type": "code",
   "execution_count": 17,
   "id": "81d4bed5-719d-4a69-bd88-4b87056319ad",
   "metadata": {},
   "outputs": [],
   "source": [
    "ci=0.90\n",
    "alpha=0.10\n",
    "mean=75\n",
    "std=12\n",
    "n=50"
   ]
  },
  {
   "cell_type": "code",
   "execution_count": 18,
   "id": "c83ca811-b65e-4751-a268-b9b517ea7ef2",
   "metadata": {},
   "outputs": [],
   "source": [
    "upper_bound=mean+(1.27*std/math.sqrt(n))"
   ]
  },
  {
   "cell_type": "code",
   "execution_count": 19,
   "id": "646d2f5d-bd5c-4481-96b1-c13d1d58ce4f",
   "metadata": {},
   "outputs": [],
   "source": [
    "lower_bound=mean-(1.27*std/math.sqrt(n))"
   ]
  },
  {
   "cell_type": "code",
   "execution_count": 20,
   "id": "aaed4ea0-82ca-4249-bf3f-99f967b65eb1",
   "metadata": {},
   "outputs": [
    {
     "data": {
      "text/plain": [
       "(77.1552614690566, 72.8447385309434)"
      ]
     },
     "execution_count": 20,
     "metadata": {},
     "output_type": "execute_result"
    }
   ],
   "source": [
    "upper_bound, lower_bound"
   ]
  },
  {
   "cell_type": "markdown",
   "id": "7d034b35-75de-45f9-8171-02ad531efa0f",
   "metadata": {},
   "source": [
    "#### Question 6-"
   ]
  },
  {
   "cell_type": "code",
   "execution_count": 21,
   "id": "a430ec94-e667-4d90-9cd0-455043f00584",
   "metadata": {},
   "outputs": [],
   "source": [
    "dof=10\n",
    "import numpy as np\n",
    "import matplotlib.pyplot as plt\n",
    "import scipy.stats as stat"
   ]
  },
  {
   "cell_type": "code",
   "execution_count": 22,
   "id": "9865b776-0a19-4889-938e-ebc1880c69f7",
   "metadata": {},
   "outputs": [],
   "source": [
    "x=np.arange(0,20,0.001)"
   ]
  },
  {
   "cell_type": "code",
   "execution_count": 23,
   "id": "0ebabf06-986c-4aa2-87f3-f67d63666616",
   "metadata": {},
   "outputs": [
    {
     "data": {
      "image/png": "[encoded data removed]",
      "text/plain": [
       "<Figure size 640x480 with 1 Axes>"
      ]
     },
     "metadata": {},
     "output_type": "display_data"
    }
   ],
   "source": [
    "plt.plot(x,stat.chi2.pdf(x,df=dof),label=\"df=10\")\n",
    "plt.fill_between(x,stat.chi2.pdf(x,df=dof),alpha=0.5,where=(x>15))\n",
    "plt.show()"
   ]
  },
  {
   "cell_type": "markdown",
   "id": "74012713-b8f0-4e99-bb52-94dd7456ed71",
   "metadata": {},
   "source": [
    "#### Question 8-"
   ]
  },
  {
   "cell_type": "markdown",
   "id": "495542c2-cdfd-44d2-90b0-e5e9b5b57655",
   "metadata": {},
   "source": [
    "Ho = coin is biased towards tails\n",
    "\n",
    "H1 = coin is not biased towards tails"
   ]
  },
  {
   "cell_type": "code",
   "execution_count": 24,
   "id": "c793d37b-4b5f-4918-826e-c26fc7faeab1",
   "metadata": {},
   "outputs": [],
   "source": [
    "## Probability of head and tail are the categories\n",
    "observed_value=[0.45,0.55]  # biased coin\n",
    "\n",
    "expected_value=[0.5,0.5]  # fair coin"
   ]
  },
  {
   "cell_type": "code",
   "execution_count": 29,
   "id": "72931a0a-e263-40cc-8f37-ea799863bab5",
   "metadata": {},
   "outputs": [],
   "source": [
    "chisquare_test_stat, p_value=stat.chisquare(observed_value, expected_value)"
   ]
  },
  {
   "cell_type": "code",
   "execution_count": 31,
   "id": "de108160-0149-4a47-a297-d2e23520b154",
   "metadata": {},
   "outputs": [
    {
     "data": {
      "text/plain": [
       "0.010000000000000005"
      ]
     },
     "execution_count": 31,
     "metadata": {},
     "output_type": "execute_result"
    }
   ],
   "source": [
    "chisquare_test_stat"
   ]
  },
  {
   "cell_type": "code",
   "execution_count": 32,
   "id": "661fa7de-470c-4b29-90e2-f297c087b272",
   "metadata": {},
   "outputs": [],
   "source": [
    "dof=1\n",
    "significance_value=0.01\n",
    "critical_value=stat.chi2.ppf(0.99,1)"
   ]
  },
  {
   "cell_type": "code",
   "execution_count": 33,
   "id": "30ce4122-935e-4f56-991b-8921c1fb4e31",
   "metadata": {},
   "outputs": [
    {
     "data": {
      "text/plain": [
       "6.6348966010212145"
      ]
     },
     "execution_count": 33,
     "metadata": {},
     "output_type": "execute_result"
    }
   ],
   "source": [
    "critical_value"
   ]
  },
  {
   "cell_type": "markdown",
   "id": "d1994ff3-4f3b-450c-ab4f-362deb1710e7",
   "metadata": {},
   "source": [
    "As, the chisquare value i.e 0.01 is less than the critical value, the Null hypothesis holds true."
   ]
  },
  {
   "cell_type": "markdown",
   "id": "4523055e-2634-477c-8f28-754d44ccdd8f",
   "metadata": {},
   "source": [
    "#### Question 11-"
   ]
  },
  {
   "cell_type": "markdown",
   "id": "02b1c29e-c02c-4c0c-b163-743d602801f3",
   "metadata": {},
   "source": [
    "This question can be solved by using t-test:\n"
   ]
  },
  {
   "cell_type": "markdown",
   "id": "99a445b2-04b2-46b4-bbf6-c1eb17c8b351",
   "metadata": {},
   "source": [
    "Given-\n",
    "\n",
    "sample mean= 72\n",
    "\n",
    "sample standard deviation=10\n",
    "\n",
    "population mean=70\n",
    "\n",
    "significance value=0.05\n",
    "\n",
    "sample size=30"
   ]
  },
  {
   "cell_type": "markdown",
   "id": "3309dddb-0cba-427a-b859-c12861ebf548",
   "metadata": {},
   "source": [
    "Ho=population mean is 70\n",
    "\n",
    "H1= population mean is not 70\n",
    "\n",
    "Two-tail test"
   ]
  },
  {
   "cell_type": "code",
   "execution_count": 35,
   "id": "a67a9fb8-43ca-4498-94cf-0f44f65edeba",
   "metadata": {},
   "outputs": [],
   "source": [
    "import math\n",
    "x_bar=72\n",
    "s=10\n",
    "meu=70\n",
    "alpha=0.05\n",
    "t_value=(x_bar-meu)*math.sqrt(n)/s"
   ]
  },
  {
   "cell_type": "code",
   "execution_count": 36,
   "id": "41854207-c0cf-486e-8f81-25638b2c9d8f",
   "metadata": {},
   "outputs": [
    {
     "data": {
      "text/plain": [
       "1.4142135623730951"
      ]
     },
     "execution_count": 36,
     "metadata": {},
     "output_type": "execute_result"
    }
   ],
   "source": [
    "t_value"
   ]
  },
  {
   "cell_type": "markdown",
   "id": "db5b71ca-1f4d-4d30-a3ad-601366d7b2a9",
   "metadata": {},
   "source": [
    "From the t-table , when alpha=0.05 and dof=29, the t-value obtained is=2.045"
   ]
  },
  {
   "cell_type": "markdown",
   "id": "63e1b432-174b-4b62-91f0-06e952d9fd5a",
   "metadata": {},
   "source": [
    "As, the t- value obtained from calculation is less than t-value obtained from t-table , the Null hypothesis holds true.\n",
    "\n",
    "So, the population mean is not significantly different from 70."
   ]
  },
  {
   "cell_type": "code",
   "execution_count": null,
   "id": "a9dc8f2b-f4f0-4684-8f36-b59836249641",
   "metadata": {},
   "outputs": [],
   "source": []
  }
 ],
 "metadata": {
  "kernelspec": {
   "display_name": "Python 3 (ipykernel)",
   "language": "python",
   "name": "python3"
  },
  "language_info": {
   "codemirror_mode": {
    "name": "ipython",
    "version": 3
   },
   "file_extension": ".py",
   "mimetype": "text/x-python",
   "name": "python",
   "nbconvert_exporter": "python",
   "pygments_lexer": "ipython3",
   "version": "3.10.8"
  }
 },
 "nbformat": 4,
 "nbformat_minor": 5
}
