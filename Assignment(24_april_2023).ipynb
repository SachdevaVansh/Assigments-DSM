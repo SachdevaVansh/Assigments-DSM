{
 "cells": [
  {
   "cell_type": "markdown",
   "id": "b4a749a4-a416-4f37-a4d0-5baae9379448",
   "metadata": {},
   "source": [
    "Q1. What is a projection and how is it used in PCA?\n",
    "\n",
    "Ans: A projection in PCA (Principal Component Analysis) is a way of transforming high-dimensional data onto a lower-dimensional\n",
    "         space. It is achieved by identifying the principal components that capture the most variance in the data and projecting \n",
    "         the data points onto those components to obtain a reduced representation.\n"
   ]
  },
  {
   "cell_type": "markdown",
   "id": "d59642c8-4511-4c77-9541-5b743a0fc8c5",
   "metadata": {},
   "source": [
    "Q2. How does the optimization problem in PCA work, and what is it trying to achieve?\n",
    "\n",
    "Ans: The optimization problem in PCA aims to find the best set of orthogonal axes (principal components) that maximize the \n",
    "         variance captured by projecting the data onto those axes. It seeks to achieve the most compact representation of the data \n",
    "         in a lower-dimensional space.\n"
   ]
  },
  {
   "cell_type": "markdown",
   "id": "c561e559-8ad9-4342-a1f6-72e698d6b1f1",
   "metadata": {},
   "source": [
    "Q3. What is the relationship between covariance matrices and PCA?\n",
    "\n",
    "Ans: PCA uses the covariance matrix to calculate the eigenvectors and eigenvalues, which in turn determine the \n",
    "         principal components and the amount of variance explained by each component.\n"
   ]
  },
  {
   "cell_type": "markdown",
   "id": "874d2570-09f2-499e-b354-925d33854997",
   "metadata": {},
   "source": [
    "Q4. How does the choice of number of principal components impact the performance of PCA?\n",
    "\n",
    "Ans: The choice of the number of principal components in PCA impacts the trade-off between dimensionality reduction and \n",
    "         preserving information. Selecting fewer components may lead to loss of information but faster computation, while \n",
    "         selecting more components may preserve more information but require more computational resources.\n"
   ]
  },
  {
   "cell_type": "markdown",
   "id": "fd7ee88f-21f8-4582-8bd2-0cfec62cb93f",
   "metadata": {},
   "source": [
    "Q5. How can PCA be used in feature selection, and what are the benefits of using it for this purpose?\n",
    "\n",
    "Ans: PCA can be used in feature selection by selecting the top principal components as representative features. \n",
    "         Benefits include reducing dimensionality, eliminating irrelevant features, and preserving the most important information \n",
    "         for improved model performance.\n"
   ]
  },
  {
   "cell_type": "markdown",
   "id": "2326546a-ba9e-46b1-92c5-6a12741f6e18",
   "metadata": {},
   "source": [
    "Q6. What are some common applications of PCA in data science and machine learning?\n",
    "\n",
    "Ans: Some common applications of PCA in data science and machine learning include dimensionality reduction, image and \n",
    "         signal processing, data visualization, anomaly detection, and feature extraction for improving model performance.\n"
   ]
  },
  {
   "cell_type": "markdown",
   "id": "4ad17d44-5243-4117-b3fe-c0d54ffb4399",
   "metadata": {},
   "source": [
    "Q7. What is the relationship between spread and variance in PCA?\n",
    "\n",
    "Ans: In PCA, Variance represents the spread or dispersion of data along a particular axis or principal component. \n",
    "         Higher variance indicates a greater spread of data points along that component, capturing more information about \n",
    "         the data's variability.\n"
   ]
  },
  {
   "cell_type": "markdown",
   "id": "b918601c-dba9-4669-906e-11ffde2d3518",
   "metadata": {},
   "source": [
    "Q8. How does PCA use the spread and variance of the data to identify principal components?\n",
    "\n",
    "Ans: PCA uses the spread and variance of the data to identify principal components by seeking the directions in which the data \n",
    "         has the highest variance. These directions correspond to the axes along which the data is most spread out, capturing the \n",
    "         most significant patterns and variability in the data.\n",
    "\n"
   ]
  },
  {
   "cell_type": "markdown",
   "id": "a03f5703-b6cc-47f4-98d4-831a8871c12f",
   "metadata": {},
   "source": [
    "Q9. How does PCA handle data with high variance in some dimensions but low variance in others?\n",
    "\n",
    " Ans: PCA handles data with high variance in some dimensions and low variance in others by prioritizing the dimensions with \n",
    "         higher variance. It identifies the principal components based on the directions of maximum variance.\n"
   ]
  },
  {
   "cell_type": "code",
   "execution_count": null,
   "id": "9b8723ca-845a-4300-92e6-0abf4471365d",
   "metadata": {},
   "outputs": [],
   "source": []
  }
 ],
 "metadata": {
  "kernelspec": {
   "display_name": "Python 3 (ipykernel)",
   "language": "python",
   "name": "python3"
  },
  "language_info": {
   "codemirror_mode": {
    "name": "ipython",
    "version": 3
   },
   "file_extension": ".py",
   "mimetype": "text/x-python",
   "name": "python",
   "nbconvert_exporter": "python",
   "pygments_lexer": "ipython3",
   "version": "3.10.8"
  }
 },
 "nbformat": 4,
 "nbformat_minor": 5
}
