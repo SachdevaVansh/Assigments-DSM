{
 "cells": [
  {
   "cell_type": "code",
   "execution_count": 2,
   "id": "5a7d5549-3ad1-46db-bf5d-d92bf0a5e3cd",
   "metadata": {},
   "outputs": [],
   "source": [
    "import numpy as np"
   ]
  },
  {
   "cell_type": "code",
   "execution_count": 3,
   "id": "bb392611-f732-4e20-a91e-7f538c2beff0",
   "metadata": {},
   "outputs": [],
   "source": [
    "list_=['1','2','3','4','5']"
   ]
  },
  {
   "cell_type": "code",
   "execution_count": 4,
   "id": "d8353fa8-55f0-4423-99aa-fbe19829b5d2",
   "metadata": {},
   "outputs": [],
   "source": [
    "array_list=np.array(object=list_)"
   ]
  },
  {
   "cell_type": "code",
   "execution_count": 5,
   "id": "d2d6afb8-b30c-40ff-91bb-6f3d13dd5930",
   "metadata": {},
   "outputs": [
    {
     "data": {
      "text/plain": [
       "array(['1', '2', '3', '4', '5'], dtype='<U1')"
      ]
     },
     "execution_count": 5,
     "metadata": {},
     "output_type": "execute_result"
    }
   ],
   "source": [
    "array_list"
   ]
  },
  {
   "cell_type": "markdown",
   "id": "ab550f54-eb70-44a6-a469-8f216002ead5",
   "metadata": {},
   "source": [
    "#### Question 1-"
   ]
  },
  {
   "cell_type": "code",
   "execution_count": 6,
   "id": "1ab5509e-2a24-4906-9b92-1880cf612daa",
   "metadata": {},
   "outputs": [
    {
     "data": {
      "text/plain": [
       "dtype('<U1')"
      ]
     },
     "execution_count": 6,
     "metadata": {},
     "output_type": "execute_result"
    }
   ],
   "source": [
    "array_list.dtype"
   ]
  },
  {
   "cell_type": "code",
   "execution_count": 7,
   "id": "4154b20a-55d5-4ff2-ad34-7930f36b2e2b",
   "metadata": {},
   "outputs": [
    {
     "data": {
      "text/plain": [
       "list"
      ]
     },
     "execution_count": 7,
     "metadata": {},
     "output_type": "execute_result"
    }
   ],
   "source": [
    "type(list_)"
   ]
  },
  {
   "cell_type": "markdown",
   "id": "4cd29be2-6af4-47a9-9b18-b6f40cef256f",
   "metadata": {},
   "source": [
    "The data types of list_ is list, while the data type of array_list is '<U1' which stands for unsigned 8-bit integer. It basically describes how the bytes in the fix-size block of memory corresponding to an array item should be interpreted. Here, each block of memory assigned to the array item is assigned an 8-byte memory."
   ]
  },
  {
   "cell_type": "markdown",
   "id": "5c531009-1d83-4606-9443-d310490c9d6c",
   "metadata": {},
   "source": [
    "#### Question 2-"
   ]
  },
  {
   "cell_type": "code",
   "execution_count": 8,
   "id": "d3c7a77a-67ee-415d-a00e-247e5c693613",
   "metadata": {},
   "outputs": [
    {
     "name": "stdout",
     "output_type": "stream",
     "text": [
      "<class 'str'>\n",
      "<class 'str'>\n",
      "<class 'str'>\n",
      "<class 'str'>\n",
      "<class 'str'>\n"
     ]
    }
   ],
   "source": [
    "for i in list_:\n",
    "    print(type(i))"
   ]
  },
  {
   "cell_type": "code",
   "execution_count": 10,
   "id": "de6ed83d-7b97-445c-9343-9f8d07fb31b2",
   "metadata": {},
   "outputs": [
    {
     "name": "stdout",
     "output_type": "stream",
     "text": [
      "<U1\n",
      "<U1\n",
      "<U1\n",
      "<U1\n",
      "<U1\n"
     ]
    }
   ],
   "source": [
    "for i in array_list:\n",
    "    print(i.dtype)"
   ]
  },
  {
   "cell_type": "code",
   "execution_count": 11,
   "id": "72d3dcb7-84e5-4d2b-9459-76e7a9eed7cb",
   "metadata": {},
   "outputs": [],
   "source": [
    "array_list=np.array(object=list_, dtype=int)"
   ]
  },
  {
   "cell_type": "code",
   "execution_count": 14,
   "id": "ed604800-bd86-4753-921e-a51466d20904",
   "metadata": {},
   "outputs": [
    {
     "data": {
      "text/plain": [
       "array([1, 2, 3, 4, 5])"
      ]
     },
     "execution_count": 14,
     "metadata": {},
     "output_type": "execute_result"
    }
   ],
   "source": [
    "array_list"
   ]
  },
  {
   "cell_type": "code",
   "execution_count": 15,
   "id": "7fbbad70-329d-48cc-b64c-0d5a02518674",
   "metadata": {},
   "outputs": [
    {
     "data": {
      "text/plain": [
       "dtype('int64')"
      ]
     },
     "execution_count": 15,
     "metadata": {},
     "output_type": "execute_result"
    }
   ],
   "source": [
    "array_list.dtype"
   ]
  },
  {
   "cell_type": "markdown",
   "id": "5f729ffc-8c6c-4877-b092-8b0a53f15547",
   "metadata": {},
   "source": [
    "Yes, now there is a difference in data types of the elements present in list_ and array_list.\n",
    "The data type of eac variable in list_ is string, while the data type of each variable in the array_list is integer."
   ]
  },
  {
   "cell_type": "code",
   "execution_count": 16,
   "id": "318167be-b566-4838-83d4-14d29332e44b",
   "metadata": {},
   "outputs": [
    {
     "name": "stdout",
     "output_type": "stream",
     "text": [
      "<class 'str'>\n",
      "<class 'str'>\n",
      "<class 'str'>\n",
      "<class 'str'>\n",
      "<class 'str'>\n"
     ]
    }
   ],
   "source": [
    "for i in list_:\n",
    "    print(type(i))"
   ]
  },
  {
   "cell_type": "code",
   "execution_count": 17,
   "id": "62c8b5a4-f273-4d5e-9a49-9d90e71b5e4c",
   "metadata": {},
   "outputs": [
    {
     "name": "stdout",
     "output_type": "stream",
     "text": [
      "int64\n",
      "int64\n",
      "int64\n",
      "int64\n",
      "int64\n"
     ]
    }
   ],
   "source": [
    "for i in array_list:\n",
    "    print(i.dtype)"
   ]
  },
  {
   "cell_type": "code",
   "execution_count": null,
   "id": "b72207c6-5a46-4805-9cdc-79428b504bd3",
   "metadata": {},
   "outputs": [],
   "source": []
  },
  {
   "cell_type": "code",
   "execution_count": 18,
   "id": "831225ce-1938-473a-9ade-f1a10b76c4c5",
   "metadata": {},
   "outputs": [],
   "source": [
    "import numpy as np"
   ]
  },
  {
   "cell_type": "code",
   "execution_count": 19,
   "id": "95e709b8-3595-4ead-b40b-2850ee45f353",
   "metadata": {},
   "outputs": [],
   "source": [
    "num_list=[[1,2,3],[4,5,6]]"
   ]
  },
  {
   "cell_type": "code",
   "execution_count": 21,
   "id": "88e10e67-3463-4eb2-83cd-fd7438c02673",
   "metadata": {},
   "outputs": [],
   "source": [
    "num_array=np.array(object=num_list)"
   ]
  },
  {
   "cell_type": "markdown",
   "id": "4bb8da06-73b2-4669-b7c2-539fb8d774a4",
   "metadata": {},
   "source": [
    "#### Question 4-"
   ]
  },
  {
   "cell_type": "code",
   "execution_count": 23,
   "id": "0b3be065-f259-41f6-acdd-734ecdaf5fa8",
   "metadata": {},
   "outputs": [
    {
     "data": {
      "text/plain": [
       "6"
      ]
     },
     "execution_count": 23,
     "metadata": {},
     "output_type": "execute_result"
    }
   ],
   "source": [
    "num_array.size"
   ]
  },
  {
   "cell_type": "code",
   "execution_count": 24,
   "id": "3cfd2073-9487-4818-8251-ddcacb2be4c5",
   "metadata": {},
   "outputs": [
    {
     "data": {
      "text/plain": [
       "(2, 3)"
      ]
     },
     "execution_count": 24,
     "metadata": {},
     "output_type": "execute_result"
    }
   ],
   "source": [
    "num_array.shape"
   ]
  },
  {
   "cell_type": "markdown",
   "id": "07f94830-8a40-458b-9c59-ee35da8d25ec",
   "metadata": {},
   "source": [
    "#### Question 5-"
   ]
  },
  {
   "cell_type": "code",
   "execution_count": 27,
   "id": "a5de5550-3f09-4f71-acf8-99372767927b",
   "metadata": {},
   "outputs": [],
   "source": [
    "a=np.zeros((3,3))"
   ]
  },
  {
   "cell_type": "code",
   "execution_count": 29,
   "id": "49f5d076-70bb-4015-95e1-9c9aed3f79e5",
   "metadata": {},
   "outputs": [
    {
     "data": {
      "text/plain": [
       "matrix([[0., 0., 0.],\n",
       "        [0., 0., 0.],\n",
       "        [0., 0., 0.]])"
      ]
     },
     "execution_count": 29,
     "metadata": {},
     "output_type": "execute_result"
    }
   ],
   "source": [
    "np.matrix(a)"
   ]
  },
  {
   "cell_type": "markdown",
   "id": "6a9f6061-91be-4747-83d4-70138b853e92",
   "metadata": {},
   "source": [
    "#### Question 6-"
   ]
  },
  {
   "cell_type": "code",
   "execution_count": 31,
   "id": "c2d70df0-8859-4b92-bb48-5173691af854",
   "metadata": {},
   "outputs": [],
   "source": [
    "b=np.eye(5)"
   ]
  },
  {
   "cell_type": "code",
   "execution_count": 32,
   "id": "702009ec-c39e-46e1-8bbc-b53ace7db214",
   "metadata": {},
   "outputs": [
    {
     "data": {
      "text/plain": [
       "matrix([[1., 0., 0., 0., 0.],\n",
       "        [0., 1., 0., 0., 0.],\n",
       "        [0., 0., 1., 0., 0.],\n",
       "        [0., 0., 0., 1., 0.],\n",
       "        [0., 0., 0., 0., 1.]])"
      ]
     },
     "execution_count": 32,
     "metadata": {},
     "output_type": "execute_result"
    }
   ],
   "source": [
    "np.matrix(b)"
   ]
  },
  {
   "cell_type": "code",
   "execution_count": null,
   "id": "08cc16ae-8e52-4781-9b58-5289a70766a5",
   "metadata": {},
   "outputs": [],
   "source": []
  }
 ],
 "metadata": {
  "kernelspec": {
   "display_name": "Python 3 (ipykernel)",
   "language": "python",
   "name": "python3"
  },
  "language_info": {
   "codemirror_mode": {
    "name": "ipython",
    "version": 3
   },
   "file_extension": ".py",
   "mimetype": "text/x-python",
   "name": "python",
   "nbconvert_exporter": "python",
   "pygments_lexer": "ipython3",
   "version": "3.10.8"
  }
 },
 "nbformat": 4,
 "nbformat_minor": 5
}
