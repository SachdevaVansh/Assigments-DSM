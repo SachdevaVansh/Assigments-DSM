{
 "cells": [
  {
   "cell_type": "markdown",
   "id": "595832c4-83aa-49d0-a2ec-895f4bc4d3ef",
   "metadata": {},
   "source": [
    "#### Question-1:"
   ]
  },
  {
   "cell_type": "markdown",
   "id": "40e77db8-bb69-41d0-af8b-53c0080c0a54",
   "metadata": {},
   "source": [
    "Flask is a web framwork. Through flask we can build web applications because it provides us with such tools, libraries or other technologies.\n",
    "The web applications may include building a web page, a blog, a wiki, or some commercial website."
   ]
  },
  {
   "cell_type": "markdown",
   "id": "948c7940-b293-4206-887e-181a9e99573b",
   "metadata": {},
   "source": [
    "Advantages of Flask framework-\n",
    "Flask comes under the category of micro-frameworks. As the name suggests these are light frameworks with no to little dependecies on other frameworks. So, there would be less chances of update and security bugs in flask because it is not dependent on other libraries or frameworks."
   ]
  },
  {
   "cell_type": "markdown",
   "id": "7f75af61-423b-4357-8d23-43f2bae60137",
   "metadata": {},
   "source": [
    "#### Question 3-"
   ]
  },
  {
   "cell_type": "markdown",
   "id": "f4d42d57-71bc-4099-bbee-8a9b269270e4",
   "metadata": {},
   "source": [
    "App routing is used to map the specific URL with the associated function that is intended to perform some task. \n",
    "It helps the user to remember the URL's and make navigation simpler."
   ]
  },
  {
   "cell_type": "markdown",
   "id": "2ec7389f-8724-4b4e-b981-ef123aa13eaa",
   "metadata": {},
   "source": [
    "#### Question 5-"
   ]
  },
  {
   "cell_type": "markdown",
   "id": "65162919-3b6e-463d-8a1d-092e907971f4",
   "metadata": {},
   "source": [
    "url_for() function is used in Flask for URL Building."
   ]
  },
  {
   "cell_type": "code",
   "execution_count": null,
   "id": "4aaed46a-0733-4c30-a395-24b93d3ad98f",
   "metadata": {},
   "outputs": [],
   "source": []
  }
 ],
 "metadata": {
  "kernelspec": {
   "display_name": "Python 3 (ipykernel)",
   "language": "python",
   "name": "python3"
  },
  "language_info": {
   "codemirror_mode": {
    "name": "ipython",
    "version": 3
   },
   "file_extension": ".py",
   "mimetype": "text/x-python",
   "name": "python",
   "nbconvert_exporter": "python",
   "pygments_lexer": "ipython3",
   "version": "3.10.8"
  }
 },
 "nbformat": 4,
 "nbformat_minor": 5
}
