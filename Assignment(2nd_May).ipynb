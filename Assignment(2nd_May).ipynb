{
 "cells": [
  {
   "cell_type": "markdown",
   "id": "cabcee84-be29-4626-9653-160ad97ce045",
   "metadata": {},
   "source": [
    "Q1. What is anomaly detection and what is its purpose?\n",
    "\n",
    "Ans: Anomaly detection is a technique used to identify patterns or data points that deviate significantly from normal behavior. \n",
    "- Its purpose is to detect unusual or suspicious observations that may indicate errors, fraud, or abnormalities in various domains such as cybersecurity, finance, and industrial monitoring."
   ]
  },
  {
   "cell_type": "markdown",
   "id": "17c227f4-998a-409e-8612-4f9eab6e3399",
   "metadata": {},
   "source": [
    "Q2. What are the key challenges in anomaly detection?\n",
    "\n",
    " Ans: The key challenges in anomaly detection include identifying and distinguishing abnormal patterns from normal ones, dealing with high-dimensional data, handling imbalanced datasets where anomalies are rare, adapting to changing behaviors and evolving anomalies, and minimizing false positives and false negatives."
   ]
  },
  {
   "cell_type": "markdown",
   "id": "9b1c1a0b-9313-46dd-a225-38483027c258",
   "metadata": {},
   "source": [
    "Q3. How does unsupervised anomaly detection differ from supervised anomaly detection?\n",
    "\n",
    "Ans: Unsupervised anomaly detection relies on identifying anomalies in data without prior knowledge or labeled examples of anomalies. It discovers abnormal patterns based on the inherent structure of the data. Supervised anomaly detection, on the other hand, requires labeled examples of anomalies to train a model that can classify new instances as normal or abnormal.\n"
   ]
  },
  {
   "cell_type": "markdown",
   "id": "42474542-8a7b-4d02-9592-07134c087a4f",
   "metadata": {},
   "source": [
    "Q4. What are the main categories of anomaly detection algorithms?\n",
    "\n",
    "Ans: The main categories of anomaly detection algorithms are statistical-based methods that model normal data distribution and identify deviations, proximity-based methods that measure the distance or similarity between data points, and machine learning-based methods that use techniques like clustering, classification, or autoencoders to detect anomalies.\n"
   ]
  },
  {
   "cell_type": "markdown",
   "id": "bb2e4a70-7679-42f0-9cd4-8c6730490660",
   "metadata": {},
   "source": [
    "Q5. What are the main assumptions made by distance-based anomaly detection methods?\n",
    "\n",
    "Ans: Distance-based anomaly detection methods assume that anomalies are located far away from normal data points in terms of distance or similarity measures. \n"
   ]
  },
  {
   "cell_type": "markdown",
   "id": "6d8af50d-6f20-4b62-a23e-c9cb22e21cd3",
   "metadata": {},
   "source": [
    "Q6. How does the LOF algorithm compute anomaly scores?\n",
    "\n",
    " Ans: The LOF (Local Outlier Factor) algorithm computes anomaly scores by comparing the local density of a data point with the densities of its neighbors. It calculates a score for each point based on the ratio of the average density of its neighbors to its own density. \n",
    "- Higher scores indicate higher likelihood of being an anomaly."
   ]
  },
  {
   "cell_type": "markdown",
   "id": "4c9e8d10-e2f5-4f4f-8241-022971c02693",
   "metadata": {},
   "source": [
    "Q7. What are the key parameters of the Isolation Forest algorithm?\n",
    "\n",
    "Ans: The key parameters of the Isolation Forest algorithm are the number of trees to build and the maximum tree depth. \n"
   ]
  },
  {
   "cell_type": "markdown",
   "id": "e3f593d6-9b2b-47d4-bcba-b68d53065fcb",
   "metadata": {},
   "source": [
    "Q8. If a data point has only 2 neighbours of the same class within a radius of 0.5, what is its anomaly score\n",
    "using KNN with K=10?\n",
    "\n",
    "Ans: To calculate the anomaly score using KNN with K=10, we need to consider the proportion of neighbors that belong to a different class. \n",
    "         In this case, since the data point has only 2 neighbors of the same class within a radius of 0.5, it means that all the neighbors \n",
    "         belong to the same class. Therefore, the anomaly score would be 0, indicating that the data point is not considered an anomaly based \n",
    "         on the KNN algorithm with K=10.\n"
   ]
  },
  {
   "cell_type": "markdown",
   "id": "e0b70d2c-4758-4711-b7f0-253d9be53238",
   "metadata": {},
   "source": [
    "Q9. Using the Isolation Forest algorithm with 100 trees and a dataset of 3000 data points, what is the\n",
    "anomaly score for a data point that has an average path length of 5.0 compared to the average path\n",
    "length of the trees?\n",
    "\n",
    "Ans: The anomaly score for a data point with an average path length of 5.0 compared to the average path length of the trees in the \n",
    "         Isolation Forest algorithm would be calculated as the inverse of the average path length, which is 1/5.0 = 0.2. \n",
    "         Thus, the anomaly score for the data point would be 0.2. Also in order to clearly determine the anomaly we need additional information \n",
    "         about the dataset.\n"
   ]
  },
  {
   "cell_type": "code",
   "execution_count": null,
   "id": "0d268b37-0106-430d-b740-5abf38d19126",
   "metadata": {},
   "outputs": [],
   "source": []
  }
 ],
 "metadata": {
  "kernelspec": {
   "display_name": "Python 3 (ipykernel)",
   "language": "python",
   "name": "python3"
  },
  "language_info": {
   "codemirror_mode": {
    "name": "ipython",
    "version": 3
   },
   "file_extension": ".py",
   "mimetype": "text/x-python",
   "name": "python",
   "nbconvert_exporter": "python",
   "pygments_lexer": "ipython3",
   "version": "3.10.8"
  }
 },
 "nbformat": 4,
 "nbformat_minor": 5
}
