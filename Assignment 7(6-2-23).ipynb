{
 "cells": [
  {
   "cell_type": "markdown",
   "id": "ac7cb6e9-76f1-4848-9cfe-8d8c36df37e7",
   "metadata": {},
   "source": [
    "#### Question 1-"
   ]
  },
  {
   "cell_type": "code",
   "execution_count": 1,
   "id": "1c2071cc-d5b1-4aa3-bbbe-1301ab8ae358",
   "metadata": {},
   "outputs": [],
   "source": [
    "list1 = [1,2,3,4, [44,55,66, True], False, (34,56,78,89,34), {1,2,3,3,2,1}, {1:34, \"key2\": [55, 67, 78, 89], 4: (45,\n",
    "22, 61, 34)}, [56, 'data science'], 'Machine Learning']"
   ]
  },
  {
   "cell_type": "code",
   "execution_count": 8,
   "id": "680d5268-49a9-4fec-8f34-bafbf875d13c",
   "metadata": {},
   "outputs": [
    {
     "data": {
      "text/plain": [
       "66"
      ]
     },
     "execution_count": 8,
     "metadata": {},
     "output_type": "execute_result"
    }
   ],
   "source": [
    "list1[4][2]"
   ]
  },
  {
   "cell_type": "code",
   "execution_count": 44,
   "id": "b2d31623-235f-4ea2-88a9-2b333c7a9867",
   "metadata": {},
   "outputs": [],
   "source": [
    "l2=[]\n",
    "for i in list1:\n",
    "    if type(i)==int:\n",
    "        l2.append(i)\n",
    "    elif type(i)==list:\n",
    "        for j in i:\n",
    "            if type(j)==int:\n",
    "                l2.append(j)\n",
    "    elif type(i)==tuple:\n",
    "        for k in i:\n",
    "            if type(k)==int:\n",
    "                l2.append(k)\n",
    "    elif type(i)==set:\n",
    "        l4=list(i)\n",
    "        for l in l4:\n",
    "            if type(l)==int:\n",
    "                l2.append(l)\n",
    "    elif type(i)==dict:\n",
    "        for m in i:\n",
    "            if i.items()==int:\n",
    "                l2.append()"
   ]
  },
  {
   "cell_type": "code",
   "execution_count": 45,
   "id": "52cc4df0-b3ba-4581-bb4f-b108423da332",
   "metadata": {},
   "outputs": [
    {
     "data": {
      "text/plain": [
       "[1, 2, 3, 4, 44, 55, 66, 34, 56, 78, 89, 34, 1, 2, 3, 56]"
      ]
     },
     "execution_count": 45,
     "metadata": {},
     "output_type": "execute_result"
    }
   ],
   "source": [
    "l2"
   ]
  },
  {
   "cell_type": "code",
   "execution_count": 47,
   "id": "9ee375ae-da2e-4aad-8713-1aeeb92c3eeb",
   "metadata": {},
   "outputs": [],
   "source": [
    "product=1\n",
    "for i in l2:\n",
    "    product=product*i"
   ]
  },
  {
   "cell_type": "code",
   "execution_count": 48,
   "id": "4f6336d7-b08c-44e0-b313-9e755f30ebcc",
   "metadata": {},
   "outputs": [
    {
     "data": {
      "text/plain": [
       "578815684656168960"
      ]
     },
     "execution_count": 48,
     "metadata": {},
     "output_type": "execute_result"
    }
   ],
   "source": [
    "product"
   ]
  },
  {
   "cell_type": "markdown",
   "id": "d44c1004-1f27-4114-a5c4-3c5e630c20d5",
   "metadata": {},
   "source": [
    "#### Question 2-"
   ]
  },
  {
   "cell_type": "code",
   "execution_count": 22,
   "id": "d2dd8df3-ffa7-4852-ac99-efa534e1e043",
   "metadata": {},
   "outputs": [
    {
     "name": "stdin",
     "output_type": "stream",
     "text": [
      "Enter the message Vansh sachdeva\n"
     ]
    },
    {
     "name": "stdout",
     "output_type": "stream",
     "text": [
      "Before encrypting\n",
      "\n",
      "['v', 'a', 'n', 's', 'h', ' ', 's', 'a', 'c', 'h', 'd', 'e', 'v', 'a']\n",
      "After encrypting\n",
      "['e', 'z', 'm', 'h', 's', '$', 'h', 'z', 'x', 's', 'w', 'v', 'e', 'z']\n"
     ]
    }
   ],
   "source": [
    "s=input(\"Enter the message\")\n",
    "s1=list(s.lower())\n",
    "print(\"Before encrypting\\n\")\n",
    "print(s1)\n",
    "print(\"After encrypting\")\n",
    "ch=[]\n",
    "for i in range(0,len(s1)):\n",
    "    if(s1[i]==' '):\n",
    "        ch.append('$')\n",
    "    else:\n",
    "        ch.append(chr(ord('z') - ord(s1[i]) + ord('a'))) \n",
    "print(ch)\n",
    "      \n",
    "    "
   ]
  },
  {
   "cell_type": "code",
   "execution_count": null,
   "id": "ea8f984f-66e2-439b-89c6-5feca9234ba9",
   "metadata": {},
   "outputs": [],
   "source": []
  }
 ],
 "metadata": {
  "kernelspec": {
   "display_name": "Python 3 (ipykernel)",
   "language": "python",
   "name": "python3"
  },
  "language_info": {
   "codemirror_mode": {
    "name": "ipython",
    "version": 3
   },
   "file_extension": ".py",
   "mimetype": "text/x-python",
   "name": "python",
   "nbconvert_exporter": "python",
   "pygments_lexer": "ipython3",
   "version": "3.10.8"
  }
 },
 "nbformat": 4,
 "nbformat_minor": 5
}
