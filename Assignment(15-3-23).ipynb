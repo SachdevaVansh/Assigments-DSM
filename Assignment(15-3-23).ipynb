{
 "cells": [
  {
   "cell_type": "markdown",
   "id": "d94ebf1f-7156-45a1-a5b3-95e677b995df",
   "metadata": {},
   "source": [
    "#### Question 1-"
   ]
  },
  {
   "cell_type": "markdown",
   "id": "2740ff66-7a99-4f5b-b983-e4033ca01668",
   "metadata": {},
   "source": [
    "1.) Artificial Intelligence-\n",
    "Artificial Intelligence is a method of making a computer, a computer-controlled robot, or a software think intelligently like the human mind. AI is accomplished by studying the patterns of the human brain and by analyzing the cognitive process. The outcome of these studies develops intelligent software and systems.\n",
    "Ex- Banking Fraud Detection, Online Customer Support,  Cyber Security, Virtual Assistants "
   ]
  },
  {
   "cell_type": "markdown",
   "id": "88f434e9-5768-4ed0-907c-53aa336374dc",
   "metadata": {},
   "source": [
    "2.) Machine Learning-\n",
    "Machine learning is a branch of artificial intelligence (AI) and computer science which focuses on the use of data and algorithms to imitate the way that humans learn, gradually improving its accuracy.\n",
    "Ex-Facial recognition,Product recommendations, Email automation and spam filtering, Financial accuracy "
   ]
  },
  {
   "cell_type": "markdown",
   "id": "e0769f28-2bb1-42bc-89d3-44c1fe14d0bf",
   "metadata": {},
   "source": [
    "3.) Deep Learning-\n",
    "Deep learning is a class of machine learning algorithms that uses multiple layers to progressively extract higher-level features from the raw input. For example, in image processing, lower layers may identify edges, while higher layers may identify the concepts relevant to a human such as digits or letters or faces."
   ]
  },
  {
   "cell_type": "markdown",
   "id": "49214ea1-de81-4209-be1b-1287270e23a0",
   "metadata": {},
   "source": [
    "#### Question 2-"
   ]
  },
  {
   "cell_type": "markdown",
   "id": "1b07c12e-d702-444e-ba1b-94eecd8f6e02",
   "metadata": {},
   "source": [
    "Supervised learning, as the name indicates, has the presence of a supervisor as a teacher. Basically supervised learning is when we teach or train the machine using data that is well labelled. Which means some data is already tagged with the correct answer. After that, the machine is provided with a new set of examples(data) so that the supervised learning algorithm analyses the training data(set of training examples) and produces a correct outcome from labelled data.\n",
    "\n",
    "Ex-\n",
    "Predictive analytics (house prices, stock exchange prices, etc.),\n",
    "Text recognition,\n",
    "Spam detection,\n",
    "Customer sentiment analysis,\n",
    "Object detection (e.g. face detection)."
   ]
  },
  {
   "cell_type": "markdown",
   "id": "6b6272d2-1ecf-4f46-9353-a891e913cb47",
   "metadata": {},
   "source": [
    "#### Question 3-"
   ]
  },
  {
   "cell_type": "markdown",
   "id": "966fc313-9e76-481a-9cfa-6c327ffb78f4",
   "metadata": {},
   "source": [
    "Unsupervised learning-\n",
    "\n",
    "* Algorithms are used against data that is not labeled.\n",
    "* Less accurate \n",
    "* No. of classes is not known\n",
    "* Uses real-time analysis of data\n",
    "* Desired output is not given.\n",
    "* No training data is used.\n",
    "* It is possible to learn larger and more complex models with unsupervised learning.\n",
    "* We can not test our model.\n",
    "* Unsupervised learning is also called clustering.\n",
    "* Example: Find a face in an image."
   ]
  },
  {
   "cell_type": "markdown",
   "id": "95f27b36-223a-4cf7-9d8b-a0bb85106878",
   "metadata": {},
   "source": [
    "#### Question 4-"
   ]
  },
  {
   "cell_type": "markdown",
   "id": "e06f1776-1a3f-41b8-9994-1411a93b6256",
   "metadata": {},
   "source": [
    "* Artificial Intelligence (AI) enables machines to think by understanding, learning from the data, and taking decisions based on patterns hidden in the data or make inferences that would otherwise be very difficult for humans to make manually. The end goal of using ML or DL is to create an AI application or machine as smart as humans.\n",
    "\n",
    "* Machine Learning (ML) is a subset of AI; it provides us statistical tools/techniques like Supervised, Unsupervised, and Reinforcement learning to explore and analyze the data.\n",
    "\n",
    "* Deep Learning (DL) is further a subset of ML, and the main idea behind it is to make machines learn by mimicking the human brain. Here, we create a multi neural network architecture with the help of different techniques like ANN, CNN, and RNN.\n",
    "\n",
    "* Data Science (DS) is basically drawing insights from structured and unstructured data either by using ML or DL or without these techniques. We can even use different visualization tools, statistics, and probability to gain these insights."
   ]
  },
  {
   "cell_type": "markdown",
   "id": "127be8f9-7999-4db9-82d3-4dcad3a17345",
   "metadata": {},
   "source": [
    "#### Question 5-"
   ]
  },
  {
   "cell_type": "markdown",
   "id": "1ca7599d-5014-44d6-8c6b-ae6824c73b48",
   "metadata": {},
   "source": [
    "#### Supervised Learning-\n",
    "\n",
    "* Input data is labeled.\n",
    "* Used for prediction and classification models.\n",
    "* It takes direct feedback of the output.\n",
    "* These models predict the output.\n",
    "* It can be used in cases where we know the input and their respective outputs."
   ]
  },
  {
   "cell_type": "markdown",
   "id": "0a949ec8-a905-4c75-a519-90f6cd12d50b",
   "metadata": {},
   "source": [
    "#### Unsupervised learning-\n",
    "\n",
    "* Input data is unlabeled.\n",
    "* Used for extracting information from large amounts of data.\n",
    "* Does not have a feedback mechanism.\n",
    "* These models find underlying patterns in data.\n",
    "* We can use these models where we only know the input data and do not have the knowledge of the corresponding output."
   ]
  },
  {
   "cell_type": "markdown",
   "id": "e2d03fd0-da80-4ff7-af9b-7f7676fd1159",
   "metadata": {},
   "source": [
    "#### Semi-Supervised learning-\n",
    "\n",
    "* A large amount of input data is unlabeled while a small amount is labeled.\n",
    "* It is used when labeling the whole dataset is expensive.\n",
    "* It is a type of weak supervision."
   ]
  },
  {
   "cell_type": "markdown",
   "id": "f34dca59-a91e-4ca7-988a-b07d5d47b1fe",
   "metadata": {},
   "source": [
    "#### Question 6-"
   ]
  },
  {
   "cell_type": "markdown",
   "id": "d625f130-a320-4d82-84d6-ffb1345d82d5",
   "metadata": {},
   "source": [
    "#### The Training Set-\n",
    "\n",
    "* It is the set of data that is used to train and make the model learn the hidden features/patterns in the data.\n",
    "\n",
    "* In each epoch, the same training data is fed to the neural network architecture repeatedly, and the model continues to learn the features of the data.\n",
    "\n",
    "* The training set should have a diversified set of inputs so that the model is trained in all scenarios and can predict any unseen data sample that may appear in the future."
   ]
  },
  {
   "cell_type": "markdown",
   "id": "d89b442a-a805-407b-b406-9640474ac268",
   "metadata": {},
   "source": [
    "#### The Validation Set-\n",
    "\n",
    "* The validation set is a set of data, separate from the training set, that is used to validate our model performance during training.\n",
    "\n",
    "* This validation process gives information that helps us tune the model’s hyperparameters and configurations accordingly. It is like a critic telling us whether the training is moving in the right direction or not.\n",
    "\n",
    "* The model is trained on the training set, and, simultaneously, the model evaluation is performed on the validation set after every epoch.\n",
    "\n",
    "* The main idea of splitting the dataset into a validation set is to prevent our model from overfitting i.e., the model becomes really good at classifying the samples in the training set but cannot generalize and make accurate classifications on the data it has not seen before."
   ]
  },
  {
   "cell_type": "markdown",
   "id": "3f1abed0-3de8-4e6a-ae5e-1be1223f3971",
   "metadata": {},
   "source": [
    "#### The Test Set-\n",
    "\n",
    "* The test set is a separate set of data used to test the model after completing the training.\n",
    "\n",
    "* It provides an unbiased final model performance metric in terms of accuracy, precision, etc. To put it simply, it answers the question of \"How well does the model perform?\""
   ]
  },
  {
   "cell_type": "markdown",
   "id": "943638b5-9f7e-4b78-94fa-ece21e0d1740",
   "metadata": {},
   "source": [
    "#### Question 7-"
   ]
  },
  {
   "cell_type": "markdown",
   "id": "8cd2419c-bf17-4dd5-8aeb-f4aac49d7c25",
   "metadata": {},
   "source": [
    "* Anomaly is a synonym for the word ‘outlier’. Anomaly detection (or outlier detection) is the identification of rare items, events or observations which raise suspicions by differing significantly from the majority of the data. Anomalous activities can be linked to some kind of problems or rare events such as bank fraud, medical problems, structural defects, malfunctioning equipment etc.\n",
    "\n",
    "* The objective of Unsupervised Anomaly Detection is to detect previously unseen rare objects or events without any prior knowledge about these. The only information available is that the percentage of anomalies in the dataset is small, usually less than 1%. Since anomalies are rare and unknown to the user at training time, anomaly detection in most cases boils down to the problem of modelling the normal data distribution and defining a measurement in this space in order to classify samples as anomalous or normal. In high-dimensional data such as images, distances in the original space quickly lose descriptive power (curse of dimensionality) and a mapping to some more suitable space is required."
   ]
  },
  {
   "cell_type": "markdown",
   "id": "3191a975-3c98-43a6-a556-62d5300d13e3",
   "metadata": {},
   "source": [
    "#### Question 8-"
   ]
  },
  {
   "cell_type": "markdown",
   "id": "d9d03a5d-2eb9-4cae-b321-d24c62aff953",
   "metadata": {},
   "source": [
    "#### Supervised Learning Algorithms-\n",
    "\n",
    "a.) Classification-\n",
    "* Random Forest Algorithm\n",
    "* Decision Tree Algorithm\n",
    "* Logistic Regression Algorithm\n",
    "* Support Vector Machine Algorithm\n",
    "\n",
    "b.) Regression-\n",
    "* Simple Linear Regression Algorithm\n",
    "* Multivariate Regression Algorithm\n",
    "* Decision Tree Algorithm\n",
    "* Lasso Regression"
   ]
  },
  {
   "cell_type": "markdown",
   "id": "4f72fcab-facc-4a53-99b1-d9cbadeddd76",
   "metadata": {},
   "source": [
    "#### Unsupervised Learning Algorithms-\n",
    "\n",
    "a.)Clustering-\n",
    "* K-Means Clustering algorithm\n",
    "* Mean-shift algorithm\n",
    "* Principal Component Analysis\n",
    "* Independent Component Analysis\n",
    "\n",
    "b.) Association-\n",
    "* Apriori Algorithm\n",
    "* Eclat\n",
    "* FP-growth algorithm."
   ]
  },
  {
   "cell_type": "code",
   "execution_count": null,
   "id": "d3ad1f06-fd4f-498c-97d8-3022a27bc402",
   "metadata": {},
   "outputs": [],
   "source": []
  }
 ],
 "metadata": {
  "kernelspec": {
   "display_name": "Python 3 (ipykernel)",
   "language": "python",
   "name": "python3"
  },
  "language_info": {
   "codemirror_mode": {
    "name": "ipython",
    "version": 3
   },
   "file_extension": ".py",
   "mimetype": "text/x-python",
   "name": "python",
   "nbconvert_exporter": "python",
   "pygments_lexer": "ipython3",
   "version": "3.10.8"
  }
 },
 "nbformat": 4,
 "nbformat_minor": 5
}
