{
 "cells": [
  {
   "cell_type": "markdown",
   "id": "e55a0e9c-4948-4e38-85f6-dc66f4ef5295",
   "metadata": {},
   "source": [
    "#### Question 1-"
   ]
  },
  {
   "cell_type": "markdown",
   "id": "75ace76f-7015-41ed-9c92-8d9ba37d9269",
   "metadata": {},
   "source": [
    "Ordinal Encoding-> \n",
    "1. used to encode the input feature.\n",
    "2. returns a single column of integers(0 to n-1 categories) per feature.\n",
    "3. can fit multiple column at the same time\n",
    "4. preserves the order of categorical data by assigning rank"
   ]
  },
  {
   "cell_type": "markdown",
   "id": "9b936173-c380-418b-b4f7-013d4f2809cf",
   "metadata": {},
   "source": [
    "label Encoding->\n",
    "1. used to encode the output/target feature.\n",
    "2. returns a single column of integers(0 to n_labels -1) per feature.\n",
    "3. can only fit a vector of samples\n",
    "4. does not preserves the order of the categorical data"
   ]
  },
  {
   "cell_type": "markdown",
   "id": "4476afd0-92f1-48d2-8097-d24e456c3cd7",
   "metadata": {},
   "source": [
    "Example:\n",
    "1. If we have to assign numerical values to names of students in a class(ascending order), we use Label Encoding.\n",
    "2. If we want to assign numerical values to say low as 0, medium as 1 and high as 2 , where we can manually assign these values to the categorical features , we use the ordinal encoding."
   ]
  },
  {
   "cell_type": "markdown",
   "id": "19475e46-93e4-49ea-a7b7-9866d7c08ee0",
   "metadata": {},
   "source": [
    "#### Question 2-"
   ]
  },
  {
   "cell_type": "markdown",
   "id": "11db7888-aa0c-4cdb-afbb-2d1c91b62c5c",
   "metadata": {},
   "source": [
    "Target guided encoding-\n",
    "In this technique we will take help of our target variable to encode the categorical data .\n",
    "Example:"
   ]
  },
  {
   "cell_type": "code",
   "execution_count": 1,
   "id": "b08acb8c-378b-48b7-af20-55bd36dfbada",
   "metadata": {},
   "outputs": [],
   "source": [
    "import pandas as pd\n",
    "\n",
    "#create a sample dataframe with a categorical variable and a target variable\n",
    "df=pd.DataFrame({\n",
    "    'city': ['New York', 'London', 'Paris', 'Tokyo', 'New York', 'Paris'],\n",
    "    'price': [200, 150, 300, 250, 180, 320]\n",
    "})"
   ]
  },
  {
   "cell_type": "code",
   "execution_count": 2,
   "id": "74ce2b15-52db-4b7a-991f-5f5fab0c9796",
   "metadata": {},
   "outputs": [
    {
     "data": {
      "text/html": [
       "<div>\n",
       "<style scoped>\n",
       "    .dataframe tbody tr th:only-of-type {\n",
       "        vertical-align: middle;\n",
       "    }\n",
       "\n",
       "    .dataframe tbody tr th {\n",
       "        vertical-align: top;\n",
       "    }\n",
       "\n",
       "    .dataframe thead th {\n",
       "        text-align: right;\n",
       "    }\n",
       "</style>\n",
       "<table border=\"1\" class=\"dataframe\">\n",
       "  <thead>\n",
       "    <tr style=\"text-align: right;\">\n",
       "      <th></th>\n",
       "      <th>city</th>\n",
       "      <th>price</th>\n",
       "    </tr>\n",
       "  </thead>\n",
       "  <tbody>\n",
       "    <tr>\n",
       "      <th>0</th>\n",
       "      <td>New York</td>\n",
       "      <td>200</td>\n",
       "    </tr>\n",
       "    <tr>\n",
       "      <th>1</th>\n",
       "      <td>London</td>\n",
       "      <td>150</td>\n",
       "    </tr>\n",
       "    <tr>\n",
       "      <th>2</th>\n",
       "      <td>Paris</td>\n",
       "      <td>300</td>\n",
       "    </tr>\n",
       "    <tr>\n",
       "      <th>3</th>\n",
       "      <td>Tokyo</td>\n",
       "      <td>250</td>\n",
       "    </tr>\n",
       "    <tr>\n",
       "      <th>4</th>\n",
       "      <td>New York</td>\n",
       "      <td>180</td>\n",
       "    </tr>\n",
       "    <tr>\n",
       "      <th>5</th>\n",
       "      <td>Paris</td>\n",
       "      <td>320</td>\n",
       "    </tr>\n",
       "  </tbody>\n",
       "</table>\n",
       "</div>"
      ],
      "text/plain": [
       "       city  price\n",
       "0  New York    200\n",
       "1    London    150\n",
       "2     Paris    300\n",
       "3     Tokyo    250\n",
       "4  New York    180\n",
       "5     Paris    320"
      ]
     },
     "execution_count": 2,
     "metadata": {},
     "output_type": "execute_result"
    }
   ],
   "source": [
    "df"
   ]
  },
  {
   "cell_type": "code",
   "execution_count": 7,
   "id": "458ecef7-f281-4be7-8562-1a2a2ac7f749",
   "metadata": {},
   "outputs": [],
   "source": [
    "#calculating the mean of each city\n",
    "mean_price=df.groupby('city')['price'].mean()"
   ]
  },
  {
   "cell_type": "code",
   "execution_count": 8,
   "id": "bd131ff0-34df-4d03-9dc5-39ab86f1ba9d",
   "metadata": {},
   "outputs": [
    {
     "data": {
      "text/plain": [
       "city\n",
       "London      150.0\n",
       "New York    190.0\n",
       "Paris       310.0\n",
       "Tokyo       250.0\n",
       "Name: price, dtype: float64"
      ]
     },
     "execution_count": 8,
     "metadata": {},
     "output_type": "execute_result"
    }
   ],
   "source": [
    "mean_price"
   ]
  },
  {
   "cell_type": "code",
   "execution_count": 9,
   "id": "f70f3c0a-f3ea-4e4f-87b7-484187e2fda9",
   "metadata": {},
   "outputs": [],
   "source": [
    "## We can replace each city with it's mean price\n",
    "df['city_encode']=df['city'].map(mean_price)"
   ]
  },
  {
   "cell_type": "code",
   "execution_count": 10,
   "id": "5127f45e-ac39-4faf-8a70-91dc9a7531e8",
   "metadata": {},
   "outputs": [
    {
     "data": {
      "text/html": [
       "<div>\n",
       "<style scoped>\n",
       "    .dataframe tbody tr th:only-of-type {\n",
       "        vertical-align: middle;\n",
       "    }\n",
       "\n",
       "    .dataframe tbody tr th {\n",
       "        vertical-align: top;\n",
       "    }\n",
       "\n",
       "    .dataframe thead th {\n",
       "        text-align: right;\n",
       "    }\n",
       "</style>\n",
       "<table border=\"1\" class=\"dataframe\">\n",
       "  <thead>\n",
       "    <tr style=\"text-align: right;\">\n",
       "      <th></th>\n",
       "      <th>city</th>\n",
       "      <th>price</th>\n",
       "      <th>city_encode</th>\n",
       "    </tr>\n",
       "  </thead>\n",
       "  <tbody>\n",
       "    <tr>\n",
       "      <th>0</th>\n",
       "      <td>New York</td>\n",
       "      <td>200</td>\n",
       "      <td>190.0</td>\n",
       "    </tr>\n",
       "    <tr>\n",
       "      <th>1</th>\n",
       "      <td>London</td>\n",
       "      <td>150</td>\n",
       "      <td>150.0</td>\n",
       "    </tr>\n",
       "    <tr>\n",
       "      <th>2</th>\n",
       "      <td>Paris</td>\n",
       "      <td>300</td>\n",
       "      <td>310.0</td>\n",
       "    </tr>\n",
       "    <tr>\n",
       "      <th>3</th>\n",
       "      <td>Tokyo</td>\n",
       "      <td>250</td>\n",
       "      <td>250.0</td>\n",
       "    </tr>\n",
       "    <tr>\n",
       "      <th>4</th>\n",
       "      <td>New York</td>\n",
       "      <td>180</td>\n",
       "      <td>190.0</td>\n",
       "    </tr>\n",
       "    <tr>\n",
       "      <th>5</th>\n",
       "      <td>Paris</td>\n",
       "      <td>320</td>\n",
       "      <td>310.0</td>\n",
       "    </tr>\n",
       "  </tbody>\n",
       "</table>\n",
       "</div>"
      ],
      "text/plain": [
       "       city  price  city_encode\n",
       "0  New York    200        190.0\n",
       "1    London    150        150.0\n",
       "2     Paris    300        310.0\n",
       "3     Tokyo    250        250.0\n",
       "4  New York    180        190.0\n",
       "5     Paris    320        310.0"
      ]
     },
     "execution_count": 10,
     "metadata": {},
     "output_type": "execute_result"
    }
   ],
   "source": [
    "df"
   ]
  },
  {
   "cell_type": "markdown",
   "id": "7eb88b49-851c-4df8-a8d8-205061f249f3",
   "metadata": {},
   "source": [
    "#### Question 3-"
   ]
  },
  {
   "cell_type": "markdown",
   "id": "de2c36c1-9e3b-4827-9224-986e71f7ad81",
   "metadata": {},
   "source": [
    "Covariance is a measure of the relationship between two random variables and to what extent, they change together. Or we can say, in other words, it defines the changes between the two variables, such that change in one variable is equal to change in another variable."
   ]
  },
  {
   "cell_type": "markdown",
   "id": "c3416587-e407-47e5-b92d-a206465d84d2",
   "metadata": {},
   "source": [
    "The covariance formula is similar to the formula for correlation and deals with the calculation of data points from the average value in a dataset. For example, the covariance between two random variables X and Y can be calculated using the following formula (for population):\n",
    "\n",
    "Cov(X,Y)= sigma[(Xi-Xmean)(Yi-Ymean)]/n\n",
    "\n",
    "n=number of sample points"
   ]
  },
  {
   "cell_type": "markdown",
   "id": "00a7aae5-d197-435b-bda8-0ef6d2aedd44",
   "metadata": {},
   "source": [
    "#### Question 4-"
   ]
  },
  {
   "cell_type": "code",
   "execution_count": 13,
   "id": "23cb095c-bdfe-4d64-bac2-6fe23a023335",
   "metadata": {},
   "outputs": [],
   "source": [
    "import pandas as pd"
   ]
  },
  {
   "cell_type": "code",
   "execution_count": 14,
   "id": "0d5fa2db-df69-42e6-adce-72f825855616",
   "metadata": {},
   "outputs": [],
   "source": [
    "from sklearn.preprocessing import LabelEncoder"
   ]
  },
  {
   "cell_type": "code",
   "execution_count": 15,
   "id": "c7e803a6-cceb-4253-a6c6-8b3ad4b88893",
   "metadata": {},
   "outputs": [],
   "source": [
    "df=pd.DataFrame({\n",
    "    'color':['red','green','blue'],\n",
    "    'size':['small','medium','large'],\n",
    "    'material':['wood','metal','plastic']\n",
    "})"
   ]
  },
  {
   "cell_type": "code",
   "execution_count": 16,
   "id": "6cfe054d-d5e9-4c0c-97bc-725530a70569",
   "metadata": {},
   "outputs": [
    {
     "data": {
      "text/html": [
       "<div>\n",
       "<style scoped>\n",
       "    .dataframe tbody tr th:only-of-type {\n",
       "        vertical-align: middle;\n",
       "    }\n",
       "\n",
       "    .dataframe tbody tr th {\n",
       "        vertical-align: top;\n",
       "    }\n",
       "\n",
       "    .dataframe thead th {\n",
       "        text-align: right;\n",
       "    }\n",
       "</style>\n",
       "<table border=\"1\" class=\"dataframe\">\n",
       "  <thead>\n",
       "    <tr style=\"text-align: right;\">\n",
       "      <th></th>\n",
       "      <th>color</th>\n",
       "      <th>size</th>\n",
       "      <th>material</th>\n",
       "    </tr>\n",
       "  </thead>\n",
       "  <tbody>\n",
       "    <tr>\n",
       "      <th>0</th>\n",
       "      <td>red</td>\n",
       "      <td>small</td>\n",
       "      <td>wood</td>\n",
       "    </tr>\n",
       "    <tr>\n",
       "      <th>1</th>\n",
       "      <td>green</td>\n",
       "      <td>medium</td>\n",
       "      <td>metal</td>\n",
       "    </tr>\n",
       "    <tr>\n",
       "      <th>2</th>\n",
       "      <td>blue</td>\n",
       "      <td>large</td>\n",
       "      <td>plastic</td>\n",
       "    </tr>\n",
       "  </tbody>\n",
       "</table>\n",
       "</div>"
      ],
      "text/plain": [
       "   color    size material\n",
       "0    red   small     wood\n",
       "1  green  medium    metal\n",
       "2   blue   large  plastic"
      ]
     },
     "execution_count": 16,
     "metadata": {},
     "output_type": "execute_result"
    }
   ],
   "source": [
    "df"
   ]
  },
  {
   "cell_type": "code",
   "execution_count": 17,
   "id": "119d022d-9234-494e-b394-94b9ddd28c66",
   "metadata": {},
   "outputs": [],
   "source": [
    "encoder=LabelEncoder()"
   ]
  },
  {
   "cell_type": "code",
   "execution_count": 22,
   "id": "d73afc5d-4483-4fb9-b26f-4898ae74ad92",
   "metadata": {},
   "outputs": [
    {
     "name": "stdout",
     "output_type": "stream",
     "text": [
      "[2 1 0]\n",
      "[2 1 0]\n",
      "[2 0 1]\n"
     ]
    }
   ],
   "source": [
    "for i in df.columns:\n",
    "    print(encoder.fit_transform(df[i]))\n",
    "    "
   ]
  },
  {
   "cell_type": "markdown",
   "id": "414b49d1-82a4-41b7-a61b-04c08d6419c9",
   "metadata": {},
   "source": [
    "So based on the aplhabetical order, the Label Encoder has assigned numerical values to each category of the Categorical features."
   ]
  },
  {
   "cell_type": "markdown",
   "id": "2157e2f0-6375-4d89-a379-2f2451e7d5b2",
   "metadata": {},
   "source": [
    "#### Question 5-"
   ]
  },
  {
   "cell_type": "code",
   "execution_count": 23,
   "id": "5aedca96-abf3-4d2a-9562-7b9e8d8cef7e",
   "metadata": {},
   "outputs": [],
   "source": [
    "df=pd.DataFrame({\n",
    "    'age':[42,30,69],\n",
    "    'income':[1000,2000,3000],\n",
    "    'education_level':[2,3,1]\n",
    "})"
   ]
  },
  {
   "cell_type": "code",
   "execution_count": 24,
   "id": "858013a5-c017-4cb1-99f1-c8ed5a88254c",
   "metadata": {},
   "outputs": [
    {
     "data": {
      "text/html": [
       "<div>\n",
       "<style scoped>\n",
       "    .dataframe tbody tr th:only-of-type {\n",
       "        vertical-align: middle;\n",
       "    }\n",
       "\n",
       "    .dataframe tbody tr th {\n",
       "        vertical-align: top;\n",
       "    }\n",
       "\n",
       "    .dataframe thead th {\n",
       "        text-align: right;\n",
       "    }\n",
       "</style>\n",
       "<table border=\"1\" class=\"dataframe\">\n",
       "  <thead>\n",
       "    <tr style=\"text-align: right;\">\n",
       "      <th></th>\n",
       "      <th>age</th>\n",
       "      <th>income</th>\n",
       "      <th>education_level</th>\n",
       "    </tr>\n",
       "  </thead>\n",
       "  <tbody>\n",
       "    <tr>\n",
       "      <th>0</th>\n",
       "      <td>42</td>\n",
       "      <td>1000</td>\n",
       "      <td>2</td>\n",
       "    </tr>\n",
       "    <tr>\n",
       "      <th>1</th>\n",
       "      <td>30</td>\n",
       "      <td>2000</td>\n",
       "      <td>3</td>\n",
       "    </tr>\n",
       "    <tr>\n",
       "      <th>2</th>\n",
       "      <td>69</td>\n",
       "      <td>3000</td>\n",
       "      <td>1</td>\n",
       "    </tr>\n",
       "  </tbody>\n",
       "</table>\n",
       "</div>"
      ],
      "text/plain": [
       "   age  income  education_level\n",
       "0   42    1000                2\n",
       "1   30    2000                3\n",
       "2   69    3000                1"
      ]
     },
     "execution_count": 24,
     "metadata": {},
     "output_type": "execute_result"
    }
   ],
   "source": [
    "df"
   ]
  },
  {
   "cell_type": "code",
   "execution_count": 28,
   "id": "41db45db-f042-4b98-a27c-f50105093dbf",
   "metadata": {},
   "outputs": [
    {
     "data": {
      "text/plain": [
       "array([[ 319228.        ,  646891.        ,  967270.        ],\n",
       "       [ 646891.        , 1311606.33333333, 1960818.16666667],\n",
       "       [ 967270.        , 1960818.16666667, 2931564.33333333]])"
      ]
     },
     "execution_count": 28,
     "metadata": {},
     "output_type": "execute_result"
    }
   ],
   "source": [
    "import numpy as np\n",
    "np.cov(df)"
   ]
  },
  {
   "cell_type": "markdown",
   "id": "f13aadc5-c3cd-4ab1-a6e1-6b99b8981326",
   "metadata": {},
   "source": [
    "#### Question 6-"
   ]
  },
  {
   "cell_type": "markdown",
   "id": "de9b19f7-8e0b-4f11-b046-42ae4eecbf70",
   "metadata": {},
   "source": [
    "For Gender-> I would use OneHot Encoding because as the categories are binary i.e male or female only two columns would be created , one for each category.\n",
    "\n",
    "For Education Level--> We can use Ordinal encoding based on the rank of the education level of a person.\n",
    "We can assign 1 to PhD, 2 to masters, 3 to bachelors, and 4 to High Schhol level.\n",
    "\n",
    "For Employment status--> We can use Label Encoding, as the order of the category is not required here.  \n"
   ]
  },
  {
   "cell_type": "markdown",
   "id": "0235651d-96c2-498b-8eb0-b83c74d2acd0",
   "metadata": {},
   "source": [
    "#### Question 7-"
   ]
  },
  {
   "cell_type": "code",
   "execution_count": 33,
   "id": "01929558-280a-4422-a646-42ff152300d7",
   "metadata": {},
   "outputs": [],
   "source": [
    "df=pd.DataFrame({\n",
    "    'Temperature':[40,50,45,36,33],\n",
    "    'Humidity':[0.74,0.58,0.99,0.68,0.66],\n",
    "    'weather':['sunny','cloudy','rainy','sunny','rainy'],\n",
    "    'wind_direction':['north','south','east','west','south']\n",
    "})"
   ]
  },
  {
   "cell_type": "code",
   "execution_count": 36,
   "id": "c2263000-276b-47c8-bb4e-9393f2d454b3",
   "metadata": {},
   "outputs": [
    {
     "data": {
      "text/html": [
       "<div>\n",
       "<style scoped>\n",
       "    .dataframe tbody tr th:only-of-type {\n",
       "        vertical-align: middle;\n",
       "    }\n",
       "\n",
       "    .dataframe tbody tr th {\n",
       "        vertical-align: top;\n",
       "    }\n",
       "\n",
       "    .dataframe thead th {\n",
       "        text-align: right;\n",
       "    }\n",
       "</style>\n",
       "<table border=\"1\" class=\"dataframe\">\n",
       "  <thead>\n",
       "    <tr style=\"text-align: right;\">\n",
       "      <th></th>\n",
       "      <th>Temperature</th>\n",
       "      <th>Humidity</th>\n",
       "      <th>weather</th>\n",
       "      <th>wind_direction</th>\n",
       "    </tr>\n",
       "  </thead>\n",
       "  <tbody>\n",
       "    <tr>\n",
       "      <th>0</th>\n",
       "      <td>40</td>\n",
       "      <td>0.74</td>\n",
       "      <td>sunny</td>\n",
       "      <td>north</td>\n",
       "    </tr>\n",
       "    <tr>\n",
       "      <th>1</th>\n",
       "      <td>50</td>\n",
       "      <td>0.58</td>\n",
       "      <td>cloudy</td>\n",
       "      <td>south</td>\n",
       "    </tr>\n",
       "    <tr>\n",
       "      <th>2</th>\n",
       "      <td>45</td>\n",
       "      <td>0.99</td>\n",
       "      <td>rainy</td>\n",
       "      <td>east</td>\n",
       "    </tr>\n",
       "    <tr>\n",
       "      <th>3</th>\n",
       "      <td>36</td>\n",
       "      <td>0.68</td>\n",
       "      <td>sunny</td>\n",
       "      <td>west</td>\n",
       "    </tr>\n",
       "    <tr>\n",
       "      <th>4</th>\n",
       "      <td>33</td>\n",
       "      <td>0.66</td>\n",
       "      <td>rainy</td>\n",
       "      <td>south</td>\n",
       "    </tr>\n",
       "  </tbody>\n",
       "</table>\n",
       "</div>"
      ],
      "text/plain": [
       "   Temperature  Humidity weather wind_direction\n",
       "0           40      0.74   sunny          north\n",
       "1           50      0.58  cloudy          south\n",
       "2           45      0.99   rainy           east\n",
       "3           36      0.68   sunny           west\n",
       "4           33      0.66   rainy          south"
      ]
     },
     "execution_count": 36,
     "metadata": {},
     "output_type": "execute_result"
    }
   ],
   "source": [
    "df"
   ]
  },
  {
   "cell_type": "code",
   "execution_count": 37,
   "id": "42de6101-83dc-47b6-8d29-e79151abc198",
   "metadata": {},
   "outputs": [],
   "source": [
    "encoder=LabelEncoder()"
   ]
  },
  {
   "cell_type": "code",
   "execution_count": 38,
   "id": "1254062a-e62a-4a93-960d-70f73785cf00",
   "metadata": {},
   "outputs": [
    {
     "data": {
      "text/plain": [
       "array([2, 0, 1, 2, 1])"
      ]
     },
     "execution_count": 38,
     "metadata": {},
     "output_type": "execute_result"
    }
   ],
   "source": [
    "encoder.fit_transform(df['weather'])"
   ]
  },
  {
   "cell_type": "code",
   "execution_count": 39,
   "id": "191fedc6-b39f-4f91-ac6a-c440f12fe6ef",
   "metadata": {},
   "outputs": [],
   "source": [
    "df['weather']=df['weather'].replace(['sunny','cloudy','rainy'],[2,0,1])"
   ]
  },
  {
   "cell_type": "code",
   "execution_count": 40,
   "id": "66bcbbaa-f1c2-47cc-b767-c4fb12706774",
   "metadata": {},
   "outputs": [
    {
     "data": {
      "text/html": [
       "<div>\n",
       "<style scoped>\n",
       "    .dataframe tbody tr th:only-of-type {\n",
       "        vertical-align: middle;\n",
       "    }\n",
       "\n",
       "    .dataframe tbody tr th {\n",
       "        vertical-align: top;\n",
       "    }\n",
       "\n",
       "    .dataframe thead th {\n",
       "        text-align: right;\n",
       "    }\n",
       "</style>\n",
       "<table border=\"1\" class=\"dataframe\">\n",
       "  <thead>\n",
       "    <tr style=\"text-align: right;\">\n",
       "      <th></th>\n",
       "      <th>Temperature</th>\n",
       "      <th>Humidity</th>\n",
       "      <th>weather</th>\n",
       "      <th>wind_direction</th>\n",
       "    </tr>\n",
       "  </thead>\n",
       "  <tbody>\n",
       "    <tr>\n",
       "      <th>0</th>\n",
       "      <td>40</td>\n",
       "      <td>0.74</td>\n",
       "      <td>2</td>\n",
       "      <td>north</td>\n",
       "    </tr>\n",
       "    <tr>\n",
       "      <th>1</th>\n",
       "      <td>50</td>\n",
       "      <td>0.58</td>\n",
       "      <td>0</td>\n",
       "      <td>south</td>\n",
       "    </tr>\n",
       "    <tr>\n",
       "      <th>2</th>\n",
       "      <td>45</td>\n",
       "      <td>0.99</td>\n",
       "      <td>1</td>\n",
       "      <td>east</td>\n",
       "    </tr>\n",
       "    <tr>\n",
       "      <th>3</th>\n",
       "      <td>36</td>\n",
       "      <td>0.68</td>\n",
       "      <td>2</td>\n",
       "      <td>west</td>\n",
       "    </tr>\n",
       "    <tr>\n",
       "      <th>4</th>\n",
       "      <td>33</td>\n",
       "      <td>0.66</td>\n",
       "      <td>1</td>\n",
       "      <td>south</td>\n",
       "    </tr>\n",
       "  </tbody>\n",
       "</table>\n",
       "</div>"
      ],
      "text/plain": [
       "   Temperature  Humidity  weather wind_direction\n",
       "0           40      0.74        2          north\n",
       "1           50      0.58        0          south\n",
       "2           45      0.99        1           east\n",
       "3           36      0.68        2           west\n",
       "4           33      0.66        1          south"
      ]
     },
     "execution_count": 40,
     "metadata": {},
     "output_type": "execute_result"
    }
   ],
   "source": [
    "df"
   ]
  },
  {
   "cell_type": "code",
   "execution_count": 41,
   "id": "aa8807b5-5f92-4b88-a482-c780c27aeb9c",
   "metadata": {},
   "outputs": [
    {
     "data": {
      "text/plain": [
       "array([1, 2, 0, 3, 2])"
      ]
     },
     "execution_count": 41,
     "metadata": {},
     "output_type": "execute_result"
    }
   ],
   "source": [
    "encoder.fit_transform(df['wind_direction'])"
   ]
  },
  {
   "cell_type": "code",
   "execution_count": 42,
   "id": "589c3e3e-0063-4a28-b8bb-e0d9538b4ed8",
   "metadata": {},
   "outputs": [],
   "source": [
    "df['wind_direction']=df['wind_direction'].replace(['north','south','east','west'],[1,2,0,3])"
   ]
  },
  {
   "cell_type": "code",
   "execution_count": 43,
   "id": "d0539d45-f019-4019-896d-a6d36fcb8fc8",
   "metadata": {},
   "outputs": [
    {
     "data": {
      "text/html": [
       "<div>\n",
       "<style scoped>\n",
       "    .dataframe tbody tr th:only-of-type {\n",
       "        vertical-align: middle;\n",
       "    }\n",
       "\n",
       "    .dataframe tbody tr th {\n",
       "        vertical-align: top;\n",
       "    }\n",
       "\n",
       "    .dataframe thead th {\n",
       "        text-align: right;\n",
       "    }\n",
       "</style>\n",
       "<table border=\"1\" class=\"dataframe\">\n",
       "  <thead>\n",
       "    <tr style=\"text-align: right;\">\n",
       "      <th></th>\n",
       "      <th>Temperature</th>\n",
       "      <th>Humidity</th>\n",
       "      <th>weather</th>\n",
       "      <th>wind_direction</th>\n",
       "    </tr>\n",
       "  </thead>\n",
       "  <tbody>\n",
       "    <tr>\n",
       "      <th>0</th>\n",
       "      <td>40</td>\n",
       "      <td>0.74</td>\n",
       "      <td>2</td>\n",
       "      <td>1</td>\n",
       "    </tr>\n",
       "    <tr>\n",
       "      <th>1</th>\n",
       "      <td>50</td>\n",
       "      <td>0.58</td>\n",
       "      <td>0</td>\n",
       "      <td>2</td>\n",
       "    </tr>\n",
       "    <tr>\n",
       "      <th>2</th>\n",
       "      <td>45</td>\n",
       "      <td>0.99</td>\n",
       "      <td>1</td>\n",
       "      <td>0</td>\n",
       "    </tr>\n",
       "    <tr>\n",
       "      <th>3</th>\n",
       "      <td>36</td>\n",
       "      <td>0.68</td>\n",
       "      <td>2</td>\n",
       "      <td>3</td>\n",
       "    </tr>\n",
       "    <tr>\n",
       "      <th>4</th>\n",
       "      <td>33</td>\n",
       "      <td>0.66</td>\n",
       "      <td>1</td>\n",
       "      <td>2</td>\n",
       "    </tr>\n",
       "  </tbody>\n",
       "</table>\n",
       "</div>"
      ],
      "text/plain": [
       "   Temperature  Humidity  weather  wind_direction\n",
       "0           40      0.74        2               1\n",
       "1           50      0.58        0               2\n",
       "2           45      0.99        1               0\n",
       "3           36      0.68        2               3\n",
       "4           33      0.66        1               2"
      ]
     },
     "execution_count": 43,
     "metadata": {},
     "output_type": "execute_result"
    }
   ],
   "source": [
    "df"
   ]
  },
  {
   "cell_type": "code",
   "execution_count": 44,
   "id": "2a26fb69-eb97-49b4-b861-4672c9955bf8",
   "metadata": {},
   "outputs": [
    {
     "data": {
      "text/plain": [
       "array([[375.75023333, 475.8223    , 429.63231667, 330.57746667,\n",
       "        307.87043333],\n",
       "       [475.8223    , 604.39076667, 544.29688333, 419.5036    ,\n",
       "        390.82903333],\n",
       "       [429.63231667, 544.29688333, 491.655025  , 377.67913333,\n",
       "        351.99668333],\n",
       "       [330.57746667, 419.5036    , 377.67913333, 291.71893333,\n",
       "        271.48386667],\n",
       "       [307.87043333, 390.82903333, 351.99668333, 271.48386667,\n",
       "        252.81556667]])"
      ]
     },
     "execution_count": 44,
     "metadata": {},
     "output_type": "execute_result"
    }
   ],
   "source": [
    "np.cov(df)"
   ]
  },
  {
   "cell_type": "code",
   "execution_count": null,
   "id": "10b9763f-1466-4814-b899-64955e1026b6",
   "metadata": {},
   "outputs": [],
   "source": []
  }
 ],
 "metadata": {
  "kernelspec": {
   "display_name": "Python 3 (ipykernel)",
   "language": "python",
   "name": "python3"
  },
  "language_info": {
   "codemirror_mode": {
    "name": "ipython",
    "version": 3
   },
   "file_extension": ".py",
   "mimetype": "text/x-python",
   "name": "python",
   "nbconvert_exporter": "python",
   "pygments_lexer": "ipython3",
   "version": "3.10.8"
  }
 },
 "nbformat": 4,
 "nbformat_minor": 5
}
