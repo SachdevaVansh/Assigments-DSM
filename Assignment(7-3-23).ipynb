{
 "cells": [
  {
   "cell_type": "markdown",
   "id": "3a960c2f-1cb4-44a8-bab8-81dd10d2f0c8",
   "metadata": {},
   "source": [
    "#### Question 1-"
   ]
  },
  {
   "cell_type": "markdown",
   "id": "df3b89f7-03fe-4de0-a4bf-39c61e0193ce",
   "metadata": {},
   "source": [
    "The three measures of central tendency are-\n",
    "1. mean \n",
    "2. median\n",
    "3. mode"
   ]
  },
  {
   "cell_type": "markdown",
   "id": "316044d1-f4b3-41e7-8c80-a555a5b9d264",
   "metadata": {},
   "source": [
    "#### Question 2-"
   ]
  },
  {
   "cell_type": "markdown",
   "id": "92fd02be-49dc-4501-a2e4-8385fe9214dc",
   "metadata": {},
   "source": [
    "Mean- It is the average of the data points in a given dataset.\n",
    "If a dataset has to be replaced by a single value, then mean is used to do so. It is sensitive to outliers.\n",
    "\n",
    "Median- It is the middle value of the dataset.\n",
    "If any outlier is present in a given dataset, then median value can be used to know about what value or data point the data is spread, instead of mean.\n",
    "\n",
    "Mode- It tells the frequency of the dataset.\n",
    "Mode basically tells which data point is present most number of times.so, it gives an idea of which data point affects the distribution of the dataset the most."
   ]
  },
  {
   "cell_type": "markdown",
   "id": "2e150843-03f7-448d-8d99-74b392d16f9c",
   "metadata": {},
   "source": [
    "#### Question 3-"
   ]
  },
  {
   "cell_type": "code",
   "execution_count": 2,
   "id": "b583ffeb-37d9-423d-8b83-fd2af93ac03a",
   "metadata": {},
   "outputs": [],
   "source": [
    "h=[178,177,176,177,178.2,178,175,179,180,175,178.9,176.2,177,172.5,178,176.5]"
   ]
  },
  {
   "cell_type": "code",
   "execution_count": 3,
   "id": "c74ba085-ffba-4fe3-a5e4-f9b9236452f8",
   "metadata": {},
   "outputs": [],
   "source": [
    "import numpy as np"
   ]
  },
  {
   "cell_type": "code",
   "execution_count": 4,
   "id": "8e8c981b-6e41-4194-842e-c94c6bfb19a2",
   "metadata": {},
   "outputs": [
    {
     "data": {
      "text/plain": [
       "177.01875"
      ]
     },
     "execution_count": 4,
     "metadata": {},
     "output_type": "execute_result"
    }
   ],
   "source": [
    "np.mean(h)"
   ]
  },
  {
   "cell_type": "code",
   "execution_count": 5,
   "id": "575d2d5a-99bb-43be-aef2-699e1aba3d39",
   "metadata": {},
   "outputs": [
    {
     "data": {
      "text/plain": [
       "177.0"
      ]
     },
     "execution_count": 5,
     "metadata": {},
     "output_type": "execute_result"
    }
   ],
   "source": [
    "np.median(h)"
   ]
  },
  {
   "cell_type": "code",
   "execution_count": 7,
   "id": "1591218a-3289-4e1f-9dec-662401745594",
   "metadata": {},
   "outputs": [],
   "source": [
    "from scipy import stats"
   ]
  },
  {
   "cell_type": "code",
   "execution_count": 8,
   "id": "ef5f0e4c-d18a-40a3-b1e2-57a1b1b0853a",
   "metadata": {},
   "outputs": [
    {
     "name": "stderr",
     "output_type": "stream",
     "text": [
      "/tmp/ipykernel_76/1674535383.py:1: FutureWarning: Unlike other reduction functions (e.g. `skew`, `kurtosis`), the default behavior of `mode` typically preserves the axis it acts along. In SciPy 1.11.0, this behavior will change: the default value of `keepdims` will become False, the `axis` over which the statistic is taken will be eliminated, and the value None will no longer be accepted. Set `keepdims` to True or False to avoid this warning.\n",
      "  stats.mode(h)\n"
     ]
    },
    {
     "data": {
      "text/plain": [
       "ModeResult(mode=array([177.]), count=array([3]))"
      ]
     },
     "execution_count": 8,
     "metadata": {},
     "output_type": "execute_result"
    }
   ],
   "source": [
    "stats.mode(h)"
   ]
  },
  {
   "cell_type": "markdown",
   "id": "836e87e9-2a07-4fac-9254-442334aa0133",
   "metadata": {},
   "source": [
    "#### Question 4-"
   ]
  },
  {
   "cell_type": "code",
   "execution_count": 9,
   "id": "03174033-de91-4dc6-823b-67a6028ab4a9",
   "metadata": {},
   "outputs": [],
   "source": [
    "t=[178,177,176,177,178.2,178,175,179,180,175,178.9,176.2,177,172.5,178,176.5]"
   ]
  },
  {
   "cell_type": "code",
   "execution_count": 10,
   "id": "98c9a737-233f-4e85-b717-5c5b277d1d97",
   "metadata": {},
   "outputs": [
    {
     "data": {
      "text/plain": [
       "1.7885814036548633"
      ]
     },
     "execution_count": 10,
     "metadata": {},
     "output_type": "execute_result"
    }
   ],
   "source": [
    "np.std(t)"
   ]
  },
  {
   "cell_type": "markdown",
   "id": "118a57de-ce0e-439f-b86e-d55272a36a3a",
   "metadata": {},
   "source": [
    "#### Question 5-"
   ]
  },
  {
   "cell_type": "markdown",
   "id": "964f89ab-6607-4ca0-98f1-31f609b78f53",
   "metadata": {},
   "source": [
    "Range- It tells the difference between the highest and the lowest data points in a given dataset.\n",
    "\n",
    "Variance- It is used to measure how far the data values are dispersed from the mean value.\n",
    "\n",
    "Standard Deviation - It is defined by a numeric value which tells how far from the average/mean each data point is."
   ]
  },
  {
   "cell_type": "markdown",
   "id": "3f8f5d46-3938-4089-a1e4-5f29f313b1c3",
   "metadata": {},
   "source": [
    "Example-\n",
    "If the given dataset records the height of students in a class-\n",
    "[178,177,176,177,178.2,178,175,179,180,175,178.9,176.2,177,172.5,178,176.5]\n",
    "\n",
    "Then-"
   ]
  },
  {
   "cell_type": "code",
   "execution_count": 12,
   "id": "95a76f20-acda-4336-8d88-95d3e40f5ad2",
   "metadata": {},
   "outputs": [
    {
     "data": {
      "text/plain": [
       "3.8000000000000114"
      ]
     },
     "execution_count": 12,
     "metadata": {},
     "output_type": "execute_result"
    }
   ],
   "source": [
    "range=180-176.2\n",
    "range"
   ]
  },
  {
   "cell_type": "markdown",
   "id": "29fd8352-b395-4a78-b2b0-ff7026b9d388",
   "metadata": {},
   "source": [
    "Variance- which basically tells in what range the datset is spread about the mean value."
   ]
  },
  {
   "cell_type": "code",
   "execution_count": 13,
   "id": "b686679e-fd6c-4172-bcec-0e337b592b8e",
   "metadata": {},
   "outputs": [
    {
     "data": {
      "text/plain": [
       "3.199023437500001"
      ]
     },
     "execution_count": 13,
     "metadata": {},
     "output_type": "execute_result"
    }
   ],
   "source": [
    "np.var(h)"
   ]
  },
  {
   "cell_type": "markdown",
   "id": "79afccfd-a03b-4b6b-82e9-0dda7c6cfcd9",
   "metadata": {},
   "source": [
    "Standard deviation- it tells that how far or beyond the next data point would be located from the mean value"
   ]
  },
  {
   "cell_type": "code",
   "execution_count": 14,
   "id": "cfd89a39-e731-423f-a6d3-eb8187897a76",
   "metadata": {},
   "outputs": [
    {
     "data": {
      "text/plain": [
       "1.7885814036548633"
      ]
     },
     "execution_count": 14,
     "metadata": {},
     "output_type": "execute_result"
    }
   ],
   "source": [
    "np.std(h)"
   ]
  },
  {
   "cell_type": "markdown",
   "id": "400d0d21-76de-41f2-bf17-9819307d07f3",
   "metadata": {},
   "source": [
    "#### Question 6-"
   ]
  },
  {
   "cell_type": "markdown",
   "id": "1d5d394e-046f-4c29-a0ba-62b974a94795",
   "metadata": {},
   "source": [
    "A Venn diagram is a pictorial representation of different items in a set, basically representing mathematical or logical relationship between them."
   ]
  },
  {
   "cell_type": "markdown",
   "id": "f5cd2a54-7782-4072-b10e-e9bfa8306686",
   "metadata": {},
   "source": [
    "#### Question 7-"
   ]
  },
  {
   "cell_type": "markdown",
   "id": "4b86535e-7fdb-485b-a7bb-2558c47013f6",
   "metadata": {},
   "source": [
    "A = (2,3,4,5,6,7) \n",
    "\n",
    "B = (0,2,6,8,10)"
   ]
  },
  {
   "cell_type": "markdown",
   "id": "7af818ab-ceac-4fc7-a564-1f2602cb268f",
   "metadata": {},
   "source": [
    "(i) (2,6)\n",
    "\n",
    "(ii) (0,2,3,4,5,6,7,8,10)"
   ]
  },
  {
   "cell_type": "markdown",
   "id": "383af0ed-ec56-4af7-8895-56d0efb90a6d",
   "metadata": {},
   "source": [
    "#### Question 8-"
   ]
  },
  {
   "cell_type": "markdown",
   "id": "20ece49b-7483-4edc-9474-a27d31417bf1",
   "metadata": {},
   "source": [
    "Skewness is a measure of asymmetry of a distribution.\n",
    "There are three types of skewness-\n",
    "\n",
    "1. Right skew(positive skew)- A right-skewed distribution is longer on the right side of its peak than on its left.\n",
    "\n",
    "2. Left Skew(negative Skew)-  A left-skewed distribution is longer on the left side of its peak than on its right.\n",
    "\n",
    "3. Zero skew- same on both the sides."
   ]
  },
  {
   "cell_type": "markdown",
   "id": "bb4c4838-a120-4f71-adb1-f886b18bcdd5",
   "metadata": {},
   "source": [
    "#### Question 9-"
   ]
  },
  {
   "cell_type": "markdown",
   "id": "d52ca3a3-8075-4933-a2af-df05e8e084c1",
   "metadata": {},
   "source": [
    "Median would be loacted left to the mean or in other words median < mean"
   ]
  },
  {
   "cell_type": "markdown",
   "id": "4a62655d-8f73-4d0d-96fd-f750c8b7ed90",
   "metadata": {},
   "source": [
    "#### Question 10-"
   ]
  },
  {
   "cell_type": "markdown",
   "id": "a7b89542-de43-4fb2-b645-f043f72251bb",
   "metadata": {},
   "source": [
    "#### Covariance shows you how the two variables differ, whereas correlation shows you how the two variables are related.\n",
    "\n",
    "##### Covariance \n",
    "is a statistical term that refers to a systematic relationship between two random variables in which a change in the other reflects a change in one variable.\n",
    "\n",
    "The covariance value can range from -∞ to +∞, with a negative value indicating a negative relationship and a positive value indicating a positive relationship.\n",
    "\n",
    "\n",
    "##### Correlation\n",
    "is a measure that determines the degree to which two or more random variables move in sequence.\n",
    "When a cjange in one variable affects the change in other variable either in the same way or in the opposite way, then the two variables are said to be correalted."
   ]
  },
  {
   "cell_type": "markdown",
   "id": "471d291d-1203-43fd-94ae-25fb228d4aa4",
   "metadata": {},
   "source": [
    "#### Question 11-"
   ]
  },
  {
   "cell_type": "markdown",
   "id": "89730b30-8860-4d55-94e5-ba9a875e49f7",
   "metadata": {},
   "source": [
    "Sample mean = Summation of all the data points divided by number of observation or the size of dataset.\n",
    "\n",
    "Ex- \n",
    "d=[1,2,3,4,5]\n",
    "\n",
    "sample mean= (1+2+3+4+5)/5 = 3"
   ]
  },
  {
   "cell_type": "markdown",
   "id": "55b1e3df-e613-4002-b2ab-52ee76829527",
   "metadata": {},
   "source": [
    "#### Question 12-"
   ]
  },
  {
   "cell_type": "markdown",
   "id": "3a11c9ef-189c-4222-9252-ae6d5cd650bb",
   "metadata": {},
   "source": [
    "For a normal distribution -\n",
    "\n",
    "mean = median = mode"
   ]
  },
  {
   "cell_type": "markdown",
   "id": "c59f1cc9-af37-4b12-b8b4-f3fc87c2f51b",
   "metadata": {},
   "source": [
    "#### Question 13-"
   ]
  },
  {
   "cell_type": "markdown",
   "id": "5afed335-8bad-4677-b720-f2ae45ce8cda",
   "metadata": {},
   "source": [
    "Differences between covariance and correalation--->"
   ]
  },
  {
   "cell_type": "markdown",
   "id": "a8c5580d-530a-4054-b87e-f2b2d62e7bc8",
   "metadata": {},
   "source": [
    "1.)Covariance is an indicator of the extent to which 2 random variables are dependent on each other. A higher number denotes higher dependency.\n",
    "Whereas, Correlation is a statistical measure that indicates how strongly two variables are related.\n",
    "\n",
    "2.)The value of covariance lies in the range of -∞ and +∞.\n",
    "Correlation is limited to values between the range -1 and +1\n",
    "\n",
    "3.) Change in scale affects the covariance, but does not affect the correlation.\n",
    "\n",
    "4.) Covariance is not a unit-free measure, whereas correlation is unit-free.\n",
    "\n"
   ]
  },
  {
   "cell_type": "markdown",
   "id": "a3fa001c-5395-4831-9ad4-73aa1322c085",
   "metadata": {},
   "source": [
    "#### Question 14- "
   ]
  },
  {
   "cell_type": "markdown",
   "id": "bb3e545b-0f41-4407-aaff-563abd75ce3d",
   "metadata": {},
   "source": [
    "Outliers affect the mean, variance and standard deviatiopn of the data but have little or no effect on the median or mode of the given set of data.\n",
    "\n",
    "Also, Outliers measures of central tendency and dispersion can give misleading impressions of a data set if the set contains one or more outliers.\n",
    "Example-\n"
   ]
  },
  {
   "cell_type": "markdown",
   "id": "e0d16156-92fe-4e3b-adf8-e7ef86fc110b",
   "metadata": {},
   "source": [
    "Data without outlier-"
   ]
  },
  {
   "cell_type": "code",
   "execution_count": 20,
   "id": "ac3f7763-3fb8-40da-8d87-ef79c9ea5076",
   "metadata": {},
   "outputs": [],
   "source": [
    "data1=[1,2,2,3,4,1,4,0,5,2,2,1,1,1,1,3,4,5,3,4]"
   ]
  },
  {
   "cell_type": "markdown",
   "id": "c02dd4f0-c3a1-469d-bd22-8dc68eb537a5",
   "metadata": {},
   "source": [
    "Data with outlier-"
   ]
  },
  {
   "cell_type": "code",
   "execution_count": 21,
   "id": "4872404a-ac0b-40b6-afb5-397fa9b3d280",
   "metadata": {},
   "outputs": [],
   "source": [
    "data2=[1,2,2,3,4,1,4,0,5,2,2,1,1,1,1,3,4,5,3,4,209]"
   ]
  },
  {
   "cell_type": "code",
   "execution_count": 22,
   "id": "d0afcca7-88ea-45cf-b303-9d82bc600e72",
   "metadata": {},
   "outputs": [
    {
     "data": {
      "text/plain": [
       "2.45"
      ]
     },
     "execution_count": 22,
     "metadata": {},
     "output_type": "execute_result"
    }
   ],
   "source": [
    "np.mean(data1)"
   ]
  },
  {
   "cell_type": "code",
   "execution_count": 24,
   "id": "ad4bb529-9e6e-4e71-bbf9-96a15974c9a5",
   "metadata": {},
   "outputs": [
    {
     "data": {
      "text/plain": [
       "12.285714285714286"
      ]
     },
     "execution_count": 24,
     "metadata": {},
     "output_type": "execute_result"
    }
   ],
   "source": [
    "np.mean(data2)"
   ]
  },
  {
   "cell_type": "markdown",
   "id": "f844cbc4-9858-4d66-af7b-e92a955a4c3a",
   "metadata": {},
   "source": [
    "As , we can easily see, that by addition of an outlier, the mean value changes drastically."
   ]
  },
  {
   "cell_type": "code",
   "execution_count": 25,
   "id": "79f3b497-bf61-46e7-8f87-a6e928a5ec2f",
   "metadata": {},
   "outputs": [
    {
     "data": {
      "text/plain": [
       "2.0"
      ]
     },
     "execution_count": 25,
     "metadata": {},
     "output_type": "execute_result"
    }
   ],
   "source": [
    "np.median(data1)"
   ]
  },
  {
   "cell_type": "code",
   "execution_count": 26,
   "id": "f58b0275-738c-41f7-90bb-4efa306e6195",
   "metadata": {},
   "outputs": [
    {
     "data": {
      "text/plain": [
       "2.0"
      ]
     },
     "execution_count": 26,
     "metadata": {},
     "output_type": "execute_result"
    }
   ],
   "source": [
    "np.median(data2)"
   ]
  },
  {
   "cell_type": "code",
   "execution_count": 27,
   "id": "421f2a21-cc64-4a64-b1ef-7e99dbc388c4",
   "metadata": {},
   "outputs": [
    {
     "name": "stderr",
     "output_type": "stream",
     "text": [
      "/tmp/ipykernel_76/760597495.py:1: FutureWarning: Unlike other reduction functions (e.g. `skew`, `kurtosis`), the default behavior of `mode` typically preserves the axis it acts along. In SciPy 1.11.0, this behavior will change: the default value of `keepdims` will become False, the `axis` over which the statistic is taken will be eliminated, and the value None will no longer be accepted. Set `keepdims` to True or False to avoid this warning.\n",
      "  stats.mode(data1)\n"
     ]
    },
    {
     "data": {
      "text/plain": [
       "ModeResult(mode=array([1]), count=array([6]))"
      ]
     },
     "execution_count": 27,
     "metadata": {},
     "output_type": "execute_result"
    }
   ],
   "source": [
    "stats.mode(data1)"
   ]
  },
  {
   "cell_type": "code",
   "execution_count": 28,
   "id": "e3b7f398-b00c-46c3-9b8d-bf4756b27cf3",
   "metadata": {},
   "outputs": [
    {
     "name": "stderr",
     "output_type": "stream",
     "text": [
      "/tmp/ipykernel_76/4103844826.py:1: FutureWarning: Unlike other reduction functions (e.g. `skew`, `kurtosis`), the default behavior of `mode` typically preserves the axis it acts along. In SciPy 1.11.0, this behavior will change: the default value of `keepdims` will become False, the `axis` over which the statistic is taken will be eliminated, and the value None will no longer be accepted. Set `keepdims` to True or False to avoid this warning.\n",
      "  stats.mode(data2)\n"
     ]
    },
    {
     "data": {
      "text/plain": [
       "ModeResult(mode=array([1]), count=array([6]))"
      ]
     },
     "execution_count": 28,
     "metadata": {},
     "output_type": "execute_result"
    }
   ],
   "source": [
    "stats.mode(data2)"
   ]
  },
  {
   "cell_type": "markdown",
   "id": "5dbff651-b116-46ed-9d33-aa9e681f827f",
   "metadata": {},
   "source": [
    "However, the median and mode values do not change."
   ]
  },
  {
   "cell_type": "code",
   "execution_count": 29,
   "id": "f8822400-b9a0-42c0-953f-ed5638c57269",
   "metadata": {},
   "outputs": [
    {
     "data": {
      "text/plain": [
       "2.1475"
      ]
     },
     "execution_count": 29,
     "metadata": {},
     "output_type": "execute_result"
    }
   ],
   "source": [
    "np.var(data1)"
   ]
  },
  {
   "cell_type": "code",
   "execution_count": 31,
   "id": "3122421f-251d-4f56-8e24-b1182190bb49",
   "metadata": {},
   "outputs": [
    {
     "data": {
      "text/plain": [
       "1936.87074829932"
      ]
     },
     "execution_count": 31,
     "metadata": {},
     "output_type": "execute_result"
    }
   ],
   "source": [
    "np.var(data2)"
   ]
  },
  {
   "cell_type": "code",
   "execution_count": 32,
   "id": "1da2a1c4-dc8a-444e-85f4-f17daa2e7031",
   "metadata": {},
   "outputs": [
    {
     "data": {
      "text/plain": [
       "1.4654350889752845"
      ]
     },
     "execution_count": 32,
     "metadata": {},
     "output_type": "execute_result"
    }
   ],
   "source": [
    "np.std(data1)"
   ]
  },
  {
   "cell_type": "code",
   "execution_count": 33,
   "id": "e0caecd7-8624-4702-b922-d406547f207f",
   "metadata": {},
   "outputs": [
    {
     "data": {
      "text/plain": [
       "44.00989375469248"
      ]
     },
     "execution_count": 33,
     "metadata": {},
     "output_type": "execute_result"
    }
   ],
   "source": [
    "np.std(data2)"
   ]
  },
  {
   "cell_type": "markdown",
   "id": "75ab7a38-5fab-4b5d-a5dc-395d2e698159",
   "metadata": {},
   "source": [
    "Due to the presence of outliers the variance and standard deviation changes abruptly."
   ]
  },
  {
   "cell_type": "code",
   "execution_count": null,
   "id": "5f1ec05b-fab6-4427-a2e7-2b867b6c79c2",
   "metadata": {},
   "outputs": [],
   "source": []
  }
 ],
 "metadata": {
  "kernelspec": {
   "display_name": "Python 3 (ipykernel)",
   "language": "python",
   "name": "python3"
  },
  "language_info": {
   "codemirror_mode": {
    "name": "ipython",
    "version": 3
   },
   "file_extension": ".py",
   "mimetype": "text/x-python",
   "name": "python",
   "nbconvert_exporter": "python",
   "pygments_lexer": "ipython3",
   "version": "3.10.8"
  }
 },
 "nbformat": 4,
 "nbformat_minor": 5
}
