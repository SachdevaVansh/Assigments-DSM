{
 "cells": [
  {
   "cell_type": "markdown",
   "id": "2b9c6486-d0df-4443-9060-89448c2abd95",
   "metadata": {},
   "source": [
    "Q1. What is a contingency matrix, and how is it used to evaluate the performance of a classification model?\n",
    "\n",
    "Ans: A contingency matrix is a table that compares the predicted labels of a classification model with the true labels. \n",
    "         It is used to evaluate the performance by calculating various metrics like accuracy, precision, recall, and F1-score based \n",
    "         on the entries in the matrix.\n"
   ]
  },
  {
   "cell_type": "markdown",
   "id": "c597a3f5-d111-42c4-b95a-0f93b7dcc291",
   "metadata": {},
   "source": [
    "Q2. How is a pair confusion matrix different from a regular confusion matrix, and why might it be useful in certain situations?\n",
    "\n",
    "Ans: A pair confusion matrix is a variation of the regular confusion matrix that focuses on pairwise classification \n",
    "         decisions rather than individual classes. It is useful in situations where the pairwise relationships between \n",
    "         classes are more important than individual class performance, such as in multi-label classification or ranking tasks.\n"
   ]
  },
  {
   "cell_type": "markdown",
   "id": "3a97b80a-2476-4dc7-954b-dfb1d104fcfe",
   "metadata": {},
   "source": [
    "Q3. What is an extrinsic measure in the context of natural language processing, and \n",
    "    how is it typically used to evaluate the performance of language models?\n",
    "\n",
    "Ans: In the context of natural language processing, an extrinsic measure is an evaluation metric that assesses the performance \n",
    "         of a language model based on its performance on a downstream task, such as text classification or machine translation. \n",
    "         It measures how well the model's output contributes to the overall task performance.\n"
   ]
  },
  {
   "cell_type": "markdown",
   "id": "c76afb8f-d0b8-4ba2-835b-ed95ee1f734b",
   "metadata": {},
   "source": [
    "Q4. What is an intrinsic measure in the context of machine learning, and how does it differ from an extrinsic measure?\n",
    "\n",
    "Ans: An intrinsic measure is an evaluation metric that directly assesses the performance of a model based on its internal \n",
    "         characteristics or behavior, independent of any specific downstream task. It differs from an extrinsic measure, which \n",
    "         evaluates the model's performance on a specific task or application.\n"
   ]
  },
  {
   "cell_type": "markdown",
   "id": "d95b7099-bf3e-42b1-8772-a4c60a7fafc4",
   "metadata": {},
   "source": [
    "Q5. What is the purpose of a confusion matrix in machine learning, and how can it be used to \n",
    "    identify strengths and weaknesses of a model?\n",
    "\n",
    "Ans: The purpose of a confusion matrix in machine learning is to provide a summary of the model's predictions compared \n",
    "         to the actual labels. It helps identify strengths and weaknesses by analyzing the distribution of true positives, \n",
    "         false positives, true negatives, and false negatives, highlighting areas where the model performs well or struggles.\n"
   ]
  },
  {
   "cell_type": "markdown",
   "id": "04aa22e8-b0bf-4d44-9227-45895e8cfbf1",
   "metadata": {},
   "source": [
    "Q6. What are some common intrinsic measures used to evaluate the performance of unsupervised learning algorithms, \n",
    "    and how can they be interpreted?\n",
    "\n",
    "Ans: Some common intrinsic measures used to evaluate unsupervised learning algorithms include clustering metrics \n",
    "         like the Silhouette Coefficient and the Davies-Bouldin Index. These measures provide insights into the compactness \n",
    "         and separation of clusters, allowing for interpretation of the algorithm's performance in grouping similar data points \n",
    "         and separating different groups.\n"
   ]
  },
  {
   "cell_type": "markdown",
   "id": "d6cb749e-fe3f-4bd6-b952-3b15193f425d",
   "metadata": {},
   "source": [
    "Q7. What are some limitations of using accuracy as a sole evaluation metric for classification tasks, \n",
    "    and how can these limitations be addressed?\n",
    "    \n",
    "Ans: Limitations of using accuracy as a sole evaluation metric for classification tasks include imbalanced datasets and \n",
    "         class distribution. These limitations can be addressed by considering additional metrics such as precision, recall, \n",
    "         F1-score, or using techniques like stratified sampling, resampling, or using alternative evaluation metrics like \n",
    "         area under the ROC curve.\n"
   ]
  },
  {
   "cell_type": "code",
   "execution_count": null,
   "id": "01df992c-967e-4afa-a5d5-a5242b192055",
   "metadata": {},
   "outputs": [],
   "source": []
  }
 ],
 "metadata": {
  "kernelspec": {
   "display_name": "Python 3 (ipykernel)",
   "language": "python",
   "name": "python3"
  },
  "language_info": {
   "codemirror_mode": {
    "name": "ipython",
    "version": 3
   },
   "file_extension": ".py",
   "mimetype": "text/x-python",
   "name": "python",
   "nbconvert_exporter": "python",
   "pygments_lexer": "ipython3",
   "version": "3.10.8"
  }
 },
 "nbformat": 4,
 "nbformat_minor": 5
}
