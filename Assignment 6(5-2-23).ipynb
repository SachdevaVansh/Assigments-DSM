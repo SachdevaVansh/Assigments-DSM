{
 "cells": [
  {
   "cell_type": "markdown",
   "id": "c363dc6a-d147-4dca-8bbc-de3a446d497b",
   "metadata": {},
   "source": [
    "#### Question 1-"
   ]
  },
  {
   "cell_type": "markdown",
   "id": "70d460eb-6844-47bd-bbc7-7c33e23d1e3f",
   "metadata": {},
   "source": [
    "A class is like an outline to create objects in object oriented programming.\n",
    "In Object-oriented programming like python, every variable that is created is associated with a class that has some attributes and properties.\n",
    "Once a variable is declared, it acts as an object of a particular class, which can be used to make any changes to the code.\n",
    "\n",
    "Ex- a=10\n",
    "    An object 'a' is created of the class int\n",
    "    s='pwskills'\n",
    "    An object 's' is created of the class string(str)\n",
    "    \n",
    "Object is an instance of the class. It contains the behaviour and the attributes of a class. Whenever we assign a variable to a class, it makes that variable as the object of that class, and through that object we can access the properties of that class.\n"
   ]
  },
  {
   "cell_type": "markdown",
   "id": "64183025-9e3e-47c2-9b50-89a23f89ed2e",
   "metadata": {},
   "source": [
    "#### Question 2-"
   ]
  },
  {
   "cell_type": "markdown",
   "id": "56763f3a-ddee-4fad-b7a4-c6e4d1d3a05f",
   "metadata": {},
   "source": [
    "The four pillars of OOPS are-\n",
    "1.Inheritance\n",
    "2.Polymorphism\n",
    "3.Encapsulation\n",
    "4.Abstraction"
   ]
  },
  {
   "cell_type": "markdown",
   "id": "0ea5da64-5af7-43df-9bfd-a073ca2523c0",
   "metadata": {},
   "source": [
    "#### Question 4-"
   ]
  },
  {
   "cell_type": "markdown",
   "id": "41cb0278-1a7d-4cee-9ce0-87dfbc660517",
   "metadata": {},
   "source": [
    "Whenever we define methods/functions in a class, it has some statements/properties attached to it.So, in order to access these properties we pass self as the first arguement along with the other parametrs to be assigned values or used in that method.\n",
    "A class basically is used to create objects. We can create multiple objects in a class, but that class will have some fixed properties or attributes.\n",
    "\n",
    "But if we want to assign different attributes to each object of a class, we pass self parameter while defining the methods of the class.\n",
    "By doing so, we are indirectly telling the class that if such method is instigated using an object, the values that user has entered will be assigned to the respective values of that method.\n",
    "\n",
    "Ex:\n"
   ]
  },
  {
   "cell_type": "code",
   "execution_count": 9,
   "id": "82634ffa-3355-439d-8e4b-3e2f18bbcfb1",
   "metadata": {},
   "outputs": [],
   "source": [
    "class cat:\n",
    "    def __init__(self,name,age):\n",
    "        self.name=name\n",
    "        self.age=age\n",
    "    def info(self):\n",
    "        print(\"my name is\",self.name,\"and my age is\",self.age)\n",
    "    "
   ]
  },
  {
   "cell_type": "code",
   "execution_count": 10,
   "id": "e481ee49-d715-481f-a646-d5d68e1b8a2f",
   "metadata": {},
   "outputs": [],
   "source": [
    "cat1=cat('pussy',8)"
   ]
  },
  {
   "cell_type": "code",
   "execution_count": 11,
   "id": "25360f3b-6d9e-459c-ac88-e540e177c344",
   "metadata": {},
   "outputs": [
    {
     "name": "stdout",
     "output_type": "stream",
     "text": [
      "my name is pussy and my age is 8\n"
     ]
    }
   ],
   "source": [
    "cat1.info()"
   ]
  },
  {
   "cell_type": "markdown",
   "id": "205afcbb-f3a1-4f0e-aa51-823d1b8bd6a6",
   "metadata": {},
   "source": [
    "#### Question 3-"
   ]
  },
  {
   "cell_type": "markdown",
   "id": "ba0d4950-4f4b-42f9-8dd3-af52c8b811cd",
   "metadata": {},
   "source": [
    "When a class is defined, __init__( ) function is used to define the attributes of the object as soon as an object of a class is created.\n",
    "It allows to take the input from the user or in other words a user can define what data he has to send in order to process that particular method of a class.\n",
    "Example:-"
   ]
  },
  {
   "cell_type": "code",
   "execution_count": 34,
   "id": "41736ce5-cfea-427e-8f56-0b7a1faaf838",
   "metadata": {},
   "outputs": [],
   "source": [
    "class pwskills():\n",
    "    \n",
    "    def __init__(self,name,city):\n",
    "        self.name=name\n",
    "        self.city=city\n",
    "    def return_details(self):\n",
    "        return self.name,self.city\n",
    "        "
   ]
  },
  {
   "cell_type": "code",
   "execution_count": 36,
   "id": "7bb5dfe2-20a8-43d7-9aa9-4bd81996506e",
   "metadata": {},
   "outputs": [],
   "source": [
    "p=pwskills('pwskiils','kolkata')\n"
   ]
  },
  {
   "cell_type": "code",
   "execution_count": 37,
   "id": "7fd120af-57d9-4b6a-9b5a-3dcd879546db",
   "metadata": {},
   "outputs": [
    {
     "data": {
      "text/plain": [
       "('pwskiils', 'kolkata')"
      ]
     },
     "execution_count": 37,
     "metadata": {},
     "output_type": "execute_result"
    }
   ],
   "source": [
    "p.return_details()"
   ]
  },
  {
   "cell_type": "markdown",
   "id": "b563dcfd-c02a-41d2-8884-449d7045540e",
   "metadata": {},
   "source": [
    "#### Question 5-"
   ]
  },
  {
   "cell_type": "markdown",
   "id": "dca56f36-a429-4a90-a56e-43345581f748",
   "metadata": {},
   "source": [
    "Inheritance in python refers to inheriting the properties of a parent class in a derived class.\n",
    "This is done by passing the parent class or the class whose properties have to be inherited as a parameter while defining the derived class or the class to which these above propeties have to be inherited.\n",
    "\n",
    "In python, there are five types of inheritance-\n"
   ]
  },
  {
   "cell_type": "markdown",
   "id": "a850f199-a5a7-4b90-9234-a301f65bbc7b",
   "metadata": {},
   "source": [
    "#### Single Inheritance"
   ]
  },
  {
   "cell_type": "code",
   "execution_count": 5,
   "id": "fa920226-bf50-41c7-8640-b023e64bc4be",
   "metadata": {},
   "outputs": [],
   "source": [
    "class class1:\n",
    "    def test1(self):\n",
    "        return \"This is from first class\""
   ]
  },
  {
   "cell_type": "code",
   "execution_count": 9,
   "id": "3ed0e291-7a14-40d4-a775-137bbf7cd1e0",
   "metadata": {},
   "outputs": [],
   "source": [
    "class class2(class1):\n",
    "    def test2(self):\n",
    "        return \"This is from second class\"\n",
    "    "
   ]
  },
  {
   "cell_type": "code",
   "execution_count": 10,
   "id": "18ba6373-c0cb-4194-a452-9bff0c7132f1",
   "metadata": {},
   "outputs": [],
   "source": [
    "obj_class2=class2()"
   ]
  },
  {
   "cell_type": "code",
   "execution_count": 11,
   "id": "86029cf7-a61e-46f8-8f0c-355a202fa104",
   "metadata": {},
   "outputs": [
    {
     "data": {
      "text/plain": [
       "'This is from first class'"
      ]
     },
     "execution_count": 11,
     "metadata": {},
     "output_type": "execute_result"
    }
   ],
   "source": [
    "obj_class2.test1()"
   ]
  },
  {
   "cell_type": "markdown",
   "id": "d445bd4d-6969-4e81-9192-f8721ebbbe92",
   "metadata": {},
   "source": [
    "#### Multiple Inheritance"
   ]
  },
  {
   "cell_type": "code",
   "execution_count": 15,
   "id": "1c2100af-40e6-4c1a-8c01-cbcaf83a699b",
   "metadata": {},
   "outputs": [],
   "source": [
    "class class3(class2,class1):\n",
    "    def test3(self):\n",
    "        return \"This is from third class\""
   ]
  },
  {
   "cell_type": "code",
   "execution_count": 16,
   "id": "9b72bc83-0edc-4bd6-887e-fcd742b29ff0",
   "metadata": {},
   "outputs": [],
   "source": [
    "obj_class3=class3()"
   ]
  },
  {
   "cell_type": "code",
   "execution_count": 17,
   "id": "efd6cebe-1f92-456f-bf08-4fbb5b520a9f",
   "metadata": {},
   "outputs": [
    {
     "data": {
      "text/plain": [
       "'This is from second class'"
      ]
     },
     "execution_count": 17,
     "metadata": {},
     "output_type": "execute_result"
    }
   ],
   "source": [
    "obj_class3.test2()"
   ]
  },
  {
   "cell_type": "code",
   "execution_count": 18,
   "id": "016db9d0-9241-476d-aca2-123c924a80b3",
   "metadata": {},
   "outputs": [
    {
     "data": {
      "text/plain": [
       "'This is from first class'"
      ]
     },
     "execution_count": 18,
     "metadata": {},
     "output_type": "execute_result"
    }
   ],
   "source": [
    "obj_class3.test1()"
   ]
  },
  {
   "cell_type": "markdown",
   "id": "41a947ef-b878-48bc-8f1f-3fa3222e8e12",
   "metadata": {},
   "source": [
    "#### Multi-level Inheritance"
   ]
  },
  {
   "cell_type": "code",
   "execution_count": 19,
   "id": "0dc522d1-c554-4ba7-ba3d-230a69dac319",
   "metadata": {},
   "outputs": [],
   "source": [
    "class class4(class3):\n",
    "    def test4(self):\n",
    "        return \"This is from fourth class\""
   ]
  },
  {
   "cell_type": "code",
   "execution_count": 20,
   "id": "9a452a37-9e3f-49e6-a601-436d3640d6d5",
   "metadata": {},
   "outputs": [],
   "source": [
    "obj_class4=class4()"
   ]
  },
  {
   "cell_type": "code",
   "execution_count": 21,
   "id": "93ca6e2c-5523-4c61-a842-1575257e338a",
   "metadata": {},
   "outputs": [
    {
     "data": {
      "text/plain": [
       "'This is from third class'"
      ]
     },
     "execution_count": 21,
     "metadata": {},
     "output_type": "execute_result"
    }
   ],
   "source": [
    "obj_class4.test3()"
   ]
  },
  {
   "cell_type": "code",
   "execution_count": 22,
   "id": "91581a5a-8198-46b7-ab34-23dec55c09de",
   "metadata": {},
   "outputs": [
    {
     "data": {
      "text/plain": [
       "'This is from second class'"
      ]
     },
     "execution_count": 22,
     "metadata": {},
     "output_type": "execute_result"
    }
   ],
   "source": [
    "obj_class4.test2()"
   ]
  },
  {
   "cell_type": "code",
   "execution_count": 23,
   "id": "1a216332-9fad-4885-bad8-a55bed6eb61e",
   "metadata": {},
   "outputs": [
    {
     "data": {
      "text/plain": [
       "'This is from first class'"
      ]
     },
     "execution_count": 23,
     "metadata": {},
     "output_type": "execute_result"
    }
   ],
   "source": [
    "obj_class4.test1()"
   ]
  },
  {
   "cell_type": "markdown",
   "id": "98794264-acff-47e9-aa41-8846eb2a789c",
   "metadata": {},
   "source": [
    "#### Hierarchical Inheritance"
   ]
  },
  {
   "cell_type": "code",
   "execution_count": 25,
   "id": "cd463392-2f22-41cd-8f91-37a914b64b73",
   "metadata": {},
   "outputs": [],
   "source": [
    "class class5(class4):\n",
    "    def test5(self):\n",
    "        return \"This is from fifth class\"\n",
    "    "
   ]
  },
  {
   "cell_type": "code",
   "execution_count": 28,
   "id": "97477c63-376f-4f7e-9927-ad754292fe55",
   "metadata": {},
   "outputs": [],
   "source": [
    "class class6(class4):\n",
    "    def test6(self):\n",
    "        return \"This is from sixth class\""
   ]
  },
  {
   "cell_type": "code",
   "execution_count": 29,
   "id": "fcbd1ce4-3fc4-42ff-ad8b-87f3ffcf7028",
   "metadata": {},
   "outputs": [],
   "source": [
    "obj_class5=class5()"
   ]
  },
  {
   "cell_type": "code",
   "execution_count": 30,
   "id": "4d1235a7-92af-4c26-902c-993257b45f36",
   "metadata": {},
   "outputs": [],
   "source": [
    "obj_class6=class6()"
   ]
  },
  {
   "cell_type": "code",
   "execution_count": 31,
   "id": "0f9658a5-3575-435c-9edf-4286421dbf56",
   "metadata": {},
   "outputs": [
    {
     "data": {
      "text/plain": [
       "'This is from fourth class'"
      ]
     },
     "execution_count": 31,
     "metadata": {},
     "output_type": "execute_result"
    }
   ],
   "source": [
    "obj_class5.test4()"
   ]
  },
  {
   "cell_type": "code",
   "execution_count": 32,
   "id": "d76c5c79-db13-403d-bfbd-afcd3382a194",
   "metadata": {},
   "outputs": [
    {
     "data": {
      "text/plain": [
       "'This is from fourth class'"
      ]
     },
     "execution_count": 32,
     "metadata": {},
     "output_type": "execute_result"
    }
   ],
   "source": [
    "obj_class6.test4()"
   ]
  },
  {
   "cell_type": "markdown",
   "id": "3c347fdf-7284-4f5a-9117-13f8005697a8",
   "metadata": {},
   "source": [
    "#### Hybrid Inheritance"
   ]
  },
  {
   "cell_type": "code",
   "execution_count": 40,
   "id": "2f6d7b0e-41ae-47b8-993e-4495968b7548",
   "metadata": {},
   "outputs": [],
   "source": [
    "class class7(class6,class5,class4,class3,class2):\n",
    "    def test7(self):\n",
    "        return \"this is from seventh class\""
   ]
  },
  {
   "cell_type": "code",
   "execution_count": 41,
   "id": "9d62f9d4-e132-4c1c-95ff-4b389bbf31cf",
   "metadata": {},
   "outputs": [],
   "source": [
    "obj_class7=class7()"
   ]
  },
  {
   "cell_type": "code",
   "execution_count": 42,
   "id": "fb657d67-a397-45fb-a09f-ba2dfcf9627a",
   "metadata": {},
   "outputs": [
    {
     "data": {
      "text/plain": [
       "'This is from third class'"
      ]
     },
     "execution_count": 42,
     "metadata": {},
     "output_type": "execute_result"
    }
   ],
   "source": [
    "obj_class7.test3()"
   ]
  },
  {
   "cell_type": "code",
   "execution_count": 43,
   "id": "002439e2-22d1-4d43-8b4a-037ad5c91dfa",
   "metadata": {},
   "outputs": [
    {
     "data": {
      "text/plain": [
       "'This is from second class'"
      ]
     },
     "execution_count": 43,
     "metadata": {},
     "output_type": "execute_result"
    }
   ],
   "source": [
    "obj_class7.test2()"
   ]
  },
  {
   "cell_type": "code",
   "execution_count": 44,
   "id": "0db6de4c-ec4f-4951-a4b0-0e4849beb647",
   "metadata": {},
   "outputs": [
    {
     "data": {
      "text/plain": [
       "'This is from first class'"
      ]
     },
     "execution_count": 44,
     "metadata": {},
     "output_type": "execute_result"
    }
   ],
   "source": [
    "obj_class7.test1()"
   ]
  },
  {
   "cell_type": "code",
   "execution_count": 45,
   "id": "f9014efd-33ba-43b9-981a-29b1879f2885",
   "metadata": {},
   "outputs": [
    {
     "data": {
      "text/plain": [
       "'This is from fifth class'"
      ]
     },
     "execution_count": 45,
     "metadata": {},
     "output_type": "execute_result"
    }
   ],
   "source": [
    "obj_class7.test5()"
   ]
  },
  {
   "cell_type": "code",
   "execution_count": null,
   "id": "55bff636-b95e-47d1-ad96-8a73f5073278",
   "metadata": {},
   "outputs": [],
   "source": []
  }
 ],
 "metadata": {
  "kernelspec": {
   "display_name": "Python 3 (ipykernel)",
   "language": "python",
   "name": "python3"
  },
  "language_info": {
   "codemirror_mode": {
    "name": "ipython",
    "version": 3
   },
   "file_extension": ".py",
   "mimetype": "text/x-python",
   "name": "python",
   "nbconvert_exporter": "python",
   "pygments_lexer": "ipython3",
   "version": "3.10.8"
  }
 },
 "nbformat": 4,
 "nbformat_minor": 5
}
