{
 "cells": [
  {
   "cell_type": "markdown",
   "id": "3da25909-edec-40c8-be91-bf9f49f2003c",
   "metadata": {},
   "source": [
    "Q1. What is hierarchical clustering, and how is it different from other clustering techniques?\n",
    "\n",
    "Ans: Hierarchical clustering is a clustering technique that creates a hierarchy of clusters by repeatedly merging or splitting them based on their similarities. It differs from other techniques by providing a tree-like structure of clusters, allowing for both agglomerative (bottom-up) and divisive (top-down) approaches.\n"
   ]
  },
  {
   "cell_type": "markdown",
   "id": "99cbf35e-9e1d-4092-aee2-3913ac589279",
   "metadata": {},
   "source": [
    "Q2. What are the two main types of hierarchical clustering algorithms? Describe each in brief.\n",
    "\n",
    "Ans: The two main types of hierarchical clustering algorithms are agglomerative and divisive.\n",
    "\n",
    "Agglomerative clustering starts with each data point as a separate cluster and merges them iteratively based on proximity, forming a tree-like structure.Divisive clustering starts with a single cluster and splits it into smaller clusters recursively based on dissimilarity.\n"
   ]
  },
  {
   "cell_type": "markdown",
   "id": "f586cea5-b867-4158-99f4-64285e700ba7",
   "metadata": {},
   "source": [
    "Q3. How do you determine the distance between two clusters in hierarchical clustering, and what are the\n",
    "    common distance metrics used?\n",
    "\n",
    "Ans: The distance between two clusters in hierarchical clustering is determined using distance metrics such as Euclidean distance, Manhattan distance. \n"
   ]
  },
  {
   "cell_type": "markdown",
   "id": "e1eef1e1-c65d-46e7-9342-732fa93a8aaa",
   "metadata": {},
   "source": [
    "Q4. How do you determine the optimal number of clusters in hierarchical clustering, and what are some common methods used for this purpose?\n",
    "\n",
    "Ans: The optimal number of clusters in hierarchical clustering can be determined using methods like the dendrogram and the elbow method.\n",
    "\n"
   ]
  },
  {
   "cell_type": "markdown",
   "id": "28a885c3-a813-4ced-bae3-3e9e43a5802c",
   "metadata": {},
   "source": [
    "Q5. What are dendrograms in hierarchical clustering, and how are they useful in analyzing the results?\n",
    "\n",
    "Ans: Dendrograms are visual representations of hierarchical clustering results. They display the hierarchical structure of clusters as a tree diagram. Dendrograms help analyze the relationship between clusters, identify optimal cluster cuts, and determine the number of clusters based on the structure of the tree.\n"
   ]
  },
  {
   "cell_type": "markdown",
   "id": "c89a18cd-7fef-41d2-b8c0-ec331125635d",
   "metadata": {},
   "source": [
    "Q6. Can hierarchical clustering be used for both numerical and categorical data? If yes, how are the distance metrics different for each type of data?\n",
    "\n",
    "Ans: Yes, hierarchical clustering can be used for both numerical and categorical data. For numerical data, distance metrics  like Euclidean or Manhattan distance are commonly used. For categorical data, distance metrics like Jaccard or Hamming distance, which measure dissimilarity based on the presence or absence of categories, are often employed.\n"
   ]
  },
  {
   "cell_type": "markdown",
   "id": "6d0d1c43-162c-4d6a-8434-578a94bd41fc",
   "metadata": {},
   "source": [
    "Q7. How can you use hierarchical clustering to identify outliers or anomalies in your data?\n",
    "\n",
    "Ans: In hierarchical clustering, outliers or anomalies can be identified by examining the clusters at the bottom level of the  dendrogram. Data points that form small, separate clusters or have a significant distance from other clusters can be considered \n",
    "outliers or anomalies."
   ]
  },
  {
   "cell_type": "code",
   "execution_count": null,
   "id": "f36e2df2-daea-40af-9b0b-66da6f3adccb",
   "metadata": {},
   "outputs": [],
   "source": []
  }
 ],
 "metadata": {
  "kernelspec": {
   "display_name": "Python 3 (ipykernel)",
   "language": "python",
   "name": "python3"
  },
  "language_info": {
   "codemirror_mode": {
    "name": "ipython",
    "version": 3
   },
   "file_extension": ".py",
   "mimetype": "text/x-python",
   "name": "python",
   "nbconvert_exporter": "python",
   "pygments_lexer": "ipython3",
   "version": "3.10.8"
  }
 },
 "nbformat": 4,
 "nbformat_minor": 5
}
