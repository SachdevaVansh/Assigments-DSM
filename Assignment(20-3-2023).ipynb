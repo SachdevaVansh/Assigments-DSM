{
 "cells": [
  {
   "cell_type": "markdown",
   "id": "88a36370-3385-42e4-bcca-9111f748b8f1",
   "metadata": {},
   "source": [
    "#### Question 1-"
   ]
  },
  {
   "cell_type": "markdown",
   "id": "dca1c6d4-b85a-43a3-b91b-60afe12f5de8",
   "metadata": {},
   "source": [
    "In general, Encoding is the process of converting data from one form to another.\n",
    "\n",
    "When working on some datasets, we find that some of the features are categorical, if we pass that feature directly to our model, our model can't understand those feature variables. We all know that machines can't understand categorical data. Machines require all independent and dependent variables i.e input and output features to be numeric. This means that if our data contain a categorical variable, we must have to encode it to the numbers before we fit our data to the model.\n",
    "\n",
    "Models only work with numerical values. For this reason, it is necessary to convert the categorical values of the features into numerical ones, So the machine can learn from those data and gives the right model. This process of converting categorical data into numerical data is called Data Encoding."
   ]
  },
  {
   "cell_type": "markdown",
   "id": "c29e9691-26ed-40d3-a77a-e32c0ddc8df8",
   "metadata": {},
   "source": [
    "#### Question 2-"
   ]
  },
  {
   "cell_type": "markdown",
   "id": "1b821b4e-f478-4f8d-846c-c221b7403f14",
   "metadata": {},
   "source": [
    "Nominal Encoding-When we have a feature where variables are just names and there is no order or rank to this variable's feature.\n",
    "\n",
    "Nominal categorical variables are those for which we do not have to worry about the arrangement of the categories.\n",
    "\n",
    "Example,\n",
    "\n",
    "i. suppose we have a gender column with categories as Male and Female.\n",
    "ii. We can also have a state column in which we have different states like NY, FL, NV, TX"
   ]
  },
  {
   "cell_type": "markdown",
   "id": "00ed91d3-a1f4-44c3-8fe3-89b625f3dc03",
   "metadata": {},
   "source": [
    "\n",
    "#### Questioh 3-"
   ]
  },
  {
   "cell_type": "markdown",
   "id": "ca440f58-2dc0-41d1-9dff-b4fb343fcaf5",
   "metadata": {},
   "source": [
    "When we need to maintain the intrinsic order while converting ordinal data to numeric data, we use Ordinal Encoding. So, each category will be given numbers from 0 to a number of categories. If we have 3 categories in the data, such as 'bad', 'average', and 'good', then bad will be encoded as 0, average as 1, and good as 2. So that the order is maintained.\n",
    "- When we train the machine learning model, it will learn the pattern with the intrinsic order giving better results.\n",
    "\n",
    "On the other hand, Nominal data will not have intrinsic order, we make use of OneHotEncoder class from sklearn to encode the nominal data.\n",
    "\n",
    "- If we start encoding categories from 0,1,2 to all the categories, then the machine learning algorithm will give importance to 2 (more than 0 and 1), which will not be true as the data is nominal and will have no intrinsic order. So, this method will not work in the case of nominal data."
   ]
  },
  {
   "cell_type": "markdown",
   "id": "c9ec7dab-4f2c-41b2-949a-d3bca6b40ae1",
   "metadata": {},
   "source": [
    "#### Question 4-"
   ]
  },
  {
   "cell_type": "markdown",
   "id": "78ccb1e0-1f68-4954-80a2-bfe41d8badf4",
   "metadata": {},
   "source": [
    "I would use One Hot Encoding technique to convert my categorical features to numerical features.\n",
    "It is because OneHotEncoder works very well when the categorires in the Categorical features are lesss thaan or equal to 5.\n",
    "The One hot Encoder will create a Sparse Matrix, which can be used to train the model very well."
   ]
  },
  {
   "cell_type": "markdown",
   "id": "3312d03a-b19e-449e-8ca4-f6c0f71951d5",
   "metadata": {},
   "source": [
    "#### Question 5-"
   ]
  },
  {
   "cell_type": "code",
   "execution_count": 11,
   "id": "7adec504-96e2-43f0-ab1b-cd8a048ba5d7",
   "metadata": {},
   "outputs": [],
   "source": [
    "## randomly generating the data--->\n",
    "import pandas as pd\n",
    "import numpy as np\n",
    "np.random.seed(1)\n",
    "\n",
    "data1=pd.DataFrame({'A':np.random.randint(low=1,high=100,size=1000),\n",
    "                    'B':np.random.normal(0.0,1.0,size=1000),\n",
    "                    'C':np.random.randint(low=5,high=20,size=1000),\n",
    "                    'X':np.random.choice(range(0,3),1000,replace=True),\n",
    "                    'Y':np.where(np.random.normal(0.0,1,size=1000)<=0,0,1)\n",
    "                   })"
   ]
  },
  {
   "cell_type": "code",
   "execution_count": 12,
   "id": "ac467ae5-5e17-4f97-9e97-42b86cd77e16",
   "metadata": {},
   "outputs": [
    {
     "data": {
      "text/html": [
       "<div>\n",
       "<style scoped>\n",
       "    .dataframe tbody tr th:only-of-type {\n",
       "        vertical-align: middle;\n",
       "    }\n",
       "\n",
       "    .dataframe tbody tr th {\n",
       "        vertical-align: top;\n",
       "    }\n",
       "\n",
       "    .dataframe thead th {\n",
       "        text-align: right;\n",
       "    }\n",
       "</style>\n",
       "<table border=\"1\" class=\"dataframe\">\n",
       "  <thead>\n",
       "    <tr style=\"text-align: right;\">\n",
       "      <th></th>\n",
       "      <th>A</th>\n",
       "      <th>B</th>\n",
       "      <th>C</th>\n",
       "      <th>X</th>\n",
       "      <th>Y</th>\n",
       "    </tr>\n",
       "  </thead>\n",
       "  <tbody>\n",
       "    <tr>\n",
       "      <th>0</th>\n",
       "      <td>38</td>\n",
       "      <td>-0.837611</td>\n",
       "      <td>10</td>\n",
       "      <td>1</td>\n",
       "      <td>0</td>\n",
       "    </tr>\n",
       "    <tr>\n",
       "      <th>1</th>\n",
       "      <td>13</td>\n",
       "      <td>-0.068524</td>\n",
       "      <td>7</td>\n",
       "      <td>0</td>\n",
       "      <td>0</td>\n",
       "    </tr>\n",
       "    <tr>\n",
       "      <th>2</th>\n",
       "      <td>73</td>\n",
       "      <td>0.317170</td>\n",
       "      <td>10</td>\n",
       "      <td>0</td>\n",
       "      <td>1</td>\n",
       "    </tr>\n",
       "    <tr>\n",
       "      <th>3</th>\n",
       "      <td>10</td>\n",
       "      <td>0.563321</td>\n",
       "      <td>17</td>\n",
       "      <td>2</td>\n",
       "      <td>1</td>\n",
       "    </tr>\n",
       "    <tr>\n",
       "      <th>4</th>\n",
       "      <td>76</td>\n",
       "      <td>2.143153</td>\n",
       "      <td>11</td>\n",
       "      <td>1</td>\n",
       "      <td>1</td>\n",
       "    </tr>\n",
       "    <tr>\n",
       "      <th>...</th>\n",
       "      <td>...</td>\n",
       "      <td>...</td>\n",
       "      <td>...</td>\n",
       "      <td>...</td>\n",
       "      <td>...</td>\n",
       "    </tr>\n",
       "    <tr>\n",
       "      <th>995</th>\n",
       "      <td>92</td>\n",
       "      <td>0.710111</td>\n",
       "      <td>7</td>\n",
       "      <td>2</td>\n",
       "      <td>0</td>\n",
       "    </tr>\n",
       "    <tr>\n",
       "      <th>996</th>\n",
       "      <td>6</td>\n",
       "      <td>0.386816</td>\n",
       "      <td>8</td>\n",
       "      <td>2</td>\n",
       "      <td>0</td>\n",
       "    </tr>\n",
       "    <tr>\n",
       "      <th>997</th>\n",
       "      <td>27</td>\n",
       "      <td>1.548844</td>\n",
       "      <td>11</td>\n",
       "      <td>1</td>\n",
       "      <td>0</td>\n",
       "    </tr>\n",
       "    <tr>\n",
       "      <th>998</th>\n",
       "      <td>68</td>\n",
       "      <td>0.097980</td>\n",
       "      <td>11</td>\n",
       "      <td>1</td>\n",
       "      <td>1</td>\n",
       "    </tr>\n",
       "    <tr>\n",
       "      <th>999</th>\n",
       "      <td>32</td>\n",
       "      <td>0.322799</td>\n",
       "      <td>7</td>\n",
       "      <td>1</td>\n",
       "      <td>0</td>\n",
       "    </tr>\n",
       "  </tbody>\n",
       "</table>\n",
       "<p>1000 rows × 5 columns</p>\n",
       "</div>"
      ],
      "text/plain": [
       "      A         B   C  X  Y\n",
       "0    38 -0.837611  10  1  0\n",
       "1    13 -0.068524   7  0  0\n",
       "2    73  0.317170  10  0  1\n",
       "3    10  0.563321  17  2  1\n",
       "4    76  2.143153  11  1  1\n",
       "..   ..       ...  .. .. ..\n",
       "995  92  0.710111   7  2  0\n",
       "996   6  0.386816   8  2  0\n",
       "997  27  1.548844  11  1  0\n",
       "998  68  0.097980  11  1  1\n",
       "999  32  0.322799   7  1  0\n",
       "\n",
       "[1000 rows x 5 columns]"
      ]
     },
     "execution_count": 12,
     "metadata": {},
     "output_type": "execute_result"
    }
   ],
   "source": [
    "data1"
   ]
  },
  {
   "cell_type": "code",
   "execution_count": 13,
   "id": "829d81f5-f029-4688-a63b-3ef21480cc24",
   "metadata": {},
   "outputs": [],
   "source": [
    "from sklearn.preprocessing import OneHotEncoder"
   ]
  },
  {
   "cell_type": "code",
   "execution_count": 14,
   "id": "d9bb43b4-cd23-4427-952b-5fbb6c5af9f8",
   "metadata": {},
   "outputs": [],
   "source": [
    "encoder=OneHotEncoder()"
   ]
  },
  {
   "cell_type": "code",
   "execution_count": 15,
   "id": "fb7d34d2-fda8-4c04-b542-2cab7fa24ea2",
   "metadata": {},
   "outputs": [],
   "source": [
    "a=encoder.fit_transform(data1[['X']])"
   ]
  },
  {
   "cell_type": "code",
   "execution_count": 16,
   "id": "d0545738-546c-4c77-bf92-740629bfb52b",
   "metadata": {},
   "outputs": [
    {
     "data": {
      "text/plain": [
       "array([[0., 1., 0.],\n",
       "       [1., 0., 0.],\n",
       "       [1., 0., 0.],\n",
       "       ...,\n",
       "       [0., 1., 0.],\n",
       "       [0., 1., 0.],\n",
       "       [0., 1., 0.]])"
      ]
     },
     "execution_count": 16,
     "metadata": {},
     "output_type": "execute_result"
    }
   ],
   "source": [
    "a.toarray()"
   ]
  },
  {
   "cell_type": "code",
   "execution_count": 17,
   "id": "8450f4c2-8e40-4a9d-9666-93e13cf0ce28",
   "metadata": {},
   "outputs": [],
   "source": [
    "b=encoder.fit_transform(data1[['Y']])"
   ]
  },
  {
   "cell_type": "code",
   "execution_count": 18,
   "id": "57f22a8a-636d-482a-8ba6-2648109b455d",
   "metadata": {},
   "outputs": [
    {
     "data": {
      "text/plain": [
       "array([[1., 0.],\n",
       "       [1., 0.],\n",
       "       [0., 1.],\n",
       "       ...,\n",
       "       [1., 0.],\n",
       "       [0., 1.],\n",
       "       [1., 0.]])"
      ]
     },
     "execution_count": 18,
     "metadata": {},
     "output_type": "execute_result"
    }
   ],
   "source": [
    "b.toarray()"
   ]
  },
  {
   "cell_type": "markdown",
   "id": "168b0e7d-59b0-4918-8229-8281519575e5",
   "metadata": {},
   "source": [
    "So, here 5 new columns would be generated ... as shown above.\n",
    "\n",
    "As the X feature conatins 3 categories it will be split into 3 new columns , and the Y feature conatins 2 categories , it will split into 2 ne columns, so a total of 5 new columns would be generated."
   ]
  },
  {
   "cell_type": "markdown",
   "id": "6ba9742c-796b-491f-a4b0-f71ebe802972",
   "metadata": {},
   "source": [
    "#### Question 6- "
   ]
  },
  {
   "cell_type": "markdown",
   "id": "413bdc6f-4fd0-4455-9b6d-b6547e3fe8f4",
   "metadata": {},
   "source": [
    "As in the Animal 'species' and 'habitat' features more than 5 categories are possible, so I would go with Label Encoding, which does not categorize the features based on their rank.\n",
    "- As no animal is superior or inferior of one another LABEL ENCODING would be the best technique."
   ]
  },
  {
   "cell_type": "markdown",
   "id": "4e1c707b-76f3-4b24-bc7b-ec98435ef61e",
   "metadata": {},
   "source": [
    "#### Question 7-"
   ]
  },
  {
   "cell_type": "markdown",
   "id": "443d5646-8af5-4637-bff4-f081e12d04d3",
   "metadata": {},
   "source": [
    "We are given a dataset with 5 features(customer's gender,age,contarct type,monthly charges, and tenure)"
   ]
  },
  {
   "cell_type": "markdown",
   "id": "e09ea451-6f96-4b3f-8ddb-4764af7ec13f",
   "metadata": {},
   "source": [
    "In this dataset 'Gender','Contract type' appear to be categorical features, so we can use OneHotEncoder for the Gender and Contract type features."
   ]
  },
  {
   "cell_type": "markdown",
   "id": "24a1648f-8d3b-4e5f-95cb-e7baa58934f4",
   "metadata": {},
   "source": [
    "Steps:\n",
    "1. import the OneHotEncoder from the sklearn library"
   ]
  },
  {
   "cell_type": "code",
   "execution_count": 3,
   "id": "b02a85c1-6a27-4a49-85b4-01c8c312ab9c",
   "metadata": {},
   "outputs": [],
   "source": [
    "from sklearn.preprocessing import OneHotEncoder"
   ]
  },
  {
   "cell_type": "markdown",
   "id": "527416c7-1630-403d-b9d7-a8acad5161e7",
   "metadata": {},
   "source": [
    "2. Make an object of the OnehotEncoder to initialize it."
   ]
  },
  {
   "cell_type": "code",
   "execution_count": 4,
   "id": "c706ae1d-9e93-4cab-bdab-f091f12b2ce1",
   "metadata": {},
   "outputs": [],
   "source": [
    "encoder=OneHotEncoder()"
   ]
  },
  {
   "cell_type": "markdown",
   "id": "bb608b87-9a67-4d5b-bee7-17ce1398b729",
   "metadata": {},
   "source": [
    "3. Fit the categorical data to be converted into numerical one using the fit_transform "
   ]
  },
  {
   "cell_type": "code",
   "execution_count": null,
   "id": "3dbee24c-ee03-45e0-96c1-159f66d52775",
   "metadata": {},
   "outputs": [],
   "source": [
    "encoder.fit_transform(data)"
   ]
  },
  {
   "cell_type": "markdown",
   "id": "9827953f-b0e8-4ad7-b329-61d8dbc64b8d",
   "metadata": {},
   "source": [
    "4. After the data is converted we can delete the columns with the Categorical features and use the encoded features instead."
   ]
  },
  {
   "cell_type": "code",
   "execution_count": null,
   "id": "35f8ff97-847d-4645-9e1b-000c29c828e9",
   "metadata": {},
   "outputs": [],
   "source": []
  }
 ],
 "metadata": {
  "kernelspec": {
   "display_name": "Python 3 (ipykernel)",
   "language": "python",
   "name": "python3"
  },
  "language_info": {
   "codemirror_mode": {
    "name": "ipython",
    "version": 3
   },
   "file_extension": ".py",
   "mimetype": "text/x-python",
   "name": "python",
   "nbconvert_exporter": "python",
   "pygments_lexer": "ipython3",
   "version": "3.10.8"
  }
 },
 "nbformat": 4,
 "nbformat_minor": 5
}
