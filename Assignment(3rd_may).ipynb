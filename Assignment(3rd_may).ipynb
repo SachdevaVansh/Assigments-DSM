{
 "cells": [
  {
   "cell_type": "markdown",
   "id": "e2bea3e6-4fc1-475e-b296-45ad85ab3fa6",
   "metadata": {},
   "source": [
    "Q1. What is the role of feature selection in anomaly detection?\n",
    "\n",
    "Ans: The role of feature selection in anomaly detection is to identify and select the most relevant and informative features from the dataset, which helps improve the accuracy and efficiency of anomaly detection algorithms by reducing dimensionality and removing irrelevant or redundant features."
   ]
  },
  {
   "cell_type": "markdown",
   "id": "206d4f1f-94b8-4fc0-b690-3325d2a7f174",
   "metadata": {},
   "source": [
    "Q2. What are some common evaluation metrics for anomaly detection algorithms and how are they computed?\n",
    "\n",
    "Ans: Common evaluation metrics for anomaly detection algorithms include:\n",
    "- True Positive (TP): The number of correctly identified anomalies.\n",
    "- True Negative (TN): The number of correctly identified normal instances.\n",
    "- False Positive (FP): The number of normal instances wrongly classified as anomalies.\n",
    "- False Negative (FN): The number of anomalies wrongly classified as normal instances.\n",
    "            \n",
    "Based on these metrics, the following evaluation measures can be computed:\n",
    "- Accuracy: (TP + TN) / (TP + TN + FP + FN)\n",
    "-  Precision: TP / (TP + FP)\n",
    "-    Recall (Sensitivity or True Positive Rate): TP / (TP + FN)\n",
    "- Specificity (True Negative Rate): TN / (TN + FP)\n",
    "-   F1 Score: 2 * (Precision * Recall) / (Precision + Recall)\n"
   ]
  },
  {
   "cell_type": "markdown",
   "id": "99961fde-4454-4779-9b35-4e635d341472",
   "metadata": {},
   "source": [
    "\n",
    "Q3. What is DBSCAN and how does it work for clustering?\n",
    "\n",
    "Ans: DBSCAN (Density-Based Spatial Clustering of Applications with Noise) is a clustering algorithm that groups together data points that \n",
    "         are close to each other in a dense region while separating outliers as noise. It works by defining a neighborhood around each data \n",
    "         point and expanding clusters based on the density of nearby points. It does not require specifying the number of clusters in advance\n",
    "         and is effective in identifying clusters of arbitrary shape.\n"
   ]
  },
  {
   "cell_type": "markdown",
   "id": "c84c5c82-5abb-4573-8a3a-4a2f2d4d0fa5",
   "metadata": {},
   "source": [
    "Q4. How does the epsilon parameter affect the performance of DBSCAN in detecting anomalies?\n",
    "\n",
    "Ans: The epsilon parameter in DBSCAN defines the maximum distance between two data points to be considered neighbors. \n",
    "         A smaller epsilon value makes the algorithm more sensitive to small clusters and outliers, increasing the likelihood of detecting \n",
    "         anomalies. However, setting epsilon too small may result in normal data points being considered as anomalies, while a large epsilon \n",
    "         may cause anomalies to be overlooked.\n"
   ]
  },
  {
   "cell_type": "markdown",
   "id": "b81341aa-6535-4a66-af39-3b305c46a93c",
   "metadata": {},
   "source": [
    "Q5. What are the differences between the core, border, and noise points in DBSCAN, and how do they relate to anomaly detection?\n",
    "\n",
    "Ans: In DBSCAN, core points are densely connected within the epsilon radius, border points are within the epsilon radius of a core point \n",
    "         but not densely connected, and noise points are neither core nor border points. Anomalies are often considered as noise points since \n",
    "         they don't conform to any cluster structure and are isolated from dense regions.\n"
   ]
  },
  {
   "cell_type": "markdown",
   "id": "101439d9-d1d4-474a-8c04-ee30ea539f66",
   "metadata": {},
   "source": [
    "Q6. How does DBSCAN detect anomalies and what are the key parameters involved in the process?\n",
    "\n",
    " Ans: DBSCAN can indirectly detect anomalies by considering data points that do not belong to any cluster as outliers or noise points. \n",
    "         The key parameters are the epsilon radius, which defines the neighborhood size, and the minimum number of points required to form a \n",
    "         dense region, known as the minPts parameter. Outliers are identified as points that do not satisfy these criteria.\n"
   ]
  },
  {
   "cell_type": "markdown",
   "id": "b1712a07-c748-4e25-ae05-db8c7357a416",
   "metadata": {},
   "source": [
    "Q7. What is the make_circles package in scikit-learn used for?\n",
    "\n",
    " Ans: The make_circles package in scikit-learn is used to generate a synthetic dataset consisting of concentric circles. It is commonly \n",
    "         used for testing and evaluating clustering or classification algorithms that can handle non-linearly separable data.\n"
   ]
  },
  {
   "cell_type": "markdown",
   "id": "6610dfd1-da7e-4570-9368-f183d62380a4",
   "metadata": {},
   "source": [
    "Q8. What are local outliers and global outliers, and how do they differ from each other?\n",
    "\n",
    "Ans: Local outliers are data points that are considered anomalous within a specific neighborhood or local region. They deviate from the \n",
    "         surrounding data points but may be normal in the context of the entire dataset. Global outliers, on the other hand, are anomalies \n",
    "         when considering the entire dataset, regardless of local neighborhoods.\n"
   ]
  },
  {
   "cell_type": "markdown",
   "id": "9b65ce35-03eb-4aa0-b6f7-50f9e6495683",
   "metadata": {},
   "source": [
    "Q9. How can local outliers be detected using the Local Outlier Factor (LOF) algorithm?\n",
    "\n",
    "Ans: The Local Outlier Factor (LOF) algorithm detects local outliers by measuring the density of a data point compared to its neighboring \n",
    "         points. A low LOF score indicates that the data point is less dense than its neighbors, suggesting it is a local outlier. \n",
    "-  Higher LOF scores indicate normal or global outliers.\n",
    "\n"
   ]
  },
  {
   "cell_type": "markdown",
   "id": "871a2eac-7ee3-48c6-bd2c-69992efcfbbd",
   "metadata": {},
   "source": [
    "Q10. How can global outliers be detected using the Isolation Forest algorithm?\n",
    "\n",
    " Ans: The Isolation Forest algorithm can detect global outliers by isolating anomalous data points that are easier to separate from the \n",
    "         majority of the normal data. It accomplishes this by constructing random decision trees and measuring the average number of splits \n",
    "         required to isolate an instance. Instances with fewer average splits are considered global outliers.\n"
   ]
  },
  {
   "cell_type": "markdown",
   "id": "8aec6560-996d-42cf-a4fc-de503e04c5e2",
   "metadata": {},
   "source": [
    "Q11. What are some real-world applications where local outlier detection is more appropriate than global outlier detection, and vice versa?\n",
    "\n",
    "Ans: Local outlier detection is more appropriate in applications where anomalies are expected to occur within specific local regions. \n",
    "         Examples include detecting fraudulent transactions within a specific geographic area, identifying unusual patterns in localized \n",
    "         sensor data, or detecting anomalies in localized network traffic.\n",
    "         On the other hand, global outlier detection is more suitable for applications where anomalies can occur anywhere in the dataset and \n",
    "         are not constrained to specific regions. Examples include detecting outliers in a dataset of customer behavior across multiple regions\n",
    "         or identifying rare disease outbreaks across a wide geographic area.\n"
   ]
  },
  {
   "cell_type": "code",
   "execution_count": null,
   "id": "24a1c504-6654-4313-b2aa-032b2d15e13e",
   "metadata": {},
   "outputs": [],
   "source": []
  }
 ],
 "metadata": {
  "kernelspec": {
   "display_name": "Python 3 (ipykernel)",
   "language": "python",
   "name": "python3"
  },
  "language_info": {
   "codemirror_mode": {
    "name": "ipython",
    "version": 3
   },
   "file_extension": ".py",
   "mimetype": "text/x-python",
   "name": "python",
   "nbconvert_exporter": "python",
   "pygments_lexer": "ipython3",
   "version": "3.10.8"
  }
 },
 "nbformat": 4,
 "nbformat_minor": 5
}
