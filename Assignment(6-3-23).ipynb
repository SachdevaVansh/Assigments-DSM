{
 "cells": [
  {
   "cell_type": "markdown",
   "id": "1f3f5b77-9708-451a-864d-897d5a22da93",
   "metadata": {},
   "source": [
    "#### Question 1-\n"
   ]
  },
  {
   "cell_type": "markdown",
   "id": "9735d3bd-03cb-47f2-899d-d632599041eb",
   "metadata": {},
   "source": [
    "Statistics is the science of collecting, organizing and analysing the data.\n",
    "Most of the data collected is emperical data i.e based on experiments not no mere ideas.\n",
    "Through statistics , we can draw relationship between the various variables of the data collected."
   ]
  },
  {
   "cell_type": "markdown",
   "id": "00ab139c-7f07-4dc4-9d0b-8c84797edf80",
   "metadata": {},
   "source": [
    "#### Question 2-"
   ]
  },
  {
   "cell_type": "markdown",
   "id": "8bdd53ad-a9fe-4421-bedc-00cd10dde2c9",
   "metadata": {},
   "source": [
    "There are two types of data:-"
   ]
  },
  {
   "cell_type": "markdown",
   "id": "0609ba32-db67-43c1-8f25-58c55036543e",
   "metadata": {},
   "source": [
    "1. Descrptive Statistics-\n",
    "It consists of organizing and summarizing data.\n",
    "This type of stats is used to measure central tendency, dispersion or distribution of data.\n",
    "Ex-\n",
    "Over the last month, what is the average temperature in Banglore ?"
   ]
  },
  {
   "cell_type": "markdown",
   "id": "fe2db622-e501-4c05-bc7c-9cf021d2a210",
   "metadata": {},
   "source": [
    "2. Inferential Statistics- \n",
    "It consists of using data that we have collected to form a conclusion. It includes Z-Test, t-test, CHI Square, p value, significance value etc.\n",
    "Ex-\n",
    "Is the temperature recorded in banglore same as that observed in Karnataka.\n"
   ]
  },
  {
   "cell_type": "markdown",
   "id": "a7abd151-4f92-40ea-afc4-c58528555b89",
   "metadata": {},
   "source": [
    "#### Question 3-"
   ]
  },
  {
   "cell_type": "markdown",
   "id": "9eae3cf0-42c5-444d-a3aa-12c08dd56f43",
   "metadata": {},
   "source": [
    "Data can be categorized in two parts-\n",
    "1. Quantitaive data\n",
    "2. Qualitative data"
   ]
  },
  {
   "cell_type": "markdown",
   "id": "46ba1eb6-f3ad-411e-909d-13f9452d0eb7",
   "metadata": {},
   "source": [
    "##### 1.Quantitative data- \n",
    "It consists of the numerical data which can be measured in terms of numbers.\n",
    "It has two parts-\n",
    "##### a.) Discrete data-\n",
    "It consists of whole numbers \n",
    "Ex- Number of days in a leap year\n",
    "\n",
    "##### b.) Continous data-\n",
    "It can take any value in terms of numbers.\n",
    "Ex- Height, weight etc.\n"
   ]
  },
  {
   "cell_type": "markdown",
   "id": "abee2578-6632-41ee-b0a7-8779629fa1e2",
   "metadata": {},
   "source": [
    "##### 2. Qualitative Data-\n",
    "It consists of categorical data. It has two parts-\n",
    "\n",
    "##### a.) Nominal data- \n",
    "Which can not be sorted based on rank\n",
    "Ex- gender, blood group, pincode etc.\n",
    "\n",
    "##### b.) Ordinal data- \n",
    "This data can be categorized based on rank.\n",
    "Ex- Customer feedback ( Good, Better, Bad)"
   ]
  },
  {
   "cell_type": "markdown",
   "id": "46ac51e1-5b80-44d4-83a1-b2ee3e96ba35",
   "metadata": {},
   "source": [
    "#### Question 4-"
   ]
  },
  {
   "cell_type": "markdown",
   "id": "da730796-ab2e-436e-8e5a-8ac3873ef571",
   "metadata": {},
   "source": [
    "(i) Grading in exam: A+, A, B+, B, C+, C, D, E\n",
    "\n",
    "Ordinal data\n",
    "\n",
    "(ii) Colour of mangoes: yellow, green, orange, red\n",
    "\n",
    "Nominal data\n",
    "\n",
    "(iii) Height data of a class: [178.9, 179, 179.5, 176, 177.2, 178.3, 175.8,...]\n",
    "\n",
    "Continuous data\n",
    "\n",
    "(iv) Number of mangoes exported by a farm: [500, 600, 478, 672, ...]\n",
    "\n",
    "Discrete data"
   ]
  },
  {
   "cell_type": "markdown",
   "id": "d60fb1b2-8ae1-40a8-a4ae-301a77a287cd",
   "metadata": {},
   "source": [
    "#### Question 5-"
   ]
  },
  {
   "cell_type": "markdown",
   "id": "dc54bf88-c954-49c3-ad26-c5cf8ab1df29",
   "metadata": {},
   "source": [
    "Levels of measurement, also called scales of measurement, tells how precicisely the variables are recorded in a dataset.\n",
    "The more precise variables would be dealing with numbers where comparison can be done, while the variables that do not deal with numbers would be less precise.\n",
    "\n",
    "There are various levels -\n",
    "\n",
    "1. Nominal Scale data:\n",
    "Ex-Gender, Colors\n",
    "\n",
    "2. Ordinal scale data:\n",
    "Ex-Customer ratings(best, better, good, bad, worst)\n",
    "\n",
    "3. Interval scale data:\n",
    "Ex-Temperature measurement\n",
    "\n",
    "4. Ratio scale data:\n",
    "Ex-Marks of students in a class"
   ]
  },
  {
   "cell_type": "markdown",
   "id": "c9f7dc0e-fcfe-4911-aa60-aae983199d53",
   "metadata": {},
   "source": [
    "#### Question 6-"
   ]
  },
  {
   "cell_type": "markdown",
   "id": "61c6638a-390c-4e4c-90dd-3a8c263b8dbc",
   "metadata": {},
   "source": [
    "Because in statistical data any value from a dataset can take the place of variable and can be used for analysis, but the level of measurement fo these variables determine how precisely the analysis would be carried out.\n",
    "\n",
    "Therefore, it is important to understand the level of measuremnet of variables.They determine the type of statistical analysis that can be conducted, and therefore, the type of conclusions that can be drawn from the dataset."
   ]
  },
  {
   "cell_type": "markdown",
   "id": "2d0aef2d-825c-4653-bf7e-781994ea4b2e",
   "metadata": {},
   "source": [
    "Example-\n",
    "\n",
    "If we want to gather data about people's income , we can ask people to categorise it on the basis of exact figures like-\n",
    "(a)10-20k\n",
    "(b)21-30k\n",
    "(c)31-40k\n",
    "\n",
    "And on the other hand, we can ask to categorize on basis of\n",
    "(a)high\n",
    "(b)medium\n",
    "(c)low\n",
    "\n",
    "In the first case, we can make comparison between the incomes of people, but in the second case, we cannot compare how a person earns with respect to other person."
   ]
  },
  {
   "cell_type": "markdown",
   "id": "f7f474bc-e24f-492f-a65b-d334244916e8",
   "metadata": {},
   "source": [
    "#### Question 7-"
   ]
  },
  {
   "cell_type": "markdown",
   "id": "38dce312-a805-4688-bb02-7b18a1e0f539",
   "metadata": {},
   "source": [
    "Nominal data is a group of non-parametric variables, while Ordinal data is a group of non-parametric ordered variables. Although, they are both non-parametric variables, what differentiates them is the fact that ordinal data is placed into some kind of order by their position.\n",
    "\n",
    "Example of Nominal data-Gender, Blood group, City Pincode\n",
    "Example of Ordinal data- Customer review\n",
    "\n",
    "Example-very hot, hot, cold, very cold, and warm are all nominal data when considered individually. But when placed on a scale and arranged in a given order (very hot, hot, warm, cold, very cold), they are regarded as ordinal data."
   ]
  },
  {
   "cell_type": "markdown",
   "id": "45b83d97-3e82-4f66-b27b-48e4fa093529",
   "metadata": {},
   "source": [
    "#### Question 8-"
   ]
  },
  {
   "cell_type": "markdown",
   "id": "97f7f55e-ea27-4cc5-92f5-457904afe61d",
   "metadata": {},
   "source": [
    "Histogram"
   ]
  },
  {
   "cell_type": "markdown",
   "id": "66a53d15-e66b-4ced-9863-d24d482d24e3",
   "metadata": {},
   "source": [
    "#### Question 9-"
   ]
  },
  {
   "cell_type": "markdown",
   "id": "0cf9f142-773c-4381-84d4-35f0a4fb154b",
   "metadata": {},
   "source": [
    "There are two types of data:-\n",
    "\n",
    "1. Descrptive Statistics-\n",
    "It consists of organizing and summarizing data.\n",
    "This type of stats is used to measure central tendency, dispersion or distribution of data.\n",
    "Ex-\n",
    "Over the last month, what is the average temperature in Banglore ?\n",
    "\n",
    "2. Inferential Statistics- \n",
    "It consists of using data that we have collected to form a conclusion. It includes Z-Test, t-test, CHI Square, p value, significance value etc.\n",
    "Ex-\n",
    "Is the temperature recorded in banglore same as that observed in Karnataka.\n"
   ]
  },
  {
   "cell_type": "markdown",
   "id": "64bb997c-70e1-4c1e-bc48-a4d1f03e7a75",
   "metadata": {},
   "source": [
    "#### Question 10-\n"
   ]
  },
  {
   "cell_type": "markdown",
   "id": "76815f2e-2fee-4d0d-aecb-8eb40eeadc10",
   "metadata": {},
   "source": [
    "Some common measures of central tendency and variability used in statistics are-\n",
    "\n",
    "##### 1. mean- \n",
    "One of the most effective measure of “Center” of the data. This is simply the arithmetic average of the values of a variable.\n",
    "\n",
    "##### 2. median-\n",
    "The middle value (50 percentile) of a value in an ordered dataset.\n",
    "\n",
    "##### 3. mode-\n",
    "Most Frequently occurring value of a variable.\n",
    "\n",
    "##### 4. variance-\n",
    "A variance is used to measure how far the data values are dispersed from the mean.\n",
    "\n",
    "##### 5. standard deviation-\n",
    "The standard deviation is the used to calculate the amount of dispersion of the given data set values.\n",
    " \n"
   ]
  },
  {
   "cell_type": "code",
   "execution_count": null,
   "id": "a3a1fec9-f7eb-4095-a19c-1b811688cf69",
   "metadata": {},
   "outputs": [],
   "source": []
  }
 ],
 "metadata": {
  "kernelspec": {
   "display_name": "Python 3 (ipykernel)",
   "language": "python",
   "name": "python3"
  },
  "language_info": {
   "codemirror_mode": {
    "name": "ipython",
    "version": 3
   },
   "file_extension": ".py",
   "mimetype": "text/x-python",
   "name": "python",
   "nbconvert_exporter": "python",
   "pygments_lexer": "ipython3",
   "version": "3.10.8"
  }
 },
 "nbformat": 4,
 "nbformat_minor": 5
}
