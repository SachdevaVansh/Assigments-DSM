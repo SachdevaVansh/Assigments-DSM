{
 "cells": [
  {
   "cell_type": "markdown",
   "id": "209fdc8e-eb02-4ad9-9c54-24fe155eb68f",
   "metadata": {},
   "source": [
    "#### Question 1-"
   ]
  },
  {
   "cell_type": "markdown",
   "id": "776612f6-0e1c-42c8-ac8e-372253752906",
   "metadata": {},
   "source": [
    "Abstraction is the process of hiding the internal details of an application from the outer world. Abstraction is used to describe things in simple terms. It’s used to create a boundary between the application and the client programs.\n",
    "\n",
    "Ex-A car is a great example of abstraction. We can start a car by turning the key or pressing the start button. We don’t need to know how the engine is getting started, what all components our car has. The car internal implementation and complex logic is completely hidden from the user.\n"
   ]
  },
  {
   "cell_type": "markdown",
   "id": "62b1e6a4-db9f-48cb-96e5-586991a7b81b",
   "metadata": {},
   "source": [
    "#### Question 2-"
   ]
  },
  {
   "cell_type": "markdown",
   "id": "b48d163e-9c49-47ca-bfaa-b48b22a496ff",
   "metadata": {},
   "source": [
    "#### ABSTRACTION-\n",
    "\n",
    "* Abstraction is the process or method of gaining the information.\n",
    "* In abstraction, problems are solved at the design or interface level.\n",
    "* Abstraction is the method of hiding the unwanted information.\n",
    "* We can implement abstraction using abstract class and interfaces.\n",
    "* The objects that help to perform abstraction are encapsulated.\n",
    "* Abstraction provides access to specific part of data.\n",
    "* Abstraction focus is on “what” should be done.\n",
    "\n",
    "#### ENCAPSULATION -\n",
    "\n",
    "* encapsulation is the process or method to contain the information.\n",
    "* problems are solved at the implementation level.\n",
    "* Whereas encapsulation is a method to hide the data in a single entity or unit along with a method to protect information from outside.\n",
    "* Whereas encapsulation can be implemented using by access modifier i.e. private, protected and public.\n",
    "* Whereas the objects that result in encapsulation need not be abstracted.\n",
    "* Encapsulation hides data and the user can not access same directly (data hiding).\n",
    "* Encapsulation focus is on “How” it should be done."
   ]
  },
  {
   "cell_type": "markdown",
   "id": "1b961879-07a6-4f3f-b1f6-661d28b738a5",
   "metadata": {},
   "source": [
    "#### Question 3-"
   ]
  },
  {
   "cell_type": "markdown",
   "id": "eb1b1acd-d950-44fb-8f37-90437662adca",
   "metadata": {},
   "source": [
    "#### ABSTRACT BASE CLASS(abc)-\n",
    "The main goal of the abstract base class is to provide a standardized way to test whether an object adheres to a given specification. It can also prevent any attempt to instantiate a subclass that doesn’t override a particular method in the superclass. And finally, using an abstract class, a class can derive identity from another class without any object inheritance."
   ]
  },
  {
   "cell_type": "markdown",
   "id": "202f0e3d-a144-4d5d-b5e8-1f3a6749d912",
   "metadata": {},
   "source": [
    "* An abstract base class is therefore useful to describe abstract units of behaviors that can be shared by multiple classes; it specifies a contract that all concrete derived classes must conform to."
   ]
  },
  {
   "cell_type": "markdown",
   "id": "ca0687dc-9e48-4b2c-aeb3-c2ff88884812",
   "metadata": {},
   "source": [
    "#### Question 4-"
   ]
  },
  {
   "cell_type": "markdown",
   "id": "6d9f5204-aad3-40a0-9bbf-47425a346301",
   "metadata": {},
   "source": [
    " In Python, abstraction can be achieved by having/using abstract classes and methods in our programs.\n",
    " \n",
    "##### Understanding Abstract Methods and Classes:\n",
    "\n",
    "An abstract method is a method that is declared, but does not contain implementation. An abstract method in a base class identifies the functionality that should be implemented by all its subclasses. However, since the implementation of an abstract method would differ from one subclass to another, often the method body comprises just a pass statement. Every subclass of the base class will ride this method with its implementation. A class containing abstract methods is called abstract class.\n",
    "\n",
    "##### Understanding Working program:\n",
    "\n",
    "\n",
    " "
   ]
  },
  {
   "cell_type": "markdown",
   "id": "2580dbe8-1e07-4013-8285-0e8c331a3340",
   "metadata": {},
   "source": [
    "#### Question 5-"
   ]
  },
  {
   "cell_type": "markdown",
   "id": "1f27b3a5-7f0d-4a82-b3b5-73d692121b0d",
   "metadata": {},
   "source": [
    "Abstract classes are not complete, as they may have some methods that are not defined. So we cannot create an instance or object of an abstract class in Python."
   ]
  },
  {
   "cell_type": "code",
   "execution_count": null,
   "id": "ee41250a-399c-42aa-8fa9-4483dbc030d1",
   "metadata": {},
   "outputs": [],
   "source": []
  }
 ],
 "metadata": {
  "kernelspec": {
   "display_name": "Python 3 (ipykernel)",
   "language": "python",
   "name": "python3"
  },
  "language_info": {
   "codemirror_mode": {
    "name": "ipython",
    "version": 3
   },
   "file_extension": ".py",
   "mimetype": "text/x-python",
   "name": "python",
   "nbconvert_exporter": "python",
   "pygments_lexer": "ipython3",
   "version": "3.10.8"
  }
 },
 "nbformat": 4,
 "nbformat_minor": 5
}
