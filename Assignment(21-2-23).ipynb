{
 "cells": [
  {
   "cell_type": "markdown",
   "id": "5285b615-2b15-481f-b884-a61cec1346b9",
   "metadata": {},
   "source": [
    "#### Question 1-\n"
   ]
  },
  {
   "cell_type": "markdown",
   "id": "b7a8f337-de7c-4bba-853c-1543703b89e6",
   "metadata": {},
   "source": [
    "Web Scraping is an automatic method of extracting large amount of data from a website.\n",
    "Most of the data is in unstructured format like HTML file which has to be converted into structured format in form of sheets or databases.\n",
    "Web Scraping can be achived by using API's of various websites for data extarction or otherwise scraping data using self-built programs."
   ]
  },
  {
   "cell_type": "markdown",
   "id": "0412c495-66b2-4f73-9376-4c7466488216",
   "metadata": {},
   "source": [
    "Web scraping can be used in -\n",
    "1.) Price Monitoring\n",
    "2.) Market Research \n",
    "3.) News Monitoring\n",
    "4.) Sentiment Analysis \n",
    "5.) Email marketing"
   ]
  },
  {
   "cell_type": "markdown",
   "id": "0626140d-aab3-42e9-ac3b-6d5449306a15",
   "metadata": {},
   "source": [
    "#### Question 2-"
   ]
  },
  {
   "cell_type": "markdown",
   "id": "db2653ba-157b-4c2d-9e24-8b3aff8e6e27",
   "metadata": {},
   "source": [
    "1.)Copy and Paste\n",
    "2.)Text pattern matching\n",
    "3.)HTTP Programming\n",
    "4.) HTML parsing\n",
    "5.) DOM Parsing\n",
    "6.) Vertical Aggregation\n",
    "7.) XPATH\n",
    "8.) Google Sheets\n"
   ]
  },
  {
   "cell_type": "markdown",
   "id": "7b26d219-0d23-49c2-817a-20022dba1f5c",
   "metadata": {},
   "source": [
    "#### Question 3-"
   ]
  },
  {
   "cell_type": "markdown",
   "id": "00b46781-d846-4f31-8a0b-e9adb0474195",
   "metadata": {},
   "source": [
    "Beautiful Soup is a Python library that is used for web scraping purposes to pull the data out of HTML and XML files. It creates a parse tree from page source code that can be used to extract data in a hierarchical and more readable manner."
   ]
  },
  {
   "cell_type": "markdown",
   "id": "31c1ae85-22a5-4f46-af7e-2985e840668f",
   "metadata": {},
   "source": [
    "It hwlps with isolating titles and links from wepages. It can extract all of the text from HTML tags, and alter the HTML in the document with which we are working."
   ]
  },
  {
   "cell_type": "markdown",
   "id": "83f71c41-e131-437c-94bd-b1235b0f87ef",
   "metadata": {},
   "source": [
    "#### Question 4-"
   ]
  },
  {
   "cell_type": "markdown",
   "id": "c97fe8b6-0465-4b5e-b047-29a6dca6c3e7",
   "metadata": {},
   "source": [
    "Flask is a micro web application framework written in Python. Flask reduces development time and allows programmers to build faster and smarter. \n",
    "Flask is used in Web Scraping because of the following reasons-Extensible framework\n",
    "*Fast debugging\n",
    "*Support for cookies\n",
    "*Lightweight & modular\n",
    "*Highly flexible\n",
    "*Easy-to-deploy\n",
    "*Open-source, hence free\n",
    "*Highly secure"
   ]
  },
  {
   "cell_type": "markdown",
   "id": "5794ef62-d875-4343-b853-63a5d18fbdc0",
   "metadata": {},
   "source": [
    "#### Question 5-"
   ]
  },
  {
   "cell_type": "markdown",
   "id": "e26a7145-7150-4a91-b0c9-98cbebdbda4f",
   "metadata": {},
   "source": [
    "The AWS services used in the project are-\n"
   ]
  },
  {
   "cell_type": "markdown",
   "id": "ee2593ee-dca3-4ef5-bbcc-fde02670ed17",
   "metadata": {},
   "source": [
    "1. pipeline- It is the process of storing and prioritizing computer instructions that the processor executes."
   ]
  },
  {
   "cell_type": "markdown",
   "id": "b592436d-8fa2-4fe5-a41d-81404ce375a9",
   "metadata": {},
   "source": [
    "AWS CodePipeline provides us with a graphical user interface to create, configure, and manage our pipeline and its various stages and actions."
   ]
  },
  {
   "cell_type": "markdown",
   "id": "e34b8c7d-6d8f-4bab-93d9-8c095ae2fd65",
   "metadata": {},
   "source": [
    "Pipeline works a s a connection between our Github repository and the BeanStalk server."
   ]
  },
  {
   "cell_type": "markdown",
   "id": "5dc8b72c-3b39-400b-a7a5-b004d8791f56",
   "metadata": {},
   "source": [
    "2. Elastic Beanstalk is a service provided by AWS wherein we can craete, run, and manage application without worrying about the underlyning infrastructure.\n",
    "We can directly upload our website code to BeanStalk, and it will automatically host the application for us with a URL."
   ]
  },
  {
   "cell_type": "code",
   "execution_count": null,
   "id": "8c5f264b-620f-404b-83dd-c23777651fdf",
   "metadata": {},
   "outputs": [],
   "source": []
  }
 ],
 "metadata": {
  "kernelspec": {
   "display_name": "Python 3 (ipykernel)",
   "language": "python",
   "name": "python3"
  },
  "language_info": {
   "codemirror_mode": {
    "name": "ipython",
    "version": 3
   },
   "file_extension": ".py",
   "mimetype": "text/x-python",
   "name": "python",
   "nbconvert_exporter": "python",
   "pygments_lexer": "ipython3",
   "version": "3.10.8"
  }
 },
 "nbformat": 4,
 "nbformat_minor": 5
}
