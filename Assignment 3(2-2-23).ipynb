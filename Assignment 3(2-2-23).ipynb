{
 "cells": [
  {
   "cell_type": "markdown",
   "id": "24e4a270-6dae-4ca3-a0fa-0b2c62aead61",
   "metadata": {},
   "source": [
    "#### Question number-1"
   ]
  },
  {
   "cell_type": "markdown",
   "id": "400f9d13-0831-4316-9733-f65f647382e6",
   "metadata": {},
   "source": [
    "For loop is used when we want to execute a statement/command for a specified number of times.\n",
    "Ex- printing whole numbers from 0 to 10."
   ]
  },
  {
   "cell_type": "code",
   "execution_count": 1,
   "id": "50f1cca3-8169-4369-ad17-b161e3200721",
   "metadata": {},
   "outputs": [
    {
     "name": "stdout",
     "output_type": "stream",
     "text": [
      "0\n",
      "1\n",
      "2\n",
      "3\n",
      "4\n",
      "5\n",
      "6\n",
      "7\n",
      "8\n",
      "9\n",
      "10\n"
     ]
    }
   ],
   "source": [
    "for i in range(0,11):\n",
    "    print(i)"
   ]
  },
  {
   "cell_type": "markdown",
   "id": "42a4c59b-e671-4c98-84b3-3ed3457af339",
   "metadata": {},
   "source": [
    "While loop is used when we do not know exactly how many times the loop will run, so we specify the initial condition outside the loop in order to start the loop and in the loop we then specify the condition and at last do the increment or decrement as required.\n",
    "As long as the condition specified holds true, the loop will run."
   ]
  },
  {
   "cell_type": "code",
   "execution_count": 3,
   "id": "4626ce3e-b71d-446b-8057-ab6c9c82900f",
   "metadata": {},
   "outputs": [
    {
     "name": "stdout",
     "output_type": "stream",
     "text": [
      "0\n",
      "6\n",
      "12\n",
      "18\n",
      "24\n",
      "30\n",
      "36\n",
      "42\n",
      "48\n",
      "54\n",
      "60\n",
      "66\n"
     ]
    }
   ],
   "source": [
    "a=0;\n",
    "while a<68:\n",
    "    if a%6==0:\n",
    "        print(a)\n",
    "        a=a+1\n",
    "    else:\n",
    "        a=a+1"
   ]
  },
  {
   "cell_type": "markdown",
   "id": "efac78ca-27aa-4872-a192-b7a71808a870",
   "metadata": {},
   "source": [
    "#### Question number -2"
   ]
  },
  {
   "cell_type": "code",
   "execution_count": 7,
   "id": "9e26e063-c5e9-4d0b-a1e2-3aa0aebf1802",
   "metadata": {},
   "outputs": [
    {
     "name": "stdout",
     "output_type": "stream",
     "text": [
      "Sum : 55 product : 3628800\n"
     ]
    }
   ],
   "source": [
    "sum=0\n",
    "product=1\n",
    "for i in range(1,11):\n",
    "    sum=sum+i\n",
    "    product=product*i\n",
    "else:\n",
    "    print(\"Sum :\",sum,\"product :\",product)\n"
   ]
  },
  {
   "cell_type": "code",
   "execution_count": 9,
   "id": "e39b4ba8-28a1-4210-b6b0-390193489869",
   "metadata": {},
   "outputs": [
    {
     "name": "stdout",
     "output_type": "stream",
     "text": [
      "Sum : 55 product : 3628800\n"
     ]
    }
   ],
   "source": [
    "n=10\n",
    "sum=0\n",
    "product=1\n",
    "i=1\n",
    "while i<=n:\n",
    "    sum=sum+i\n",
    "    product=product*i\n",
    "    i=i+1\n",
    "else:\n",
    "     print(\"Sum :\",sum,\"product :\",product)"
   ]
  },
  {
   "cell_type": "markdown",
   "id": "77ec7d37-fe8d-435c-8fae-d1df6e20aa76",
   "metadata": {},
   "source": [
    "#### Question number -3"
   ]
  },
  {
   "cell_type": "code",
   "execution_count": 37,
   "id": "d16126dc-2445-4b19-804a-e80c9944647c",
   "metadata": {},
   "outputs": [
    {
     "name": "stdin",
     "output_type": "stream",
     "text": [
      "Enter the units consumed in the month 210\n"
     ]
    },
    {
     "name": "stdout",
     "output_type": "stream",
     "text": [
      "1150.0\n"
     ]
    }
   ],
   "source": [
    "units=int(input(\"Enter the units consumed in the month\"))\n",
    "sum1=0\n",
    "sum2=0\n",
    "sum3=0\n",
    "sum4=0\n",
    "if units<=100:\n",
    "    sum1=units*4.5         \n",
    "elif units>100 and units<=200:\n",
    "    sum1=100*4.5\n",
    "    sum2=(units-100)*6\n",
    "elif units>200 and units<=300:\n",
    "    sum1=100*4.5\n",
    "    sum2=100*6\n",
    "    sum3=(units-200)*10\n",
    "elif units>300:\n",
    "    sum1=100*4.5\n",
    "    sum2=100*6\n",
    "    sum3=100*10\n",
    "    sum4=(units-300)*20\n",
    "print(sum1+sum2+sum3+sum4)\n",
    "        \n"
   ]
  },
  {
   "cell_type": "markdown",
   "id": "7664ee49-ff28-4ddf-85d2-d5efba74c896",
   "metadata": {},
   "source": [
    "#### Question no-4"
   ]
  },
  {
   "cell_type": "code",
   "execution_count": 7,
   "id": "0a587a10-d9db-4610-9c87-ddf83b9a207b",
   "metadata": {},
   "outputs": [],
   "source": [
    "l=[]\n",
    "for i in range(1,101):\n",
    "    l.append(i)"
   ]
  },
  {
   "cell_type": "code",
   "execution_count": 8,
   "id": "5d39429e-dfa3-44e0-9d3a-e024fbeea5b2",
   "metadata": {},
   "outputs": [
    {
     "data": {
      "text/plain": [
       "[1,\n",
       " 2,\n",
       " 3,\n",
       " 4,\n",
       " 5,\n",
       " 6,\n",
       " 7,\n",
       " 8,\n",
       " 9,\n",
       " 10,\n",
       " 11,\n",
       " 12,\n",
       " 13,\n",
       " 14,\n",
       " 15,\n",
       " 16,\n",
       " 17,\n",
       " 18,\n",
       " 19,\n",
       " 20,\n",
       " 21,\n",
       " 22,\n",
       " 23,\n",
       " 24,\n",
       " 25,\n",
       " 26,\n",
       " 27,\n",
       " 28,\n",
       " 29,\n",
       " 30,\n",
       " 31,\n",
       " 32,\n",
       " 33,\n",
       " 34,\n",
       " 35,\n",
       " 36,\n",
       " 37,\n",
       " 38,\n",
       " 39,\n",
       " 40,\n",
       " 41,\n",
       " 42,\n",
       " 43,\n",
       " 44,\n",
       " 45,\n",
       " 46,\n",
       " 47,\n",
       " 48,\n",
       " 49,\n",
       " 50,\n",
       " 51,\n",
       " 52,\n",
       " 53,\n",
       " 54,\n",
       " 55,\n",
       " 56,\n",
       " 57,\n",
       " 58,\n",
       " 59,\n",
       " 60,\n",
       " 61,\n",
       " 62,\n",
       " 63,\n",
       " 64,\n",
       " 65,\n",
       " 66,\n",
       " 67,\n",
       " 68,\n",
       " 69,\n",
       " 70,\n",
       " 71,\n",
       " 72,\n",
       " 73,\n",
       " 74,\n",
       " 75,\n",
       " 76,\n",
       " 77,\n",
       " 78,\n",
       " 79,\n",
       " 80,\n",
       " 81,\n",
       " 82,\n",
       " 83,\n",
       " 84,\n",
       " 85,\n",
       " 86,\n",
       " 87,\n",
       " 88,\n",
       " 89,\n",
       " 90,\n",
       " 91,\n",
       " 92,\n",
       " 93,\n",
       " 94,\n",
       " 95,\n",
       " 96,\n",
       " 97,\n",
       " 98,\n",
       " 99,\n",
       " 100]"
      ]
     },
     "execution_count": 8,
     "metadata": {},
     "output_type": "execute_result"
    }
   ],
   "source": [
    "l"
   ]
  },
  {
   "cell_type": "code",
   "execution_count": 9,
   "id": "df7259e1-f1fc-458c-8001-be8c28746e8e",
   "metadata": {},
   "outputs": [],
   "source": [
    "for i in range(0,100):\n",
    "    l[i]=(l[i]*l[i]*l[i])\n",
    "    "
   ]
  },
  {
   "cell_type": "code",
   "execution_count": 10,
   "id": "9eb2270d-8e3a-47f7-a20d-dd40e3bf479d",
   "metadata": {},
   "outputs": [],
   "source": [
    "l1=[]\n",
    "for i in l:\n",
    "    if i%4==0 or i%5==0:\n",
    "       l1.append(i**(1/3))"
   ]
  },
  {
   "cell_type": "markdown",
   "id": "ad15aaa4-081d-40d2-b897-ee58972b66df",
   "metadata": {},
   "source": [
    "#### Question number 5-"
   ]
  },
  {
   "cell_type": "code",
   "execution_count": 17,
   "id": "556d80c9-6c88-4b88-9f9c-618b031c64bd",
   "metadata": {},
   "outputs": [
    {
     "ename": "IndentationError",
     "evalue": "unindent does not match any outer indentation level (<tokenize>, line 6)",
     "output_type": "error",
     "traceback": [
      "\u001b[0;36m  File \u001b[0;32m<tokenize>:6\u001b[0;36m\u001b[0m\n\u001b[0;31m    \"\"\" if(s[i]=='e'):\u001b[0m\n\u001b[0m    ^\u001b[0m\n\u001b[0;31mIndentationError\u001b[0m\u001b[0;31m:\u001b[0m unindent does not match any outer indentation level\n"
     ]
    }
   ],
   "source": [
    "s=\"i want to become a data scientist\"\n",
    "count=0\n",
    "for i in range(0,len(s)):\n",
    "    if(s[i]=='a' or s[i]=='e'):\n",
    "        count=count+1\n",
    "   # if(s[i]=='e'):\n",
    "    #    count=count+1 \"\"\"\n",
    "else:\n",
    "    print(count)"
   ]
  },
  {
   "cell_type": "code",
   "execution_count": null,
   "id": "ce22b9dc-a9f7-40e0-a673-9dba4c97ba79",
   "metadata": {},
   "outputs": [],
   "source": []
  }
 ],
 "metadata": {
  "kernelspec": {
   "display_name": "Python 3 (ipykernel)",
   "language": "python",
   "name": "python3"
  },
  "language_info": {
   "codemirror_mode": {
    "name": "ipython",
    "version": 3
   },
   "file_extension": ".py",
   "mimetype": "text/x-python",
   "name": "python",
   "nbconvert_exporter": "python",
   "pygments_lexer": "ipython3",
   "version": "3.10.8"
  }
 },
 "nbformat": 4,
 "nbformat_minor": 5
}
