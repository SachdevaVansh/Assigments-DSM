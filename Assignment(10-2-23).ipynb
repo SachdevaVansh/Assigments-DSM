{
 "cells": [
  {
   "cell_type": "markdown",
   "id": "1ea3cf30-0c97-4ded-8903-dc50e769813c",
   "metadata": {},
   "source": [
    "#### Question 1-"
   ]
  },
  {
   "cell_type": "markdown",
   "id": "774c0d47-32ad-4735-9a98-940cc93e8747",
   "metadata": {},
   "source": [
    "open() function is used to open files in python.\n",
    "This is the primay file handling function in python, which takes two parameters- file name and mode of file opening."
   ]
  },
  {
   "cell_type": "markdown",
   "id": "0b6b8f6d-9abb-4abd-a82b-3ec3d317b038",
   "metadata": {},
   "source": [
    "Modes-\n",
    "\n",
    "* 'r'-Reads from a file and returns an error if the file does not exist (default).\n",
    "* 'w'-Writes to a file and creates the file if it does not exist or overwrites an existing file.\n",
    "* 'x'-Exclusive creation that fails if the file already exists.\n",
    "* 'a'-Appends to a file and creates the file if it does not exist or overwrites an existing file.\n",
    "* 'b'- Binary mode. Use this mode for non-textual files, such as images.\n",
    "* 't'-Text mode. Use only for textual files (default)"
   ]
  },
  {
   "cell_type": "markdown",
   "id": "b9a40c0d-9c85-45db-8152-857c8ad8457f",
   "metadata": {},
   "source": [
    "#### Question 2-"
   ]
  },
  {
   "cell_type": "markdown",
   "id": "d2f3515a-42fc-4815-9507-8c65843abfad",
   "metadata": {},
   "source": [
    "Python file method close() closes the opened file. A closed file cannot be read or written any more. Any operation, which requires that the file be opened will raise a ValueError after the file has been closed. Calling close() more than once is allowed."
   ]
  },
  {
   "cell_type": "markdown",
   "id": "bae3f136-6011-47a4-b8a7-0933e60f70be",
   "metadata": {},
   "source": [
    "* When a file is open, the operating system allocates memory and other resources to the file, which can potentially impact the performance of the system if too many files are open at the same time. By closing the file, you release these resources back to the system, which can be used by other processes or programs."
   ]
  },
  {
   "cell_type": "markdown",
   "id": "a2137fa1-9790-4a4f-9576-135ee5f81afa",
   "metadata": {},
   "source": [
    "#### Question 3-"
   ]
  },
  {
   "cell_type": "code",
   "execution_count": 1,
   "id": "c4cf11f0-9732-4232-aaf5-78a9bcdb7aab",
   "metadata": {},
   "outputs": [],
   "source": [
    "f=open('text.txt','w')"
   ]
  },
  {
   "cell_type": "code",
   "execution_count": 2,
   "id": "5eafd35b-2b5c-4b47-83ec-29ddb287b7da",
   "metadata": {},
   "outputs": [
    {
     "data": {
      "text/plain": [
       "33"
      ]
     },
     "execution_count": 2,
     "metadata": {},
     "output_type": "execute_result"
    }
   ],
   "source": [
    "f.write(\"I want to become a Data Scientist\")"
   ]
  },
  {
   "cell_type": "code",
   "execution_count": 3,
   "id": "dc3b3a78-9fcf-4677-95e2-f8ab68af7d62",
   "metadata": {},
   "outputs": [],
   "source": [
    "f.close()"
   ]
  },
  {
   "cell_type": "code",
   "execution_count": 4,
   "id": "0acb09fe-0ca5-4b18-8f41-b3d7e9d74459",
   "metadata": {},
   "outputs": [
    {
     "data": {
      "text/plain": [
       "'I want to become a Data Scientist'"
      ]
     },
     "execution_count": 4,
     "metadata": {},
     "output_type": "execute_result"
    }
   ],
   "source": [
    "f=open('text.txt','r')\n",
    "f.read()"
   ]
  },
  {
   "cell_type": "markdown",
   "id": "67fc7f58-176e-4d55-9150-7b3f24e703ee",
   "metadata": {},
   "source": [
    "#### Question 4-"
   ]
  },
  {
   "cell_type": "markdown",
   "id": "84a31c36-3b06-4105-8a61-0c5ff5d69ceb",
   "metadata": {},
   "source": [
    "#### read():\n",
    "The read() method returns the specified number of bytes from the file. Default is -1 which means the whole file."
   ]
  },
  {
   "cell_type": "code",
   "execution_count": 7,
   "id": "8e7c3fbd-6cfe-4429-a7e9-25bdd3a691fb",
   "metadata": {},
   "outputs": [
    {
     "data": {
      "text/plain": [
       "'I wan'"
      ]
     },
     "execution_count": 7,
     "metadata": {},
     "output_type": "execute_result"
    }
   ],
   "source": [
    "f=open('text.txt','r')\n",
    "f.read(5)"
   ]
  },
  {
   "cell_type": "code",
   "execution_count": 8,
   "id": "d5d90d05-5401-4a8e-aae4-5c77dadeff7e",
   "metadata": {},
   "outputs": [
    {
     "data": {
      "text/plain": [
       "'t to become a Data Scientist'"
      ]
     },
     "execution_count": 8,
     "metadata": {},
     "output_type": "execute_result"
    }
   ],
   "source": [
    "f.read()"
   ]
  },
  {
   "cell_type": "markdown",
   "id": "4106f3ae-55a7-4029-ba03-3f035a21e530",
   "metadata": {},
   "source": [
    "#### readline():\n",
    "The readline() method returns one line from the file. We can also specify how many bytes from the line to return, by using the size parameter."
   ]
  },
  {
   "cell_type": "code",
   "execution_count": 14,
   "id": "24b372b6-2594-4235-81b9-35d37591d508",
   "metadata": {},
   "outputs": [
    {
     "data": {
      "text/plain": [
       "'I want to become a Data Scientist'"
      ]
     },
     "execution_count": 14,
     "metadata": {},
     "output_type": "execute_result"
    }
   ],
   "source": [
    "f=open('text.txt','r')\n",
    "f.readline()"
   ]
  },
  {
   "cell_type": "code",
   "execution_count": 15,
   "id": "d5797e3c-4304-4ded-bab4-0250ac2c7ec8",
   "metadata": {},
   "outputs": [
    {
     "data": {
      "text/plain": [
       "0"
      ]
     },
     "execution_count": 15,
     "metadata": {},
     "output_type": "execute_result"
    }
   ],
   "source": [
    "f.seek(0)"
   ]
  },
  {
   "cell_type": "code",
   "execution_count": 16,
   "id": "13b95676-ea41-49e4-a1f5-1a4f2d65b480",
   "metadata": {},
   "outputs": [
    {
     "data": {
      "text/plain": [
       "'I want t'"
      ]
     },
     "execution_count": 16,
     "metadata": {},
     "output_type": "execute_result"
    }
   ],
   "source": [
    "f.readline(8)"
   ]
  },
  {
   "cell_type": "markdown",
   "id": "c6a05d2e-a554-4aa8-8b9f-806bf3bd11a4",
   "metadata": {},
   "source": [
    "#### readlines():\n",
    "The readlines() method returns a list containing each line in the file as a list item. Use the hint parameter to limit the number of lines returned."
   ]
  },
  {
   "cell_type": "code",
   "execution_count": 17,
   "id": "10cd015b-e38f-43c1-930b-5877e093e536",
   "metadata": {},
   "outputs": [],
   "source": [
    "with open('text.txt','a') as f:\n",
    "    f.write(\"I also want to become data analyst\")"
   ]
  },
  {
   "cell_type": "code",
   "execution_count": 19,
   "id": "155d7ede-97b5-4bf5-99df-b772e0d8fba1",
   "metadata": {},
   "outputs": [
    {
     "name": "stdout",
     "output_type": "stream",
     "text": [
      "['I want to become a Data ScientistI also want to become data analyst']\n"
     ]
    }
   ],
   "source": [
    "with open('text.txt','r') as f:\n",
    "    print(f.readlines())"
   ]
  },
  {
   "cell_type": "markdown",
   "id": "162a6fb5-1323-4227-8e0c-b9d1c37dec25",
   "metadata": {},
   "source": [
    "#### Question 5-"
   ]
  },
  {
   "cell_type": "markdown",
   "id": "e88f4c0d-173a-447b-94f6-2bffa4ff3478",
   "metadata": {},
   "source": [
    "The with statement works with the open() function to open a file. Unlike open() where you have to close the file with the close() method, the with statement closes the file for us without telling it to us. This is because the with statement calls 2 built-in methods behind the scene – __enter()__ and __exit()__ ."
   ]
  },
  {
   "cell_type": "markdown",
   "id": "71145289-ff1c-4e6a-ba82-ac2583b40ecd",
   "metadata": {},
   "source": [
    "Opening files using the with statement is generally recommended because it ensures that open file descriptors are automatically closed after the flow of execution leaves the with code block."
   ]
  },
  {
   "cell_type": "markdown",
   "id": "09103df4-dfdc-408b-82ea-bd494c5d4a6a",
   "metadata": {},
   "source": [
    "#### Question 6-"
   ]
  },
  {
   "cell_type": "markdown",
   "id": "da2a9dba-0863-4dba-9446-e9ef133aa528",
   "metadata": {},
   "source": [
    "There are two ways to write in a file-\n",
    "\n",
    "1. write(): inserts the string in a single line in the text file\n",
    "\n",
    "2. writelines(): used to insert multiple strings in the text file at the same time. If we have a list of string elements, each string is inserted in the text file all at once."
   ]
  },
  {
   "cell_type": "code",
   "execution_count": 21,
   "id": "62ce8069-17c8-49c8-84cf-207c379fcc2b",
   "metadata": {},
   "outputs": [
    {
     "name": "stdout",
     "output_type": "stream",
     "text": [
      "Hello\n",
      "This is Delhi \n",
      "This is Paris \n",
      "This is London \n",
      "\n"
     ]
    }
   ],
   "source": [
    "file1=open('text.txt','w')\n",
    "l=[\"This is Delhi \\n\", \"This is Paris \\n\", \"This is London \\n\"]\n",
    "s=\"Hello\\n\"\n",
    "\n",
    "# writing a string to a file\n",
    "file1.write(s)\n",
    "\n",
    "# writing multiple strings\n",
    "file1.writelines(l)\n",
    "\n",
    "#closing the file\n",
    "file1.close()\n",
    "\n",
    "#reading the file\n",
    "file1=open('text.txt','r')\n",
    "print(file1.read())\n",
    "file1.close()"
   ]
  },
  {
   "cell_type": "code",
   "execution_count": null,
   "id": "51fd2591-6a9f-4a6b-8cfd-6f53739688b9",
   "metadata": {},
   "outputs": [],
   "source": []
  }
 ],
 "metadata": {
  "kernelspec": {
   "display_name": "Python 3 (ipykernel)",
   "language": "python",
   "name": "python3"
  },
  "language_info": {
   "codemirror_mode": {
    "name": "ipython",
    "version": 3
   },
   "file_extension": ".py",
   "mimetype": "text/x-python",
   "name": "python",
   "nbconvert_exporter": "python",
   "pygments_lexer": "ipython3",
   "version": "3.10.8"
  }
 },
 "nbformat": 4,
 "nbformat_minor": 5
}
