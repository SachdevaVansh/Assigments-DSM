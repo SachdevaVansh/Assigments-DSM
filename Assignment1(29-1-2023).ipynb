{
 "cells": [
  {
   "cell_type": "raw",
   "id": "5364c590-ad5e-4725-a1d8-96e6d33f94f4",
   "metadata": {},
   "source": [
    "1. Guido van Rossum invented python programming language in 1991."
   ]
  },
  {
   "cell_type": "raw",
   "id": "d1d516c1-a272-40e4-a981-8643ef7ddbd7",
   "metadata": {},
   "source": [
    "2. Python is a multi-paradigm programming language which supports Object-orineted Programmming, Structured programming as well as Functional programming."
   ]
  },
  {
   "cell_type": "raw",
   "id": "22ccf47a-fcb5-4453-92c0-9f7699347346",
   "metadata": {},
   "source": [
    "3. Yes"
   ]
  },
  {
   "cell_type": "raw",
   "id": "16cfaabf-04cb-4d70-adbd-7011d9fe4adb",
   "metadata": {},
   "source": [
    "4. .py"
   ]
  },
  {
   "cell_type": "raw",
   "id": "2f8c80a6-51e9-493f-9514-8eafe5af71e7",
   "metadata": {},
   "source": [
    "5. Python code is interpreted"
   ]
  },
  {
   "cell_type": "raw",
   "id": "e1d0f31f-1660-4f64-af9d-3a8a158a2df6",
   "metadata": {},
   "source": [
    "6. a module, a function body and a class definition "
   ]
  },
  {
   "cell_type": "raw",
   "id": "6ffaa51a-db39-4f90-ae7d-da30bc36ed1a",
   "metadata": {},
   "source": [
    "7. #"
   ]
  },
  {
   "cell_type": "raw",
   "id": "a96b8217-5af4-4ce9-b965-965666a2c374",
   "metadata": {},
   "source": [
    "8. python_version()"
   ]
  },
  {
   "cell_type": "raw",
   "id": "133b1faf-c0c1-4d75-8027-d13841545bea",
   "metadata": {},
   "source": [
    "9. lambda"
   ]
  },
  {
   "cell_type": "raw",
   "id": "eba3380f-3fef-4ad8-91ee-b52643c9fa7c",
   "metadata": {},
   "source": [
    "10. preferred installer program"
   ]
  },
  {
   "cell_type": "raw",
   "id": "9a9a9a79-e728-4ea5-be83-66173437dfc4",
   "metadata": {},
   "source": [
    "11. type(),print(),input(),append(),delete(),len(),extend(), remove() etc."
   ]
  },
  {
   "cell_type": "raw",
   "id": "8b429c95-c579-4d9d-b23f-66b6cc47ce57",
   "metadata": {},
   "source": [
    "12. 79 characters "
   ]
  },
  {
   "cell_type": "raw",
   "id": "8cd283c6-b72e-4fc6-b94e-46bed913468f",
   "metadata": {},
   "source": [
    "13. i.)Easy to read, write and understand\n",
    "ii.) Powerful high-level programming language\n",
    "iii.) Users can define functions of thier own\n",
    "iv.) Improved productivity\n",
    "v.) Interpreted language"
   ]
  },
  {
   "cell_type": "raw",
   "id": "f2289b58-323a-46c1-bd6d-40340a750b17",
   "metadata": {},
   "source": [
    "14. Memory management in Python involves a private heap containing all Python objects and data structures. The management of this private heap is ensured internally by the Python memory manager.\n"
   ]
  },
  {
   "cell_type": "raw",
   "id": "18fc68c7-069a-4b75-b8e1-e99509ae04ac",
   "metadata": {},
   "source": [
    "15. STEPS---> \n",
    "\n",
    "1.Right-clicking This PC and going to Properties.\n",
    "\n",
    "2.Clicking on the Advanced system settings in the menu on the left.\n",
    "\n",
    "3.Clicking on the Environment Variables button o​n the bottom right.\n",
    "\n",
    "4.In the System variables section, selecting the Path variable and clicking on Edit. The next screen will show all the directories that are currently a part of the PATH variable.\n",
    "\n",
    "5.Clicking on New and entering Python’s install directory."
   ]
  },
  {
   "cell_type": "raw",
   "id": "063f5ecf-8924-4229-bc98-ad41b6f0a355",
   "metadata": {},
   "source": [
    "16. Yes, indentation is very important in python language. Python uses indentation to specify the code blocks."
   ]
  }
 ],
 "metadata": {
  "kernelspec": {
   "display_name": "Python 3 (ipykernel)",
   "language": "python",
   "name": "python3"
  },
  "language_info": {
   "codemirror_mode": {
    "name": "ipython",
    "version": 3
   },
   "file_extension": ".py",
   "mimetype": "text/x-python",
   "name": "python",
   "nbconvert_exporter": "python",
   "pygments_lexer": "ipython3",
   "version": "3.10.8"
  }
 },
 "nbformat": 4,
 "nbformat_minor": 5
}
