{
 "cells": [
  {
   "cell_type": "markdown",
   "id": "ddc2b9d5-f1ec-45bb-9cf5-c3892eabba68",
   "metadata": {},
   "source": [
    "1. Guido van Rossum invented python programming language in 1991."
   ]
  },
  {
   "cell_type": "markdown",
   "id": "46949660-978c-4919-b33e-807378b6aa6b",
   "metadata": {},
   "source": [
    "2. Python is a multi-paradigm programming language which supports Object-orineted Programmming, Structured programming as well as Functional programming."
   ]
  },
  {
   "cell_type": "markdown",
   "id": "adc285be-ea35-42eb-84ea-bbbd2a61296b",
   "metadata": {},
   "source": [
    "3. Yes"
   ]
  },
  {
   "cell_type": "markdown",
   "id": "ce60edd8-816a-44a5-8581-dba50b7ba1f2",
   "metadata": {},
   "source": [
    "4. .py"
   ]
  },
  {
   "cell_type": "markdown",
   "id": "1b347f34-33c1-44b2-98bd-8706c9192f19",
   "metadata": {},
   "source": [
    "5. Python code is interpreted"
   ]
  },
  {
   "cell_type": "markdown",
   "id": "4c3e1ecd-f2a0-4d04-ac08-2652325f16a2",
   "metadata": {},
   "source": [
    "6. a module, a function body and a class definition "
   ]
  },
  {
   "cell_type": "markdown",
   "id": "eb870f08-b1f5-4f31-b2ba-1e8d22002ce2",
   "metadata": {},
   "source": [
    "7. #"
   ]
  },
  {
   "cell_type": "markdown",
   "id": "2406b982-0a07-46f7-8ff0-3478aa8114d3",
   "metadata": {},
   "source": [
    "8. python_version()"
   ]
  },
  {
   "cell_type": "markdown",
   "id": "97d90f3c-f935-4354-856b-8017d58bf02c",
   "metadata": {},
   "source": [
    "9. lambda"
   ]
  },
  {
   "cell_type": "markdown",
   "id": "1064f29d-f9ce-42e5-9268-89efa6ab4f6d",
   "metadata": {},
   "source": [
    "10. preferred installer program"
   ]
  },
  {
   "cell_type": "markdown",
   "id": "2ba3224b-1090-4fc4-8027-da4a4e6a8464",
   "metadata": {},
   "source": [
    "11. type(),print(),input(),append(),delete(),len(),extend(), remove() etc."
   ]
  },
  {
   "cell_type": "markdown",
   "id": "75e613e8-22e7-45cd-8a79-9c584df026a1",
   "metadata": {},
   "source": [
    "12. 79 characters "
   ]
  },
  {
   "cell_type": "markdown",
   "id": "b46c2a5a-05ea-4679-b77f-1e08de72e736",
   "metadata": {},
   "source": [
    "13. i.)Easy to read, write and understand\n",
    "ii.) Powerful high-level programming language\n",
    "iii.) Users can define functions of thier own\n",
    "iv.) Improved productivity\n",
    "v.) Interpreted language"
   ]
  },
  {
   "cell_type": "markdown",
   "id": "ec37f9c9-63ac-467b-994b-f14e4e7dfc67",
   "metadata": {},
   "source": [
    "14. Memory management in Python involves a private heap containing all Python objects and data structures. The management of this private heap is ensured internally by the Python memory manager.\n"
   ]
  },
  {
   "cell_type": "markdown",
   "id": "934ddb1e-494f-436b-bed7-831dfd491041",
   "metadata": {},
   "source": [
    "15. STEPS---> \n",
    "\n",
    "1.Right-clicking This PC and going to Properties.\n",
    "\n",
    "2.Clicking on the Advanced system settings in the menu on the left.\n",
    "\n",
    "3.Clicking on the Environment Variables button o​n the bottom right.\n",
    "\n",
    "4.In the System variables section, selecting the Path variable and clicking on Edit. The next screen will show all the directories that are currently a part of the PATH variable.\n",
    "\n",
    "5.Clicking on New and entering Python’s install directory."
   ]
  },
  {
   "cell_type": "markdown",
   "id": "03a71fa8-d266-431e-b2b7-a1b05b3bf392",
   "metadata": {},
   "source": [
    "16. Yes, indentation is very important in python language. Python uses indentation to specify the code blocks."
   ]
  }
 ],
 "metadata": {
  "kernelspec": {
   "display_name": "Python 3 (ipykernel)",
   "language": "python",
   "name": "python3"
  },
  "language_info": {
   "codemirror_mode": {
    "name": "ipython",
    "version": 3
   },
   "file_extension": ".py",
   "mimetype": "text/x-python",
   "name": "python",
   "nbconvert_exporter": "python",
   "pygments_lexer": "ipython3",
   "version": "3.10.8"
  }
 },
 "nbformat": 4,
 "nbformat_minor": 5
}
