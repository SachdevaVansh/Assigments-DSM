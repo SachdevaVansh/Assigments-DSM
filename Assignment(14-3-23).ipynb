{
 "cells": [
  {
   "cell_type": "markdown",
   "id": "5688a1dd-4bb2-442a-8d26-041fdef3ba22",
   "metadata": {},
   "source": [
    "#### Question 1-"
   ]
  },
  {
   "cell_type": "code",
   "execution_count": 12,
   "id": "e6c8376a-52a8-4043-bae4-57c691aff675",
   "metadata": {},
   "outputs": [],
   "source": [
    "import numpy as np\n",
    "a=[18, 19, 22, 25, 27, 28, 41, 45, 51, 55]\n",
    "b=[14, 15, 15, 17, 18, 22, 25, 25, 27, 34]\n",
    "array1=np.array(a)\n",
    "array2=np.array(b)"
   ]
  },
  {
   "cell_type": "code",
   "execution_count": 21,
   "id": "6825779d-864a-4e5a-9e8e-ed717656d166",
   "metadata": {},
   "outputs": [],
   "source": [
    "f_value=np.var(array1)/np.var(array2)"
   ]
  },
  {
   "cell_type": "code",
   "execution_count": 14,
   "id": "71d56294-42c8-4a3a-803c-a62d2f9fac11",
   "metadata": {},
   "outputs": [
    {
     "data": {
      "text/plain": [
       "4.387122002085506"
      ]
     },
     "execution_count": 14,
     "metadata": {},
     "output_type": "execute_result"
    }
   ],
   "source": [
    "f_value"
   ]
  },
  {
   "cell_type": "code",
   "execution_count": 18,
   "id": "644df0e3-cfdf-45fc-8ce6-e00b42d1fe0c",
   "metadata": {},
   "outputs": [
    {
     "data": {
      "text/plain": [
       "0.9999353254586377"
      ]
     },
     "execution_count": 18,
     "metadata": {},
     "output_type": "execute_result"
    }
   ],
   "source": [
    "p_value = 1-stat.f.cdf(0.05,9,9)\n",
    "p_value"
   ]
  },
  {
   "cell_type": "markdown",
   "id": "9e8825ec-19af-44c1-b34d-c68ddc28476f",
   "metadata": {},
   "source": [
    "#### Question 2-"
   ]
  },
  {
   "cell_type": "code",
   "execution_count": 15,
   "id": "7164b20d-ebdc-4aaf-ae00-ec87fca97bb6",
   "metadata": {},
   "outputs": [],
   "source": [
    "significance_level=0.05\n",
    "df1=8\n",
    "df2=6"
   ]
  },
  {
   "cell_type": "code",
   "execution_count": 16,
   "id": "d8a1898f-fa14-405c-9532-22fdd096d5c9",
   "metadata": {},
   "outputs": [],
   "source": [
    "import scipy.stats as stat"
   ]
  },
  {
   "cell_type": "code",
   "execution_count": 17,
   "id": "06c02240-f0fa-4b70-b0b9-11b023097720",
   "metadata": {},
   "outputs": [],
   "source": [
    "critical_value=stat.f.ppf(q=1-significance_level,dfn=df1,dfd=df2)"
   ]
  },
  {
   "cell_type": "code",
   "execution_count": 19,
   "id": "a33d8b4a-5be8-4f40-8195-1d77bfac9dfc",
   "metadata": {},
   "outputs": [
    {
     "data": {
      "text/plain": [
       "4.146804162276531"
      ]
     },
     "execution_count": 19,
     "metadata": {},
     "output_type": "execute_result"
    }
   ],
   "source": [
    "critical_value"
   ]
  },
  {
   "cell_type": "markdown",
   "id": "b5de9e5b-fe15-44d3-86dc-c5b116b90352",
   "metadata": {},
   "source": [
    "#### Question 3-"
   ]
  },
  {
   "cell_type": "code",
   "execution_count": 27,
   "id": "a4fe6805-ff61-4f43-bee5-8ea367a17935",
   "metadata": {},
   "outputs": [
    {
     "name": "stdout",
     "output_type": "stream",
     "text": [
      "[[0.04373497 0.02040906 0.57060789]\n",
      " [0.55059259 1.04938823 0.92570352]] \n",
      "\n",
      "[[ 0.1879219  -0.61379158  0.44841023]\n",
      " [-2.61565222  1.82149193  0.60215437]\n",
      " [ 1.15740051 -2.16563219 -0.40179332]\n",
      " [-1.88621407  0.2435972   0.66449175]]\n"
     ]
    }
   ],
   "source": [
    "from numpy import random\n",
    "\n",
    "x=random.normal(size=(2,3))\n",
    "print(x,'\\n')\n",
    "y=random.normal(size=(4,3))\n",
    "print(y)"
   ]
  },
  {
   "cell_type": "code",
   "execution_count": 28,
   "id": "aaf4d6bf-6b01-4e16-a8ec-9f61b19deba3",
   "metadata": {},
   "outputs": [
    {
     "data": {
      "text/plain": [
       "(0.5519715995834394, 1.7366448584373415)"
      ]
     },
     "execution_count": 28,
     "metadata": {},
     "output_type": "execute_result"
    }
   ],
   "source": [
    "variance1=np.var(x)\n",
    "variance2=np.var(y)\n",
    "variance_1, variance2"
   ]
  },
  {
   "cell_type": "markdown",
   "id": "886eb931-f789-47e4-b8c1-79a1c04ba2d5",
   "metadata": {},
   "source": [
    "Ho(null hypothesis)=variance are equal\n",
    "\n",
    "H1(alternate hypothesis)=variance are not equal"
   ]
  },
  {
   "cell_type": "code",
   "execution_count": 29,
   "id": "8b33aa92-b634-4914-81bb-b98b7271f068",
   "metadata": {},
   "outputs": [
    {
     "data": {
      "text/plain": [
       "0.08872388668774098"
      ]
     },
     "execution_count": 29,
     "metadata": {},
     "output_type": "execute_result"
    }
   ],
   "source": [
    "f_value=variance1/variance2\n",
    "f_value"
   ]
  },
  {
   "cell_type": "code",
   "execution_count": 32,
   "id": "a502d9b8-9cff-4f18-86b0-c1c61a19e8e9",
   "metadata": {},
   "outputs": [],
   "source": [
    "dfn=np.size(x)-1\n",
    "dfd=np.size(y)-1"
   ]
  },
  {
   "cell_type": "code",
   "execution_count": 34,
   "id": "0fc40094-79a4-4723-93ae-1fe25ada6b9d",
   "metadata": {},
   "outputs": [],
   "source": [
    "p_value=1- stat.f.pdf(.05,dfn=dfn,dfd=dfd)"
   ]
  },
  {
   "cell_type": "code",
   "execution_count": 35,
   "id": "b33b1473-729f-44ba-b503-92750b62a299",
   "metadata": {},
   "outputs": [
    {
     "data": {
      "text/plain": [
       "0.9057552479229493"
      ]
     },
     "execution_count": 35,
     "metadata": {},
     "output_type": "execute_result"
    }
   ],
   "source": [
    "p_value"
   ]
  },
  {
   "cell_type": "markdown",
   "id": "ca09fcd5-f0a5-4d73-b434-e8e3e68e15ff",
   "metadata": {},
   "source": [
    "#### Question 4-"
   ]
  },
  {
   "cell_type": "markdown",
   "id": "29c313c2-a7ef-4588-9dc5-6742b4286182",
   "metadata": {},
   "source": [
    "Ho- variances are different\n",
    "\n",
    "H1- variances are not different"
   ]
  },
  {
   "cell_type": "code",
   "execution_count": 22,
   "id": "9969c025-b611-43f1-adb7-f8b5ab6e0e9a",
   "metadata": {},
   "outputs": [],
   "source": [
    "var1=10\n",
    "var2=15\n",
    "f_value=var1/var2"
   ]
  },
  {
   "cell_type": "code",
   "execution_count": 23,
   "id": "338e0ad3-a38d-4e99-9ce4-a769fd5761c8",
   "metadata": {},
   "outputs": [
    {
     "data": {
      "text/plain": [
       "0.6666666666666666"
      ]
     },
     "execution_count": 23,
     "metadata": {},
     "output_type": "execute_result"
    }
   ],
   "source": [
    "f_value"
   ]
  },
  {
   "cell_type": "code",
   "execution_count": 3,
   "id": "8fb0b448-a221-447d-befe-9069d375f726",
   "metadata": {},
   "outputs": [],
   "source": [
    "import numpy as np\n",
    "import scipy.stats as stat\n",
    "\n",
    "critical_value=stat.f.ppf(q=1-alpha, dfn=dof,dfd=dof)"
   ]
  },
  {
   "cell_type": "code",
   "execution_count": 4,
   "id": "c859f9a2-f70c-4351-9e0d-4afe723b41dd",
   "metadata": {},
   "outputs": [
    {
     "data": {
      "text/plain": [
       "2.8179304699530863"
      ]
     },
     "execution_count": 4,
     "metadata": {},
     "output_type": "execute_result"
    }
   ],
   "source": [
    "critical_value"
   ]
  },
  {
   "cell_type": "markdown",
   "id": "da731273-0e93-459b-b9d5-cbf8d3f7ff6d",
   "metadata": {},
   "source": [
    "As, the f-value is less than the critical value, we fail to accept the null hypothesis."
   ]
  },
  {
   "cell_type": "markdown",
   "id": "968d5eb7-6999-4fa1-b59a-53100a772db5",
   "metadata": {},
   "source": [
    "So, the variance of both the populations are not different."
   ]
  },
  {
   "cell_type": "markdown",
   "id": "3ff9b07b-ed80-4281-80ab-4a81731b304a",
   "metadata": {},
   "source": [
    "#### Question 5-"
   ]
  },
  {
   "cell_type": "markdown",
   "id": "52a25504-545c-406e-8881-4de075e9b308",
   "metadata": {},
   "source": [
    "Ho- variance of diameter is 0.005\n",
    "\n",
    "H1- variance of diameter is not 0.005"
   ]
  },
  {
   "cell_type": "code",
   "execution_count": 6,
   "id": "a49bd52a-f4d5-46d3-abc1-125b4716c550",
   "metadata": {},
   "outputs": [],
   "source": [
    "f_value=0.005/0.006"
   ]
  },
  {
   "cell_type": "code",
   "execution_count": 7,
   "id": "ee269338-a31f-4029-a7b2-8bf9689909dd",
   "metadata": {},
   "outputs": [
    {
     "data": {
      "text/plain": [
       "0.8333333333333334"
      ]
     },
     "execution_count": 7,
     "metadata": {},
     "output_type": "execute_result"
    }
   ],
   "source": [
    "f_value"
   ]
  },
  {
   "cell_type": "code",
   "execution_count": 8,
   "id": "c948a887-7154-4d80-af2a-4221f6993c38",
   "metadata": {},
   "outputs": [],
   "source": [
    "dof=24\n",
    "alpha=0.01"
   ]
  },
  {
   "cell_type": "code",
   "execution_count": 9,
   "id": "099a8079-3fbd-4d4b-a0d2-e04927b20194",
   "metadata": {},
   "outputs": [],
   "source": [
    "critical_value=stat.f.ppf(1-alpha,dfn=dof,dfd=dof)"
   ]
  },
  {
   "cell_type": "code",
   "execution_count": 10,
   "id": "01faaa83-4acb-402e-837b-2f92b4c03473",
   "metadata": {},
   "outputs": [
    {
     "data": {
      "text/plain": [
       "2.659072104348157"
      ]
     },
     "execution_count": 10,
     "metadata": {},
     "output_type": "execute_result"
    }
   ],
   "source": [
    "critical_value"
   ]
  },
  {
   "cell_type": "markdown",
   "id": "114412a5-81b8-4613-beb3-d3a988232c90",
   "metadata": {},
   "source": [
    "As, the f-value is less than critical value, we fail to accept the\n",
    "null hypothesis.\n",
    "\n",
    "Hence, variance of diameter is not 0.005"
   ]
  },
  {
   "cell_type": "markdown",
   "id": "392f3c08-ff8e-4f9a-bfc4-baf863b537e5",
   "metadata": {},
   "source": [
    "#### Question 6-"
   ]
  },
  {
   "cell_type": "code",
   "execution_count": 42,
   "id": "8823d411-b936-4893-90da-877eaa1c37c7",
   "metadata": {},
   "outputs": [],
   "source": [
    "import scipy.stats as stat\n",
    "import numpy as np\n",
    "def function(dfn,dfd):\n",
    "    dfn=dfn\n",
    "    dfd=dfd\n",
    "    mean=dfd/(dfd-2)\n",
    "    variance=(2*dfd**2*(dfn+dfn-2))/(dfn*(dfn-2)**2*(dfn-4))\n",
    "    return mean,variance\n",
    "    "
   ]
  },
  {
   "cell_type": "markdown",
   "id": "e3248f12-990d-46f3-a493-3f8fd4b26986",
   "metadata": {},
   "source": [
    "Example-"
   ]
  },
  {
   "cell_type": "code",
   "execution_count": 44,
   "id": "192b1bba-76b6-4ef0-9cb2-31b15830cc61",
   "metadata": {},
   "outputs": [
    {
     "data": {
      "text/plain": [
       "(1.3333333333333333, 0.9287981859410431)"
      ]
     },
     "execution_count": 44,
     "metadata": {},
     "output_type": "execute_result"
    }
   ],
   "source": [
    "function(9,8)"
   ]
  },
  {
   "cell_type": "markdown",
   "id": "8a428e34-e671-46ca-845b-d30cbfed9cdc",
   "metadata": {},
   "source": [
    "Question 7-"
   ]
  },
  {
   "cell_type": "markdown",
   "id": "3f0f41f6-8aea-46bb-9618-9e32f1cfb67c",
   "metadata": {},
   "source": [
    "Ho- Variances are significantly different\n",
    "\n",
    "H1- Variances are not significantly different"
   ]
  },
  {
   "cell_type": "code",
   "execution_count": 6,
   "id": "f6f889be-b8c0-421c-b4e7-10fc72883b14",
   "metadata": {},
   "outputs": [],
   "source": [
    "import scipy.stats as stat\n",
    "S1=25\n",
    "S2=20\n",
    "f_value=S1/S2"
   ]
  },
  {
   "cell_type": "code",
   "execution_count": 7,
   "id": "0baaf06b-0622-40ff-97e9-bba4c1cfcfe1",
   "metadata": {},
   "outputs": [
    {
     "data": {
      "text/plain": [
       "1.25"
      ]
     },
     "execution_count": 7,
     "metadata": {},
     "output_type": "execute_result"
    }
   ],
   "source": [
    "f_value"
   ]
  },
  {
   "cell_type": "code",
   "execution_count": 8,
   "id": "770ebe63-1bb7-4241-8d09-de669cae0376",
   "metadata": {},
   "outputs": [],
   "source": [
    "dof1=24\n",
    "dof2=19\n",
    "alpha=0.10"
   ]
  },
  {
   "cell_type": "code",
   "execution_count": 9,
   "id": "576e2617-ec44-4210-9857-74b742ae8f62",
   "metadata": {},
   "outputs": [],
   "source": [
    "critical_value=stat.f.ppf(1-alpha,dfn=dof1,dfd=dof2)"
   ]
  },
  {
   "cell_type": "code",
   "execution_count": 10,
   "id": "3703064f-0eba-4d7d-8ee6-e29d0b3fafdc",
   "metadata": {},
   "outputs": [
    {
     "data": {
      "text/plain": [
       "1.7873072945308652"
      ]
     },
     "execution_count": 10,
     "metadata": {},
     "output_type": "execute_result"
    }
   ],
   "source": [
    "critical_value"
   ]
  },
  {
   "cell_type": "markdown",
   "id": "4e9b420c-6f22-40af-b485-893274e2d86a",
   "metadata": {},
   "source": [
    "As, f-value is less than the critical value, we fail to accpet the null hypothesis."
   ]
  },
  {
   "cell_type": "markdown",
   "id": "a2a5ee13-f026-4a94-b1be-95e2f3d65764",
   "metadata": {},
   "source": [
    "#### Question 8-"
   ]
  },
  {
   "cell_type": "markdown",
   "id": "50578db3-558d-44dc-83c4-e32180bf3773",
   "metadata": {},
   "source": [
    "Ho-variance are significantly different\n",
    "\n",
    "H1- variance are not significantly different"
   ]
  },
  {
   "cell_type": "code",
   "execution_count": 31,
   "id": "605612e9-000d-4e94-95e7-9b3a557d9c9d",
   "metadata": {},
   "outputs": [],
   "source": [
    "import numpy as np\n",
    "A=[24, 25, 28, 23, 22, 20, 27]\n",
    "B=[31, 33, 35, 30, 32, 36]\n",
    "alpha=0.05\n",
    "dof1=np.size(A)-1\n",
    "dof2=np.size(B)-1"
   ]
  },
  {
   "cell_type": "code",
   "execution_count": 32,
   "id": "cc43041a-0262-40bb-8322-e7c72d7c9d5d",
   "metadata": {},
   "outputs": [],
   "source": [
    "var1=np.var(A)\n",
    "var2=np.var(B)\n",
    "f_value=var1/var2"
   ]
  },
  {
   "cell_type": "code",
   "execution_count": 33,
   "id": "b4470685-29ff-4bd6-83b7-9b3bdaca39b6",
   "metadata": {},
   "outputs": [
    {
     "data": {
      "text/plain": [
       "1.496767651159843"
      ]
     },
     "execution_count": 33,
     "metadata": {},
     "output_type": "execute_result"
    }
   ],
   "source": [
    "f_value"
   ]
  },
  {
   "cell_type": "code",
   "execution_count": 34,
   "id": "e10e1962-8a9a-4678-bc58-2281187e4289",
   "metadata": {},
   "outputs": [],
   "source": [
    "critical_value=stat.f.ppf(1-alpha,dfn=dof1,dfd=dof2)"
   ]
  },
  {
   "cell_type": "code",
   "execution_count": 35,
   "id": "61e3e0a8-05be-4172-aaeb-9eb1633d7738",
   "metadata": {},
   "outputs": [
    {
     "data": {
      "text/plain": [
       "4.950288068694318"
      ]
     },
     "execution_count": 35,
     "metadata": {},
     "output_type": "execute_result"
    }
   ],
   "source": [
    "critical_value"
   ]
  },
  {
   "cell_type": "markdown",
   "id": "2b861456-fcf6-442f-a69c-753141fac39a",
   "metadata": {},
   "source": [
    "As, the f-value is less than critical value, we fail to accpet the Null hypothesis."
   ]
  },
  {
   "cell_type": "markdown",
   "id": "c501b024-9463-4673-b769-7ee5b054b2cb",
   "metadata": {},
   "source": [
    "#### Question 9-"
   ]
  },
  {
   "cell_type": "markdown",
   "id": "898a8bd8-8ec3-4c5e-a48f-73c33a5e54a7",
   "metadata": {},
   "source": [
    "Ho-variance are significantly different\n",
    "\n",
    "H1- variance are not significantly different"
   ]
  },
  {
   "cell_type": "code",
   "execution_count": 30,
   "id": "72275b6f-4cb6-4ebe-ac8f-3c53001f8216",
   "metadata": {},
   "outputs": [],
   "source": [
    "A=[80, 85, 90, 92, 87, 83]\n",
    "B=[75, 78, 82, 79, 81, 84]"
   ]
  },
  {
   "cell_type": "code",
   "execution_count": null,
   "id": "834dffc1-a1ab-4966-a08b-69976903687a",
   "metadata": {},
   "outputs": [],
   "source": [
    "alpha=0.01\n",
    "dof1=np.size(A)-1\n",
    "dof2=np.size(B)-1"
   ]
  },
  {
   "cell_type": "code",
   "execution_count": 38,
   "id": "5fc00a22-6feb-4076-b1af-8b6acd3236e6",
   "metadata": {},
   "outputs": [],
   "source": [
    "var1=np.var(A)\n",
    "var2=np.var(B)\n",
    "f_value1=var1/var2"
   ]
  },
  {
   "cell_type": "code",
   "execution_count": 39,
   "id": "7f4ce9bc-47da-4353-8696-747aa5323fdb",
   "metadata": {},
   "outputs": [
    {
     "data": {
      "text/plain": [
       "1.496767651159843"
      ]
     },
     "execution_count": 39,
     "metadata": {},
     "output_type": "execute_result"
    }
   ],
   "source": [
    "f_value1"
   ]
  },
  {
   "cell_type": "code",
   "execution_count": 40,
   "id": "008f3975-aa50-4240-95c4-0943aaf9e14d",
   "metadata": {},
   "outputs": [],
   "source": [
    "critical_value=stat.f.ppf(1-alpha,dfn=dof1,dfd=dof2)"
   ]
  },
  {
   "cell_type": "code",
   "execution_count": 41,
   "id": "039d80af-571a-4b2f-8cd1-c6b64f05d2f2",
   "metadata": {},
   "outputs": [
    {
     "data": {
      "text/plain": [
       "4.950288068694318"
      ]
     },
     "execution_count": 41,
     "metadata": {},
     "output_type": "execute_result"
    }
   ],
   "source": [
    "critical_value"
   ]
  },
  {
   "cell_type": "markdown",
   "id": "f7326ec1-9a0e-4885-8259-4970514fa866",
   "metadata": {},
   "source": [
    "As, the f-value is less than critical value, we fail to accpet the Null hypothesis."
   ]
  },
  {
   "cell_type": "code",
   "execution_count": null,
   "id": "fb3adaf1-6000-41b5-99ef-f0dd4098a618",
   "metadata": {},
   "outputs": [],
   "source": []
  },
  {
   "cell_type": "code",
   "execution_count": null,
   "id": "7bdd96c2-7350-4eb2-b440-f09a7e60e6ba",
   "metadata": {},
   "outputs": [],
   "source": []
  },
  {
   "cell_type": "code",
   "execution_count": null,
   "id": "e5eb1525-6383-417d-b8c7-e6ca215ec6bb",
   "metadata": {},
   "outputs": [],
   "source": []
  }
 ],
 "metadata": {
  "kernelspec": {
   "display_name": "Python 3 (ipykernel)",
   "language": "python",
   "name": "python3"
  },
  "language_info": {
   "codemirror_mode": {
    "name": "ipython",
    "version": 3
   },
   "file_extension": ".py",
   "mimetype": "text/x-python",
   "name": "python",
   "nbconvert_exporter": "python",
   "pygments_lexer": "ipython3",
   "version": "3.10.8"
  }
 },
 "nbformat": 4,
 "nbformat_minor": 5
}
