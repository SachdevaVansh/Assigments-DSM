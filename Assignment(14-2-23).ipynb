{
 "cells": [
  {
   "cell_type": "markdown",
   "id": "8ad99541-d22b-4be0-b72f-9d4a50a32e9b",
   "metadata": {},
   "source": [
    "#### Question 1-"
   ]
  },
  {
   "cell_type": "markdown",
   "id": "48dcabc6-bfcd-428e-b99f-aa176bf824b1",
   "metadata": {},
   "source": [
    "A thread is the smallest unit of a program or process executed independently or scheduled by the Operating System. In the computer system, an Operating System achieves multitasking by dividing the process into threads. A thread is a lightweight process that ensures the execution of the process separately on the system.\n",
    "\n",
    "Multithreading is a threading technique in Python programming to run multiple threads concurrently by rapidly switching between threads with a CPU help (called context switching). Besides, it allows sharing of its data space with the main threads inside a process that share information and communication with other threads easier than individual processes. Multithreading aims to perform multiple tasks simultaneously, which increases performance, speed and improves the rendering of the application.\n",
    "\n",
    "* It is a very useful technique for time-saving and improving the performance of an application. Multithreading allows the programmer to divide application tasks into sub-tasks and simultaneously run them in a program. It allows threads to communicate and share resources such as files, data, and memory to the same processor. Furthermore, it increases the user's responsiveness to continue running a program even if a part of the application is the length or blocked.\n",
    "\n",
    "#### Multithreading is achieved in python using threading module."
   ]
  },
  {
   "cell_type": "markdown",
   "id": "0c82e442-6527-45d2-877f-9aba750c58cb",
   "metadata": {},
   "source": [
    "#### Question 2-\n",
    "\n",
    "The threading module is a high-level implementation of multithreading used to deploy an application in Python. To use multithreading, we need to import the threading module in Python Program."
   ]
  },
  {
   "cell_type": "markdown",
   "id": "09e93ab9-13be-47c8-89cf-8d003b16d370",
   "metadata": {},
   "source": [
    "* active_count() is an inbuilt method of the threading module in Python. It is used to return the number of Thread objects that are active at any instant.\n",
    "\n",
    "* current_thread() is an inbuilt method of the threading module in Python. It is used to return the current Thread object, which corresponds to the caller's thread of control.\n",
    "\n",
    "* threading. enumerate() returns a list of all Thread objects currently alive. The list includes daemonic threads, dummy thread objects created by current_thread(), and the main thread. It excludes terminated threads and threads that have not yet been started."
   ]
  },
  {
   "cell_type": "markdown",
   "id": "3b9daae4-f4d2-4bdd-8b57-bd9e1a8073f1",
   "metadata": {},
   "source": [
    "#### Question 3-"
   ]
  },
  {
   "cell_type": "markdown",
   "id": "ebeaa97b-028b-4172-8251-d16fb65de815",
   "metadata": {},
   "source": [
    "* run()\t:\n",
    "\n",
    "A run() method is used to define a thread's activity and can be overridden by a class that extends the threads class.\n",
    "\n",
    "* start()\t:\n",
    "\n",
    "A start() method is used to initiate the activity of a thread. And it calls only once for each thread so that the execution of the thread can begin.\n",
    "\n",
    "* join()\t:\n",
    "\n",
    "A join() method is used to block the execution of another code until the thread terminates.\n",
    "\n",
    "* is_alive() :\n",
    "\n",
    "This method is an inbuilt method of the Thread class of the threading module in Python. It uses a Thread object, and checks whether that thread is alive or not, ie, it is still running or not. This method returns True before the run() starts until just after the run() method is executed."
   ]
  },
  {
   "cell_type": "markdown",
   "id": "e14184fd-6596-42ab-8a05-0010c3a64f22",
   "metadata": {},
   "source": [
    "#### Question 4-"
   ]
  },
  {
   "cell_type": "code",
   "execution_count": 49,
   "id": "068ed204-1bcb-4bd2-aff0-73381243c235",
   "metadata": {},
   "outputs": [],
   "source": [
    "def square(n):\n",
    "    print(n**2)"
   ]
  },
  {
   "cell_type": "code",
   "execution_count": 50,
   "id": "411464c8-96cf-41f6-9b44-6dca0a594372",
   "metadata": {},
   "outputs": [],
   "source": [
    "def cube(n):\n",
    "    print(n**3)"
   ]
  },
  {
   "cell_type": "code",
   "execution_count": 51,
   "id": "1ec7cff6-88b3-470d-86bd-7efc4ce27b05",
   "metadata": {},
   "outputs": [],
   "source": [
    "import threading"
   ]
  },
  {
   "cell_type": "code",
   "execution_count": 52,
   "id": "89ec438f-a29a-440e-b1bf-40cabcd91ed9",
   "metadata": {},
   "outputs": [],
   "source": [
    "thread1=[threading.Thread(target=square, args=(i,)) for i in range(1,11)]"
   ]
  },
  {
   "cell_type": "code",
   "execution_count": 53,
   "id": "1b33e520-b2ca-4e0e-bd0e-e809381689e8",
   "metadata": {},
   "outputs": [],
   "source": [
    "thread2=[threading.Thread(target=cube, args=(i,)) for i in range(1,11)]"
   ]
  },
  {
   "cell_type": "code",
   "execution_count": 54,
   "id": "14b0c272-e50f-4168-b1dc-39f39e5ee686",
   "metadata": {},
   "outputs": [
    {
     "name": "stdout",
     "output_type": "stream",
     "text": [
      "1\n",
      "4\n",
      "9\n",
      "16\n",
      "25\n",
      "36\n",
      "49\n",
      "64\n",
      "81\n",
      "100\n"
     ]
    }
   ],
   "source": [
    "for t in thread1:\n",
    "    t.start()"
   ]
  },
  {
   "cell_type": "code",
   "execution_count": 55,
   "id": "c43a0efd-b24c-4e08-a347-879c501dd7b4",
   "metadata": {},
   "outputs": [
    {
     "name": "stdout",
     "output_type": "stream",
     "text": [
      "1\n",
      "8\n",
      "27\n",
      "64\n",
      "125\n",
      "216\n",
      "343\n",
      "512\n",
      "729\n",
      "1000\n"
     ]
    }
   ],
   "source": [
    "for t in thread2:\n",
    "    t.start()"
   ]
  },
  {
   "cell_type": "markdown",
   "id": "ce2e0133-b07e-4a4f-9195-ae644446b8e4",
   "metadata": {},
   "source": [
    "#### Question 5-"
   ]
  },
  {
   "cell_type": "markdown",
   "id": "e0404c0a-249b-4c7b-8f24-a5b7fa4a3e29",
   "metadata": {},
   "source": [
    "#### Advantages-\n",
    "\n",
    "* Improved performance and concurrency-\n",
    "For certain applications, performance and concurrency can be improved by using multithreading and multicontexting together. \n",
    "\n",
    "* Simplified coding of remote procedure calls and conversations\n",
    "\n",
    "* Simultaneous access to multiple applications\n",
    "\n",
    "* Reduced number of required servers-\n",
    "Because one server can dispatch multiple service threads, the number of servers to start for your application is reduced.\n",
    "\n",
    "#### Disadvantages-\n",
    "\n",
    "* Difficulty of writing code-\n",
    "Multithreaded and multicontexted applications are not easy to write. Only experienced programmers should undertake coding for these types of applications.\n",
    "\n",
    "* Difficulty of debugging-\n",
    "It is much harder to replicate an error in a multithreaded or multicontexted application than it is to do so in a single-threaded, single-contexted application. As a result, it is more difficult, in the former case, to identify and verify root causes when errors occur.\n",
    "\n",
    "* Difficulty of managing concurrency-\n",
    "The task of managing concurrency among threads is difficult and has the potential to introduce new problems into an application.\n",
    "\n",
    "* Difficulty of testing-\n",
    "Testing a multithreaded application is more difficult than testing a single-threaded application because defects are often timing-related and more difficult to reproduce."
   ]
  },
  {
   "cell_type": "markdown",
   "id": "73e5e9aa-3745-4d3c-b425-8734567406c0",
   "metadata": {},
   "source": [
    "#### Question 6-"
   ]
  },
  {
   "cell_type": "markdown",
   "id": "e2a2e062-9378-43a1-b210-dd3081787df3",
   "metadata": {},
   "source": [
    "#### deadlock-\n",
    "\n",
    "A deadlock occurs when two threads each lock a different variable at the same time and then try to lock the variable that the other thread already locked. As a result, each thread stops executing and waits for the other thread to release the variable.\n",
    "\n",
    "If thread 1 locks A, and tries to lock B, and thread 2 has already locked B, and tries to lock A, a deadlock arises. Thread 1 can never get B, and thread 2 can never get A. In addition, neither of them will ever know.\n",
    "\n",
    "#### race condition-\n",
    "\n",
    "A race condition occurs when two threads access a shared variable at the same time. The first thread reads the variable, and the second thread reads the same value from the variable.\n",
    "Two (or more) threads alter the state of a shared resource concurrently, leaving it in an unpredictable state."
   ]
  },
  {
   "cell_type": "code",
   "execution_count": null,
   "id": "aa2066a2-4923-4995-9a7d-f0bf4cc63387",
   "metadata": {},
   "outputs": [],
   "source": []
  }
 ],
 "metadata": {
  "kernelspec": {
   "display_name": "Python 3 (ipykernel)",
   "language": "python",
   "name": "python3"
  },
  "language_info": {
   "codemirror_mode": {
    "name": "ipython",
    "version": 3
   },
   "file_extension": ".py",
   "mimetype": "text/x-python",
   "name": "python",
   "nbconvert_exporter": "python",
   "pygments_lexer": "ipython3",
   "version": "3.10.8"
  }
 },
 "nbformat": 4,
 "nbformat_minor": 5
}
