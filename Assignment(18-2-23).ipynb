{
 "cells": [
  {
   "cell_type": "markdown",
   "id": "ecb057c9-8dc1-4746-afd2-e510924f244f",
   "metadata": {},
   "source": [
    "#### Question 1-"
   ]
  },
  {
   "cell_type": "markdown",
   "id": "2e202089-3959-46d3-8c9f-7e9e746b8351",
   "metadata": {},
   "source": [
    "Application Programming Interface(API) is a software interface(collection of software functions and procedures) that allows two applications to interact with each other without user intervention. It also helps to embed content from any site or application more efficiently.\n",
    "\n",
    "Examples of API's in real life- Google maps, E-commerece, Travel Booking, Payment gateways etc."
   ]
  },
  {
   "cell_type": "markdown",
   "id": "30d6ff0f-8a42-4b58-ac86-32823cd2cb11",
   "metadata": {},
   "source": [
    "#### Question 2-"
   ]
  },
  {
   "cell_type": "markdown",
   "id": "4811181f-4342-4c01-b7d6-cbd5d24e1fd8",
   "metadata": {},
   "source": [
    "API advantages:\n",
    "\n",
    "Can provide a way to access functionality or data that is not otherwise readily available or accessible,\n",
    "Can provide a way to automate tasks,\n",
    "Can help to improve communication between disparate systems.\n",
    "\n",
    "API disadvantages:\n",
    "\n",
    "Can be difficult to use and understand,\n",
    "Cannot be guaranteed to be stable or backwards compatible,\n",
    "May require a certain level of technical expertise in order to use them effectively."
   ]
  },
  {
   "cell_type": "markdown",
   "id": "1185c46d-2d1b-4d78-a525-fd3328396001",
   "metadata": {},
   "source": [
    "#### Question 3-"
   ]
  },
  {
   "cell_type": "markdown",
   "id": "0d3677fc-7965-4974-ac22-d35db3d99ce2",
   "metadata": {},
   "source": [
    "Web API is an Api which can be accessed over the web using the HTTP protocol. Its is a framework that helps to create and develop HTTP based RESTFUL services."
   ]
  },
  {
   "cell_type": "markdown",
   "id": "e8f14a66-60fd-4624-81b3-8c079c5a5227",
   "metadata": {},
   "source": [
    "Difference between API and Web API:\n",
    "\n",
    "*Web API is a collection of open source protocols and standards used for exchanging data between systems or applications, whereas API is a software interface that allows two applications to interact with each other without any user involvement.\n",
    "\n",
    "*Web API is used for REST, SOAP for communication, while API is used for any style of communication.\n",
    "\n",
    "*Web API supports only HTTP protocol, whereas API supports HTTP/HTTPS protocol.\n",
    "\n",
    "*Web API supports XML, while API supports XML and JSON.\n",
    "\n",
    "*All Web APIs are APIs, but all APIs are not web APIs."
   ]
  },
  {
   "cell_type": "markdown",
   "id": "ce9ca177-b931-4808-9fd8-9efeca5ae301",
   "metadata": {},
   "source": [
    "#### Question 4-"
   ]
  },
  {
   "cell_type": "markdown",
   "id": "709c299c-d13b-4675-94c6-71e91c3774e0",
   "metadata": {},
   "source": [
    "* SOAP stands for Simple Object Access Protocol and REST stands for Representational State Transfer.\n",
    "* Since SOAP is a protocol, it follows a strict standard to allow communication between the client and the server whereas REST is an architectural style that doesn’t follow any strict standard.\n",
    "* SOAP uses only XML for exchanging information in its message format whereas REST is not restricted to XML and its the choice of implementer which Media-Type to use like XML, JSON, Plain-text. Moreover, REST can use SOAP protocol but SOAP cannot use REST.\n",
    "* On behalf of services interfaces to business logic, SOAP uses @WebService whereas REST instead of using interfaces uses URI like @Path.\n",
    "* SOAP is difficult to implement and it requires more bandwidth whereas REST is easy to implement and requires less bandwidth such as smartphones.\n",
    "* On the basis of Security, SOAP has SSL( Secure Socket Layer) and WS-security whereas REST has SSL and HTTPS. In the case of Bank Account Password, Card Number, etc. SOAP is preferred over REST. \n",
    "* SOAP cannot make use of REST since SOAP is a protocol without any architectural pattern. REST can make use of SOAP because it is an architectural pattern having protocol."
   ]
  },
  {
   "cell_type": "markdown",
   "id": "2f927ced-4ec9-482e-b87e-2733d0cba869",
   "metadata": {},
   "source": [
    "#### Shortcomings of SOAP :\n",
    "* Highly complex- In comparison to Rest, SOAP is significantly more complex. It's also less flexible. This might present a challenge for developers that are not highly skilled. The extensive processing required may also slow down performance.\n",
    "\n",
    "* No variety of data formats- SOAP is also extremely limited in its support of data formats. The formats supported by Rest include HTML, JSON, YAML, XML and others. Meanwhile, SOAP only supports XML.\n",
    "\n",
    "* API calls are not cached- The process where a request is sent after an API is set up with the correct endpoints is referred to as an API call. The process results in the information being transferred, processed and feedback being provided. It's not possible for SOAP API calls to be cached.\n",
    "\n",
    "* Uses more bandwidth-SOAP is generally slower in comparison to Rest and it also uses more bandwidth given its very complex nature. It’s another limiting factor in the efficacy of this technology for certain projects."
   ]
  },
  {
   "cell_type": "markdown",
   "id": "f4b4758b-515a-4db9-9ffe-717d49f0c64e",
   "metadata": {},
   "source": [
    "#### Question 5-"
   ]
  },
  {
   "cell_type": "markdown",
   "id": "37c2964e-2272-4c55-b9c7-540362d21ce1",
   "metadata": {},
   "source": [
    "Difference between SOAP and REST API's:"
   ]
  },
  {
   "cell_type": "markdown",
   "id": "fa02c9c2-5181-4322-b520-42b72993b680",
   "metadata": {},
   "source": [
    "#### Soap--->\n",
    "* Relies on SOAP (Simple Object Access Protocol)\n",
    "* Transports data in standard XML format.\n",
    "* Because it is XML based and relies on SOAP, it works with WSDL(Web Services Description Language)\n",
    "* Works over HTTP, HTTPS, SMTP, XMPP\n",
    "* Highly structured/typed\n",
    "* Designed with large enterprise applications in mind\n",
    "\n",
    "#### REST---->\n",
    "* Relies on REST (Representational State Transfer) architecture using HTTP.\n",
    "* Generally transports data in JSON. It is based on URI. Because REST follows stateless model, REST does not enforces message format as XML or JSON etc.\n",
    "* It works with GET, POST, PUT, DELETE\n",
    "* Works over HTTP and HTTPS\n",
    "* Less structured -> less bulky data\n",
    "* Designed with mobile devices in mind"
   ]
  },
  {
   "cell_type": "code",
   "execution_count": null,
   "id": "57f70557-38f2-4b67-9282-e0be9ddca283",
   "metadata": {},
   "outputs": [],
   "source": []
  }
 ],
 "metadata": {
  "kernelspec": {
   "display_name": "Python 3 (ipykernel)",
   "language": "python",
   "name": "python3"
  },
  "language_info": {
   "codemirror_mode": {
    "name": "ipython",
    "version": 3
   },
   "file_extension": ".py",
   "mimetype": "text/x-python",
   "name": "python",
   "nbconvert_exporter": "python",
   "pygments_lexer": "ipython3",
   "version": "3.10.8"
  }
 },
 "nbformat": 4,
 "nbformat_minor": 5
}
