{
 "cells": [
  {
   "cell_type": "markdown",
   "id": "9c452deb-7547-4d20-a71c-25cb28526cb4",
   "metadata": {},
   "source": [
    "#### Question-1"
   ]
  },
  {
   "cell_type": "markdown",
   "id": "d6640672-c05c-4f97-8d81-58f0d5d27c0c",
   "metadata": {},
   "source": [
    "An exception is an event , which occurs during the execution of a program that disrupts normal flow of the program's instruction.\n",
    "\n",
    "In general , when a python script encounters an error that it cannot cope up with, it raises an exception.\n",
    "\n",
    "An exception is a python object that represents an error.\n",
    "\n"
   ]
  },
  {
   "cell_type": "markdown",
   "id": "53a68e18-d962-4f96-a613-cc0ec3ef5578",
   "metadata": {},
   "source": [
    "* Syntax errors are the errors that are generated when the syntax of python programming is not followed by the user like writing incoorect keywords,naming style, indentation etc.\n",
    "Ex- missing a semicolon after if statement.\n",
    "These are the errors which stop / hinder the execution of the python script, and the compiler can't execute thye commands.\n",
    "\n",
    "However, Exception is a logical error which occurs during the runtime of the program. These are the errors which must be caught up by the user in order for successful execution of the python script."
   ]
  },
  {
   "cell_type": "markdown",
   "id": "2fb0f0ed-1db0-42da-8507-2880f31c41d3",
   "metadata": {},
   "source": [
    "#### Question 2-"
   ]
  },
  {
   "cell_type": "markdown",
   "id": "4b652138-f051-40c4-ad1b-c60cae718879",
   "metadata": {},
   "source": [
    "When an exception occurred, if you don’t handle it, the program terminates abruptly and the code past the line that caused the exception will not get executed."
   ]
  },
  {
   "cell_type": "markdown",
   "id": "d68680c8-9d1d-4a62-a846-30f21bf47e0e",
   "metadata": {},
   "source": [
    "#### Question 3-"
   ]
  },
  {
   "cell_type": "markdown",
   "id": "e31dfde8-450d-4da9-99e1-5cb866b997b2",
   "metadata": {},
   "source": [
    "'try' and 'except' statements are used to catch and handle exceptions in python.Ex-"
   ]
  },
  {
   "cell_type": "code",
   "execution_count": 2,
   "id": "a9675131-1510-4fe3-b2bf-2268c14f1bcc",
   "metadata": {},
   "outputs": [
    {
     "name": "stdout",
     "output_type": "stream",
     "text": [
      "Cannot divide a number by zero\n"
     ]
    }
   ],
   "source": [
    "a=10\n",
    "b=0\n",
    "try:\n",
    "    a/b\n",
    "except ZeroDivisionError:\n",
    "    print(\"Cannot divide a number by zero\")"
   ]
  },
  {
   "cell_type": "markdown",
   "id": "621b1080-3c4c-4351-a4ea-57519b396218",
   "metadata": {},
   "source": [
    "#### Question 4-"
   ]
  },
  {
   "cell_type": "markdown",
   "id": "417aa1aa-c517-4084-85d1-d8c46376bc15",
   "metadata": {},
   "source": [
    "try block is used to catch an error in python script , and if there is no error in the try block, the else block is executed.Ex-\n"
   ]
  },
  {
   "cell_type": "code",
   "execution_count": 4,
   "id": "a65d5077-6e87-4aeb-a244-afb845412b13",
   "metadata": {},
   "outputs": [
    {
     "name": "stdout",
     "output_type": "stream",
     "text": [
      "The file has been created and written\n"
     ]
    }
   ],
   "source": [
    "try:\n",
    "    f=open(\"test.txt\",'w')\n",
    "    f.write(\"Welcome to pwskills\")\n",
    "except Exception:\n",
    "    print(\"Error\")\n",
    "else:\n",
    "    f.close()\n",
    "    print(\"The file has been created and written\")\n",
    "    "
   ]
  },
  {
   "cell_type": "markdown",
   "id": "ff052355-492e-4f88-a8c3-3f44d147b7c2",
   "metadata": {},
   "source": [
    "finally: this block is used to execute any statement no matter whether an error is caught or not."
   ]
  },
  {
   "cell_type": "code",
   "execution_count": 2,
   "id": "5ab710ff-95a6-4015-9075-aba31f8048c3",
   "metadata": {},
   "outputs": [
    {
     "name": "stdout",
     "output_type": "stream",
     "text": [
      "This statement will run \n"
     ]
    },
    {
     "ename": "FileNotFoundError",
     "evalue": "[Errno 2] No such file or directory: 'pwskills'",
     "output_type": "error",
     "traceback": [
      "\u001b[0;31m---------------------------------------------------------------------------\u001b[0m",
      "\u001b[0;31mFileNotFoundError\u001b[0m                         Traceback (most recent call last)",
      "Cell \u001b[0;32mIn[2], line 2\u001b[0m\n\u001b[1;32m      1\u001b[0m \u001b[38;5;28;01mtry\u001b[39;00m:\n\u001b[0;32m----> 2\u001b[0m     f\u001b[38;5;241m=\u001b[39m\u001b[38;5;28;43mopen\u001b[39;49m\u001b[43m(\u001b[49m\u001b[38;5;124;43m\"\u001b[39;49m\u001b[38;5;124;43mpwskills\u001b[39;49m\u001b[38;5;124;43m\"\u001b[39;49m\u001b[43m,\u001b[49m\u001b[38;5;124;43m'\u001b[39;49m\u001b[38;5;124;43mr\u001b[39;49m\u001b[38;5;124;43m'\u001b[39;49m\u001b[43m)\u001b[49m\n\u001b[1;32m      3\u001b[0m \u001b[38;5;28;01mfinally\u001b[39;00m:\n\u001b[1;32m      4\u001b[0m     \u001b[38;5;28mprint\u001b[39m(\u001b[38;5;124m\"\u001b[39m\u001b[38;5;124mThis statement will run \u001b[39m\u001b[38;5;124m\"\u001b[39m)\n",
      "File \u001b[0;32m/opt/conda/lib/python3.10/site-packages/IPython/core/interactiveshell.py:282\u001b[0m, in \u001b[0;36m_modified_open\u001b[0;34m(file, *args, **kwargs)\u001b[0m\n\u001b[1;32m    275\u001b[0m \u001b[38;5;28;01mif\u001b[39;00m file \u001b[38;5;129;01min\u001b[39;00m {\u001b[38;5;241m0\u001b[39m, \u001b[38;5;241m1\u001b[39m, \u001b[38;5;241m2\u001b[39m}:\n\u001b[1;32m    276\u001b[0m     \u001b[38;5;28;01mraise\u001b[39;00m \u001b[38;5;167;01mValueError\u001b[39;00m(\n\u001b[1;32m    277\u001b[0m         \u001b[38;5;124mf\u001b[39m\u001b[38;5;124m\"\u001b[39m\u001b[38;5;124mIPython won\u001b[39m\u001b[38;5;124m'\u001b[39m\u001b[38;5;124mt let you open fd=\u001b[39m\u001b[38;5;132;01m{\u001b[39;00mfile\u001b[38;5;132;01m}\u001b[39;00m\u001b[38;5;124m by default \u001b[39m\u001b[38;5;124m\"\u001b[39m\n\u001b[1;32m    278\u001b[0m         \u001b[38;5;124m\"\u001b[39m\u001b[38;5;124mas it is likely to crash IPython. If you know what you are doing, \u001b[39m\u001b[38;5;124m\"\u001b[39m\n\u001b[1;32m    279\u001b[0m         \u001b[38;5;124m\"\u001b[39m\u001b[38;5;124myou can use builtins\u001b[39m\u001b[38;5;124m'\u001b[39m\u001b[38;5;124m open.\u001b[39m\u001b[38;5;124m\"\u001b[39m\n\u001b[1;32m    280\u001b[0m     )\n\u001b[0;32m--> 282\u001b[0m \u001b[38;5;28;01mreturn\u001b[39;00m \u001b[43mio_open\u001b[49m\u001b[43m(\u001b[49m\u001b[43mfile\u001b[49m\u001b[43m,\u001b[49m\u001b[43m \u001b[49m\u001b[38;5;241;43m*\u001b[39;49m\u001b[43margs\u001b[49m\u001b[43m,\u001b[49m\u001b[43m \u001b[49m\u001b[38;5;241;43m*\u001b[39;49m\u001b[38;5;241;43m*\u001b[39;49m\u001b[43mkwargs\u001b[49m\u001b[43m)\u001b[49m\n",
      "\u001b[0;31mFileNotFoundError\u001b[0m: [Errno 2] No such file or directory: 'pwskills'"
     ]
    }
   ],
   "source": [
    "try:\n",
    "    f=open(\"pwskills\",'r')\n",
    "finally:\n",
    "    print(\"This statement will run \")"
   ]
  },
  {
   "cell_type": "markdown",
   "id": "9637d69c-33d4-4e4b-b53a-b2fa65ce0841",
   "metadata": {},
   "source": [
    "raise statement is used to raise exception in python."
   ]
  },
  {
   "cell_type": "code",
   "execution_count": 4,
   "id": "9b4ad153-a643-4f90-b139-587f17651d64",
   "metadata": {},
   "outputs": [
    {
     "name": "stdout",
     "output_type": "stream",
     "text": [
      "The age is:\n"
     ]
    },
    {
     "ename": "Exception",
     "evalue": "Age cannot be negative",
     "output_type": "error",
     "traceback": [
      "\u001b[0;31m---------------------------------------------------------------------------\u001b[0m",
      "\u001b[0;31mException\u001b[0m                                 Traceback (most recent call last)",
      "Cell \u001b[0;32mIn[4], line 4\u001b[0m\n\u001b[1;32m      2\u001b[0m \u001b[38;5;28mprint\u001b[39m(\u001b[38;5;124m\"\u001b[39m\u001b[38;5;124mThe age is:\u001b[39m\u001b[38;5;124m\"\u001b[39m)\n\u001b[1;32m      3\u001b[0m \u001b[38;5;28;01mif\u001b[39;00m age\u001b[38;5;241m<\u001b[39m\u001b[38;5;241m0\u001b[39m:\n\u001b[0;32m----> 4\u001b[0m     \u001b[38;5;28;01mraise\u001b[39;00m \u001b[38;5;167;01mException\u001b[39;00m(\u001b[38;5;124m\"\u001b[39m\u001b[38;5;124mAge cannot be negative\u001b[39m\u001b[38;5;124m\"\u001b[39m)\n",
      "\u001b[0;31mException\u001b[0m: Age cannot be negative"
     ]
    }
   ],
   "source": [
    "age=-10\n",
    "print(\"The age is:\")\n",
    "if age<0:\n",
    "    raise Exception(\"Age cannot be negative\")"
   ]
  },
  {
   "cell_type": "markdown",
   "id": "fe49d62c-d1e1-4c3c-93e6-5718acca400e",
   "metadata": {},
   "source": [
    "#### Question 5-"
   ]
  },
  {
   "cell_type": "markdown",
   "id": "e83362ab-5928-44e9-8a30-caf6c7963013",
   "metadata": {},
   "source": [
    "Custom exceptions are user own buld exceptions according to his/her own choice of handling the error.\n",
    "We need custom exceptions based on the conditions by which we want to handle the error .Ex-"
   ]
  },
  {
   "cell_type": "code",
   "execution_count": 6,
   "id": "0f3f434a-3103-40c1-a719-441779834e93",
   "metadata": {},
   "outputs": [],
   "source": [
    "class validateage(Exception):\n",
    "    pass"
   ]
  },
  {
   "cell_type": "code",
   "execution_count": 9,
   "id": "4bd5049a-592f-4dde-bcdb-db813da03461",
   "metadata": {},
   "outputs": [
    {
     "name": "stdin",
     "output_type": "stream",
     "text": [
      "Enter the age 14\n"
     ]
    },
    {
     "name": "stdout",
     "output_type": "stream",
     "text": [
      "Error! Enter a valid age\n"
     ]
    }
   ],
   "source": [
    "try:\n",
    "    input_age=int(input(\"Enter the age\"))\n",
    "    if input_age<18:\n",
    "        raise validateage(\"Person is not eligible to vote\")\n",
    "\n",
    "except validateage :\n",
    "    print(\"Error! Enter a valid age\")\n",
    "else:\n",
    "    print(\"The person is eligible to vote\")"
   ]
  },
  {
   "cell_type": "markdown",
   "id": "bb3a68c6-81e9-4ae1-815b-e59a8b476773",
   "metadata": {},
   "source": [
    "#### Question 6-"
   ]
  },
  {
   "cell_type": "code",
   "execution_count": 10,
   "id": "e9ecd602-9b46-41c9-9c83-0f3605f26a2b",
   "metadata": {},
   "outputs": [],
   "source": [
    "class validatesalary(Exception):\n",
    "    def __init__(self,salary,message=\"Enter a valid salary amount\"):\n",
    "        self.salary=salary\n",
    "        self.message=message\n",
    "        super().__init__(self.message)\n",
    "        "
   ]
  },
  {
   "cell_type": "code",
   "execution_count": 12,
   "id": "702ea657-b6e8-4d36-a684-eeba843ae57c",
   "metadata": {},
   "outputs": [
    {
     "name": "stdin",
     "output_type": "stream",
     "text": [
      "Enter the salary 2000\n"
     ]
    },
    {
     "ename": "validatesalary",
     "evalue": "Enter a valid salary amount",
     "output_type": "error",
     "traceback": [
      "\u001b[0;31m---------------------------------------------------------------------------\u001b[0m",
      "\u001b[0;31mvalidatesalary\u001b[0m                            Traceback (most recent call last)",
      "Cell \u001b[0;32mIn[12], line 3\u001b[0m\n\u001b[1;32m      1\u001b[0m salary\u001b[38;5;241m=\u001b[39m\u001b[38;5;28mint\u001b[39m(\u001b[38;5;28minput\u001b[39m(\u001b[38;5;124m\"\u001b[39m\u001b[38;5;124mEnter the salary\u001b[39m\u001b[38;5;124m\"\u001b[39m))\n\u001b[1;32m      2\u001b[0m \u001b[38;5;28;01mif\u001b[39;00m \u001b[38;5;129;01mnot\u001b[39;00m \u001b[38;5;241m5000\u001b[39m\u001b[38;5;241m<\u001b[39msalary\u001b[38;5;241m<\u001b[39m\u001b[38;5;241m20000\u001b[39m:\n\u001b[0;32m----> 3\u001b[0m     \u001b[38;5;28;01mraise\u001b[39;00m validatesalary(salary)\n",
      "\u001b[0;31mvalidatesalary\u001b[0m: Enter a valid salary amount"
     ]
    }
   ],
   "source": [
    "salary=int(input(\"Enter the salary\"))\n",
    "if not 5000<salary<20000:\n",
    "    raise validatesalary(salary)"
   ]
  },
  {
   "cell_type": "code",
   "execution_count": null,
   "id": "910ae707-a9a5-457d-89c9-b91311821877",
   "metadata": {},
   "outputs": [],
   "source": []
  }
 ],
 "metadata": {
  "kernelspec": {
   "display_name": "Python 3 (ipykernel)",
   "language": "python",
   "name": "python3"
  },
  "language_info": {
   "codemirror_mode": {
    "name": "ipython",
    "version": 3
   },
   "file_extension": ".py",
   "mimetype": "text/x-python",
   "name": "python",
   "nbconvert_exporter": "python",
   "pygments_lexer": "ipython3",
   "version": "3.10.8"
  }
 },
 "nbformat": 4,
 "nbformat_minor": 5
}
