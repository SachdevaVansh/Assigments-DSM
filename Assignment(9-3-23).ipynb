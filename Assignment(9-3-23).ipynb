{
 "cells": [
  {
   "cell_type": "markdown",
   "id": "5ef82ad8-0c6e-4f67-a35f-a0a241d86113",
   "metadata": {},
   "source": [
    "#### Question 1-"
   ]
  },
  {
   "cell_type": "markdown",
   "id": "f44696bc-9e4a-46e4-afdd-ec831d13af9b",
   "metadata": {},
   "source": [
    "Probability mass function can be defined as the probability that a discrete random variable will be exactly equal to some particular value. In other words, the probability mass function assigns a particular probability to every possible value of a discrete random variable.\n",
    "Ex- Tossing a fair coin twice.\n",
    "\n",
    "\n",
    "Probability density function gives the probability that a continuous random variable will lie between a certain specified interval.It is used for continuous random variables.\n",
    "Ex- Measuring the heights of students in a class."
   ]
  },
  {
   "cell_type": "markdown",
   "id": "019ead8f-fc23-4eda-b1b2-b6b411b5c334",
   "metadata": {},
   "source": [
    "#### Question 2-"
   ]
  },
  {
   "cell_type": "markdown",
   "id": "abe061ec-4cd6-4132-a9b9-2a6ddffda95b",
   "metadata": {},
   "source": [
    "The cumulative distribution function is used to describe the probability distribution of random variables. It can be used to describe the probability for a discrete, continuous or mixed variable. It is obtained by summing up the probability density function and getting the cumulative probability for a random variable.\n",
    "\n",
    "Ex- rolling a dice and finding the probability of obtaining a number less than 4.\n",
    "\n",
    "The cumulative distribution function (CDF) calculates the cumulative probability for a given x-value. Use the CDF to determine the probability that a random observation that is taken from the population will be less than or equal to a certain value."
   ]
  },
  {
   "cell_type": "markdown",
   "id": "f0c496cf-addf-42e3-81c5-a9709b2dcbca",
   "metadata": {},
   "source": [
    "#### Question 3-"
   ]
  },
  {
   "cell_type": "markdown",
   "id": "f85792fe-a7cf-45ac-8da2-64df2f1984f3",
   "metadata": {},
   "source": [
    "The normal distribution describes how the values of a variable are distributed. It is the most important probability distribution in statistics because it accurately describes the distribution of values for many natural phenomena.\n",
    "\n",
    "The height of people is an example of normal distribution. Most of the people in a specific population are of average height. The number of people taller and shorter than the average height people is almost equal, and a very small number of people are either extremely tall or extremely short.\n",
    "\n",
    "The mean of the Normal distribution defines the average height of the people, the median of the distribution defines the height which is most probable, the variance of the distribution defines the spread of the heights, and the standard deviation defines the next value of height with respect to the mean."
   ]
  },
  {
   "cell_type": "markdown",
   "id": "307ab8f9-1a7e-4bd9-9d78-22cedc106b08",
   "metadata": {},
   "source": [
    "#### Question 4-"
   ]
  },
  {
   "cell_type": "markdown",
   "id": "40aae870-c3d4-4500-b006-1569d3f6bce6",
   "metadata": {},
   "source": [
    "The normal distribution describes how the values of a variable are distributed. It is the most important probability distribution in statistics because it accurately describes the distribution of values for many natural phenomena. Characteristics that are the sum of many independent processes frequently follow normal distributions. For example,\n",
    "\n",
    "1. height \n",
    "2. blood pressure\n",
    "3. IQ scores\n",
    "4. length measurement"
   ]
  },
  {
   "cell_type": "markdown",
   "id": "49a2343f-6ef0-4c34-a2de-e525bc5ee65a",
   "metadata": {},
   "source": [
    "#### Question 5-"
   ]
  },
  {
   "cell_type": "markdown",
   "id": "27c2f331-d092-42b1-8174-a4c1a1eb77d3",
   "metadata": {},
   "source": [
    "A Bernoulli event is one for which the probability the event occurs is p and the probability the event does not occur is 1-p; i.e., the event is has two possible outcomes (usually viewed as success or failure) occurring with probability p and 1-p, respectively.\n",
    "A Bernoulli distribution is the pair of probabilities of a Bernoulli events.\n",
    "\n",
    "Ex- tossing a coin, finding a defcetive item from a lot\n",
    "\n",
    "The Bernoulli distribution represents the success or failure of a single Bernoulli trial. The Binomial Distribution represents the number of successes and failures in n independent Bernoulli trials for some given value of n. For example, if a manufactured item is defective with probability p, then the binomial distribution represents the number of successes and failures in a lot of n items. In particular, sampling from this distribution gives a count of the number of defective items in a sample lot."
   ]
  },
  {
   "cell_type": "markdown",
   "id": "c6f00078-26da-460e-baee-ababf07ea831",
   "metadata": {},
   "source": [
    "#### Question 6-"
   ]
  },
  {
   "cell_type": "markdown",
   "id": "eb2ef11c-bdac-4b13-b635-58798372c35e",
   "metadata": {},
   "source": [
    "Here, we can use the Z-score and Z-table for finding the probability-\n",
    "\n",
    "Given -\n",
    "\n",
    "mean= 50\n",
    "\n",
    "standard deviation = 10\n",
    "\n",
    "Z-score (x=60) = 60-50/10= 1\n",
    "\n",
    "Corresponding to z-score as +1, the probabilty = 0.84134 (calculated from the z-table)\n",
    "\n",
    "So, the probability that a randomly selected observation will be greater than 60 is-\n",
    "1 - 0.84134 = 0.15866"
   ]
  },
  {
   "cell_type": "markdown",
   "id": "d9cc2b87-802e-43b8-ace8-8b9304d9d266",
   "metadata": {},
   "source": [
    "#### Question 7-"
   ]
  },
  {
   "cell_type": "markdown",
   "id": "a1c9bc52-d714-4989-9d53-092b1bcb6a83",
   "metadata": {},
   "source": [
    "In probability theory and statistics, the continuous uniform distributions or rectangular distributions are a family of symmetric probability distributions. Such a distribution describes an experiment where there is an arbitrary outcome that lies between certain bounds.The bounds are defined by the parameters, \n",
    "a and b, which are the minimum and maximum values.\n",
    "Therefore, the distribution is often abbreviated as U(a,b) where,\n",
    "U stands for uniform distribution.\n",
    "\n",
    "Example- rolling a fair dice"
   ]
  },
  {
   "cell_type": "markdown",
   "id": "3cff4140-81bc-49f4-bce4-c880944082e5",
   "metadata": {},
   "source": [
    "#### Question 8-"
   ]
  },
  {
   "cell_type": "markdown",
   "id": "d61f61da-b653-43e4-8d01-a431217cf9f3",
   "metadata": {},
   "source": [
    "Z-score indicates how much a given value differs from the standard deviation. The Z-score, or standard score, is the number of standard deviations a given data point lies above or below mean.\n",
    "\n",
    "A z-score measures the distance between a data point and the mean using standard deviations. Z-scores can be positive or negative. The sign tells you whether the observation is above or below the mean.\n",
    "\n",
    "Uses of Z-score-\n",
    "1. To Understand How an Observation Fits into a Distribution\n",
    "2. to Compare Different Types of Variables\n",
    "3. to Detect Outliers\n",
    "4. to Calculate Probabilities and Percentiles"
   ]
  },
  {
   "cell_type": "markdown",
   "id": "70be4553-ca5e-45cc-badc-f388ad88284c",
   "metadata": {},
   "source": [
    "#### Question 9-"
   ]
  },
  {
   "cell_type": "markdown",
   "id": "1b11ab93-1985-4ae6-b07b-55fd491cc164",
   "metadata": {},
   "source": [
    "The Central Limit Theorem is a statistical theory that states that - if you take a sufficiently large sample size from a population with a finite level of variance, the mean of all samples from that population will be roughly equal to the population mean.\n",
    "\n",
    "The CLT has several applications:\n",
    "1. Political/election polling is a great example.\n",
    "2. We can use the CLT in various census fields to calculate various population details, such as family income, electricity consumption, individual salaries, and so on."
   ]
  },
  {
   "cell_type": "markdown",
   "id": "63d06118-207d-4f12-b326-5cc11ece19eb",
   "metadata": {},
   "source": [
    "#### Question 10-"
   ]
  },
  {
   "cell_type": "markdown",
   "id": "07114ab6-a960-4390-b163-d4469603e1e7",
   "metadata": {},
   "source": [
    "1. The data must adhere to the randomization rule. It needs to be sampled at random.\n",
    "\n",
    "2. The samples should be unrelated to one another. One sample should not impact the others.\n",
    "\n",
    "3. When taking samples without replacement, the sample size should not exceed 10% of the population.\n",
    "\n",
    "4. When the population is symmetric, a sample size of 30 is generally considered reasonable. \n"
   ]
  },
  {
   "cell_type": "code",
   "execution_count": null,
   "id": "2273a637-6d03-45fb-8f48-7ab1b00abdfc",
   "metadata": {},
   "outputs": [],
   "source": []
  }
 ],
 "metadata": {
  "kernelspec": {
   "display_name": "Python 3 (ipykernel)",
   "language": "python",
   "name": "python3"
  },
  "language_info": {
   "codemirror_mode": {
    "name": "ipython",
    "version": 3
   },
   "file_extension": ".py",
   "mimetype": "text/x-python",
   "name": "python",
   "nbconvert_exporter": "python",
   "pygments_lexer": "ipython3",
   "version": "3.10.8"
  }
 },
 "nbformat": 4,
 "nbformat_minor": 5
}
