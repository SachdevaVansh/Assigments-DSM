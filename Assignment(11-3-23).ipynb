{
 "cells": [
  {
   "cell_type": "markdown",
   "id": "0290aa5c-138f-4393-bfc8-157136594718",
   "metadata": {},
   "source": [
    "#### Question 1-"
   ]
  },
  {
   "cell_type": "markdown",
   "id": "1f56717f-2c68-4bf9-9fa5-a8557adab665",
   "metadata": {},
   "source": [
    "#### T-test: \n",
    "T-test refers to a type of parametric test that is applied to identify, how the means of two sets of data differ from one another when variance is not given.\n",
    "\n",
    "It is based on Student t-distribution.\n",
    "\n",
    "Popoluation variance is unkonown\n",
    "\n",
    "Sample size is small.\n",
    "\n",
    "Ex-A store wants to improve its sales. The previous sales data shows that the average sale of 30 salesmen was Rs.40 per sale. After some training, the current data showed an average sale of Rs. 60 per transaction.\n",
    "\n",
    "#### Z-test: \n",
    "Z-test implies a hypothesis test which ascertains if the means of two datasets are different from each other when variance is given.\n",
    "\n",
    "It is based on Normal distribution\n",
    "\n",
    "Population variance is known.\n",
    "\n",
    "Sample size is Large.\n",
    "\n",
    "Ex-Let's say that the mean score of students in a class is greater than 70 with a standard deviation of 10. If a sample of 50 students was selected with a mean score of 80."
   ]
  },
  {
   "cell_type": "markdown",
   "id": "cabf8be1-975b-4de3-9f91-7139b78ba8c0",
   "metadata": {},
   "source": [
    "#### Question 2- "
   ]
  },
  {
   "cell_type": "markdown",
   "id": "7ceba978-be37-4706-992e-357bc3e2c429",
   "metadata": {},
   "source": [
    "1. One-tailed test, as the name suggest is the statistical hypothesis test, in which the alternative hypothesis has a single end. On the other hand, two-tailed test implies the hypothesis test; wherein the alternative hypothesis has dual ends.\n",
    "\n",
    "2. In the one-tailed test, the alternative hypothesis is represented directionally. Conversely, the two-tailed test is a non-directional hypothesis test.\n",
    "\n",
    "3. In a one-tailed test, the region of rejection is either on the left or right of the sampling distribution. On the contrary, the region of rejection is on both the sides of the sampling distribution.\n",
    "\n",
    "4. A one-tailed test is used to ascertain if there is any relationship between variables in a single direction, i.e. left or right. As against this, the two-tailed test is used to identify whether or not there is any relationship between variables in either direction.\n",
    "\n",
    "5. In a one-tailed test, the test parameter calculated is more or less than the critical value. Unlike, two-tailed test, the result obtained is within or outside critical value."
   ]
  },
  {
   "cell_type": "markdown",
   "id": "e00b8f89-6866-4bb4-8391-394e5abffdb1",
   "metadata": {},
   "source": [
    "#### Question 3-"
   ]
  },
  {
   "cell_type": "markdown",
   "id": "5af45874-426b-4dd9-b4da-e2ed9af8802a",
   "metadata": {},
   "source": [
    "Type 1 Error -\n",
    "* When Null hypothesis is rejected , when in reality it is True.\n",
    "* the test result says you have coronavirus, but you actually don't.\n",
    "\n",
    "Type 2 Error-\n",
    "* When we retain the Null hypothesis, when in reality it is False.\n",
    "* the test result says you don't have coronavirus, but you actually do."
   ]
  },
  {
   "cell_type": "markdown",
   "id": "08584a0c-e9ab-4924-8c17-7106852c38d6",
   "metadata": {},
   "source": [
    "#### Question 4-"
   ]
  },
  {
   "cell_type": "markdown",
   "id": "2f299122-4cea-41b4-8117-492a35774597",
   "metadata": {},
   "source": [
    "Bayes' Theorem states that the conditional probability of an event, based on the occurrence of another event, is equal to the likelihood of the second event given the first event multiplied by the probability of the first event.\n",
    "\n",
    "For example: \n",
    "* if we have to calculate the probability of taking a blue ball from the second bag out of three different bags of balls, where each bag contains three different colour balls viz. red, blue, black. In this case, the probability of occurrence of an event is calculated depending on other conditions is known as conditional probability.\n",
    "\n",
    "* A bag I contains 4 white and 6 black balls while another Bag II contains 4 white and 3 black balls. One ball is drawn at random from one of the bags, and it is found to be black. Find the probability that it was drawn from Bag I."
   ]
  },
  {
   "cell_type": "markdown",
   "id": "c904396c-621e-4e6b-984d-57556a866102",
   "metadata": {},
   "source": [
    "#### Question 5-"
   ]
  },
  {
   "cell_type": "markdown",
   "id": "b7225b73-1bb7-4546-b777-4146ced512b7",
   "metadata": {},
   "source": [
    "The confidence interval is the range of values that we expect our estimate to fall between a certain percentage of the time if we run our experiment again or re-sample the population in the same way.\n",
    "\n",
    "* A confidence interval is the mean of our estimate plus and minus the variation in that estimate. This is the range of values we expect our estimate to fall between if we redo our test, within a certain level of confidence.\n",
    "\n",
    "Calculation of CI:\n",
    "\n",
    "We survey 100 Brits and 100 Americans about their television-watching habits, and find that both groups watch an average of 35 hours of television per week.The variance in the GB estimate is 100, while the variance in the USA estimate is 25.To calculate the 95% confidence interval, we can simply plug the values into the formula.\n",
    "\n",
    "For USA-\n",
    "\n",
    "CI= 35+-1.96*5/root(100)\n",
    "\n",
    "= 35+-1.96(0.5)\n",
    "\n",
    "= 35+-0.98\n",
    "\n",
    "Lower bound= 34.02 \n",
    "\n",
    "Upper bound = 35.98\n",
    "\n",
    "For Great Britian:\n",
    "\n",
    "CI= 35+-1.96*10/root(100)\n",
    "\n",
    "= 35+-1.96(1)\n",
    "\n",
    "= 35+-1.96\n",
    "\n",
    "Lower bound= 33.04 \n",
    "\n",
    "Upper bound = 36.96"
   ]
  },
  {
   "cell_type": "markdown",
   "id": "71b24768-dbf9-4881-a012-65a5d7df4865",
   "metadata": {},
   "source": [
    "#### Question 6-"
   ]
  },
  {
   "cell_type": "markdown",
   "id": "a41a6739-c988-4818-b64a-c35b5f7cb1e4",
   "metadata": {},
   "source": [
    "Ex-A man is known to speak the truth 2 out of 3 times. He throws a die and reports that the number obtained is a four. Find the probability that the number obtained is actually a four."
   ]
  },
  {
   "cell_type": "markdown",
   "id": "ed5465d1-53bd-4daf-b79f-9fea3a45260d",
   "metadata": {},
   "source": [
    "Solution-"
   ]
  },
  {
   "cell_type": "markdown",
   "id": "c6060a1d-4f9e-44da-8f5d-87ffe0b83fc6",
   "metadata": {},
   "source": [
    "Let A be the event that the man reports that number four is obtained.\n",
    "\n",
    "Let E1 be the event that four is obtained and E2 be its complementary event.\n",
    "\n",
    "Then, P(E1) = Probability that four occurs = 1/6.\n",
    "\n",
    "P(E2) = Probability that four does not occur = 1- P(E1) = 1 – (1/6) = 5/6.\n",
    "\n",
    "Also, P(A|E1)= Probability that man reports four and it is actually a four = 2/3\n",
    "\n",
    "P(A|E2) = Probability that man reports four and it is not a four = 1/3.\n",
    "\n",
    "By using Bayes’ theorem, probability that number obtained is actually a four, P(E1|A)\n",
    "\n",
    "By using Bayes’ theorem, probability that number obtained is actually a four, P(E1|A)\n",
    "\n",
    "P(E1)P(A/E1)/{P(A/E1)+P(E2)P(A/E2)}=2/7\n",
    "\n"
   ]
  },
  {
   "cell_type": "markdown",
   "id": "a1a003d3-a036-4ed8-819c-86987831fa12",
   "metadata": {},
   "source": [
    "#### Question 7-"
   ]
  },
  {
   "cell_type": "code",
   "execution_count": 3,
   "id": "47f71442-9805-48e7-8359-19b62a3eb55d",
   "metadata": {},
   "outputs": [],
   "source": [
    "import math\n",
    "mean=50\n",
    "std=5\n",
    "ci=0.95\n",
    "n=50\n",
    "alpha = 0.05\n",
    "Upper_bound=mean+1.96*std/math.sqrt(n)\n",
    "Lower_bound=mean-1.96*std/math.sqrt(n)"
   ]
  },
  {
   "cell_type": "code",
   "execution_count": 4,
   "id": "47693f25-f693-4f19-a7a3-8c5a2ee0128e",
   "metadata": {},
   "outputs": [
    {
     "data": {
      "text/plain": [
       "51.385929291125635"
      ]
     },
     "execution_count": 4,
     "metadata": {},
     "output_type": "execute_result"
    }
   ],
   "source": [
    "Upper_bound"
   ]
  },
  {
   "cell_type": "code",
   "execution_count": 5,
   "id": "da797136-70cd-4eef-b51b-8d7650856248",
   "metadata": {},
   "outputs": [
    {
     "data": {
      "text/plain": [
       "48.614070708874365"
      ]
     },
     "execution_count": 5,
     "metadata": {},
     "output_type": "execute_result"
    }
   ],
   "source": [
    "Lower_bound"
   ]
  },
  {
   "cell_type": "markdown",
   "id": "52c3898b-3672-4de9-a6d4-f11e875c5de6",
   "metadata": {},
   "source": [
    "Range = 48.614 to 51.385"
   ]
  },
  {
   "cell_type": "markdown",
   "id": "03e0f272-788b-41c2-b6b8-bafb1ef4d172",
   "metadata": {},
   "source": [
    "#### Question 8-"
   ]
  },
  {
   "cell_type": "markdown",
   "id": "c4bc4689-c03d-4672-bf16-6d3713445bf9",
   "metadata": {},
   "source": [
    "Margin of error, also called confidence interval, tells us how much we can expect our survey results to reflect the views from the overall population."
   ]
  },
  {
   "cell_type": "markdown",
   "id": "2fab19d1-0869-4131-8b0a-b6812641dca2",
   "metadata": {},
   "source": [
    "Margin of error is given by-\n",
    "\n",
    "Z-score(aplha/2)* sigma/root(n)\n",
    "\n",
    "where, \n",
    "\n",
    "alpha= significance value\n",
    "\n",
    "sigma= standard deviation\n",
    "\n",
    "n= population size"
   ]
  },
  {
   "cell_type": "markdown",
   "id": "9cc4ec55-5db1-4f9a-8bed-d1a2d08df85b",
   "metadata": {},
   "source": [
    "#### As, n is is denominator, the larger the value of n i.e population size, the smaller will be the margin of error."
   ]
  },
  {
   "cell_type": "markdown",
   "id": "bdb88afa-f39d-4f4c-8d78-867be3fbfd49",
   "metadata": {},
   "source": [
    "#### Question 9-"
   ]
  },
  {
   "cell_type": "code",
   "execution_count": 6,
   "id": "ba6a067f-b468-41d8-9c8b-965fc21ce00f",
   "metadata": {},
   "outputs": [],
   "source": [
    "import math\n",
    "x_bar=75\n",
    "meu=70\n",
    "sigma=5\n",
    "alpha=0.05\n",
    "n=50\n",
    "z_score=(x_bar-meu)*math.sqrt(n)/sigma"
   ]
  },
  {
   "cell_type": "code",
   "execution_count": 7,
   "id": "c12502d6-0ef6-493a-bbf1-d989ab318d9f",
   "metadata": {},
   "outputs": [
    {
     "data": {
      "text/plain": [
       "7.0710678118654755"
      ]
     },
     "execution_count": 7,
     "metadata": {},
     "output_type": "execute_result"
    }
   ],
   "source": [
    "z_score"
   ]
  },
  {
   "cell_type": "markdown",
   "id": "1af4249e-7689-4aca-97d0-71d4539e73ab",
   "metadata": {},
   "source": [
    "#### Question 10-"
   ]
  },
  {
   "cell_type": "code",
   "execution_count": 8,
   "id": "c35b3a02-e547-4e88-a72b-3865dc86581d",
   "metadata": {},
   "outputs": [],
   "source": [
    "n=50\n",
    "x_bar_minus_meu=6\n",
    "s=2.5\n",
    "t_value=x_bar_minus_meu*math.sqrt(n)/s"
   ]
  },
  {
   "cell_type": "code",
   "execution_count": 9,
   "id": "2308cddc-2446-4c21-80a5-79d4753a86d6",
   "metadata": {},
   "outputs": [
    {
     "data": {
      "text/plain": [
       "16.970562748477143"
      ]
     },
     "execution_count": 9,
     "metadata": {},
     "output_type": "execute_result"
    }
   ],
   "source": [
    "t_value"
   ]
  },
  {
   "cell_type": "markdown",
   "id": "04af853b-9500-4911-b10b-5a521d3d2cc6",
   "metadata": {},
   "source": [
    "From the t-table, when aplha=0.05 and dof=49 , the t-value calculated is 1.677"
   ]
  },
  {
   "cell_type": "markdown",
   "id": "26167448-2516-4e83-95de-a15ac9395d6f",
   "metadata": {},
   "source": [
    "As, the t_value calculated from the calculation is greater than t-value calculated from t-table, the Null hypothesis is rejected."
   ]
  },
  {
   "cell_type": "markdown",
   "id": "4a86360d-aec0-4a84-a410-00baddf65773",
   "metadata": {},
   "source": [
    "#### Question 13-"
   ]
  },
  {
   "cell_type": "code",
   "execution_count": 11,
   "id": "8f397910-d7e2-4173-988f-db5e6db8f1da",
   "metadata": {},
   "outputs": [],
   "source": [
    "meu=60\n",
    "sigma=8\n",
    "n=50\n",
    "x_bar=50\n",
    "ci=0.90\n",
    "alpha=0.10"
   ]
  },
  {
   "cell_type": "markdown",
   "id": "c80d9e09-5e16-4451-b4d8-18350dbee58d",
   "metadata": {},
   "source": [
    "z-score corresponding to alpha=0.05 is 1.96."
   ]
  },
  {
   "cell_type": "code",
   "execution_count": 17,
   "id": "f32ba0f8-f1e4-48ff-a071-25142b1e163d",
   "metadata": {},
   "outputs": [],
   "source": [
    "upper_bound=x_bar+(1.96)*sigma/math.sqrt(n)"
   ]
  },
  {
   "cell_type": "code",
   "execution_count": 18,
   "id": "dd96e330-0efc-456d-9110-88ad9632b1e7",
   "metadata": {},
   "outputs": [
    {
     "data": {
      "text/plain": [
       "52.217486865801014"
      ]
     },
     "execution_count": 18,
     "metadata": {},
     "output_type": "execute_result"
    }
   ],
   "source": [
    "upper_bound"
   ]
  },
  {
   "cell_type": "code",
   "execution_count": 19,
   "id": "b3b9b634-8c7d-4e0c-858b-f6983bcd0e3a",
   "metadata": {},
   "outputs": [],
   "source": [
    "lower_bound=x_bar-(1.96)*sigma/math.sqrt(n)"
   ]
  },
  {
   "cell_type": "code",
   "execution_count": 35,
   "id": "c73da932-de65-4ad6-ae68-25d5e4e0be02",
   "metadata": {},
   "outputs": [
    {
     "data": {
      "text/plain": [
       "47.782513134198986"
      ]
     },
     "execution_count": 35,
     "metadata": {},
     "output_type": "execute_result"
    }
   ],
   "source": [
    "lower_bound"
   ]
  },
  {
   "cell_type": "markdown",
   "id": "5757a3ff-0439-4c90-bc72-fbd58436b15c",
   "metadata": {},
   "source": [
    "#### Question 14-"
   ]
  },
  {
   "cell_type": "markdown",
   "id": "502ff76c-afe7-44be-b4e0-62d011d18ab3",
   "metadata": {},
   "source": [
    "Ho= caffeine has significant effect on reaction time\n",
    "\n",
    "H1= caffeine does not has significant effect on reaction time"
   ]
  },
  {
   "cell_type": "code",
   "execution_count": 22,
   "id": "80374922-ca61-4360-82f4-1bfe227622a5",
   "metadata": {},
   "outputs": [],
   "source": [
    "n=30\n",
    "x_bar=0.25\n",
    "s=0.05\n",
    "alpha=0.10"
   ]
  },
  {
   "cell_type": "markdown",
   "id": "e6ec7d9d-03f0-4bf6-8622-6b7ae082f3a3",
   "metadata": {},
   "source": [
    "In the question, it is not given the population mean so let us assume the population mean as 0.75."
   ]
  },
  {
   "cell_type": "code",
   "execution_count": 32,
   "id": "370ab242-44e1-4518-84ed-06369f8b457b",
   "metadata": {},
   "outputs": [],
   "source": [
    "meu=0.20"
   ]
  },
  {
   "cell_type": "markdown",
   "id": "1c50fafd-ed51-4c61-90ba-79d1feace815",
   "metadata": {},
   "source": [
    "from the t-table, with aplha = 0.10 and dof=29, we get t_value as 1.311 "
   ]
  },
  {
   "cell_type": "markdown",
   "id": "cb188fbe-764a-4555-8553-a8c49c997532",
   "metadata": {},
   "source": [
    "Calculation of t_value:\n",
    "    "
   ]
  },
  {
   "cell_type": "code",
   "execution_count": 33,
   "id": "710e8e0f-16bb-4e42-b38f-c12daf244264",
   "metadata": {},
   "outputs": [],
   "source": [
    "t_value=(x_bar-meu)*math.sqrt(n)/s"
   ]
  },
  {
   "cell_type": "code",
   "execution_count": 34,
   "id": "ea64831b-1f61-476f-8b10-231a1b05e115",
   "metadata": {},
   "outputs": [
    {
     "data": {
      "text/plain": [
       "5.477225575051659"
      ]
     },
     "execution_count": 34,
     "metadata": {},
     "output_type": "execute_result"
    }
   ],
   "source": [
    "t_value"
   ]
  },
  {
   "cell_type": "markdown",
   "id": "7781fc71-a3c1-4a7d-9c99-fe89e020b753",
   "metadata": {},
   "source": [
    "As, the t_value is greater than that calculated from the t-table , the Null hypothesis is rejected."
   ]
  },
  {
   "cell_type": "code",
   "execution_count": null,
   "id": "fdb6712f-0732-4556-9ad2-fea0e7bd95e9",
   "metadata": {},
   "outputs": [],
   "source": []
  }
 ],
 "metadata": {
  "kernelspec": {
   "display_name": "Python 3 (ipykernel)",
   "language": "python",
   "name": "python3"
  },
  "language_info": {
   "codemirror_mode": {
    "name": "ipython",
    "version": 3
   },
   "file_extension": ".py",
   "mimetype": "text/x-python",
   "name": "python",
   "nbconvert_exporter": "python",
   "pygments_lexer": "ipython3",
   "version": "3.10.8"
  }
 },
 "nbformat": 4,
 "nbformat_minor": 5
}
