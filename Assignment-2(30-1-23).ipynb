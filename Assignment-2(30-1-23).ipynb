{
 "cells": [
  {
   "cell_type": "markdown",
   "id": "fa40e722-4d97-466d-8395-ebd725089562",
   "metadata": {},
   "source": [
    "#### Question number-1"
   ]
  },
  {
   "cell_type": "code",
   "execution_count": 9,
   "id": "12ac456b-9cf5-4bcf-b4ea-8b5a56ddf257",
   "metadata": {},
   "outputs": [
    {
     "name": "stdin",
     "output_type": "stream",
     "text": [
      "Enter the percentage 65.5\n"
     ]
    },
    {
     "name": "stdout",
     "output_type": "stream",
     "text": [
      "grade is : C\n"
     ]
    }
   ],
   "source": [
    "percentage=float(input(\"Enter the percentage\"))\n",
    "if percentage >90:\n",
    "    grade='A'\n",
    "    print(\"grade is :\",grade)\n",
    "elif percentage >80 and percentage<=90:\n",
    "    garde='B'\n",
    "    print(\"grade is :\",grade)\n",
    "elif percentage >=60 and percentage <=80:\n",
    "    grade='C'\n",
    "    print(\"grade is :\",grade)\n",
    "else:\n",
    "    grade='D'\n",
    "    print(\"grade is :\",grade)"
   ]
  },
  {
   "cell_type": "markdown",
   "id": "bfb55dea-83ad-4f7d-935c-59a65f2259c3",
   "metadata": {},
   "source": [
    "#### Question number-2"
   ]
  },
  {
   "cell_type": "code",
   "execution_count": 11,
   "id": "f7927b7f-a580-42bf-93e1-23550daf3f33",
   "metadata": {},
   "outputs": [
    {
     "name": "stdin",
     "output_type": "stream",
     "text": [
      "Enter the cost price  1500000\n"
     ]
    },
    {
     "name": "stdout",
     "output_type": "stream",
     "text": [
      "Tax is: 15%\n"
     ]
    }
   ],
   "source": [
    "cp=float(input(\"Enter the cost price \"))\n",
    "if cp > 100000:\n",
    "    tax='15%'\n",
    "    print(\"Tax is:\",tax)\n",
    "elif cp > 50000 and cp<=100000:\n",
    "    tax='10%'\n",
    "    print(\"Tax is:\",tax)\n",
    "elif cp <= 50000:\n",
    "    tax='5%'\n",
    "    print(\"Tax is:\",tax)"
   ]
  },
  {
   "cell_type": "markdown",
   "id": "4f24dabf-81e5-4355-a5af-84a482cece92",
   "metadata": {},
   "source": [
    "#### Question number 3-"
   ]
  },
  {
   "cell_type": "code",
   "execution_count": 14,
   "id": "3251fef8-9541-47e9-b1c5-f6acc2572d8a",
   "metadata": {},
   "outputs": [
    {
     "name": "stdin",
     "output_type": "stream",
     "text": [
      "Enter the city Agra\n"
     ]
    },
    {
     "name": "stdout",
     "output_type": "stream",
     "text": [
      "Taj Mahal\n"
     ]
    }
   ],
   "source": [
    "city=input(\"Enter the city\")\n",
    "if city =='Delhi':\n",
    "    monument='Red Fort'\n",
    "    print(monument)\n",
    "elif city=='Agra':\n",
    "    monument='Taj Mahal'\n",
    "    print(monument)\n",
    "elif city=='Jaipur':\n",
    "    monument='Jal Mahal'\n",
    "    print(monument)\n",
    "    "
   ]
  },
  {
   "cell_type": "markdown",
   "id": "b55e9fc3-c5ee-49c0-a16c-192dd35d9dbe",
   "metadata": {},
   "source": [
    "#### Question number-4\n"
   ]
  },
  {
   "cell_type": "code",
   "execution_count": 1,
   "id": "22fb3a8e-ecce-444c-9b7a-091efb254bc4",
   "metadata": {},
   "outputs": [
    {
     "name": "stdin",
     "output_type": "stream",
     "text": [
      "Enter the number 4\n"
     ]
    },
    {
     "name": "stdout",
     "output_type": "stream",
     "text": [
      "0\n"
     ]
    }
   ],
   "source": [
    "n=int(input(\"Enter the number\"))\n",
    "count=0\n",
    "if n<=10:\n",
    "    for i in range(0,11):\n",
    "        if n%3==0:\n",
    "            n=n/3\n",
    "            count=count+1\n",
    "    else :\n",
    "        print(count)"
   ]
  },
  {
   "cell_type": "markdown",
   "id": "58fe3090-882c-4aa9-b934-d8c889bc95a7",
   "metadata": {},
   "source": [
    "#### Question 5-"
   ]
  },
  {
   "cell_type": "raw",
   "id": "efe8ad89-a080-4943-a568-f75c5e06ed8f",
   "metadata": {},
   "source": [
    "While loop is used when we do not know exactly how many times the loop will run.\n",
    "Untill and unless the conditions specified in the body of while loop are soecified the loop will go on.\n",
    "\n",
    "Example:"
   ]
  },
  {
   "cell_type": "code",
   "execution_count": 2,
   "id": "be0e6f69-ae60-4d9d-a6fb-21ce989e235e",
   "metadata": {},
   "outputs": [
    {
     "name": "stdout",
     "output_type": "stream",
     "text": [
      "0\n",
      "3\n",
      "6\n",
      "9\n",
      "12\n",
      "15\n",
      "18\n",
      "21\n",
      "24\n",
      "27\n",
      "30\n",
      "33\n",
      "36\n",
      "39\n",
      "42\n",
      "45\n",
      "48\n",
      "51\n",
      "54\n",
      "57\n",
      "60\n",
      "63\n",
      "66\n",
      "69\n",
      "72\n",
      "75\n",
      "78\n",
      "81\n",
      "84\n",
      "87\n",
      "90\n",
      "93\n",
      "96\n",
      "99\n"
     ]
    }
   ],
   "source": [
    "a=0\n",
    "while a<100:\n",
    "    if a%3==0:\n",
    "        print(a)\n",
    "        a=a+1\n",
    "    else: \n",
    "        a=a+1"
   ]
  },
  {
   "cell_type": "raw",
   "id": "78fd6c85-c1c0-478f-b6c0-9dd87bcb54af",
   "metadata": {},
   "source": [
    "Here, in the above code if I specify a large number instead of 100, it would be diffucult to predict how many\n",
    "times the loop will run.\n",
    "That's why While loop is helpful here because as long as the condition is true, the loop will run and terminate at the end."
   ]
  },
  {
   "cell_type": "markdown",
   "id": "7626ca6b-fd20-4f2d-b066-e2cbc6d65ee9",
   "metadata": {},
   "source": [
    "#### Question 6-"
   ]
  },
  {
   "cell_type": "code",
   "execution_count": 9,
   "id": "44defd11-ff78-486e-b7ec-e580a71a61dc",
   "metadata": {},
   "outputs": [
    {
     "name": "stdout",
     "output_type": "stream",
     "text": [
      "*\n",
      "*\n",
      "*\n",
      "*\n",
      "*\n",
      "*\n",
      "*\n",
      "*\n"
     ]
    }
   ],
   "source": [
    "a=0\n",
    "while a<2:\n",
    "    b=1\n",
    "    while b<5:\n",
    "        print('*')\n",
    "        b=b+1\n",
    "    a=a+1\n",
    "    "
   ]
  },
  {
   "cell_type": "markdown",
   "id": "712e3cc9-284e-412a-8eed-e0ac692cc628",
   "metadata": {},
   "source": [
    "#### Question 7-\n"
   ]
  },
  {
   "cell_type": "code",
   "execution_count": 14,
   "id": "f377d591-bed0-4fc0-8562-ec2281cd2cde",
   "metadata": {},
   "outputs": [
    {
     "name": "stdout",
     "output_type": "stream",
     "text": [
      "10\n",
      "9\n",
      "8\n",
      "7\n",
      "6\n",
      "5\n",
      "4\n",
      "3\n",
      "2\n",
      "1\n"
     ]
    }
   ],
   "source": [
    "a=10\n",
    "while a>0:\n",
    "    print(a)\n",
    "    a=a-1"
   ]
  },
  {
   "cell_type": "markdown",
   "id": "3a18fb5b-a671-4215-a22b-6d6297a80959",
   "metadata": {},
   "source": [
    "#### Question 8-"
   ]
  },
  {
   "cell_type": "code",
   "execution_count": 19,
   "id": "4677a244-a6ed-4fa8-82c4-03b36f4aa675",
   "metadata": {},
   "outputs": [
    {
     "name": "stdout",
     "output_type": "stream",
     "text": [
      "10\n",
      "9\n",
      "8\n",
      "7\n",
      "6\n",
      "5\n",
      "4\n",
      "3\n",
      "2\n",
      "1\n"
     ]
    }
   ],
   "source": [
    "for i in range(10,0,-1):\n",
    "    print(i)"
   ]
  },
  {
   "cell_type": "code",
   "execution_count": null,
   "id": "9e0cb3ad-73e7-41ba-8a57-b86e92f2895d",
   "metadata": {},
   "outputs": [],
   "source": []
  }
 ],
 "metadata": {
  "kernelspec": {
   "display_name": "Python 3 (ipykernel)",
   "language": "python",
   "name": "python3"
  },
  "language_info": {
   "codemirror_mode": {
    "name": "ipython",
    "version": 3
   },
   "file_extension": ".py",
   "mimetype": "text/x-python",
   "name": "python",
   "nbconvert_exporter": "python",
   "pygments_lexer": "ipython3",
   "version": "3.10.8"
  }
 },
 "nbformat": 4,
 "nbformat_minor": 5
}
