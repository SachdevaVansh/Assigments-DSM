{
 "cells": [
  {
   "cell_type": "code",
   "execution_count": 4,
   "id": "cfe427ef-04c7-4260-8c1e-10549b5735dc",
   "metadata": {},
   "outputs": [],
   "source": [
    "import tensorflow as tf"
   ]
  },
  {
   "cell_type": "markdown",
   "id": "c436351e-4eea-4e11-97ff-fea1337c6eb1",
   "metadata": {},
   "source": [
    "### Part-1 Theortical Questions"
   ]
  },
  {
   "cell_type": "markdown",
   "id": "fbc09004-3fa6-499d-a1f8-950ee7da611a",
   "metadata": {},
   "source": [
    "#### Question 1-"
   ]
  },
  {
   "cell_type": "markdown",
   "id": "5f2117f1-d518-4871-ace0-72ff83aede0b",
   "metadata": {},
   "source": [
    "1. What are the different data structures used in Tensorflow?. Give some examamples .\n",
    "\n",
    "Ans. The different data structures used in Tensorflow are:\n",
    "\n",
    "1. Tensors: Tensors are the fundamental building blocks of TensorFlow, and they represent multi-dimensional arrays of data.\n",
    "Example:   \n"
   ]
  },
  {
   "cell_type": "code",
   "execution_count": 5,
   "id": "1801d927-bc3c-477d-ab27-44ca18ea8b92",
   "metadata": {},
   "outputs": [
    {
     "name": "stdout",
     "output_type": "stream",
     "text": [
      "tf.Tensor([1 2 3 4 5], shape=(5,), dtype=int32)\n"
     ]
    }
   ],
   "source": [
    "vector = tf.constant([1, 2, 3, 4, 5])\n",
    "print(vector)   "
   ]
  },
  {
   "cell_type": "markdown",
   "id": "feb8de28-c461-4e47-b79d-136b350c30d2",
   "metadata": {},
   "source": [
    "2. Variables: Variables are mutable tensors used to store model parameters during training. \n",
    "Example:"
   ]
  },
  {
   "cell_type": "code",
   "execution_count": 6,
   "id": "6b89ae8b-041c-4ee0-804b-592aadbaec69",
   "metadata": {},
   "outputs": [
    {
     "name": "stdout",
     "output_type": "stream",
     "text": [
      "<tf.Variable 'Variable:0' shape=(2, 5) dtype=float32, numpy=\n",
      "array([[ 1.8958393 ,  1.2166234 , -0.06096885, -1.38528   ,  1.2092367 ],\n",
      "       [-1.006418  , -0.71873224, -0.24546008, -0.89314467,  1.9773018 ]],\n",
      "      dtype=float32)>\n"
     ]
    }
   ],
   "source": [
    "weights=tf.Variable(tf.random.normal(shape=(2,5)))\n",
    "print(weights)"
   ]
  },
  {
   "cell_type": "markdown",
   "id": "a8761b8f-f7d2-41a9-b5c8-033aac39d96e",
   "metadata": {},
   "source": [
    "3. SparseTensor: A SparseTensor is a special data structure used for sparse data, where most of the elements are zero. Example"
   ]
  },
  {
   "cell_type": "code",
   "execution_count": 7,
   "id": "78cb6eac-8623-4611-9b4c-72a075c2374d",
   "metadata": {},
   "outputs": [
    {
     "name": "stdout",
     "output_type": "stream",
     "text": [
      "SparseTensor(indices=tf.Tensor(\n",
      "[[0 0]\n",
      " [1 1]\n",
      " [2 3]], shape=(3, 2), dtype=int64), values=tf.Tensor([1 2 3], shape=(3,), dtype=int64), dense_shape=tf.Tensor([3 4], shape=(2,), dtype=int64))\n"
     ]
    }
   ],
   "source": [
    "indices=tf.constant([[0,0],[1,1],[2,3]],dtype=tf.int64)\n",
    "values=tf.constant([1,2,3],dtype=tf.int64)\n",
    "shape=tf.constant([3,4],dtype=tf.int64)\n",
    "sparse_tensor=tf.SparseTensor(indices,values,shape)\n",
    "print(sparse_tensor)"
   ]
  },
  {
   "cell_type": "markdown",
   "id": "32e34566-cff1-49e2-9eae-ed01b977f34c",
   "metadata": {},
   "source": [
    " 4. RaggedTensor: RaggedTensor is used to represent sequences of varying lengths efficiently.  Example: "
   ]
  },
  {
   "cell_type": "code",
   "execution_count": 8,
   "id": "bde97490-9afe-4c5c-b6f6-60f479d6306c",
   "metadata": {},
   "outputs": [
    {
     "name": "stdout",
     "output_type": "stream",
     "text": [
      "<tf.RaggedTensor [[1, 2], [3], [4, 5, 6]]>\n"
     ]
    }
   ],
   "source": [
    "rt = tf.ragged.constant([[1, 2], [3], [4, 5, 6]])\n",
    "print(rt)"
   ]
  },
  {
   "cell_type": "markdown",
   "id": "a85dff37-ba2a-46c8-8a1f-8072ff548f9b",
   "metadata": {},
   "source": [
    "#### Question 2-"
   ]
  },
  {
   "cell_type": "markdown",
   "id": "1769a2f7-7f06-45de-9227-d033d1b88d84",
   "metadata": {},
   "source": [
    "How does the TensorFlow constant differ from a TensorFlow variable? Explain with an example."
   ]
  },
  {
   "cell_type": "markdown",
   "id": "24f1b25e-49b2-4710-b5dc-ecfc02fcf4ce",
   "metadata": {},
   "source": [
    "TensorFlow Constant:\n",
    "- A constant in TensorFlow is an immutable data structure. \n",
    "- It is mainly used to hold fixed values that remain the same throughout the computation.\n",
    "- Constants are typically used for model hyperparameters, input data, or any other values that do not change during the training process.\n",
    "- When you define a constant, its value is fixed, and you cannot update it later during the execution of your TensorFlow graph."
   ]
  },
  {
   "cell_type": "code",
   "execution_count": 9,
   "id": "20246197-b96a-4e60-8f04-264f2b518d39",
   "metadata": {},
   "outputs": [
    {
     "name": "stdout",
     "output_type": "stream",
     "text": [
      "tf.Tensor(5, shape=(), dtype=int32)\n",
      "tf.Tensor([1 2 3], shape=(3,), dtype=int32)\n"
     ]
    }
   ],
   "source": [
    "a = tf.constant(5)\n",
    "b = tf.constant([1, 2, 3])\n",
    "print(a)\n",
    "print(b)"
   ]
  },
  {
   "cell_type": "markdown",
   "id": "8b86479f-ee5c-422f-831e-eae72e5c7494",
   "metadata": {},
   "source": [
    "TensorFlow Variable:\n",
    "- A variable in TensorFlow is a mutable data structure. \n",
    "- It can be updated during the execution of the TensorFlow graph.\n",
    "- Variables are commonly used to represent the learnable parameters of a machine learning model (e.g., weights and biases). \n",
    "- During training, the values of these variables are updated based on the optimization algorithm to minimize the loss function.\n",
    "- Variables are defined with an initial value and can be modified using assignment operations.\n"
   ]
  },
  {
   "cell_type": "code",
   "execution_count": 10,
   "id": "25f40200-b31c-4d9b-9277-1b1963a7cce6",
   "metadata": {},
   "outputs": [
    {
     "name": "stdout",
     "output_type": "stream",
     "text": [
      "<tf.Variable 'Variable:0' shape=(5, 2) dtype=float32, numpy=\n",
      "array([[ 2.7424443 ,  2.336153  ],\n",
      "       [-2.5375967 ,  0.25337926],\n",
      "       [-1.4353293 ,  1.2336663 ],\n",
      "       [ 2.3134758 , -0.3486495 ],\n",
      "       [ 1.8570567 ,  0.7372318 ]], dtype=float32)>\n"
     ]
    }
   ],
   "source": [
    "weights = tf.Variable(tf.random.normal(shape=(5, 2)))\n",
    "new_weights = weights * 2\n",
    "weights.assign(new_weights)\n",
    "print(weights)"
   ]
  },
  {
   "cell_type": "markdown",
   "id": "a416a3b4-f267-4495-9dbd-b49cb849551a",
   "metadata": {},
   "source": [
    "#### Question 3-"
   ]
  },
  {
   "cell_type": "markdown",
   "id": "b90c9bd0-efb6-4f67-b663-be4d44b0c054",
   "metadata": {},
   "source": [
    "Describe the process of matrix addition, multiplication, and element-wise operations in TensorFlow.\n",
    "\n",
    "Ans: Matrix Addition:\n",
    "Matrix addition is performed element-wise on two matrices of the same shape, resulting in a new matrix with the same shape.\n",
    "\n",
    "     "
   ]
  },
  {
   "cell_type": "code",
   "execution_count": 11,
   "id": "2e429c90-510f-4a21-8797-8668815c16b9",
   "metadata": {},
   "outputs": [
    {
     "name": "stdout",
     "output_type": "stream",
     "text": [
      "tf.Tensor(\n",
      "[[ 6  8]\n",
      " [10 12]], shape=(2, 2), dtype=int32)\n"
     ]
    }
   ],
   "source": [
    "A = tf.constant([[1, 2], [3, 4]])\n",
    "B = tf.constant([[5, 6], [7, 8]])\n",
    "C = tf.add(A, B)\n",
    "print(C)"
   ]
  },
  {
   "cell_type": "markdown",
   "id": "e4c78650-7f50-46a6-a615-ce2b49feb657",
   "metadata": {},
   "source": [
    "Matrix Multiplication:\n",
    "\n",
    "Matrix multiplication is a binary operation that takes two matrices and produces a new matrix by performing a combination \n",
    "of dot products between rows and columns of the input matrices.\n"
   ]
  },
  {
   "cell_type": "code",
   "execution_count": 12,
   "id": "3451b59c-6408-4d5a-bebe-fa2a4e667218",
   "metadata": {},
   "outputs": [
    {
     "name": "stdout",
     "output_type": "stream",
     "text": [
      "tf.Tensor(\n",
      "[[19 22]\n",
      " [43 50]], shape=(2, 2), dtype=int32)\n"
     ]
    }
   ],
   "source": [
    "C = tf.matmul(A, B)\n",
    "print(C)"
   ]
  },
  {
   "cell_type": "code",
   "execution_count": 13,
   "id": "98486273-00b1-49cd-bbde-52b8bec38aa8",
   "metadata": {},
   "outputs": [
    {
     "name": "stdout",
     "output_type": "stream",
     "text": [
      "tf.Tensor(\n",
      "[[ 6  8]\n",
      " [10 12]], shape=(2, 2), dtype=int32)\n",
      "tf.Tensor(\n",
      "[[ 5 12]\n",
      " [21 32]], shape=(2, 2), dtype=int32)\n"
     ]
    }
   ],
   "source": [
    "# Element-wise Operations:\n",
    "# Element-wise operations are performed independently on each element of the input tensors, without considering their shapes or dimensions. \n",
    "C_add = tf.add(A, B)\n",
    "C_multiply = tf.multiply(A, B)\n",
    "print(C_add)\n",
    "print(C_multiply)"
   ]
  },
  {
   "cell_type": "markdown",
   "id": "cba060ee-5bc7-4eee-8490-20a812b3998a",
   "metadata": {},
   "source": [
    "### Part 2- practical Implementation"
   ]
  },
  {
   "cell_type": "markdown",
   "id": "5ce4b523-fed3-4549-a195-25650f8720bd",
   "metadata": {},
   "source": [
    "1."
   ]
  },
  {
   "cell_type": "code",
   "execution_count": 14,
   "id": "7f835ef6-562d-4f6f-912c-a8f04e2c20a8",
   "metadata": {},
   "outputs": [
    {
     "name": "stdout",
     "output_type": "stream",
     "text": [
      "tf.Tensor(\n",
      "[[-2.218803    0.27009016]\n",
      " [ 0.57644975  0.33010525]], shape=(2, 2), dtype=float32)\n"
     ]
    }
   ],
   "source": [
    "A=tf.random.normal(shape=(2,2))\n",
    "print(A)"
   ]
  },
  {
   "cell_type": "markdown",
   "id": "851dbd0a-b7df-402b-9e5c-bde6f2016743",
   "metadata": {},
   "source": [
    "2."
   ]
  },
  {
   "cell_type": "code",
   "execution_count": 16,
   "id": "a68df39c-23cb-4520-921d-690ebc36f6a4",
   "metadata": {},
   "outputs": [
    {
     "name": "stdout",
     "output_type": "stream",
     "text": [
      "tf.Tensor(\n",
      "[[-0.6035598  1.5316321]\n",
      " [ 1.7087417  0.7615102]], shape=(2, 2), dtype=float32)\n"
     ]
    }
   ],
   "source": [
    "B=tf.random.truncated_normal(shape=(2,2))\n",
    "print(B)"
   ]
  },
  {
   "cell_type": "markdown",
   "id": "c0137878-66a1-4fc8-8d9a-38b6d347348b",
   "metadata": {},
   "source": [
    "3."
   ]
  },
  {
   "cell_type": "code",
   "execution_count": 17,
   "id": "883f4a14-3545-4899-81ae-08b3c202a957",
   "metadata": {},
   "outputs": [
    {
     "name": "stdout",
     "output_type": "stream",
     "text": [
      "tf.Tensor(\n",
      "[[3.6273003 3.3600209]\n",
      " [2.848317  3.8825922]], shape=(2, 2), dtype=float32)\n"
     ]
    }
   ],
   "source": [
    "C=tf.random.normal(shape=(2,2),mean=3,stddev=0.5)\n",
    "print(C)"
   ]
  },
  {
   "cell_type": "markdown",
   "id": "9f1b297c-a21a-47eb-aaac-35e7d7ec1319",
   "metadata": {},
   "source": [
    "4."
   ]
  },
  {
   "cell_type": "code",
   "execution_count": 18,
   "id": "7f42d478-f745-4f94-b06f-41db40958360",
   "metadata": {},
   "outputs": [
    {
     "name": "stdout",
     "output_type": "stream",
     "text": [
      "tf.Tensor(\n",
      "[[-2.8223627  1.8017223]\n",
      " [ 2.2851915  1.0916154]], shape=(2, 2), dtype=float32)\n"
     ]
    }
   ],
   "source": [
    "D=tf.add(A,B)\n",
    "print(D)"
   ]
  },
  {
   "cell_type": "markdown",
   "id": "c3e5fd4e-4bab-4b6e-8088-7e63c435adaa",
   "metadata": {},
   "source": [
    "5."
   ]
  },
  {
   "cell_type": "code",
   "execution_count": 19,
   "id": "0777cc67-2926-4a1f-8ec9-1f097d915e0f",
   "metadata": {},
   "outputs": [
    {
     "name": "stdout",
     "output_type": "stream",
     "text": [
      "tf.Tensor(\n",
      "[[-2.5592651 10.2032385]\n",
      " [ 0.8334837  9.370173 ]], shape=(2, 2), dtype=float32)\n"
     ]
    }
   ],
   "source": [
    "E=tf.matmul(C,D)\n",
    "print(E)"
   ]
  },
  {
   "cell_type": "markdown",
   "id": "570bfc43-f5b3-4e4b-ad80-9d6e041127a1",
   "metadata": {},
   "source": [
    "#### Task2-\n",
    "1. "
   ]
  },
  {
   "cell_type": "code",
   "execution_count": 21,
   "id": "e9fbff0c-5c9d-4168-8533-8b7d62124497",
   "metadata": {},
   "outputs": [
    {
     "name": "stdout",
     "output_type": "stream",
     "text": [
      "tf.Tensor(\n",
      "[[0.94446015 0.92389643 0.33968282]\n",
      " [0.19591856 0.09173    0.8671242 ]\n",
      " [0.967618   0.16627908 0.26166987]], shape=(3, 3), dtype=float32)\n"
     ]
    }
   ],
   "source": [
    "F=tf.random.uniform(shape=(3,3))\n",
    "print(F)"
   ]
  },
  {
   "cell_type": "markdown",
   "id": "889de25a-5b4e-434b-b085-701010e37dd6",
   "metadata": {},
   "source": [
    "2."
   ]
  },
  {
   "cell_type": "code",
   "execution_count": 22,
   "id": "31ea268d-5eb7-4990-a5f7-62eb4d0d975a",
   "metadata": {},
   "outputs": [
    {
     "name": "stdout",
     "output_type": "stream",
     "text": [
      "tf.Tensor(\n",
      "[[0.94446015 0.19591856 0.967618  ]\n",
      " [0.92389643 0.09173    0.16627908]\n",
      " [0.33968282 0.8671242  0.26166987]], shape=(3, 3), dtype=float32)\n"
     ]
    }
   ],
   "source": [
    "G=tf.transpose(F)\n",
    "print(G)"
   ]
  },
  {
   "cell_type": "markdown",
   "id": "7f472f95-8820-450c-865c-5c0fa2f9117a",
   "metadata": {},
   "source": [
    "3."
   ]
  },
  {
   "cell_type": "code",
   "execution_count": 23,
   "id": "69de6994-6201-490c-94c8-3d48921c04dc",
   "metadata": {},
   "outputs": [
    {
     "name": "stdout",
     "output_type": "stream",
     "text": [
      "tf.Tensor(\n",
      "[[2.5714247 2.5190868 1.404502 ]\n",
      " [1.2164278 1.0960689 2.3800564]\n",
      " [2.6316683 1.1809026 1.2990977]], shape=(3, 3), dtype=float32)\n"
     ]
    }
   ],
   "source": [
    "H=tf.math.exp(F)\n",
    "print(H)"
   ]
  },
  {
   "cell_type": "markdown",
   "id": "54057926-ceb8-433c-bb57-414be50d9d95",
   "metadata": {},
   "source": [
    "4."
   ]
  },
  {
   "cell_type": "code",
   "execution_count": 24,
   "id": "fc5875cb-1a82-47f1-b523-e41b56bfdda5",
   "metadata": {},
   "outputs": [
    {
     "name": "stdout",
     "output_type": "stream",
     "text": [
      "tf.Tensor(\n",
      "[[0.94446015 0.92389643 0.33968282 0.94446015 0.19591856 0.967618  ]\n",
      " [0.19591856 0.09173    0.8671242  0.92389643 0.09173    0.16627908]\n",
      " [0.967618   0.16627908 0.26166987 0.33968282 0.8671242  0.26166987]], shape=(3, 6), dtype=float32)\n"
     ]
    }
   ],
   "source": [
    "I=tf.concat((F,G),axis=1)\n",
    "print(I)"
   ]
  },
  {
   "cell_type": "markdown",
   "id": "011b63fd-d68f-45f5-a919-cf7fb23aa4d8",
   "metadata": {},
   "source": [
    "5."
   ]
  },
  {
   "cell_type": "code",
   "execution_count": 25,
   "id": "8294f3d4-b0cc-4b39-9178-73902fc67a12",
   "metadata": {},
   "outputs": [
    {
     "name": "stdout",
     "output_type": "stream",
     "text": [
      "tf.Tensor(\n",
      "[[0.94446015 0.92389643 0.33968282]\n",
      " [0.19591856 0.09173    0.8671242 ]\n",
      " [0.967618   0.16627908 0.26166987]\n",
      " [2.5714247  2.5190868  1.404502  ]\n",
      " [1.2164278  1.0960689  2.3800564 ]\n",
      " [2.6316683  1.1809026  1.2990977 ]], shape=(6, 3), dtype=float32)\n"
     ]
    }
   ],
   "source": [
    "J=tf.concat((F,H),axis=0)\n",
    "print(J)"
   ]
  },
  {
   "cell_type": "code",
   "execution_count": null,
   "id": "5a4df306-5311-4ac9-8fe6-a79b85e02837",
   "metadata": {},
   "outputs": [],
   "source": []
  }
 ],
 "metadata": {
  "kernelspec": {
   "display_name": "Python 3 (ipykernel)",
   "language": "python",
   "name": "python3"
  },
  "language_info": {
   "codemirror_mode": {
    "name": "ipython",
    "version": 3
   },
   "file_extension": ".py",
   "mimetype": "text/x-python",
   "name": "python",
   "nbconvert_exporter": "python",
   "pygments_lexer": "ipython3",
   "version": "3.10.8"
  }
 },
 "nbformat": 4,
 "nbformat_minor": 5
}
