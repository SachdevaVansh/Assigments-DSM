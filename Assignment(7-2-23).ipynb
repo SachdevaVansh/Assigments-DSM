{
 "cells": [
  {
   "cell_type": "markdown",
   "id": "88787a5e-9aaf-47e1-810c-0a5c107fd916",
   "metadata": {},
   "source": [
    "#### Question 1-"
   ]
  },
  {
   "cell_type": "code",
   "execution_count": 13,
   "id": "ee9b7e90-989d-4800-9a0e-e0bb2af46666",
   "metadata": {},
   "outputs": [],
   "source": [
    "def valid():\n",
    "    password=list(input(\"enter a password\"))\n",
    "    #print(type(password))\n",
    "    count_upper=0\n",
    "    count_lower=0\n",
    "    count_numbers=0\n",
    "    count_special_char=0\n",
    "    special_char='''!@#$%,^&*()<>?+-_=;:./*'\"][{'''\n",
    "    \n",
    "    for i in password:\n",
    "        if i.isupper():\n",
    "            count_upper=count_upper+1\n",
    "        elif i.islower():\n",
    "            count_lower=count_lower+1\n",
    "        elif i.isdigit():\n",
    "            count_numbers=count_numbers+1\n",
    "        elif i in special_char:\n",
    "            count_special_char=count_special_char+1\n",
    "   # return count_upper,count_lower,count_numbers,count_special_char\n",
    "\n",
    "    if count_upper<2 or count_lower<2 or count_numbers<1 or count_special_char<3 or len(password)<10:\n",
    "        return \"invalid password\"\n",
    "    else:\n",
    "        return \"valid password\"\n",
    "        "
   ]
  },
  {
   "cell_type": "code",
   "execution_count": 14,
   "id": "f3460043-25cf-46ac-a73c-a728802c17ea",
   "metadata": {},
   "outputs": [
    {
     "name": "stdin",
     "output_type": "stream",
     "text": [
      "enter a password VAnsh@123#$%&^\n"
     ]
    },
    {
     "data": {
      "text/plain": [
       "'valid password'"
      ]
     },
     "execution_count": 14,
     "metadata": {},
     "output_type": "execute_result"
    }
   ],
   "source": [
    "valid()"
   ]
  },
  {
   "cell_type": "markdown",
   "id": "66c7f78c-e0fa-4df3-8213-fa5f1dbfae4c",
   "metadata": {},
   "source": [
    "#### Question 2-"
   ]
  },
  {
   "cell_type": "markdown",
   "id": "ce319618-ac18-4df4-9577-abb51611b684",
   "metadata": {},
   "source": [
    "##### 1. Lambda function---->"
   ]
  },
  {
   "cell_type": "markdown",
   "id": "f01cffe2-6e35-471c-b08c-291b0987c745",
   "metadata": {},
   "source": [
    "(a)"
   ]
  },
  {
   "cell_type": "code",
   "execution_count": 3,
   "id": "c58117bb-c8b2-4fba-8e95-c0bafe0e337c",
   "metadata": {},
   "outputs": [
    {
     "name": "stdin",
     "output_type": "stream",
     "text": [
      "enter the string pwskills\n"
     ]
    }
   ],
   "source": [
    "s=input(\"enter the string\")"
   ]
  },
  {
   "cell_type": "code",
   "execution_count": 19,
   "id": "377607af-2c1e-492e-a49c-5c236b12beb4",
   "metadata": {},
   "outputs": [],
   "source": [
    "x=lambda s:s[0]"
   ]
  },
  {
   "cell_type": "code",
   "execution_count": 20,
   "id": "ac3704f1-d7d7-44d2-8f87-ba24e6d58941",
   "metadata": {},
   "outputs": [
    {
     "data": {
      "text/plain": [
       "'p'"
      ]
     },
     "execution_count": 20,
     "metadata": {},
     "output_type": "execute_result"
    }
   ],
   "source": [
    "x(s)"
   ]
  },
  {
   "cell_type": "code",
   "execution_count": 21,
   "id": "b8c2958f-3004-45a3-8764-3bb18a11cf3d",
   "metadata": {},
   "outputs": [
    {
     "name": "stdout",
     "output_type": "stream",
     "text": [
      "False\n"
     ]
    }
   ],
   "source": [
    "if x(s)=='a':\n",
    "    print(True)\n",
    "else:\n",
    "    print(False)"
   ]
  },
  {
   "cell_type": "markdown",
   "id": "d31a02a4-99d1-47ad-942a-b86ecdf1e271",
   "metadata": {},
   "source": [
    "(b)"
   ]
  },
  {
   "cell_type": "code",
   "execution_count": 31,
   "id": "54219fe5-b1ab-4c30-96c5-209e052e50f9",
   "metadata": {},
   "outputs": [],
   "source": [
    "y=lambda s:True if type(s)==int else False"
   ]
  },
  {
   "cell_type": "code",
   "execution_count": 33,
   "id": "226a2850-a320-4df2-a728-ec49a3184aba",
   "metadata": {},
   "outputs": [
    {
     "data": {
      "text/plain": [
       "False"
      ]
     },
     "execution_count": 33,
     "metadata": {},
     "output_type": "execute_result"
    }
   ],
   "source": [
    "y(s)"
   ]
  },
  {
   "cell_type": "markdown",
   "id": "a3858f6c-fe83-4f0c-9b02-7251599b88f0",
   "metadata": {},
   "source": [
    "(c)"
   ]
  },
  {
   "cell_type": "code",
   "execution_count": 4,
   "id": "c69fd692-89d0-46c9-b533-88bbad261186",
   "metadata": {},
   "outputs": [],
   "source": [
    "t=[(\"mango\",99),(\"orange\",80), (\"grapes\", 1000)]"
   ]
  },
  {
   "cell_type": "code",
   "execution_count": 5,
   "id": "feb40017-5981-4f5e-8ac2-8795e4f0c64b",
   "metadata": {},
   "outputs": [],
   "source": [
    "def function(t):\n",
    "    a=()\n",
    "    for i in range(0,len(t)-1):\n",
    "        if t[i][1]>t[i+1][1]:\n",
    "            a=t[i+1]\n",
    "            t[i+1]=t[i]\n",
    "            t[i]=a"
   ]
  },
  {
   "cell_type": "code",
   "execution_count": 6,
   "id": "6ad9da6e-e4a0-4cae-bb93-7be1ec1898f5",
   "metadata": {},
   "outputs": [],
   "source": [
    "function(t)"
   ]
  },
  {
   "cell_type": "code",
   "execution_count": 7,
   "id": "c67170de-9290-4271-b22b-acdcd8ba4923",
   "metadata": {},
   "outputs": [
    {
     "data": {
      "text/plain": [
       "[('orange', 80), ('mango', 99), ('grapes', 1000)]"
      ]
     },
     "execution_count": 7,
     "metadata": {},
     "output_type": "execute_result"
    }
   ],
   "source": [
    "t"
   ]
  },
  {
   "cell_type": "markdown",
   "id": "aea6ef15-bf31-4c56-9fa7-274ca16c8a32",
   "metadata": {},
   "source": [
    "(d)"
   ]
  },
  {
   "cell_type": "code",
   "execution_count": 11,
   "id": "6a7970fc-feb5-4845-bdae-c94eaffc72b3",
   "metadata": {},
   "outputs": [],
   "source": [
    " x=lambda i:i**2"
   ]
  },
  {
   "cell_type": "code",
   "execution_count": 17,
   "id": "8934a089-eab4-4cc4-8770-4554094f96dc",
   "metadata": {},
   "outputs": [],
   "source": [
    "l=[]\n",
    "for i in range(1,11):\n",
    "    l.append(x(i))"
   ]
  },
  {
   "cell_type": "code",
   "execution_count": 18,
   "id": "64eec64a-6e53-4746-a08a-aa5821da64bd",
   "metadata": {},
   "outputs": [
    {
     "data": {
      "text/plain": [
       "[1, 4, 9, 16, 25, 36, 49, 64, 81, 100]"
      ]
     },
     "execution_count": 18,
     "metadata": {},
     "output_type": "execute_result"
    }
   ],
   "source": [
    "l"
   ]
  },
  {
   "cell_type": "code",
   "execution_count": 19,
   "id": "75365e2a-fee3-4537-b504-c641ce1e9a5c",
   "metadata": {},
   "outputs": [],
   "source": [
    "y= lambda i:i**(1/3)"
   ]
  },
  {
   "cell_type": "code",
   "execution_count": 20,
   "id": "06bad85e-48e5-4e80-af1a-7c3aacfb2193",
   "metadata": {},
   "outputs": [],
   "source": [
    "l=[]\n",
    "for i in range(1,11):\n",
    "    l.append(y(i))"
   ]
  },
  {
   "cell_type": "code",
   "execution_count": 21,
   "id": "612c841d-c031-4291-a90e-01240fe7ff24",
   "metadata": {},
   "outputs": [
    {
     "data": {
      "text/plain": [
       "[1.0,\n",
       " 1.2599210498948732,\n",
       " 1.4422495703074083,\n",
       " 1.5874010519681994,\n",
       " 1.7099759466766968,\n",
       " 1.8171205928321397,\n",
       " 1.912931182772389,\n",
       " 2.0,\n",
       " 2.080083823051904,\n",
       " 2.154434690031884]"
      ]
     },
     "execution_count": 21,
     "metadata": {},
     "output_type": "execute_result"
    }
   ],
   "source": [
    "l"
   ]
  },
  {
   "cell_type": "code",
   "execution_count": 26,
   "id": "da4f8bf9-6fe5-4f16-a317-ade894102abf",
   "metadata": {},
   "outputs": [],
   "source": [
    "x=lambda i:i if i%2!=0 else \"Even\""
   ]
  },
  {
   "cell_type": "code",
   "execution_count": 28,
   "id": "83f96a95-c355-475d-b8b5-7621f335b4aa",
   "metadata": {},
   "outputs": [],
   "source": [
    "l=[]\n",
    "for i in range(1,11):\n",
    "    l.append(x(i))"
   ]
  },
  {
   "cell_type": "code",
   "execution_count": 29,
   "id": "9b12928b-f873-4cbb-b351-eb8369856716",
   "metadata": {},
   "outputs": [
    {
     "data": {
      "text/plain": [
       "[1, 'Even', 3, 'Even', 5, 'Even', 7, 'Even', 9, 'Even']"
      ]
     },
     "execution_count": 29,
     "metadata": {},
     "output_type": "execute_result"
    }
   ],
   "source": [
    "l"
   ]
  },
  {
   "cell_type": "code",
   "execution_count": 30,
   "id": "cb5f3765-082c-4449-b57f-cd1d7b3b4448",
   "metadata": {},
   "outputs": [],
   "source": [
    "l1=[1,2,3,4,5,6,-1,-2,-3,-4,-5,0]"
   ]
  },
  {
   "cell_type": "code",
   "execution_count": 39,
   "id": "7cbc18ae-a7eb-4b31-93a1-1a48bac05ea5",
   "metadata": {},
   "outputs": [],
   "source": [
    "l2=[]\n",
    "l3=[]\n",
    "x=lambda i:l2.append(i) if i>=0 else l3.append(i)"
   ]
  },
  {
   "cell_type": "code",
   "execution_count": 40,
   "id": "4db29ce6-c4b4-4c3e-ab64-7ade64203853",
   "metadata": {},
   "outputs": [],
   "source": [
    "for i in l1:\n",
    "    x(i)"
   ]
  },
  {
   "cell_type": "code",
   "execution_count": 41,
   "id": "62214c54-5a96-43ff-8004-dfd3333d462a",
   "metadata": {},
   "outputs": [
    {
     "data": {
      "text/plain": [
       "[1, 2, 3, 4, 5, 6, 0]"
      ]
     },
     "execution_count": 41,
     "metadata": {},
     "output_type": "execute_result"
    }
   ],
   "source": [
    "l2"
   ]
  },
  {
   "cell_type": "code",
   "execution_count": 42,
   "id": "eba94412-1877-4768-93a8-7a56c7940be1",
   "metadata": {},
   "outputs": [
    {
     "data": {
      "text/plain": [
       "[-1, -2, -3, -4, -5]"
      ]
     },
     "execution_count": 42,
     "metadata": {},
     "output_type": "execute_result"
    }
   ],
   "source": [
    "l3"
   ]
  },
  {
   "cell_type": "code",
   "execution_count": null,
   "id": "9f467bb5-d1ad-4be2-9384-f17d068bb93a",
   "metadata": {},
   "outputs": [],
   "source": []
  },
  {
   "cell_type": "markdown",
   "id": "728e9411-304b-47f9-b13a-39e153dfd8b0",
   "metadata": {},
   "source": [
    "##### 2. Filter Function:\n"
   ]
  },
  {
   "cell_type": "code",
   "execution_count": 4,
   "id": "96ff7558-5fb4-400b-82b5-295a5208a747",
   "metadata": {},
   "outputs": [],
   "source": [
    "s=\"pwskills\""
   ]
  },
  {
   "cell_type": "code",
   "execution_count": 5,
   "id": "afdd5e83-1b48-45aa-ac44-19b28248956b",
   "metadata": {},
   "outputs": [],
   "source": [
    "s1=list(s)"
   ]
  },
  {
   "cell_type": "code",
   "execution_count": 6,
   "id": "ceff0c8c-e19c-46e5-9661-e8ea494f6cbe",
   "metadata": {},
   "outputs": [],
   "source": [
    "a=list(filter(lambda s1:True if s1[0]=='p' else False,s1))"
   ]
  },
  {
   "cell_type": "code",
   "execution_count": 9,
   "id": "decd9487-7930-44cb-bef3-c39bcdfc4389",
   "metadata": {},
   "outputs": [
    {
     "data": {
      "text/plain": [
       "['p']"
      ]
     },
     "execution_count": 9,
     "metadata": {},
     "output_type": "execute_result"
    }
   ],
   "source": [
    "a"
   ]
  },
  {
   "cell_type": "code",
   "execution_count": 12,
   "id": "b190b3cb-b779-471d-a8c0-08019e758253",
   "metadata": {},
   "outputs": [
    {
     "name": "stdout",
     "output_type": "stream",
     "text": [
      "True\n"
     ]
    }
   ],
   "source": [
    "if a[0]=='p':\n",
    "    print(True)\n",
    "else:\n",
    "    print(False)"
   ]
  },
  {
   "cell_type": "markdown",
   "id": "20f67ee4-9ef2-4d17-9ed7-7ca778a851d4",
   "metadata": {},
   "source": [
    "(b)"
   ]
  },
  {
   "cell_type": "code",
   "execution_count": null,
   "id": "98345d06-9fde-471e-a227-bf1e5286f488",
   "metadata": {},
   "outputs": [],
   "source": []
  }
 ],
 "metadata": {
  "kernelspec": {
   "display_name": "Python 3 (ipykernel)",
   "language": "python",
   "name": "python3"
  },
  "language_info": {
   "codemirror_mode": {
    "name": "ipython",
    "version": 3
   },
   "file_extension": ".py",
   "mimetype": "text/x-python",
   "name": "python",
   "nbconvert_exporter": "python",
   "pygments_lexer": "ipython3",
   "version": "3.10.8"
  }
 },
 "nbformat": 4,
 "nbformat_minor": 5
}
