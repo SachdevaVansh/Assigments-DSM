{
 "cells": [
  {
   "cell_type": "markdown",
   "id": "7dd40710-f21a-49e7-b234-fa01402b7113",
   "metadata": {},
   "source": [
    "#### Question 1-"
   ]
  },
  {
   "cell_type": "code",
   "execution_count": 1,
   "id": "aa2abb2c-cfb0-4b5f-91ee-f993e419d9bb",
   "metadata": {},
   "outputs": [],
   "source": [
    "class vehicle:\n",
    "    def __init__(self,name,speed,average):\n",
    "        self.name_of_vehicle=name\n",
    "        self.max_speed=speed\n",
    "        self.average_of_vehicle=average\n",
    "        "
   ]
  },
  {
   "cell_type": "code",
   "execution_count": 3,
   "id": "996c4ac6-b0b9-4d5e-ac47-4ddc3ac2f444",
   "metadata": {},
   "outputs": [],
   "source": [
    "v=vehicle('Bike',50,35)"
   ]
  },
  {
   "cell_type": "code",
   "execution_count": 5,
   "id": "4569a6fb-4774-4475-8290-a247579b0117",
   "metadata": {},
   "outputs": [
    {
     "data": {
      "text/plain": [
       "35"
      ]
     },
     "execution_count": 5,
     "metadata": {},
     "output_type": "execute_result"
    }
   ],
   "source": [
    "v.average_of_vehicle"
   ]
  },
  {
   "cell_type": "markdown",
   "id": "0c39c945-abc3-4704-8cbd-d0b796bbe8ce",
   "metadata": {},
   "source": [
    "#### Question 2-"
   ]
  },
  {
   "cell_type": "code",
   "execution_count": 6,
   "id": "d0dcb05f-092b-4426-8009-ff4d54f8b7db",
   "metadata": {},
   "outputs": [],
   "source": [
    "class car(vehicle):\n",
    "    def seating_capacity(self,capacity):\n",
    "        self.capacity=capacity\n",
    "        return self.name_of_vehicle,self.capacity"
   ]
  },
  {
   "cell_type": "code",
   "execution_count": 8,
   "id": "a93fe102-08a2-47c0-9811-1fe48c86333b",
   "metadata": {},
   "outputs": [],
   "source": [
    "c=car('car',80,23)"
   ]
  },
  {
   "cell_type": "code",
   "execution_count": 9,
   "id": "95fcbff7-0043-41ae-a9e5-a59bc7aaea49",
   "metadata": {},
   "outputs": [
    {
     "data": {
      "text/plain": [
       "('car', 4)"
      ]
     },
     "execution_count": 9,
     "metadata": {},
     "output_type": "execute_result"
    }
   ],
   "source": [
    "c.seating_capacity(4)"
   ]
  },
  {
   "cell_type": "markdown",
   "id": "c32c0f1c-cfa7-4f8c-9152-53933704cd94",
   "metadata": {},
   "source": [
    "#### Question 3-"
   ]
  },
  {
   "cell_type": "markdown",
   "id": "fe0d904a-0ad9-40ed-946e-ddd75c9073d6",
   "metadata": {},
   "source": [
    "Multiple Inheritance-\n",
    "When a derived class inherits properties from two or more parent class, then that type of inheritance is called multiple inheritance.\n",
    "Example-"
   ]
  },
  {
   "cell_type": "code",
   "execution_count": 10,
   "id": "6bc50bd4-1115-4c76-ab5b-b74202dd15b2",
   "metadata": {},
   "outputs": [],
   "source": [
    "class class1:\n",
    "    def test1(self):\n",
    "        return \" this is from first class\"\n",
    "    "
   ]
  },
  {
   "cell_type": "code",
   "execution_count": 11,
   "id": "014ed858-2449-41d3-8ee4-6da1392524e6",
   "metadata": {},
   "outputs": [],
   "source": [
    "class class2:\n",
    "    def test2(self):\n",
    "        return \"this is from second class\"\n"
   ]
  },
  {
   "cell_type": "code",
   "execution_count": 12,
   "id": "dfcd2b5c-59f1-4530-aa83-9189e8c0a505",
   "metadata": {},
   "outputs": [],
   "source": [
    "class class3(class1,class2):\n",
    "    pass"
   ]
  },
  {
   "cell_type": "code",
   "execution_count": 13,
   "id": "6c1b51ba-1b49-4dc6-8637-301ad05120c7",
   "metadata": {},
   "outputs": [],
   "source": [
    "c=class3()"
   ]
  },
  {
   "cell_type": "code",
   "execution_count": 14,
   "id": "78ae5cf2-0f07-402a-a00c-5be83dab22d5",
   "metadata": {},
   "outputs": [
    {
     "data": {
      "text/plain": [
       "' this is from first class'"
      ]
     },
     "execution_count": 14,
     "metadata": {},
     "output_type": "execute_result"
    }
   ],
   "source": [
    "c.test1()"
   ]
  },
  {
   "cell_type": "code",
   "execution_count": 15,
   "id": "623d5854-0321-4c08-9d19-874665e1ffd4",
   "metadata": {},
   "outputs": [
    {
     "data": {
      "text/plain": [
       "'this is from second class'"
      ]
     },
     "execution_count": 15,
     "metadata": {},
     "output_type": "execute_result"
    }
   ],
   "source": [
    "c.test2()"
   ]
  },
  {
   "cell_type": "markdown",
   "id": "effcb891-ef08-468e-89f2-7c6b958edf1f",
   "metadata": {},
   "source": [
    "#### Question 4-"
   ]
  },
  {
   "cell_type": "markdown",
   "id": "bbfe5002-e253-4840-9172-e8d3db606caf",
   "metadata": {},
   "source": [
    "The main purpose of using getters and setters in object-oriented programs is to ensure data encapsulation. Private variables in python are not actually hidden fields like in other object oriented languages, so Getter and Setter are used to-\n",
    "- add validation logic around getting and setting a value.\n",
    "- avoid direct access of a class field i.e pricate variables cannot be accessed directly or modified by external user."
   ]
  },
  {
   "cell_type": "markdown",
   "id": "2bf78ac3-8243-4542-b0d3-ad1c1137502d",
   "metadata": {},
   "source": [
    "Example-"
   ]
  },
  {
   "cell_type": "code",
   "execution_count": 6,
   "id": "aaacf6e3-2792-468f-a67f-073e4189b8f5",
   "metadata": {},
   "outputs": [],
   "source": [
    "class pwskills:\n",
    "    def __init__(self,age=0):\n",
    "        self.__age=age\n",
    "        \n",
    "    ## getter method\n",
    "    \n",
    "    def get_age(self):\n",
    "        return self.__age\n",
    "    \n",
    "    #setter method\n",
    "    def set_age(self,x):\n",
    "        self.__age=x"
   ]
  },
  {
   "cell_type": "code",
   "execution_count": 7,
   "id": "3bf5231b-1e3a-4146-afbe-1ba4df31a09d",
   "metadata": {},
   "outputs": [],
   "source": [
    "gaurav=pwskills()"
   ]
  },
  {
   "cell_type": "code",
   "execution_count": 8,
   "id": "e0f10c34-1c28-4d48-828f-b23020ca5a8e",
   "metadata": {},
   "outputs": [],
   "source": [
    "gaurav.set_age(19)"
   ]
  },
  {
   "cell_type": "code",
   "execution_count": 9,
   "id": "04808543-aa45-4f34-801e-fcd008acbebd",
   "metadata": {},
   "outputs": [
    {
     "data": {
      "text/plain": [
       "19"
      ]
     },
     "execution_count": 9,
     "metadata": {},
     "output_type": "execute_result"
    }
   ],
   "source": [
    "gaurav.get_age()"
   ]
  },
  {
   "cell_type": "markdown",
   "id": "e8ec208c-f115-4694-ad37-bb16ecf2f91a",
   "metadata": {},
   "source": [
    "#### Question 5-"
   ]
  },
  {
   "cell_type": "markdown",
   "id": "57dadb28-78d1-4e20-801d-7f8cc1095dcd",
   "metadata": {},
   "source": [
    "When a method in a subclass has the same name, same parameters or signature and same return type(or sub-type) as a method in its super-class, then the method in the subclass is said to override the method in the super-class.\n",
    "- Method Overriding is an ability of any object-oriented programming language that allows a subclass or child class to provide a specific implementation of a method that is already provided by one of its super-classes or parent classes.\n",
    "- The version of a method that is executed will be determined by the object that is used to invoke it. If an object of a parent class is used to invoke the method, then the version in the parent class will be executed, but if an object of the subclass is used to invoke the method, then the version in the child class will be executed.\n",
    "\n",
    "Example-"
   ]
  },
  {
   "cell_type": "code",
   "execution_count": 10,
   "id": "dd3a280c-5f7a-434c-96b6-cac31bd43e41",
   "metadata": {},
   "outputs": [],
   "source": [
    "class Parent1:\n",
    "    def show(self):\n",
    "        print(\"Inside the parent1 class\")\n",
    "class Parent2:\n",
    "    def display(self):\n",
    "        print(\"Inside the parent2 class\")\n",
    "\n",
    "class Child(Parent1,Parent2):\n",
    "    def show(self):\n",
    "        print(\"Inside the child class\")\n",
    "    "
   ]
  },
  {
   "cell_type": "code",
   "execution_count": 12,
   "id": "487b341d-b14b-4325-a101-404cba2cd525",
   "metadata": {},
   "outputs": [],
   "source": [
    "object=Child()"
   ]
  },
  {
   "cell_type": "code",
   "execution_count": 13,
   "id": "440f3a86-1f33-4479-b356-5489d7e3cc0f",
   "metadata": {},
   "outputs": [
    {
     "name": "stdout",
     "output_type": "stream",
     "text": [
      "Inside the child class\n"
     ]
    }
   ],
   "source": [
    "object.show()"
   ]
  },
  {
   "cell_type": "code",
   "execution_count": 14,
   "id": "b9aeb008-b44f-4203-8029-e345c5de7de5",
   "metadata": {},
   "outputs": [
    {
     "name": "stdout",
     "output_type": "stream",
     "text": [
      "Inside the parent2 class\n"
     ]
    }
   ],
   "source": [
    "object.display()"
   ]
  },
  {
   "cell_type": "code",
   "execution_count": null,
   "id": "78a659da-c824-434f-bc35-a4f5ff0e397c",
   "metadata": {},
   "outputs": [],
   "source": []
  }
 ],
 "metadata": {
  "kernelspec": {
   "display_name": "Python 3 (ipykernel)",
   "language": "python",
   "name": "python3"
  },
  "language_info": {
   "codemirror_mode": {
    "name": "ipython",
    "version": 3
   },
   "file_extension": ".py",
   "mimetype": "text/x-python",
   "name": "python",
   "nbconvert_exporter": "python",
   "pygments_lexer": "ipython3",
   "version": "3.10.8"
  }
 },
 "nbformat": 4,
 "nbformat_minor": 5
}
