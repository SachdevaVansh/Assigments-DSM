{
 "cells": [
  {
   "cell_type": "markdown",
   "id": "bae3275f-341d-4f34-a3ce-bad8e84390ae",
   "metadata": {},
   "source": [
    "#### Question 1-"
   ]
  },
  {
   "cell_type": "markdown",
   "id": "7f11c2fa-d0bb-42eb-ae50-b362ce7afdec",
   "metadata": {
    "jp-MarkdownHeadingCollapsed": true,
    "tags": []
   },
   "source": [
    "A database is a systematic or organized collection of related information that is stored in such a way that it can be easily accessed, retrieved, managed, and updated. It is where all data is stored, very much like a library that houses a wide range of books from different genres.\n",
    "\n",
    "In a database, we can organize the data in rows and columns in the form of a table. Indexing the data makes it easy to find and retrieve it again as and when required. Many websites on the World Wide Web are managed with the help of databases. To create a database so that the data is accessible to users through only one set of software programs, database handlers are used.\n",
    "\n",
    "#### Difference between SQL and NoSQl -\n",
    "\n",
    "##### SQL --->\n",
    "\n",
    "* Primarly called as RELATIONAL DATABASE MANAGEMENT SYSTEM (RDBMS)\n",
    "* These databases have fixed or static or predefined schema\n",
    "* These databases are not suited for hierarchical data storage.\n",
    "* These databases are best suited for complex queries\n",
    "* Examples: MySQL, PostgreSQL, Oracle, MS-SQL Server, etc\n",
    "\n",
    "##### NoSQL --->\n",
    "\n",
    "* These are Non-relational or distributed database system.\n",
    "* They have dynamic schema\n",
    "* These databases are best suited for hierarchical data storage.\n",
    "* These databases are not so good for complex queries\n",
    "* Examples: MongoDB, GraphQL,HBase, Neo4j, Cassandra, etc."
   ]
  },
  {
   "cell_type": "markdown",
   "id": "fbf02ebd-c297-42a1-92c1-3062a5e33691",
   "metadata": {},
   "source": [
    "#### Question 2-"
   ]
  },
  {
   "cell_type": "markdown",
   "id": "7d5a97d0-c360-423f-a1c0-cff1425290b6",
   "metadata": {},
   "source": [
    "#### DDL (Data Definition Language): \n",
    "\n",
    "DDL or Data Definition Language actually consists of the SQL commands that can be used to define the database schema. It simply deals with descriptions of the database schema and is used to create and modify the structure of database objects in the database. DDL is a set of SQL commands used to create, modify, and delete database structures but not data. These commands are normally not used by a general user, who should be accessing the database via an application.\n",
    "\n",
    "* CREATE: This command is used to create the database or its objects (like table, index, function, views, store procedure, and triggers).\n",
    "* DROP: This command is used to delete objects from the database.\n",
    "* ALTER: This is used to alter the structure of the database.\n",
    "* TRUNCATE: This is used to remove all records from a table, including all spaces allocated for the records are removed."
   ]
  },
  {
   "cell_type": "markdown",
   "id": "17535289-9c98-411a-9900-7abea9e637e3",
   "metadata": {},
   "source": [
    "#### Question 3-"
   ]
  },
  {
   "cell_type": "markdown",
   "id": "e400e3fb-46b3-4ea3-a252-d3d5f0ff6aa1",
   "metadata": {},
   "source": [
    "#### DML(Data Manipulation Language): \n",
    "The SQL commands that deals with the manipulation of data present in the database belong to DML or Data Manipulation Language and this includes most of the SQL statements. It is the component of the SQL statement that controls access to data and to the database. Basically, DCL statements are grouped with DML statements.\n",
    "\n",
    "* INSERT : It is used to insert data into a table.\n",
    "* UPDATE: It is used to update existing data within a table.\n",
    "* DELETE : It is used to delete records from a database table."
   ]
  },
  {
   "cell_type": "markdown",
   "id": "044ade30-c7c6-408f-a834-dd65da66a6ea",
   "metadata": {},
   "source": [
    "#### Question 4-"
   ]
  },
  {
   "cell_type": "markdown",
   "id": "ec14921a-ac88-44ba-a929-9e1349dced9a",
   "metadata": {},
   "source": [
    "#### DQL (Data Query Language):\n",
    "DQL statements are used for performing queries on the data within schema objects. The purpose of the DQL Command is to get some schema relation based on the query passed to it. We can define DQL as follows it is a component of SQL statement that allows getting data from the database and imposing order upon it. It includes the SELECT statement. This command allows getting the data out of the database to perform operations with it. When a SELECT is fired against a table or tables the result is compiled into a further temporary table, which is displayed or perhaps received by the program i.e. a front-end."
   ]
  },
  {
   "cell_type": "markdown",
   "id": "f4c42aec-c72b-4cd7-9eef-0c38dbe4183c",
   "metadata": {},
   "source": [
    "* SELECT -\n",
    "The SELECT Statement in SQL is used to retrieve or fetch data from a database. We can fetch either the entire table or according to some specified rules. The data returned is stored in a result table. This result table is also called the result set. With the SELECT clause of a SELECT command statement, we specify the columns that we want to be displayed in the query result and, optionally, which column headings we prefer to see above the result table."
   ]
  },
  {
   "cell_type": "markdown",
   "id": "beeda53a-c9db-4198-ab4f-3a269b732b93",
   "metadata": {},
   "source": [
    "#### Question 5-"
   ]
  },
  {
   "cell_type": "markdown",
   "id": "43881f9e-58a1-4dd8-a812-181d16db884d",
   "metadata": {},
   "source": [
    "Primary Key:\n",
    "* A primary key is used to ensure that data in the specific column is unique. A column cannot have NULL values. It is either an existing table column or a column that is specifically generated by the database according to a defined sequence. \n",
    "* Only one primary key is allowed in a table.\n",
    "* Its value cannot be deleted from the parent table.\n",
    "\n",
    "Foreign Key: \n",
    "* A foreign key is a column or group of columns in a relational database table that provides a link between data in two tables. It is a column (or columns) that references a column (most often the primary key) of another table. \n",
    "*  More than one foreign key are allowed in a table.\n",
    "* Its value can be deleted from the child table."
   ]
  },
  {
   "cell_type": "markdown",
   "id": "603e864c-6ce6-4691-88f0-dad2a7f02db1",
   "metadata": {},
   "source": [
    "#### Question 6-"
   ]
  },
  {
   "cell_type": "markdown",
   "id": "44e60d31-b0ea-4a4e-9f03-dce3dcab9314",
   "metadata": {},
   "source": [
    "* Cursor() Method\n",
    "\n",
    "The cursor() method of a MySQLConnection object is used to create a cursor object to perform various SQL operations."
   ]
  },
  {
   "cell_type": "markdown",
   "id": "a7bd1bd7-fa49-42bd-86bc-6b996c5c7c36",
   "metadata": {},
   "source": [
    "* Execute() method\n",
    "\n",
    "The execute() methods run the SQL query and return the result."
   ]
  },
  {
   "cell_type": "markdown",
   "id": "5960793d-0731-4299-ab8d-33ba524a3bf4",
   "metadata": {},
   "source": [
    "#### Question 7-"
   ]
  },
  {
   "cell_type": "markdown",
   "id": "3e82bc29-b384-460c-a6fc-8a1c890842d9",
   "metadata": {},
   "source": [
    "The order of execution of SQL clauses in an SQL query is :"
   ]
  },
  {
   "cell_type": "markdown",
   "id": "4812ecb5-c538-4599-9848-99c2ed510bab",
   "metadata": {},
   "source": [
    "1)\tFROM : Tables are joined to get the base data.\n",
    "\n",
    "2)\tWHERE :\tThe base data is filtered.\n",
    "\n",
    "3)\tGROUP BY :The filtered base data is grouped.\n",
    "\n",
    "4)\tHAVING :The grouped base data is filtered.\n",
    "\n",
    "5)\tSELECT :The final data is returned.\n",
    "\n",
    "6)\tORDER BY :The final data is sorted.\n",
    "\n",
    "7)\tLIMIT :\tThe returned data is limited to row count."
   ]
  },
  {
   "cell_type": "code",
   "execution_count": null,
   "id": "3077b3ec-0c14-472f-82fb-ffac5ae75a3a",
   "metadata": {},
   "outputs": [],
   "source": []
  }
 ],
 "metadata": {
  "kernelspec": {
   "display_name": "Python 3 (ipykernel)",
   "language": "python",
   "name": "python3"
  },
  "language_info": {
   "codemirror_mode": {
    "name": "ipython",
    "version": 3
   },
   "file_extension": ".py",
   "mimetype": "text/x-python",
   "name": "python",
   "nbconvert_exporter": "python",
   "pygments_lexer": "ipython3",
   "version": "3.10.8"
  }
 },
 "nbformat": 4,
 "nbformat_minor": 5
}
