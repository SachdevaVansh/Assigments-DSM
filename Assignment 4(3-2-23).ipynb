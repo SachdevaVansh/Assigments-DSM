{
 "cells": [
  {
   "cell_type": "markdown",
   "id": "843cecbd-e1f7-4cf1-bc4c-1addc69e16f6",
   "metadata": {},
   "source": [
    "#### Question number 1-\n"
   ]
  },
  {
   "cell_type": "markdown",
   "id": "9d0a16f8-c497-4dfd-833a-db3a49f70393",
   "metadata": {},
   "source": [
    " def keyword is used to create a function in python"
   ]
  },
  {
   "cell_type": "code",
   "execution_count": 34,
   "id": "766655bc-6c62-4dce-b5a8-c0cd6a399ed4",
   "metadata": {},
   "outputs": [],
   "source": [
    "def odd():\n",
    "    l=[]\n",
    "    for i in range(1,25,2):\n",
    "        l.append(i)\n",
    "    return l"
   ]
  },
  {
   "cell_type": "code",
   "execution_count": 36,
   "id": "551b7c29-b350-4a2b-917f-bbcdf917e333",
   "metadata": {},
   "outputs": [
    {
     "data": {
      "text/plain": [
       "[1, 3, 5, 7, 9, 11, 13, 15, 17, 19, 21, 23]"
      ]
     },
     "execution_count": 36,
     "metadata": {},
     "output_type": "execute_result"
    }
   ],
   "source": [
    "odd()\n"
   ]
  },
  {
   "cell_type": "markdown",
   "id": "ad7ef21e-11fb-4b61-90ec-5cea02d102dc",
   "metadata": {},
   "source": [
    "#### Question number 2-"
   ]
  },
  {
   "cell_type": "markdown",
   "id": "84c7725c-6630-4cb1-86d9-3b6f387585a4",
   "metadata": {},
   "source": [
    "*args is used to pass any number of arguments in the function based on the user demand.\n",
    "**kwargs is used to pass any number of key-value pairs as arguments in the function.\n"
   ]
  },
  {
   "cell_type": "code",
   "execution_count": 5,
   "id": "e513cc4a-06bf-4590-b412-391de138c89d",
   "metadata": {},
   "outputs": [],
   "source": [
    "def sumof(*args,a=2):\n",
    "    \n",
    "    return args,a"
   ]
  },
  {
   "cell_type": "code",
   "execution_count": 6,
   "id": "90a44693-54cd-41f4-ba13-18a3ff4552b6",
   "metadata": {},
   "outputs": [
    {
     "data": {
      "text/plain": [
       "((7, 8, 3), 2)"
      ]
     },
     "execution_count": 6,
     "metadata": {},
     "output_type": "execute_result"
    }
   ],
   "source": [
    "sumof(7,8,3)"
   ]
  },
  {
   "cell_type": "code",
   "execution_count": 3,
   "id": "753b85b8-61e9-4850-88bc-fec4ae6bc820",
   "metadata": {},
   "outputs": [],
   "source": [
    "def even(**kwargs):\n",
    "    return kwargs"
   ]
  },
  {
   "cell_type": "code",
   "execution_count": 4,
   "id": "ae1f8370-7c75-499d-8d07-7de233c2fef2",
   "metadata": {},
   "outputs": [
    {
     "data": {
      "text/plain": [
       "{'a': 1, 'b': 'pwskills', 'c': [1, 2, 3]}"
      ]
     },
     "execution_count": 4,
     "metadata": {},
     "output_type": "execute_result"
    }
   ],
   "source": [
    "even(a=1,b=\"pwskills\",c=[1,2,3])"
   ]
  },
  {
   "cell_type": "markdown",
   "id": "d1b4014a-a0b3-43b5-9573-8531d34dfe5d",
   "metadata": {},
   "source": [
    "#### Question number 3-"
   ]
  },
  {
   "cell_type": "markdown",
   "id": "9e629841-f25e-4415-a1fa-b44b1a87c60a",
   "metadata": {},
   "source": [
    "*An iterator is an object that contains a countable number of values.\n",
    "\n",
    "*We can traverse through the values of that object.\n",
    "\n",
    "*An iterator uses a concept similar to pointers, that is used to move from one element to the next element in sequence,in case when elements are stored in a continuous memory location like strings, sets, lists, tuples (because all these data types are iterables)."
   ]
  },
  {
   "cell_type": "markdown",
   "id": "c46ff287-ae9f-49ae-822b-9fff79003921",
   "metadata": {},
   "source": [
    "iter() function is used to initialise an iterator.\n",
    "Once an iterator has been initialised , next() function is used to move through the\n",
    "values of that iterator.\n"
   ]
  },
  {
   "cell_type": "code",
   "execution_count": 38,
   "id": "25be6a88-7e06-4373-920d-402bf297ab44",
   "metadata": {},
   "outputs": [],
   "source": [
    "l1=[2,4,6,8,10,12,14,16,18,20]"
   ]
  },
  {
   "cell_type": "code",
   "execution_count": 39,
   "id": "5589180c-b21d-4eeb-a8cd-c27bd2f94a1f",
   "metadata": {},
   "outputs": [],
   "source": [
    "b=iter(l1)"
   ]
  },
  {
   "cell_type": "code",
   "execution_count": 40,
   "id": "d9eb69fb-3f1b-40fb-aee3-39f18fcb6efa",
   "metadata": {},
   "outputs": [
    {
     "name": "stdout",
     "output_type": "stream",
     "text": [
      "2\n",
      "4\n",
      "6\n",
      "8\n",
      "10\n",
      "12\n"
     ]
    }
   ],
   "source": [
    "for i in range(0,6):\n",
    "    print(next(b))"
   ]
  },
  {
   "cell_type": "markdown",
   "id": "dd257918-fba9-49b5-b848-9a58d1df7c72",
   "metadata": {},
   "source": [
    "#### Question number 4-"
   ]
  },
  {
   "cell_type": "markdown",
   "id": "b15800d4-53a8-4166-bb22-1aeb23e79dc7",
   "metadata": {},
   "source": [
    "Generator function- In python, when we want to produce large sequence of values but we don;t want to store all of them in memory at once, we use Generator functions.\n",
    "A generator function returns an iterator that is an object, which produces a sequence of values when iterated upon."
   ]
  },
  {
   "cell_type": "markdown",
   "id": "c95e4c47-8a1c-4997-ae4a-d10bf2e55ec7",
   "metadata": {},
   "source": [
    "Yield keyword tells the opearting system that, that particular function is a generator function.\n",
    "\n",
    "Just like a normal function returns a value after the opeartions are done, yield keyword turns any expression that is given with it to a generator object and returns it to the caller, which the caller may call upon."
   ]
  },
  {
   "cell_type": "code",
   "execution_count": 90,
   "id": "491be12a-27b2-4fcf-a250-ba21bbb5e9de",
   "metadata": {},
   "outputs": [],
   "source": [
    "def test(n):\n",
    "    for count in n:\n",
    "        yield count"
   ]
  },
  {
   "cell_type": "code",
   "execution_count": 91,
   "id": "72c43835-7a98-4088-99bf-d2b732dce5e4",
   "metadata": {},
   "outputs": [],
   "source": [
    "l=[1,2,3,4,5,6]\n",
    "a=test(l)"
   ]
  },
  {
   "cell_type": "code",
   "execution_count": 92,
   "id": "02ba5aec-0640-4e79-b948-5912e520eaf6",
   "metadata": {},
   "outputs": [
    {
     "data": {
      "text/plain": [
       "<generator object test at 0x7f3b0ec082e0>"
      ]
     },
     "execution_count": 92,
     "metadata": {},
     "output_type": "execute_result"
    }
   ],
   "source": [
    "a"
   ]
  },
  {
   "cell_type": "code",
   "execution_count": 93,
   "id": "cd3f6d11-3817-4435-943e-f8c4ea4a6b6e",
   "metadata": {},
   "outputs": [
    {
     "name": "stdout",
     "output_type": "stream",
     "text": [
      "1\n"
     ]
    }
   ],
   "source": [
    "print(next(a))"
   ]
  },
  {
   "cell_type": "markdown",
   "id": "8b1841f6-18c7-416a-9fb0-7be8d1d33853",
   "metadata": {},
   "source": [
    "#### Question number 5-"
   ]
  },
  {
   "cell_type": "code",
   "execution_count": 6,
   "id": "799fdccc-33b4-4ae8-adb0-99439be45d00",
   "metadata": {},
   "outputs": [],
   "source": [
    "l=[]\n",
    "for i in range(1,1001):\n",
    "    l.append(i)"
   ]
  },
  {
   "cell_type": "code",
   "execution_count": 72,
   "id": "53353b17-b16c-40e3-8ec5-f44295dc3d35",
   "metadata": {},
   "outputs": [],
   "source": [
    "def prime(l):\n",
    "    l1=[]\n",
    "    for i in l:\n",
    "        for j in range(2,i):\n",
    "            if i%j == 0:\n",
    "                break\n",
    "        else:\n",
    "             l1.append(i)\n",
    "        yield l1     \n",
    "    "
   ]
  },
  {
   "cell_type": "code",
   "execution_count": 79,
   "id": "82d3aec3-ea40-4ac2-985f-e56a4df38352",
   "metadata": {},
   "outputs": [],
   "source": [
    "d=prime(l)"
   ]
  },
  {
   "cell_type": "code",
   "execution_count": 80,
   "id": "98004f53-897a-4bf1-b5d1-b7605b3f1fda",
   "metadata": {},
   "outputs": [
    {
     "name": "stdout",
     "output_type": "stream",
     "text": [
      "[1]\n",
      "[1, 2]\n",
      "[1, 2, 3]\n",
      "[1, 2, 3]\n",
      "[1, 2, 3, 5]\n",
      "[1, 2, 3, 5]\n",
      "[1, 2, 3, 5, 7]\n",
      "[1, 2, 3, 5, 7]\n",
      "[1, 2, 3, 5, 7]\n",
      "[1, 2, 3, 5, 7]\n",
      "[1, 2, 3, 5, 7, 11]\n",
      "[1, 2, 3, 5, 7, 11]\n",
      "[1, 2, 3, 5, 7, 11, 13]\n",
      "[1, 2, 3, 5, 7, 11, 13]\n",
      "[1, 2, 3, 5, 7, 11, 13]\n",
      "[1, 2, 3, 5, 7, 11, 13]\n",
      "[1, 2, 3, 5, 7, 11, 13, 17]\n",
      "[1, 2, 3, 5, 7, 11, 13, 17]\n",
      "[1, 2, 3, 5, 7, 11, 13, 17, 19]\n",
      "[1, 2, 3, 5, 7, 11, 13, 17, 19]\n"
     ]
    }
   ],
   "source": [
    "for i in range(1,21):\n",
    "    print(next(d))"
   ]
  },
  {
   "cell_type": "markdown",
   "id": "6aef2692-7d6f-48b9-9143-afc237ca7c92",
   "metadata": {},
   "source": [
    "#### Question 6-"
   ]
  },
  {
   "cell_type": "code",
   "execution_count": 9,
   "id": "23081d33-c4eb-4fc6-b5bf-82d35977479d",
   "metadata": {},
   "outputs": [
    {
     "name": "stdout",
     "output_type": "stream",
     "text": [
      "0\n",
      "1\n",
      "1\n",
      "2\n",
      "3\n",
      "5\n",
      "8\n",
      "13\n",
      "21\n",
      "34\n"
     ]
    }
   ],
   "source": [
    "number=10\n",
    "first =0\n",
    "second =1\n",
    "a=2\n",
    "print(first)\n",
    "print(second)\n",
    "while a <= number-1:\n",
    "    num=first + second\n",
    "    first=second\n",
    "    second=num\n",
    "    a=a+1\n",
    "    print(num)\n",
    "    "
   ]
  },
  {
   "cell_type": "markdown",
   "id": "8f401759-d531-46ae-b3ed-80cf4edb26bb",
   "metadata": {},
   "source": [
    "#### Question number 7-"
   ]
  },
  {
   "cell_type": "code",
   "execution_count": 10,
   "id": "beb3f03c-1a84-4430-9224-3176eff77b2b",
   "metadata": {},
   "outputs": [],
   "source": [
    "s=\"pwskills\""
   ]
  },
  {
   "cell_type": "code",
   "execution_count": 15,
   "id": "2eb76312-9013-4b93-b84b-db230646b47e",
   "metadata": {},
   "outputs": [
    {
     "data": {
      "text/plain": [
       "['p', 'w', 's', 'k', 'i', 'l', 'l', 's']"
      ]
     },
     "execution_count": 15,
     "metadata": {},
     "output_type": "execute_result"
    }
   ],
   "source": [
    "[i for i in s]"
   ]
  },
  {
   "cell_type": "markdown",
   "id": "61c15ec4-f909-42fb-94d7-29d515d9d4fc",
   "metadata": {},
   "source": [
    "#### Question number 9-"
   ]
  },
  {
   "cell_type": "code",
   "execution_count": 17,
   "id": "aaf5332f-c33a-4346-b6ec-3b8850743959",
   "metadata": {},
   "outputs": [],
   "source": [
    "l=[i for i in range(1,101)]"
   ]
  },
  {
   "cell_type": "code",
   "execution_count": 20,
   "id": "de4ffbde-5206-4f89-b505-f7d277af9fc3",
   "metadata": {},
   "outputs": [],
   "source": [
    "l2=[i for i in l if i%2 !=0]"
   ]
  },
  {
   "cell_type": "markdown",
   "id": "47c9cf43-0a6f-49ec-a737-7c622b10f1fe",
   "metadata": {},
   "source": [
    "#### Question number 8-"
   ]
  },
  {
   "cell_type": "code",
   "execution_count": 81,
   "id": "faa35b7d-5be3-4577-b909-1a7cab9be3b6",
   "metadata": {},
   "outputs": [
    {
     "name": "stdin",
     "output_type": "stream",
     "text": [
      "Enter the number 45\n"
     ]
    },
    {
     "name": "stdout",
     "output_type": "stream",
     "text": [
      "No\n"
     ]
    }
   ],
   "source": [
    "n=int(input(\"Enter the number\"))\n",
    "rem=0\n",
    "ans=0\n",
    "while n>0:\n",
    "    rem=int(n%10)\n",
    "    n=int(n/10)\n",
    "    ans=ans*10+rem\n",
    "else:\n",
    "    if ans==n:\n",
    "        print(\"Yes\")\n",
    "    else:\n",
    "        print(\"No\")\n",
    "        \n",
    "   \n"
   ]
  },
  {
   "cell_type": "code",
   "execution_count": null,
   "id": "410a9313-2ea2-4aa1-ac90-2422f6e74c68",
   "metadata": {},
   "outputs": [],
   "source": []
  }
 ],
 "metadata": {
  "kernelspec": {
   "display_name": "Python 3 (ipykernel)",
   "language": "python",
   "name": "python3"
  },
  "language_info": {
   "codemirror_mode": {
    "name": "ipython",
    "version": 3
   },
   "file_extension": ".py",
   "mimetype": "text/x-python",
   "name": "python",
   "nbconvert_exporter": "python",
   "pygments_lexer": "ipython3",
   "version": "3.10.8"
  }
 },
 "nbformat": 4,
 "nbformat_minor": 5
}
