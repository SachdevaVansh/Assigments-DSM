{
 "cells": [
  {
   "cell_type": "markdown",
   "id": "5affe6cf-7c7c-49ba-9a5a-be734fa5c77c",
   "metadata": {},
   "source": [
    "#### Question 1-"
   ]
  },
  {
   "cell_type": "markdown",
   "id": "976754e5-1e87-4eee-9aeb-b944a16fce97",
   "metadata": {},
   "source": [
    "#### GET-\n",
    "* In GET method we can not send large amount of data rather limited data is sent because the request parameter is appended into the URL. \n",
    "* GET request is comparatively better than Post so it is used more than thE Post request.\n",
    "* GET request is comparatively less secure because the data is exposed in the URL bar.\n",
    "* Request made through GET method are stored in Browser history.\n",
    "* GET method request can be saved as bookmark in browser.\n",
    "* Request made through GET method are stored in cache memory of Browser. \n",
    "* Data passed through GET method can be easily stolen by attackers.\n",
    "* In GET method only ASCII characters are allowed.\n",
    "\n",
    "#### POST- \n",
    "* In POST method large amount of data can be sent because the request parameter is appended into the body.\n",
    "* POST request is comparatively less better than Get so it is used less than the Get request.\n",
    "* POST request is comparatively more secure because the data is not exposed in the URL bar.\n",
    "* Request made through POST method is not stored in Browser history.\n",
    "* POST method request can not be saved as bookmark in browser.\n",
    "* Request made through POST method are not stored in cache memory of Browser.\n",
    "* Data passed through POST method can not be easily stolen by attackers.\n",
    "* In POST method all types of data is allowed."
   ]
  },
  {
   "cell_type": "markdown",
   "id": "66b8ffea-cc1c-4de0-bed9-f81ee3d814bc",
   "metadata": {},
   "source": [
    "#### Question 2-"
   ]
  },
  {
   "cell_type": "markdown",
   "id": "e5b0815e-787c-422f-b8bd-31d3aa3d04ea",
   "metadata": {},
   "source": [
    "The data from a client’s web page is sent to the server as a global request object. In order to process the request data, it should be imported from the Flask module.\n",
    "\n",
    "Important attributes of request object are listed below −\n",
    "\n",
    "* Form − It is a dictionary object containing key and value pairs of form parameters and their values.\n",
    "\n",
    "* args − parsed contents of query string which is part of URL after question mark (?).\n",
    "\n",
    "* Cookies − dictionary object holding Cookie names and values.\n",
    "\n",
    "* files − data pertaining to uploaded file.\n",
    "\n",
    "* method − current request method."
   ]
  },
  {
   "cell_type": "markdown",
   "id": "3c7910c1-db55-44bf-af87-c51b53d99a4b",
   "metadata": {},
   "source": [
    "#### Question 3-"
   ]
  },
  {
   "cell_type": "markdown",
   "id": "f43e7209-ab0f-4f31-b8f0-677bd3de700b",
   "metadata": {},
   "source": [
    "Flask redirect is defined as a function or utility in Flask which allows developers to redirect users to a specified URL and assign a specified status code. When this function is called, a response object is returned, and the redirection happens to the target location with the status code. When a website is visited, server receives a request and after processing responds to the request with a three-digit code known as the HTTP code. In a programming world this status code that is returned as a response is known as Errors. Errors and redirect function goes hand in hand.\n",
    "\n",
    "Syntax of flask redirect():\n",
    "1. Importing the redirect and abort function.\n",
    "* from flask import redirect, abort\n",
    "2. Instantiating of Flask redirect.\n",
    "* flask.redirect(location,status-code,response)\n",
    "\n",
    "* location: Denotes the URL location to which the response from the redirect will be routed to.\n",
    "\n",
    "* status-code: Represents the status code which is sent to the header of the browser besides the response from the server.\n",
    "\n",
    "* response: For any future references or requirements of the project, this is the instance that is referred to.\n",
    "\n",
    "3. Using abort function to exit from the code loop, in conjunction to redirect.\n",
    "* flask.abort (code)"
   ]
  },
  {
   "cell_type": "markdown",
   "id": "5a564f61-f2fd-4320-9ba3-792ff9b988cf",
   "metadata": {},
   "source": [
    "#### Question 4-"
   ]
  },
  {
   "cell_type": "markdown",
   "id": "f2079716-f8e8-4a70-ad23-cec2e14fccba",
   "metadata": {},
   "source": [
    "Templates are files that contain static data as well as placeholders for dynamic data. A template is rendered with specific data to produce a final document. Flask uses the Jinja template library to render templates.\n",
    "\n",
    "In our application, we use templates to render HTML which will display in the user’s browser. \n",
    "\n",
    "* render_template() is a Flask function from the flask. templating package. render_template is used to generate output from a template file based on the Jinja2 engine that is found in the application's templates folder."
   ]
  },
  {
   "cell_type": "code",
   "execution_count": null,
   "id": "a9608476-37dc-47a7-806c-9ee9c0c434d6",
   "metadata": {},
   "outputs": [],
   "source": []
  }
 ],
 "metadata": {
  "kernelspec": {
   "display_name": "Python 3 (ipykernel)",
   "language": "python",
   "name": "python3"
  },
  "language_info": {
   "codemirror_mode": {
    "name": "ipython",
    "version": 3
   },
   "file_extension": ".py",
   "mimetype": "text/x-python",
   "name": "python",
   "nbconvert_exporter": "python",
   "pygments_lexer": "ipython3",
   "version": "3.10.8"
  }
 },
 "nbformat": 4,
 "nbformat_minor": 5
}
